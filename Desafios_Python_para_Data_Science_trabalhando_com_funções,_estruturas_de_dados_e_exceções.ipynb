{
  "nbformat": 4,
  "nbformat_minor": 0,
  "metadata": {
    "colab": {
      "provenance": []
    },
    "kernelspec": {
      "name": "python3",
      "display_name": "Python 3"
    },
    "language_info": {
      "name": "python"
    }
  },
  "cells": [
    {
      "cell_type": "markdown",
      "source": [
        "## Bibliotecas"
      ],
      "metadata": {
        "id": "DS9cv1vbzYHk"
      }
    },
    {
      "cell_type": "code",
      "source": [
        "# 1. Escreva um código para instalar a versão 3.7.1 da biblioteca matplotlib.\n",
        "!pip install matplotlib==3.7.1"
      ],
      "metadata": {
        "id": "0uzir_RbfEEN",
        "outputId": "e7b1b5e4-0d61-4cde-9927-31de495f1bec",
        "colab": {
          "base_uri": "https://localhost:8080/"
        }
      },
      "execution_count": 1,
      "outputs": [
        {
          "output_type": "stream",
          "name": "stdout",
          "text": [
            "Requirement already satisfied: matplotlib==3.7.1 in /usr/local/lib/python3.10/dist-packages (3.7.1)\n",
            "Requirement already satisfied: contourpy>=1.0.1 in /usr/local/lib/python3.10/dist-packages (from matplotlib==3.7.1) (1.3.1)\n",
            "Requirement already satisfied: cycler>=0.10 in /usr/local/lib/python3.10/dist-packages (from matplotlib==3.7.1) (0.12.1)\n",
            "Requirement already satisfied: fonttools>=4.22.0 in /usr/local/lib/python3.10/dist-packages (from matplotlib==3.7.1) (4.55.0)\n",
            "Requirement already satisfied: kiwisolver>=1.0.1 in /usr/local/lib/python3.10/dist-packages (from matplotlib==3.7.1) (1.4.7)\n",
            "Requirement already satisfied: numpy>=1.20 in /usr/local/lib/python3.10/dist-packages (from matplotlib==3.7.1) (1.26.4)\n",
            "Requirement already satisfied: packaging>=20.0 in /usr/local/lib/python3.10/dist-packages (from matplotlib==3.7.1) (24.2)\n",
            "Requirement already satisfied: pillow>=6.2.0 in /usr/local/lib/python3.10/dist-packages (from matplotlib==3.7.1) (11.0.0)\n",
            "Requirement already satisfied: pyparsing>=2.3.1 in /usr/local/lib/python3.10/dist-packages (from matplotlib==3.7.1) (3.2.0)\n",
            "Requirement already satisfied: python-dateutil>=2.7 in /usr/local/lib/python3.10/dist-packages (from matplotlib==3.7.1) (2.8.2)\n",
            "Requirement already satisfied: six>=1.5 in /usr/local/lib/python3.10/dist-packages (from python-dateutil>=2.7->matplotlib==3.7.1) (1.16.0)\n"
          ]
        }
      ]
    },
    {
      "cell_type": "code",
      "source": [
        "# 2. Escreva um código para importar a biblioteca numpy com o alias np.\n",
        "import numpy as np\n",
        "np.__version__"
      ],
      "metadata": {
        "id": "8vews16xftaY",
        "outputId": "205fc61d-f582-4081-8b4c-726e7aceb547",
        "colab": {
          "base_uri": "https://localhost:8080/",
          "height": 35
        }
      },
      "execution_count": 3,
      "outputs": [
        {
          "output_type": "execute_result",
          "data": {
            "text/plain": [
              "'1.26.4'"
            ],
            "application/vnd.google.colaboratory.intrinsic+json": {
              "type": "string"
            }
          },
          "metadata": {},
          "execution_count": 3
        }
      ]
    },
    {
      "cell_type": "code",
      "source": [
        "# 3. Crie um programa que leia a seguinte lista de números e escolha um número desta aleatoriamente.\n",
        "from random import choice\n",
        "lista = [8, 12, 54, 23, 43, 1, 90, 87, 105, 77]\n",
        "print(choice(lista))"
      ],
      "metadata": {
        "id": "i3DR-Ve8f6jU",
        "outputId": "59034c50-16f9-44cf-92fd-4eefa677df3c",
        "colab": {
          "base_uri": "https://localhost:8080/"
        }
      },
      "execution_count": 6,
      "outputs": [
        {
          "output_type": "stream",
          "name": "stdout",
          "text": [
            "23\n"
          ]
        }
      ]
    },
    {
      "cell_type": "code",
      "source": [
        "'''\n",
        "4. Crie um programa que sorteia, aleatoriamente, um número inteiro positivo menor que 100.\n",
        "\n",
        "> Dica: use a função randrange() da biblioteca random. Essa função recebe como parâmetro o valor limite para a escolha aleatória ou um intervalo se passado o limite mínimo e máximo.\n",
        "Por exemplo, randrange(5) gera valores inteiros menores que 5.\n",
        ">\n",
        "'''\n",
        "from random import randrange"
      ],
      "metadata": {
        "id": "_C7B14t-gBQz"
      },
      "execution_count": 7,
      "outputs": []
    },
    {
      "cell_type": "code",
      "source": [
        "print(randrange(101))"
      ],
      "metadata": {
        "id": "qz38V67fgVhU",
        "outputId": "d77fd16a-f071-469b-c760-55c86c353283",
        "colab": {
          "base_uri": "https://localhost:8080/"
        }
      },
      "execution_count": 13,
      "outputs": [
        {
          "output_type": "stream",
          "name": "stdout",
          "text": [
            "7\n"
          ]
        }
      ]
    },
    {
      "cell_type": "code",
      "source": [
        "# 5. Crie um programa que solicite à pessoa usuária digitar dois números inteiros e calcular a potência do 1º número elevado ao 2º. Dica: use a função pow() da biblioteca math\n",
        "from math import pow"
      ],
      "metadata": {
        "id": "rnxRhz7IgaMj"
      },
      "execution_count": 14,
      "outputs": []
    },
    {
      "cell_type": "code",
      "source": [
        "base = int(input('Insira a base: '))\n",
        "potencia = int(input('Insira a potência: '))\n",
        "print(pow(base, potencia))"
      ],
      "metadata": {
        "id": "rfbzWE5Vgm0s",
        "outputId": "62f62991-f014-4373-eeec-de136f7351cc",
        "colab": {
          "base_uri": "https://localhost:8080/"
        }
      },
      "execution_count": 16,
      "outputs": [
        {
          "output_type": "stream",
          "name": "stdout",
          "text": [
            "Insira a base: 7\n",
            "Insira a potência: 9\n",
            "40353607.0\n"
          ]
        }
      ]
    },
    {
      "cell_type": "code",
      "source": [
        "'''\n",
        "6. Um programa deve ser escrito para sortear uma pessoa seguidora de uma rede social para ganhar um prêmio.\n",
        "A lista de participantes é numerada e devemos escolher aleatoriamente um número de acordo com a quantidade de participantes.\n",
        "Peça à pessoa usuária para fornecer o número de participantes do sorteio e devolva para ela o número sorteado.\n",
        "'''\n",
        "qtd = int(input('Insira o número de pessoas no sorteio: '))\n",
        "print(f'O ganhador é o número {randrange(qtd+1)}')"
      ],
      "metadata": {
        "id": "LfdAOpSjg4Gc",
        "outputId": "1b536408-9ba7-4cf9-cedf-7209c5d43986",
        "colab": {
          "base_uri": "https://localhost:8080/"
        }
      },
      "execution_count": 17,
      "outputs": [
        {
          "output_type": "stream",
          "name": "stdout",
          "text": [
            "Insira o número de pessoas no sorteio: 100\n",
            "O ganhador é o número 64\n"
          ]
        }
      ]
    },
    {
      "cell_type": "code",
      "source": [
        "'''\n",
        "7. Você recebeu uma demanda para gerar números de token para acessar o aplicativo de uma empresa.\n",
        "O token precisa ser par e variar de 1000 até 9998. Escreva um código que solicita à pessoa usuária o seu nome e exibe uma mensagem junto a esse token gerado aleatoriamente.\n",
        "'''\n",
        "nome = input('Insira seu nome: ')\n",
        "token = randrange(1000, 9999)\n",
        "print(f'{nome}, seu token é o {token}')"
      ],
      "metadata": {
        "id": "XN0OZwYRiB1M",
        "outputId": "21dc090a-ea33-4951-be8f-918a5e5af606",
        "colab": {
          "base_uri": "https://localhost:8080/"
        }
      },
      "execution_count": 20,
      "outputs": [
        {
          "output_type": "stream",
          "name": "stdout",
          "text": [
            "Insira seu nome: lukas\n",
            "lukas, seu token é o 9659\n"
          ]
        }
      ]
    },
    {
      "cell_type": "code",
      "source": [
        "'''\n",
        "8. Para diversificar e atrair novos(as) clientes, uma lanchonete criou um item misterioso em seu cardápio chamado \"salada de frutas surpresa\".\n",
        "Neste item, são escolhidas aleatoriamente 3 frutas de uma lista de 12 para compor a salada de frutas da pessoa cliente.\n",
        "Crie o código que faça essa seleção aleatória de acordo com a lista abaixo:\n",
        "frutas = [\"maçã\", \"banana\", \"uva\", \"pêra\",\n",
        "          \"manga\", \"coco\", \"melancia\", \"mamão\",\n",
        "          \"laranja\", \"abacaxi\", \"kiwi\", \"ameixa\"]\n",
        "'''\n",
        "from random import sample"
      ],
      "metadata": {
        "id": "vXBh4VY7ibH0"
      },
      "execution_count": 21,
      "outputs": []
    },
    {
      "cell_type": "code",
      "source": [
        "frutas = [\"maçã\", \"banana\", \"uva\", \"pêra\",\n",
        "          \"manga\", \"coco\", \"melancia\", \"mamão\",\n",
        "          \"laranja\", \"abacaxi\", \"kiwi\", \"ameixa\"]\n",
        "\n",
        "salada_surpresa = sample(frutas, 3)\n",
        "print(f'A salada vai conter as frutas {salada_surpresa}')"
      ],
      "metadata": {
        "id": "XZ046OGpi1V5",
        "outputId": "e6957b12-28ed-45a6-f313-084d58449409",
        "colab": {
          "base_uri": "https://localhost:8080/"
        }
      },
      "execution_count": 22,
      "outputs": [
        {
          "output_type": "stream",
          "name": "stdout",
          "text": [
            "A salada vai conter as frutas ['manga', 'uva', 'coco']\n"
          ]
        }
      ]
    },
    {
      "cell_type": "code",
      "source": [
        "'''\n",
        "9. Você recebeu um desafio de calcular a raiz quadrada de uma lista de números, identificando quais resultaram em um número inteiro. A lista é a seguinte:\n",
        "numeros = [2, 8, 15, 23, 91, 112, 256]\n",
        "No final, informe quais números possuem raízes inteiras e seus respectivos valores.\n",
        "> Dica: use a comparação entre a divisão inteira (//) da raiz por 1 com o valor da raiz para verificar se o número é inteiro. Por exemplo:\n",
        "num = 1.5\n",
        "num_2 = 2\n",
        "print(f'{num} é inteiro? :', num // 1 == num)\n",
        "print(f'{num_2} é inteiro? :', num_2 // 1 == num_2)\n",
        "1.5 é inteiro? :False2 é inteiro? :True\n",
        "\n",
        "'''\n",
        "from math import sqrt"
      ],
      "metadata": {
        "id": "nA-D1veGjAFf"
      },
      "execution_count": 23,
      "outputs": []
    },
    {
      "cell_type": "code",
      "source": [
        "numeros = [2, 8, 15, 23, 49, 91, 112, 256]\n",
        "for numero in numeros:\n",
        "  raiz = sqrt(numero)\n",
        "  if raiz % 1 == 0:\n",
        "    print(f'A raíz quadrada de {numero} é um número inteiro ({raiz})')\n"
      ],
      "metadata": {
        "id": "ngMh8Ttdk4eL",
        "outputId": "56d00f0f-14d5-4d44-b0c2-d18bd4a1ddfb",
        "colab": {
          "base_uri": "https://localhost:8080/"
        }
      },
      "execution_count": 28,
      "outputs": [
        {
          "output_type": "stream",
          "name": "stdout",
          "text": [
            "A raíz quadrada de 49 é um número inteiro (7.0)\n",
            "A raíz quadrada de 256 é um número inteiro (16.0)\n"
          ]
        }
      ]
    },
    {
      "cell_type": "code",
      "source": [
        "'''\n",
        "10. Faça um programa para uma loja que vende grama para jardins.\n",
        "Essa loja trabalha com jardins circulares e o preço do metro quadrado da grama é de R$ 25,00.\n",
        "Peça à pessoa usuária o raio da área circular e devolva o valor em reais do quanto precisará pagar.\n",
        "\n",
        "> Dica: use a variável pi e o método pow() da biblioteca math. O cálculo da área de um círculo é de: A = π*r^2 (lê-se pi vezes raio ao quadrado).\n",
        ">\n",
        "'''\n",
        "import math"
      ],
      "metadata": {
        "id": "qtmojHYGlLYr"
      },
      "execution_count": 29,
      "outputs": []
    },
    {
      "cell_type": "code",
      "source": [
        "raio = float(input('Insira o raio da área circular: '))\n",
        "preco = 25\n",
        "area = math.pi * pow(raio,2)\n",
        "preco_final = area * preco\n",
        "print(f'A área total é de {area}m², logo o preço será igual a R$ {preco_final}')"
      ],
      "metadata": {
        "id": "V_WD29Dtlif_",
        "outputId": "eae44e0b-857f-4738-916b-9eccd1af7700",
        "colab": {
          "base_uri": "https://localhost:8080/"
        }
      },
      "execution_count": 32,
      "outputs": [
        {
          "output_type": "stream",
          "name": "stdout",
          "text": [
            "Insira o raio da área circular: 4\n",
            "A área total é de 50.26548245743669m², logo o preço será igual a R$ 1256.6370614359173\n"
          ]
        }
      ]
    },
    {
      "cell_type": "markdown",
      "source": [
        "## Funções"
      ],
      "metadata": {
        "id": "yblzQl8nsI1z"
      }
    },
    {
      "cell_type": "code",
      "source": [],
      "metadata": {
        "id": "rvfrsD0ZsKW-"
      },
      "execution_count": null,
      "outputs": []
    }
  ]
}
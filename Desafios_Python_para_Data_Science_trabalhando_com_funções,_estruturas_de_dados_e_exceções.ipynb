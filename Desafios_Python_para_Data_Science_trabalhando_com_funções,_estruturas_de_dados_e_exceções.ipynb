{
  "nbformat": 4,
  "nbformat_minor": 0,
  "metadata": {
    "colab": {
      "provenance": []
    },
    "kernelspec": {
      "name": "python3",
      "display_name": "Python 3"
    },
    "language_info": {
      "name": "python"
    }
  },
  "cells": [
    {
      "cell_type": "markdown",
      "source": [
        "## Bibliotecas"
      ],
      "metadata": {
        "id": "DS9cv1vbzYHk"
      }
    },
    {
      "cell_type": "code",
      "source": [
        "# 1. Escreva um código para instalar a versão 3.7.1 da biblioteca matplotlib.\n",
        "!pip install matplotlib==3.7.1"
      ],
      "metadata": {
        "id": "0uzir_RbfEEN"
      },
      "execution_count": null,
      "outputs": []
    },
    {
      "cell_type": "code",
      "source": [
        "# 2. Escreva um código para importar a biblioteca numpy com o alias np.\n",
        "import numpy as np\n",
        "np.__version__"
      ],
      "metadata": {
        "id": "8vews16xftaY"
      },
      "execution_count": null,
      "outputs": []
    },
    {
      "cell_type": "code",
      "source": [
        "# 3. Crie um programa que leia a seguinte lista de números e escolha um número desta aleatoriamente.\n",
        "from random import choice\n",
        "lista = [8, 12, 54, 23, 43, 1, 90, 87, 105, 77]\n",
        "print(choice(lista))"
      ],
      "metadata": {
        "id": "i3DR-Ve8f6jU"
      },
      "execution_count": null,
      "outputs": []
    },
    {
      "cell_type": "code",
      "source": [
        "'''\n",
        "4. Crie um programa que sorteia, aleatoriamente, um número inteiro positivo menor que 100.\n",
        "\n",
        "> Dica: use a função randrange() da biblioteca random. Essa função recebe como parâmetro o valor limite para a escolha aleatória ou um intervalo se passado o limite mínimo e máximo.\n",
        "Por exemplo, randrange(5) gera valores inteiros menores que 5.\n",
        ">\n",
        "'''\n",
        "from random import randrange"
      ],
      "metadata": {
        "id": "_C7B14t-gBQz"
      },
      "execution_count": null,
      "outputs": []
    },
    {
      "cell_type": "code",
      "source": [
        "print(randrange(101))"
      ],
      "metadata": {
        "id": "qz38V67fgVhU"
      },
      "execution_count": null,
      "outputs": []
    },
    {
      "cell_type": "code",
      "source": [
        "# 5. Crie um programa que solicite à pessoa usuária digitar dois números inteiros e calcular a potência do 1º número elevado ao 2º. Dica: use a função pow() da biblioteca math\n",
        "from math import pow"
      ],
      "metadata": {
        "id": "rnxRhz7IgaMj"
      },
      "execution_count": null,
      "outputs": []
    },
    {
      "cell_type": "code",
      "source": [
        "base = int(input('Insira a base: '))\n",
        "potencia = int(input('Insira a potência: '))\n",
        "print(pow(base, potencia))"
      ],
      "metadata": {
        "id": "rfbzWE5Vgm0s"
      },
      "execution_count": null,
      "outputs": []
    },
    {
      "cell_type": "code",
      "source": [
        "'''\n",
        "6. Um programa deve ser escrito para sortear uma pessoa seguidora de uma rede social para ganhar um prêmio.\n",
        "A lista de participantes é numerada e devemos escolher aleatoriamente um número de acordo com a quantidade de participantes.\n",
        "Peça à pessoa usuária para fornecer o número de participantes do sorteio e devolva para ela o número sorteado.\n",
        "'''\n",
        "qtd = int(input('Insira o número de pessoas no sorteio: '))\n",
        "print(f'O ganhador é o número {randrange(qtd+1)}')"
      ],
      "metadata": {
        "id": "LfdAOpSjg4Gc"
      },
      "execution_count": null,
      "outputs": []
    },
    {
      "cell_type": "code",
      "source": [
        "'''\n",
        "7. Você recebeu uma demanda para gerar números de token para acessar o aplicativo de uma empresa.\n",
        "O token precisa ser par e variar de 1000 até 9998. Escreva um código que solicita à pessoa usuária o seu nome e exibe uma mensagem junto a esse token gerado aleatoriamente.\n",
        "'''\n",
        "nome = input('Insira seu nome: ')\n",
        "token = randrange(1000, 9999)\n",
        "print(f'{nome}, seu token é o {token}')"
      ],
      "metadata": {
        "id": "XN0OZwYRiB1M"
      },
      "execution_count": null,
      "outputs": []
    },
    {
      "cell_type": "code",
      "source": [
        "'''\n",
        "8. Para diversificar e atrair novos(as) clientes, uma lanchonete criou um item misterioso em seu cardápio chamado \"salada de frutas surpresa\".\n",
        "Neste item, são escolhidas aleatoriamente 3 frutas de uma lista de 12 para compor a salada de frutas da pessoa cliente.\n",
        "Crie o código que faça essa seleção aleatória de acordo com a lista abaixo:\n",
        "frutas = [\"maçã\", \"banana\", \"uva\", \"pêra\",\n",
        "          \"manga\", \"coco\", \"melancia\", \"mamão\",\n",
        "          \"laranja\", \"abacaxi\", \"kiwi\", \"ameixa\"]\n",
        "'''\n",
        "from random import sample"
      ],
      "metadata": {
        "id": "vXBh4VY7ibH0"
      },
      "execution_count": null,
      "outputs": []
    },
    {
      "cell_type": "code",
      "source": [
        "frutas = [\"maçã\", \"banana\", \"uva\", \"pêra\",\n",
        "          \"manga\", \"coco\", \"melancia\", \"mamão\",\n",
        "          \"laranja\", \"abacaxi\", \"kiwi\", \"ameixa\"]\n",
        "\n",
        "salada_surpresa = sample(frutas, 3)\n",
        "print(f'A salada vai conter as frutas {salada_surpresa}')"
      ],
      "metadata": {
        "id": "XZ046OGpi1V5"
      },
      "execution_count": null,
      "outputs": []
    },
    {
      "cell_type": "code",
      "source": [
        "'''\n",
        "9. Você recebeu um desafio de calcular a raiz quadrada de uma lista de números, identificando quais resultaram em um número inteiro. A lista é a seguinte:\n",
        "numeros = [2, 8, 15, 23, 91, 112, 256]\n",
        "No final, informe quais números possuem raízes inteiras e seus respectivos valores.\n",
        "> Dica: use a comparação entre a divisão inteira (//) da raiz por 1 com o valor da raiz para verificar se o número é inteiro. Por exemplo:\n",
        "num = 1.5\n",
        "num_2 = 2\n",
        "print(f'{num} é inteiro? :', num // 1 == num)\n",
        "print(f'{num_2} é inteiro? :', num_2 // 1 == num_2)\n",
        "1.5 é inteiro? :False2 é inteiro? :True\n",
        "\n",
        "'''\n",
        "from math import sqrt"
      ],
      "metadata": {
        "id": "nA-D1veGjAFf"
      },
      "execution_count": null,
      "outputs": []
    },
    {
      "cell_type": "code",
      "source": [
        "numeros = [2, 8, 15, 23, 49, 91, 112, 256]\n",
        "for numero in numeros:\n",
        "  raiz = sqrt(numero)\n",
        "  if raiz % 1 == 0:\n",
        "    print(f'A raíz quadrada de {numero} é um número inteiro ({raiz})')\n"
      ],
      "metadata": {
        "id": "ngMh8Ttdk4eL"
      },
      "execution_count": null,
      "outputs": []
    },
    {
      "cell_type": "code",
      "source": [
        "'''\n",
        "10. Faça um programa para uma loja que vende grama para jardins.\n",
        "Essa loja trabalha com jardins circulares e o preço do metro quadrado da grama é de R$ 25,00.\n",
        "Peça à pessoa usuária o raio da área circular e devolva o valor em reais do quanto precisará pagar.\n",
        "\n",
        "> Dica: use a variável pi e o método pow() da biblioteca math. O cálculo da área de um círculo é de: A = π*r^2 (lê-se pi vezes raio ao quadrado).\n",
        ">\n",
        "'''\n",
        "import math"
      ],
      "metadata": {
        "id": "qtmojHYGlLYr"
      },
      "execution_count": null,
      "outputs": []
    },
    {
      "cell_type": "code",
      "source": [
        "raio = float(input('Insira o raio da área circular: '))\n",
        "preco = 25\n",
        "area = math.pi * pow(raio,2)\n",
        "preco_final = area * preco\n",
        "print(f'A área total é de {area}m², logo o preço será igual a R$ {preco_final}')"
      ],
      "metadata": {
        "id": "V_WD29Dtlif_"
      },
      "execution_count": null,
      "outputs": []
    },
    {
      "cell_type": "markdown",
      "source": [
        "## Funções"
      ],
      "metadata": {
        "id": "yblzQl8nsI1z"
      }
    },
    {
      "cell_type": "code",
      "source": [
        "'''\n",
        "1. Escreva um código que lê a lista abaixo e faça:\n",
        "\n",
        "lista = [16, 14, 63, 65, 17, 99, 70, 11, 20, 48, 79, 32, 17, 89, 12, 25, 66]\n",
        "\n",
        "- A leitura do tamanho da lista\n",
        "- A leitura do maior e menor valor\n",
        "- A soma dos valores da lista\n",
        "\n",
        "Ao final exiba uma mensagem dizendo: \"A lista possui [tam] números em que o maior número é [maior]\n",
        "e o menor número é [menor].A soma dos valores presentes nela é igual a [soma]\n",
        "'''\n",
        "lista = [16, 14, 63, 65, 17, 99, 70, 11, 20, 48, 79, 32, 17, 89, 12, 25, 66]\n",
        "\n",
        "maior = max(lista)\n",
        "menor = min(lista)\n",
        "tamanho = len(lista)\n",
        "soma = sum(lista)\n",
        "\n",
        "print(f'A lista possui {tamanho} números em que o maior número é {maior} e o menor número é {menor}. A soma dos valores presentes nela é igual a {soma}')"
      ],
      "metadata": {
        "id": "9RS0Gv5wbcE5"
      },
      "execution_count": null,
      "outputs": []
    },
    {
      "cell_type": "code",
      "source": [
        "'''\n",
        "2. Escreva uma função que gere a tabuada de um número inteiro de 1 a 10, de acordo com a escolha da pessoa usuária.\n",
        "Como exemplo, para o número 7, a tabuada deve ser mostrada no seguinte formato:\n",
        "\n",
        "Tabuada do 7:\n",
        "7 x 0 = 0\n",
        "7 x 1 = 7\n",
        "[...]\n",
        "7 x 10 = 70\n",
        "\n",
        "'''\n",
        "def tabuada(num):\n",
        "  print(f'Tabuada do {num}')\n",
        "  for i in range(1, 11):\n",
        "    print(f'{num} x {i} = {num*i}')\n",
        "\n",
        "numero = int(input('Insira o número para calcular a tabuada: '))\n",
        "tabuada(numero)\n"
      ],
      "metadata": {
        "id": "TL4kpb6sczxB"
      },
      "execution_count": null,
      "outputs": []
    },
    {
      "cell_type": "code",
      "source": [
        "'''\n",
        "3. Crie a função que leia a lista abaixo e retorne uma nova lista com os múltiplos de 3:\n",
        "\n",
        "[97, 80, 94, 88, 80, 1, 16, 53, 62, 32, 24, 99]\n",
        "\n",
        "Utilize o return na função e salve a nova lista na variável mult_3.\n",
        "'''\n",
        "\n",
        "lista = [97, 80, 94, 88, 80, 1, 16, 53, 62, 32, 24, 99]\n",
        "\n",
        "def multiplos_3(lista):\n",
        "  mult_3 = []\n",
        "  for num in lista:\n",
        "    if num % 3 == 0:\n",
        "      mult_3.append(num)\n",
        "  return mult_3\n",
        "\n",
        "print(multiplos_3(lista))"
      ],
      "metadata": {
        "id": "ipLhlWP1fmxp"
      },
      "execution_count": null,
      "outputs": []
    },
    {
      "cell_type": "code",
      "source": [
        "'''\n",
        "4. Crie uma lista dos quadrados dos números da seguinte lista [1, 2, 3, 4, 5, 6, 7, 8, 9, 10].\n",
        "Lembre-se de utilizar as funções lambda e map() para calcular o quadrado de cada elemento da lista.\n",
        "'''\n",
        "lista = [1, 2, 3, 4, 5, 6, 7, 8, 9, 10]\n",
        "quadrados = lambda x: x**2\n",
        "print(list(map(quadrados, lista)))\n"
      ],
      "metadata": {
        "id": "biZ9Sv16gO-A"
      },
      "execution_count": null,
      "outputs": []
    },
    {
      "cell_type": "code",
      "source": [
        "'''\n",
        "5. Você foi contratado(a) como cientista de dados de uma associação de skate.\n",
        "Para analisar as notas recebidas de skatistas em algumas competições ao longo do ano,\n",
        "você precisa criar um código que calcula a pontuação dos(as) atletas.\n",
        "Para isso, o seu código deve receber 5 notas digitadas pelas pessoas juradas.\n",
        "Para calcular a pontuação de um(a) skatista, você precisa eliminar a maior e a menor pontuação\n",
        "dentre as 5 notas e tirar a média das 3 notas que sobraram. Retorne a média para apresentar o texto:\n",
        "\n",
        "\"Nota da manobra: [media]\"\n",
        "'''\n",
        "\n",
        "lista = []\n",
        "for i in range(1,6):\n",
        "  nota = float(input(f'Insira a {i}ª nota do skatista: '))\n",
        "  lista.append(nota)\n",
        "\n",
        "maior = max(lista)\n",
        "menor = min(lista)\n",
        "lista.remove(maior)\n",
        "lista.remove(menor)\n",
        "\n",
        "media = sum(lista) / len(lista)\n",
        "\n",
        "print(f'Nota da manobra: {media}')"
      ],
      "metadata": {
        "id": "bJVQPAcjhsNs"
      },
      "execution_count": null,
      "outputs": []
    },
    {
      "cell_type": "code",
      "source": [
        "# declarando a lista de notas\n",
        "notas = []\n",
        "# laço for para pedir as 5 notas e armazená-las na lista notas\n",
        "for i in range(1,6):\n",
        "  nota = float(input(f\"Digite a {i}ª nota: \"))\n",
        "  notas.append(nota)\n",
        "\n",
        "# Função para remover a maior e menor nota e retornar a média das notas restantes\n",
        "def media(lista):\n",
        "  lista.remove(max(lista))\n",
        "  lista.remove(min(lista))\n",
        "  return sum(lista) / len(lista)\n",
        "\n",
        "# Chamando a função e imprimindo a nota da(o) skatista\n",
        "media = media(notas)\n",
        "print(f\"Nota da manobra: {round(media, 1)}\")"
      ],
      "metadata": {
        "id": "P81ue0p-kWc9"
      },
      "execution_count": null,
      "outputs": []
    },
    {
      "cell_type": "code",
      "source": [
        "'''\n",
        "6. Para atender a uma demanda de uma instituição de ensino para a análise do desempenho de seus(suas) estudantes,\n",
        "você precisa criar uma função que receba uma lista de 4 notas e retorne:\n",
        "\n",
        "- maior nota\n",
        "- menor nota\n",
        "- média\n",
        "- situação (Aprovado(a) ou Reprovado(a))\n",
        "\n",
        "Para testar o comportamento da função, os dados podem ser exibidos em um texto:\n",
        "\"O(a) estudante obteve uma média de [media], com a sua maior nota de [maior] pontos ea menor nota de [menor] pontos e foi [situacao]\"\n",
        "'''\n",
        "lista_notas = []\n",
        "\n",
        "for i in range(1,5):\n",
        "  nota = float(input(f'Insira a {i}ª nota do estudante: '))\n",
        "  lista_notas.append(nota)\n",
        "\n",
        "def desempenho(lista):\n",
        "\n",
        "  media = sum(lista) / len(lista)\n",
        "  maior = max(lista)\n",
        "  menor = min(lista)\n",
        "  situacao = ''\n",
        "  if media >= 5:\n",
        "    situacao = 'Aprovado(a)'\n",
        "  else:\n",
        "    situacao = 'Reprovado(a)'\n",
        "  return [media, maior, menor, situacao]\n",
        "\n",
        "resultado = desempenho(lista)\n",
        "\n",
        "print(f'O(a) estudante obteve uma média de {resultado[0]}, com a sua maior nota de {resultado[1]} pontos e a menor nota de {resultado[2]} pontos e foi {resultado[3]}')\n",
        "\n"
      ],
      "metadata": {
        "colab": {
          "base_uri": "https://localhost:8080/"
        },
        "id": "Qq5_cKXBlvTU",
        "outputId": "40fd690c-9842-44cb-b9d1-70081fe7bc3d"
      },
      "execution_count": null,
      "outputs": [
        {
          "output_type": "stream",
          "name": "stdout",
          "text": [
            "Insira a 1ª nota do estudante: 9\n",
            "Insira a 2ª nota do estudante: 8\n",
            "Insira a 3ª nota do estudante: 7\n",
            "Insira a 4ª nota do estudante: 6\n",
            "O(a) estudante obteve uma média de 5.5, com a sua maior nota de 10 pontos e a menor nota de 1 pontos e foi Aprovado(a)\n"
          ]
        }
      ]
    },
    {
      "cell_type": "code",
      "source": [
        "'''\n",
        "7. Você recebeu uma demanda para tratar 2 listas com os nomes e sobrenomes de cada estudante\n",
        "concatenando-as para apresentar seus nomes completos na forma Nome Sobrenome. As listas são:\n",
        "nomes = [\"joão\", \"MaRia\", \"JOSÉ\"]\n",
        "sobrenomes = [\"SILVA\", \"souza\", \"Tavares\"]\n",
        "'''\n",
        "\n",
        "nomes = [\"joão\", \"MaRia\", \"JOSÉ\"]\n",
        "sobrenomes = [\"SILVA\", \"souza\", \"Tavares\"]\n",
        "\n",
        "nome_completo = map(lambda nome, sobrenome: f'{nome.title()} {sobrenome.title()}', nomes, sobrenomes)\n",
        "\n",
        "print(list(nome_completo))"
      ],
      "metadata": {
        "id": "gGTqbywxnl3c",
        "outputId": "8c21431e-4fb2-4927-f010-251d8db913fe",
        "colab": {
          "base_uri": "https://localhost:8080/"
        }
      },
      "execution_count": null,
      "outputs": [
        {
          "output_type": "stream",
          "name": "stdout",
          "text": [
            "['João Silva', 'Maria Souza', 'José Tavares']\n"
          ]
        }
      ]
    },
    {
      "cell_type": "code",
      "source": [
        "'''\n",
        "8. Como cientista de dados em um time de futebol, você precisa implementar\n",
        "novas formas de coleta de dados sobre o desempenho de jogadores e do time como um todo.\n",
        "Sua primeira ação é criar uma forma de calcular a pontuação do time no campeonato nacional\n",
        "a partir dos dados de gols marcados e sofridos em cada jogo.\n",
        "\n",
        "Escreva uma função chamada `calcula_pontos` que recebe como parâmetros duas listas de números inteiros,\n",
        "representando os gols marcados e sofridos pelo time em cada partida do campeonato.\n",
        "A função deve retornar a pontuação do time e o aproveitamento em percentual,\n",
        "levando em consideração que a vitória vale 3 pontos, o empate vale 1 ponto e a derrota 0 pontos.\n",
        "\n",
        "> Observação: se a quantidade de gols marcados numa partida for maior que a de sofridos, o time venceu.\n",
        "Caso seja igual, o time empatou e se for menor, o time perdeu.\n",
        "Para calcular o aproveitamento devemos fazer a razão entre a pontuação do time pela pontuação máxima que ele poderia receber.\n",
        "\n",
        "Para teste, utilize as seguintes listas de gols marcados e sofridos:\n",
        "gols_marcados = [2, 1, 3, 1, 0]\n",
        "gols_sofridos = [1, 2, 2, 1, 3]\n",
        "\n",
        "Provável texto exibido:\n",
        "\"A pontuação do time foi de [pontos] e seu aproveitamento foi de [aprov]%\"\n",
        "'''\n",
        "\n",
        "gols_marcados = [2, 1, 3, 1, 0]\n",
        "gols_sofridos = [1, 2, 2, 1, 3]\n",
        "\n",
        "def calcula_pontos(marcados, sofridos):\n",
        "  pontos = 0\n",
        "  for i in range(len(marcados)):\n",
        "    if marcados[i] > sofridos[i]:\n",
        "      pontos += 3\n",
        "    elif marcados[i] == sofridos[i]:\n",
        "      pontos += 1\n",
        "  aproveitamento = pontos / (len(marcados) * 3) * 100\n",
        "  return (pontos, aproveitamento)\n",
        "\n",
        "pontos, aproveitamento = calcula_pontos(gols_marcados, gols_sofridos)\n",
        "\n",
        "print(f'A pontuação do time foi de {pontos} e seu aproveitamento foi de {round(aproveitamento)}%')"
      ],
      "metadata": {
        "id": "SHKuKrfjsCjF",
        "outputId": "36b65422-3f2b-400d-c82b-eb13f243aed2",
        "colab": {
          "base_uri": "https://localhost:8080/"
        }
      },
      "execution_count": null,
      "outputs": [
        {
          "output_type": "stream",
          "name": "stdout",
          "text": [
            "A pontuação do time foi de 7 e seu aproveitamento foi de 47%\n"
          ]
        }
      ]
    },
    {
      "cell_type": "code",
      "source": [
        "'''\n",
        "9. Você recebeu o desafio de criar um código que calcula os gastos de uma viagem para um das quatro cidades\n",
        "partindo de Recife, sendo elas: Salvador, Fortaleza, Natal e Aracaju.\n",
        "\n",
        "O custo da diária do hotel é de 150 reais em todas elas e o consumo de gasolina na viagem de carro é de 14 km/l,\n",
        "sendo que o valor da gasolina é de 5 reais o litro.\n",
        "O gastos com passeios e alimentação a se fazer em cada uma delas por dia seria de `[200, 400, 250, 300]`, respectivamente.\n",
        "\n",
        "Sabendo que as distâncias entre Recife e cada uma das cidades é de aproximadamente `[850, 800, 300, 550]` km,\n",
        "crie três funções nas quais: a 1ª função calcule os gastos com hotel (`gasto_hotel`),\n",
        "a 2ª calcule os gastos com a gasolina (`gasto_gasolina`) e\n",
        "a 3ª os gastos com passeio e alimentação (`gasto_passeio`).\n",
        "\n",
        "Para testar, simule uma viagem de 3 dias para Salvador partindo de Recife. Considere a viagem de ida e volta de carro.\n",
        "\"Com base nos gastos definidos, uma viagem de [dias] dias para [cidade] saindo de Recife custaria [gastos] reais\"\n",
        "'''\n",
        "\n",
        "alimentacao = {\n",
        "    'Salvador': 200,\n",
        "    'Fortaleza': 400,\n",
        "    'Natal': 250,\n",
        "    'Aracaju': 300\n",
        "}\n",
        "\n",
        "distancias = {\n",
        "    'Salvador': 850,\n",
        "    'Fortaleza': 800,\n",
        "    'Natal': 300,\n",
        "    'Aracaju': 550\n",
        "}\n",
        "\n",
        "dias = int(input('Insira a quantidade de dias da viagem: '))\n",
        "cidade = input('Selecione a cidade para onde deseja viajar (Salvador, Fortaleza, Natal ou Aracaju): ')\n",
        "\n",
        "def gasto_hotel(dias):\n",
        "  return dias * 150\n",
        "\n",
        "def gasto_gasolina(cidade):\n",
        "  return distancias[cidade] / 14 * 5 * 2 # distância de Recife à cidade escolhida / 14 km por litro * 5 reais o livro * 2 pq é ida e volta\n",
        "\n",
        "def gasto_passeio(dias, cidade):\n",
        "  return alimentacao[cidade] * dias\n",
        "\n",
        "gasto_total = gasto_hotel(dias) + gasto_gasolina(cidade) + gasto_passeio(dias, cidade)\n",
        "\n",
        "print(f'Com base nos gastos definidos, uma viagem de {dias} dias para {cidade} saindo de Recife custaria {round(gasto_total,2)} reais')"
      ],
      "metadata": {
        "id": "vhICVOvZ1AjW",
        "outputId": "f61d125f-5d9f-49da-8a40-f8cd6936a8e3",
        "colab": {
          "base_uri": "https://localhost:8080/"
        }
      },
      "execution_count": 4,
      "outputs": [
        {
          "output_type": "stream",
          "name": "stdout",
          "text": [
            "Insira a quantidade de dias da viagem: 3\n",
            "Selecione a cidade para onde deseja viajar (Salvador, Fortaleza, Natal ou Aracaju): Salvador\n",
            "Com base nos gastos definidos, uma viagem de 3 dias para Salvador saindo de Recife custaria 1657.14 reais\n"
          ]
        }
      ]
    },
    {
      "cell_type": "code",
      "source": [
        "'''\n",
        "10. Você iniciou um estágio em uma empresa que trabalha com processamento de linguagem natural\n",
        "([NLP](https://www.alura.com.br/artigos/guia-nlp-conceitos-tecnicas)).\n",
        "Sua líder requisitou que você criasse um trecho de código que recebe uma frase digitada pela pessoa usuária\n",
        "e filtre apenas as palavras com tamanho maior ou igual a 5, exibindo-as em uma lista.\n",
        "Essa demanda é voltada para a análise do padrão de comportamento de pessoas na escrita de palavras acima dessa quantidade de caracteres.\n",
        "\n",
        "> Dica: utilize as funções lambda e filter() para filtrar essas palavras.\n",
        "Lembrando que a função embutida filter() recebe uma função (no nosso exemplo uma função lambda)\n",
        "e filtra um iterável de acordo com a função. Para tratar a frase use replace() para trocar a ',' '.', '!' e '?' por espaço.\n",
        "\n",
        "Use a frase `\"Aprender Python aqui na Alura é muito bom\"` para testar o código.\n",
        "'''\n",
        "\n",
        "frase = input(\"Digite uma frase: \")\n",
        "frase = frase.replace(',',' ').replace('.',' ').replace('!',' ').replace('?',' ').split()\n",
        "\n",
        "tamanho = list(filter(lambda x: len(x) >= 5, frase))\n",
        "print(tamanho)"
      ],
      "metadata": {
        "colab": {
          "base_uri": "https://localhost:8080/"
        },
        "id": "4E520jq92Fw4",
        "outputId": "1a13d678-2c8d-45cf-ef59-16525222652d"
      },
      "execution_count": 13,
      "outputs": [
        {
          "output_type": "stream",
          "name": "stdout",
          "text": [
            "Digite uma frase: Aprender Python aqui na Alura é muito bom\n",
            "['Aprender', 'Python', 'Alura', 'muito']\n"
          ]
        }
      ]
    },
    {
      "cell_type": "markdown",
      "source": [
        "## Estruturas de dados"
      ],
      "metadata": {
        "id": "JfOwcFuK6bli"
      }
    },
    {
      "cell_type": "code",
      "source": [],
      "metadata": {
        "id": "YxHEUKlO6dVM"
      },
      "execution_count": null,
      "outputs": []
    }
  ]
}
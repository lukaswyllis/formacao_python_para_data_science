{
  "nbformat": 4,
  "nbformat_minor": 0,
  "metadata": {
    "colab": {
      "provenance": []
    },
    "kernelspec": {
      "name": "python3",
      "display_name": "Python 3"
    },
    "language_info": {
      "name": "python"
    }
  },
  "cells": [
    {
      "cell_type": "code",
      "source": [
        "import pandas as pd"
      ],
      "metadata": {
        "id": "Ruvs1vv2FnQ9"
      },
      "execution_count": null,
      "outputs": []
    },
    {
      "cell_type": "code",
      "source": [
        "dados = pd.read_json('https://github.com/lukaswyllis/formacao_python_para_data_science/raw/refs/heads/master/dados-curso7/dados_hospedagem.json')\n",
        "dados.head()"
      ],
      "metadata": {
        "id": "vnlS04aVF_tF"
      },
      "execution_count": null,
      "outputs": []
    },
    {
      "cell_type": "code",
      "source": [
        "dados = pd.json_normalize(dados['info_moveis'])\n",
        "dados"
      ],
      "metadata": {
        "id": "95UtFE_TK8Dv"
      },
      "execution_count": null,
      "outputs": []
    },
    {
      "cell_type": "code",
      "source": [
        "colunas = list(dados.columns)\n",
        "colunas"
      ],
      "metadata": {
        "id": "0dSmw4K1YMGk"
      },
      "execution_count": null,
      "outputs": []
    },
    {
      "cell_type": "code",
      "source": [
        "dados = dados.explode(colunas[3:])\n",
        "dados"
      ],
      "metadata": {
        "id": "brv2i0DKb7l_"
      },
      "execution_count": null,
      "outputs": []
    },
    {
      "cell_type": "code",
      "source": [
        "dados.reset_index(inplace = True,drop=True)\n",
        "dados.head()"
      ],
      "metadata": {
        "id": "94ST1Vpucev1"
      },
      "execution_count": null,
      "outputs": []
    },
    {
      "cell_type": "code",
      "source": [
        "dados.info()"
      ],
      "metadata": {
        "id": "9CegNyO5c8Mr"
      },
      "execution_count": null,
      "outputs": []
    },
    {
      "cell_type": "code",
      "source": [
        "import numpy as np"
      ],
      "metadata": {
        "id": "olZp1ug5dRXP"
      },
      "execution_count": null,
      "outputs": []
    },
    {
      "cell_type": "code",
      "source": [
        "dados['max_hospedes']=dados['max_hospedes'].astype(np.int64)"
      ],
      "metadata": {
        "id": "TiXFCIZI00mL"
      },
      "execution_count": null,
      "outputs": []
    },
    {
      "cell_type": "code",
      "source": [
        "dados.info()"
      ],
      "metadata": {
        "id": "_j0ok50x1Wd_"
      },
      "execution_count": null,
      "outputs": []
    },
    {
      "cell_type": "code",
      "source": [
        "col_numericas = ['quantidade_banheiros','quantidade_quartos','quantidade_camas']"
      ],
      "metadata": {
        "id": "m9UbrhHS13fg"
      },
      "execution_count": null,
      "outputs": []
    },
    {
      "cell_type": "code",
      "source": [
        "dados[col_numericas] = dados[col_numericas].astype(np.int64)"
      ],
      "metadata": {
        "id": "fNWbHX3R2LIo"
      },
      "execution_count": null,
      "outputs": []
    },
    {
      "cell_type": "code",
      "source": [
        "dados['avaliacao_geral'] = dados['avaliacao_geral'].astype(np.float64)"
      ],
      "metadata": {
        "id": "KgfEmzla2_nJ"
      },
      "execution_count": null,
      "outputs": []
    },
    {
      "cell_type": "code",
      "source": [
        "dados.info()"
      ],
      "metadata": {
        "id": "-xfDkDmp3WBY"
      },
      "execution_count": null,
      "outputs": []
    },
    {
      "cell_type": "code",
      "source": [
        "dados['preco'] = dados['preco'].apply(lambda x: x.replace('$','').replace(',','').strip())"
      ],
      "metadata": {
        "id": "91he8Mmh9cFt"
      },
      "execution_count": null,
      "outputs": []
    },
    {
      "cell_type": "code",
      "source": [
        "dados['preco'] = dados['preco'].astype(np.float64)"
      ],
      "metadata": {
        "id": "nuZBk95l9gKB"
      },
      "execution_count": null,
      "outputs": []
    },
    {
      "cell_type": "code",
      "source": [
        "dados.info()"
      ],
      "metadata": {
        "id": "SNUeEllR-qTp"
      },
      "execution_count": null,
      "outputs": []
    },
    {
      "cell_type": "code",
      "source": [
        "dados[['taxa_deposito','taxa_limpeza']] = dados[['taxa_deposito','taxa_limpeza']].applymap(lambda x: x.replace('$','').replace(',','').strip())"
      ],
      "metadata": {
        "id": "PKvH0niX-sl0"
      },
      "execution_count": null,
      "outputs": []
    },
    {
      "cell_type": "code",
      "source": [
        "dados[['taxa_deposito','taxa_limpeza']] = dados[['taxa_deposito','taxa_limpeza']].astype(np.float64)"
      ],
      "metadata": {
        "id": "RkNEpvK1DSlo"
      },
      "execution_count": null,
      "outputs": []
    },
    {
      "cell_type": "code",
      "source": [
        "dados.info()"
      ],
      "metadata": {
        "id": "ccINlvk2EPG7"
      },
      "execution_count": null,
      "outputs": []
    },
    {
      "cell_type": "code",
      "source": [
        "dados['descricao_local'] = dados['descricao_local'].str.lower()"
      ],
      "metadata": {
        "id": "IcOzhHRPERlN"
      },
      "execution_count": null,
      "outputs": []
    },
    {
      "cell_type": "code",
      "source": [
        "dados.head()"
      ],
      "metadata": {
        "id": "ux4RZ1JCPeJW"
      },
      "execution_count": null,
      "outputs": []
    },
    {
      "cell_type": "code",
      "source": [
        "dados['descricao_local'][3169]"
      ],
      "metadata": {
        "id": "jZMUy-m7cKzj"
      },
      "execution_count": null,
      "outputs": []
    },
    {
      "cell_type": "code",
      "source": [
        "dados['descricao_local'] = dados['descricao_local'].str.replace('[^a-zA-Z0-9\\-\\']',' ',regex=True)"
      ],
      "metadata": {
        "id": "UJneQdXPdyAm"
      },
      "execution_count": null,
      "outputs": []
    },
    {
      "cell_type": "code",
      "source": [
        "dados['descricao_local'] = dados['descricao_local'].str.replace('(?<!\\w)-(?!\\w)',' ',regex=True)"
      ],
      "metadata": {
        "id": "0Kk2qiT2evd4"
      },
      "execution_count": null,
      "outputs": []
    },
    {
      "cell_type": "code",
      "source": [
        "dados['descricao_local'] = dados['descricao_local'].str.split()\n",
        "dados.head()"
      ],
      "metadata": {
        "id": "u0ic9ga8fv8a"
      },
      "execution_count": null,
      "outputs": []
    },
    {
      "cell_type": "code",
      "source": [
        "dados['comodidades'] = dados['comodidades'].str.replace('\\{|}|\\\"','',regex=True)"
      ],
      "metadata": {
        "id": "uUYlMBVRqiox"
      },
      "execution_count": null,
      "outputs": []
    },
    {
      "cell_type": "code",
      "source": [
        "dados['comodidades'] = dados['comodidades'].str.split(',')\n",
        "dados.head()"
      ],
      "metadata": {
        "id": "We7pC041qww7"
      },
      "execution_count": null,
      "outputs": []
    },
    {
      "cell_type": "code",
      "source": [
        "dt_data = pd.read_json('https://github.com/lukaswyllis/formacao_python_para_data_science/raw/refs/heads/master/dados-curso7/moveis_disponiveis.json')\n",
        "dt_data.head()"
      ],
      "metadata": {
        "id": "-_gk4xx_5yVJ"
      },
      "execution_count": null,
      "outputs": []
    },
    {
      "cell_type": "code",
      "source": [
        "dt_data.info()"
      ],
      "metadata": {
        "id": "rocemWQX-Nzv"
      },
      "execution_count": null,
      "outputs": []
    },
    {
      "cell_type": "code",
      "source": [
        "dt_data['data'] = pd.to_datetime(dt_data['data'])"
      ],
      "metadata": {
        "id": "ZHQQge6cLEXx"
      },
      "execution_count": null,
      "outputs": []
    },
    {
      "cell_type": "code",
      "source": [
        "dt_data.info()"
      ],
      "metadata": {
        "id": "1lfVdZ5zLhCO"
      },
      "execution_count": null,
      "outputs": []
    },
    {
      "cell_type": "code",
      "source": [
        "dt_data.head()"
      ],
      "metadata": {
        "id": "wuuKbLD_MnpG"
      },
      "execution_count": null,
      "outputs": []
    },
    {
      "cell_type": "code",
      "source": [
        "dt_data['data'].dt.strftime('%Y-%m')"
      ],
      "metadata": {
        "id": "kDe1NY4CTyFC"
      },
      "execution_count": null,
      "outputs": []
    },
    {
      "cell_type": "code",
      "source": [
        "subset = dt_data.groupby(dt_data['data'].dt.strftime('%Y-%m'))['vaga_disponivel'].sum()\n",
        "subset"
      ],
      "metadata": {
        "id": "i1VslYoRVV5J"
      },
      "execution_count": null,
      "outputs": []
    }
  ]
}
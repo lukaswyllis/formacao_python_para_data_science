{
  "nbformat": 4,
  "nbformat_minor": 0,
  "metadata": {
    "colab": {
      "provenance": [],
      "collapsed_sections": [
        "NDcKjTcrl0db",
        "r2OdSMgn1FXg",
        "pgDcuo0YnA_4",
        "HYCDRDdtAnzr",
        "NZjZ05EsYMaR",
        "yHdxaW4Buj0v"
      ]
    },
    "kernelspec": {
      "name": "python3",
      "display_name": "Python 3"
    },
    "language_info": {
      "name": "python"
    }
  },
  "cells": [
    {
      "cell_type": "markdown",
      "source": [
        "# Pandas: transformação e manipulação de dados"
      ],
      "metadata": {
        "id": "URpvA1Iu2T9b"
      }
    },
    {
      "cell_type": "markdown",
      "source": [
        "## 1. Entendendo o problema"
      ],
      "metadata": {
        "id": "t8T0xgCE2Yqd"
      }
    },
    {
      "cell_type": "code",
      "source": [],
      "metadata": {
        "id": "dhd6_NCq2XMe"
      },
      "execution_count": null,
      "outputs": []
    }
  ]
}
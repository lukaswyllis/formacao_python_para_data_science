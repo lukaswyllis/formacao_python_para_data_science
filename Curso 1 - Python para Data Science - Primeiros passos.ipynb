{
  "nbformat": 4,
  "nbformat_minor": 0,
  "metadata": {
    "colab": {
      "provenance": [],
      "authorship_tag": "ABX9TyMgUbxVoYgJJY5O64th7ysG"
    },
    "kernelspec": {
      "name": "python3",
      "display_name": "Python 3"
    },
    "language_info": {
      "name": "python"
    }
  },
  "cells": [
    {
      "cell_type": "markdown",
      "source": [
        "## Manipulando dados no Python"
      ],
      "metadata": {
        "id": "sRndquctwoeq"
      }
    },
    {
      "cell_type": "markdown",
      "source": [
        "1. Crie um programa que solicite à pessoa usuária digitar seu nome, e imprima “Olá, [nome]!”."
      ],
      "metadata": {
        "id": "ZKFzFKBBnSa3"
      }
    },
    {
      "cell_type": "code",
      "execution_count": null,
      "metadata": {
        "id": "mrTVoi2zvkLH"
      },
      "outputs": [],
      "source": [
        "print(\"Olá,\", input())"
      ]
    },
    {
      "cell_type": "markdown",
      "source": [
        "2. Crie um programa que solicite à pessoa usuária digitar seu nome e idade, e imprima “Olá, [nome], você tem [idade] anos.”."
      ],
      "metadata": {
        "id": "lR_HGLGinXJK"
      }
    },
    {
      "cell_type": "code",
      "source": [
        "nome = input(\"Digite seu nome: \")\n",
        "idade = input(\"Digite sua idade: \")\n",
        "\n",
        "print(f'Olá {nome}, você tem {idade} anos')"
      ],
      "metadata": {
        "id": "hmBIQ5imw1-p"
      },
      "execution_count": null,
      "outputs": []
    },
    {
      "cell_type": "markdown",
      "source": [
        "3. Crie um programa que solicite à pessoa usuária digitar seu nome, idade e altura em metros, e imprima “Olá, [nome], você tem [idade] anos e mede [altura] metros!”.\n"
      ],
      "metadata": {
        "id": "WnWFwFpJneCi"
      }
    },
    {
      "cell_type": "code",
      "source": [
        "nome = input(\"Digite seu nome: \")\n",
        "idade = input(\"Digite sua idade: \")\n",
        "altura = input(\"Digite sua altura: \")\n",
        "\n",
        "print(f'Olá {nome}, você tem {idade} anos e mede {altura} metros!')"
      ],
      "metadata": {
        "id": "m3oYOW_lxa0L"
      },
      "execution_count": null,
      "outputs": []
    },
    {
      "cell_type": "markdown",
      "source": [
        "4. Crie um programa que solicite dois valores numéricos à pessoa usuária e imprima a soma dos dois valores."
      ],
      "metadata": {
        "id": "I7ip4eVxpCeB"
      }
    },
    {
      "cell_type": "code",
      "source": [
        "numero1 = int(input(\"Digite o primeiro número: \"))\n",
        "numero2 = int(input(\"Digite o segundo número: \"))\n",
        "soma = numero1 + numero2\n",
        "print(f'A soma dos dois valores é igual a {soma}')"
      ],
      "metadata": {
        "id": "VPES3peTye7k"
      },
      "execution_count": null,
      "outputs": []
    },
    {
      "cell_type": "markdown",
      "source": [
        "5. Crie um programa que solicite três valores numéricos à pessoa usuária e imprima a soma dos três valores."
      ],
      "metadata": {
        "id": "2snxMndfpIl9"
      }
    },
    {
      "cell_type": "code",
      "source": [
        "numero1 = int(input(\"Digite o primeiro número: \"))\n",
        "numero2 = int(input(\"Digite o segundo número: \"))\n",
        "numero3 = int(input(\"Digite o terceiro número: \"))\n",
        "soma = numero1 + numero2 + numero3\n",
        "print(f'A soma dos três valores é igual a {soma}')"
      ],
      "metadata": {
        "id": "aMP7EovkyyDQ"
      },
      "execution_count": null,
      "outputs": []
    },
    {
      "cell_type": "markdown",
      "source": [
        "6. Crie um programa que solicite dois valores numéricos à pessoa usuária e imprima a subtração do primeiro pelo o segundo valor."
      ],
      "metadata": {
        "id": "oqOiOifCpOcz"
      }
    },
    {
      "cell_type": "code",
      "source": [
        "numero1 = int(input(\"Digite o primeiro número: \"))\n",
        "numero2 = int(input(\"Digite o segundo número: \"))\n",
        "subtracao = numero1 - numero2\n",
        "\n",
        "print(f'A subtração dos dois valores é igual a {subtracao}')"
      ],
      "metadata": {
        "id": "Z1YySdzozQ2f"
      },
      "execution_count": null,
      "outputs": []
    },
    {
      "cell_type": "markdown",
      "source": [
        "7. Crie um programa que solicite dois valores numéricos à pessoa usuária e imprima a multiplicação dos dois valores."
      ],
      "metadata": {
        "id": "gTGMElRvplmz"
      }
    },
    {
      "cell_type": "code",
      "source": [
        "numero1 = int(input(\"Digite o primeiro número: \"))\n",
        "numero2 = int(input(\"Digite o segundo número: \"))\n",
        "multiplicacao = numero1 * numero2\n",
        "\n",
        "print(f'A multiplicação dos dois valores é igual a {multiplicacao}')"
      ],
      "metadata": {
        "id": "w_VIXTSS0lrD"
      },
      "execution_count": null,
      "outputs": []
    },
    {
      "cell_type": "markdown",
      "source": [
        "8. Crie um programa que solicite dois valores numéricos, um numerador e um denominador, e realize a divisão entre os dois valores. Deixe claro que o valor do denominador não pode ser 0."
      ],
      "metadata": {
        "id": "5MosiXT6pu5t"
      }
    },
    {
      "cell_type": "code",
      "source": [
        "numerador = int(input(\"Insira o numerador: \"))\n",
        "denominador = int(input(\"Insira o denominador (não pode ser zero): \"))\n",
        "divisao = numerador / denominador\n",
        "\n",
        "print(f'A divisão dos dois valores é igual a {divisao}')"
      ],
      "metadata": {
        "id": "wzJ6Ld4p0sSX"
      },
      "execution_count": null,
      "outputs": []
    },
    {
      "cell_type": "markdown",
      "source": [
        "9. Crie um programa que solicite dois valores numéricos, um operador e uma potência, e realize a exponenciação entre esses dois valores"
      ],
      "metadata": {
        "id": "xF3F2mlBp3Df"
      }
    },
    {
      "cell_type": "code",
      "source": [
        "base = int(input(\"Insira a base: \"))\n",
        "potencia = int(input(\"Insira a potência: \"))\n",
        "exponenciacao = base ** potencia\n",
        "\n",
        "print(f'A exponenciação dos dois valores é igual a {exponenciacao}')"
      ],
      "metadata": {
        "id": "kBHJHTfQ1EiD"
      },
      "execution_count": null,
      "outputs": []
    },
    {
      "cell_type": "markdown",
      "source": [
        "10. Crie um programa que solicite dois valores numéricos, um numerador e um denominador e realize a divisão inteira entre os dois valores. Deixe claro que o valor do denominador não pode ser 0.\n"
      ],
      "metadata": {
        "id": "I6o8RvCOp8Jy"
      }
    },
    {
      "cell_type": "code",
      "source": [
        "numerador = int(input(\"Insira o numerador: \"))\n",
        "denominador = int(input(\"Insira o denominador (não pode ser zero): \"))\n",
        "divisao = numerador // denominador\n",
        "\n",
        "print(f'A divisão inteira dos dois valores é igual a {divisao}')"
      ],
      "metadata": {
        "id": "mtZc7ys61Tiz"
      },
      "execution_count": null,
      "outputs": []
    },
    {
      "cell_type": "markdown",
      "source": [
        "11. Crie um programa que solicite dois valores numéricos, um numerador e um denominador, e retorne o resto da divisão entre os dois valores. Deixe claro que o valor do denominador não pode ser 0\n"
      ],
      "metadata": {
        "id": "Uary71tuqCnI"
      }
    },
    {
      "cell_type": "code",
      "source": [
        "numerador = int(input(\"Insira o numerador: \"))\n",
        "denominador = int(input(\"Insira o denominador (não pode ser zero): \"))\n",
        "resto = numerador % denominador\n",
        "\n",
        "print(f'A o resto da divisão dos dois valores é igual a {resto}')"
      ],
      "metadata": {
        "id": "05Z5gwUQ1gPu"
      },
      "execution_count": null,
      "outputs": []
    },
    {
      "cell_type": "markdown",
      "source": [
        "12. Crie um código que solicita 3 notas de um estudante e imprima a média das notas.\n"
      ],
      "metadata": {
        "id": "0V-lQoJQqHzL"
      }
    },
    {
      "cell_type": "code",
      "source": [
        "nota1 = int(input(\"Insira o primeira nota: \"))\n",
        "nota2 = int(input(\"Insira a segunda nota: \"))\n",
        "nota3 = int(input(\"Insira a terceira nota: \"))\n",
        "media = (nota1 + nota2 + nota3) / 3\n",
        "\n",
        "print(f'A média das notas do aluno é igual a {media}')"
      ],
      "metadata": {
        "id": "6atK7PjM1pfe"
      },
      "execution_count": null,
      "outputs": []
    },
    {
      "cell_type": "markdown",
      "source": [
        "13. Crie um código que calcule e imprima a média ponderada dos números 5, 12, 20 e 15 com pesos respectivamente iguais a 1, 2, 3 e 4.\n"
      ],
      "metadata": {
        "id": "JzayzSFpqNZg"
      }
    },
    {
      "cell_type": "code",
      "source": [
        "media_ponderada = (5*1 + 12*2 + 20*3 + 15*4) / (1 + 2 + 3 + 4)\n",
        "\n",
        "print(f'A média ponderada de 5, 12, 20 e 15 com pesos respectivamente iguais a 1, 2, 3 e 4 é igual a {media_ponderada}')"
      ],
      "metadata": {
        "id": "jrQxAmG128sX"
      },
      "execution_count": null,
      "outputs": []
    },
    {
      "cell_type": "markdown",
      "source": [
        "14. Crie uma variável chamada “frase” e atribua a ela uma string de sua escolha. Em seguida, imprima a frase na tela.\n"
      ],
      "metadata": {
        "id": "BnlfpXY1qRMt"
      }
    },
    {
      "cell_type": "code",
      "source": [
        "frase = 'Hello, World!'\n",
        "\n",
        "print(frase)"
      ],
      "metadata": {
        "id": "LeLi5i2d3YTG"
      },
      "execution_count": null,
      "outputs": []
    },
    {
      "cell_type": "markdown",
      "source": [
        "15. Crie um código que solicite uma frase e depois imprima a frase na tela.\n"
      ],
      "metadata": {
        "id": "hYdS1H8mqUTn"
      }
    },
    {
      "cell_type": "code",
      "source": [
        "frase = input('Insira sua frase: ')\n",
        "\n",
        "print(frase)"
      ],
      "metadata": {
        "id": "FS5PbI853udd"
      },
      "execution_count": null,
      "outputs": []
    },
    {
      "cell_type": "markdown",
      "source": [
        "16. Crie um código que solicite uma frase à pessoa usuária e imprima a mesma frase digitada mas com todas as letras maiúsculas.\n"
      ],
      "metadata": {
        "id": "S5646Fwdqlu2"
      }
    },
    {
      "cell_type": "code",
      "source": [
        "frase = input('Insira sua frase: ')\n",
        "\n",
        "print(frase.upper())"
      ],
      "metadata": {
        "id": "LNCWoroT4Epx"
      },
      "execution_count": null,
      "outputs": []
    },
    {
      "cell_type": "markdown",
      "source": [
        "17. Crie um código que solicite uma frase à pessoa usuária e imprima a mesma frase digitada mas com todas as letras minúsculas.\n"
      ],
      "metadata": {
        "id": "8rf8dgGVrSTU"
      }
    },
    {
      "cell_type": "code",
      "source": [
        "frase = input('Insira sua frase: ')\n",
        "\n",
        "print(frase.lower())"
      ],
      "metadata": {
        "id": "r0ZEFIQh4O8B"
      },
      "execution_count": null,
      "outputs": []
    },
    {
      "cell_type": "markdown",
      "source": [
        "18. Crie uma variável chamada “frase” e atribua a ela uma string de sua escolha. Em seguida, imprima a frase sem espaços em branco no início e no fim.\n"
      ],
      "metadata": {
        "id": "bwS3GxZTrWhY"
      }
    },
    {
      "cell_type": "code",
      "source": [
        "frase = '   Hello, World!    '\n",
        "\n",
        "print(frase.strip())"
      ],
      "metadata": {
        "id": "4XqCJdtI4S11"
      },
      "execution_count": null,
      "outputs": []
    },
    {
      "cell_type": "markdown",
      "source": [
        "19. Crie um código que solicite uma frase à pessoa usuária e imprima a mesma frase sem espaços em branco no início e no fim.\n"
      ],
      "metadata": {
        "id": "KZ-5gTp8raiZ"
      }
    },
    {
      "cell_type": "code",
      "source": [
        "frase = input('Insira sua frase: ')\n",
        "\n",
        "print(frase.strip())"
      ],
      "metadata": {
        "id": "g6LDMWBH4dsB"
      },
      "execution_count": null,
      "outputs": []
    },
    {
      "cell_type": "markdown",
      "source": [
        "20. Crie um código que solicite uma frase à pessoa usuária e imprima a mesma frase sem espaços em branco no início e no fim e em letras minúsculas.\n"
      ],
      "metadata": {
        "id": "9Bx6dYg-rdj6"
      }
    },
    {
      "cell_type": "code",
      "source": [
        "frase = input('Insira sua frase: ')\n",
        "\n",
        "print(frase.strip().lower())"
      ],
      "metadata": {
        "id": "p-vDgAGd4p79"
      },
      "execution_count": null,
      "outputs": []
    },
    {
      "cell_type": "markdown",
      "source": [
        "21. Crie um código que solicite uma frase à pessoa usuária e imprima a mesma frase com todas as vogais “e” trocadas pela letra “f”.\n",
        "\n"
      ],
      "metadata": {
        "id": "501E60aErhsl"
      }
    },
    {
      "cell_type": "code",
      "source": [
        "frase = input('Insira sua frase: ')\n",
        "\n",
        "print(frase.replace('e', 'f'))"
      ],
      "metadata": {
        "id": "7f3pQpSH4yAM"
      },
      "execution_count": null,
      "outputs": []
    },
    {
      "cell_type": "markdown",
      "source": [
        "22. Crie um código que solicite uma frase à pessoa usuária e imprima a mesma frase com todas as vogais “a” trocadas pela caractere “@”.\n"
      ],
      "metadata": {
        "id": "MoDi4dokrnv_"
      }
    },
    {
      "cell_type": "code",
      "source": [
        "frase = input('Insira sua frase: ')\n",
        "\n",
        "print(frase.replace('a', '@'))"
      ],
      "metadata": {
        "id": "Ju4Sp0Px45cs"
      },
      "execution_count": null,
      "outputs": []
    },
    {
      "cell_type": "markdown",
      "source": [
        "23. Crie um código que solicite uma frase à pessoa usuária e imprima a mesma frase com todas as consoantes “s” trocadas pelo caractere “$”.\n"
      ],
      "metadata": {
        "id": "LvetSMOIr-FV"
      }
    },
    {
      "cell_type": "code",
      "source": [
        "frase = input('Insira sua frase: ')\n",
        "\n",
        "print(frase.replace('s', '$'))"
      ],
      "metadata": {
        "id": "MvsQj-n35CAU"
      },
      "execution_count": null,
      "outputs": []
    },
    {
      "cell_type": "markdown",
      "source": [
        "## Estruturas condicionais"
      ],
      "metadata": {
        "id": "wsjIAKWc6Peo"
      }
    },
    {
      "cell_type": "markdown",
      "source": [
        "1. Escreva um programa que peça à pessoa usuária para fornecer dois números e exibir o número maior.\n"
      ],
      "metadata": {
        "id": "Dk3OYT-5sqsg"
      }
    },
    {
      "cell_type": "code",
      "source": [
        "numero1 = int(input('Insira o primeiro número: '))\n",
        "numero2 = int(input('Insira o segundo número: '))\n",
        "\n",
        "if numero1 > numero2:\n",
        "  print(f'{numero1} é o maior número')\n",
        "elif numero2 > numero1:\n",
        "  print(f'{numero2} é o maior número')\n",
        "else:\n",
        "  print('Os números são iguais')"
      ],
      "metadata": {
        "id": "SNQ2S85L5I0g"
      },
      "execution_count": null,
      "outputs": []
    },
    {
      "cell_type": "markdown",
      "source": [
        "2. Escreva um programa que solicite o percentual de crescimento de produção de uma empresa e informe se houve um crescimento (porcentagem positiva) ou decrescimento (porcentagem negativa).\n"
      ],
      "metadata": {
        "id": "vE6R8Ws_sufp"
      }
    },
    {
      "cell_type": "code",
      "source": [
        "percentual = float(input('Informe o percentual de crescimento: '))\n",
        "\n",
        "if percentual > 0:\n",
        "  print('Houve um crescimento')\n",
        "elif percentual < 0:\n",
        "  print('Houve um decrescimento')\n",
        "else:\n",
        "  print('Não houve nem crescimento nem decrescimento')"
      ],
      "metadata": {
        "id": "X4oKBINv7ACD"
      },
      "execution_count": null,
      "outputs": []
    },
    {
      "cell_type": "markdown",
      "source": [
        "3. Escreva um programa que determine se uma letra fornecida pela pessoa usuária é uma vogal ou consoante.\n",
        "\n"
      ],
      "metadata": {
        "id": "_f3iltI7s0A3"
      }
    },
    {
      "cell_type": "code",
      "source": [
        "letra = input('Insira uma letra: ').lower()\n",
        "vogais = 'aeiou'\n",
        "\n",
        "if letra in vogais:\n",
        "  print('A letra é uma vogal')\n",
        "else:\n",
        "  print('A letra não é uma vogal')"
      ],
      "metadata": {
        "id": "KTF4jgCW7iHm"
      },
      "execution_count": null,
      "outputs": []
    },
    {
      "cell_type": "markdown",
      "source": [
        "4. Escreva um programa que leia valores médios de preços de um modelo de carro por 3 anos consecutivos e exiba o valor mais alto e mais baixo entre esses três anos.\n"
      ],
      "metadata": {
        "id": "jESAJEDTs5b0"
      }
    },
    {
      "cell_type": "code",
      "source": [
        "ano1 = float(input('Insira o valor do carro no primeiro ano: '))\n",
        "ano2 = float(input('Insira o valor do carro no segundo ano: '))\n",
        "ano3 = float(input('Insira o valor do carro no terceiro ano: '))\n",
        "maior = ano1\n",
        "menor = ano1\n",
        "\n",
        "# Verificando o MAIOR valor\n",
        "if ano2 > ano1:\n",
        "  maior = ano2\n",
        "\n",
        "if ano3 > ano2:\n",
        "  maior = ano3\n",
        "\n",
        "# Verificando o MENOR valor\n",
        "if ano2 < ano1:\n",
        "  menor = ano2\n",
        "if ano3 < ano2:\n",
        "  menor = ano3\n",
        "\n",
        "print(f'O maior valor foi {maior}, e o menor valor foi {menor}')"
      ],
      "metadata": {
        "id": "1Diq1OpC8TaV"
      },
      "execution_count": null,
      "outputs": []
    },
    {
      "cell_type": "markdown",
      "source": [
        "5. Escreva um programa que pergunte sobre o preço de três produtos e indique qual é o produto mais barato para comprar.\n",
        "\n"
      ],
      "metadata": {
        "id": "K4a6om6Hs-5p"
      }
    },
    {
      "cell_type": "code",
      "source": [
        "produtoA = float(input('Insira o valor do produto A: '))\n",
        "produtoB = float(input('Insira o valor do produto B: '))\n",
        "produtoC = float(input('Insira o valor do produto C: '))\n",
        "\n",
        "if produtoA < produtoB and produtoA < produtoC:\n",
        "  print('O produto mais barato é o A')\n",
        "elif produtoB < produtoA and produtoB < produtoC:\n",
        "  print('O produto mais barato é o B')\n",
        "elif produtoC < produtoA and produtoC < produtoB:\n",
        "  print('O produto mais barato é o C')\n",
        "elif produtoA == produtoB == produtoC:\n",
        "  print('Os três produtos tem o mesmo preço')\n",
        "else:\n",
        "  if produtoA == produtoB:\n",
        "    print('Os produtos A e B são os mais baratos')\n",
        "  elif produtoA == produtoC:\n",
        "    print('Os produtos A e C são os mais baratos')\n",
        "  elif produtoB == produtoC:\n",
        "    print('Os produtos B e C são os mais baratos')"
      ],
      "metadata": {
        "id": "s5rzDlN69cEf"
      },
      "execution_count": null,
      "outputs": []
    },
    {
      "cell_type": "markdown",
      "source": [
        "6. Escreva um programa que leia três números e os exiba em ordem decrescente.\n",
        "\n"
      ],
      "metadata": {
        "id": "sTcapdhKtQRz"
      }
    },
    {
      "cell_type": "code",
      "source": [
        "n1 = int(input('Insira o primeiro número: '))\n",
        "n2 = int(input('Insira o segundo número: '))\n",
        "n3 = int(input('Insira o terceiro número: '))\n",
        "\n",
        "if n1 > n2 and n1 > n3:\n",
        "  print(n1)\n",
        "  if n2 >= n3:\n",
        "    print(n2)\n",
        "    print(n3)\n",
        "  else:\n",
        "     print(n3)\n",
        "     print(n2)\n",
        "elif n2 > n1 and n2 > n3:\n",
        "  print(n2)\n",
        "  if n1 >= n3:\n",
        "    print(n1)\n",
        "    print(n2)\n",
        "  else:\n",
        "    print(n2)\n",
        "    print(n1)\n",
        "else:\n",
        "  print(n3)\n",
        "  if (n1 >= n2):\n",
        "    print(n1)\n",
        "    print(n2)\n",
        "  else:\n",
        "    print(n2)\n",
        "    print(n1)"
      ],
      "metadata": {
        "id": "9jVhG06QB7CI"
      },
      "execution_count": null,
      "outputs": []
    },
    {
      "cell_type": "markdown",
      "source": [
        "7. Escreva um programa que pergunte em qual turno a pessoa usuária estuda (\"manhã\", \"tarde\" ou \"noite\") e exiba a mensagem \"Bom Dia!\", \"Boa Tarde!\", \"Boa Noite!\", ou \"Valor Inválido!\", conforme o caso."
      ],
      "metadata": {
        "id": "yDhk58vgtYG9"
      }
    },
    {
      "cell_type": "code",
      "source": [
        "turno = input('Em qual turno você estuda: manhã, tarde ou noite? ').lower()\n",
        "\n",
        "if turno == 'manhã':\n",
        "  print('Bom dia!')\n",
        "elif turno == 'tarde':\n",
        "  print('Boa tarde!')\n",
        "elif turno == 'noite':\n",
        "  print('Boa noite!')\n",
        "else:\n",
        "  print('Valor inválido!')"
      ],
      "metadata": {
        "id": "VcTuEa3LFPON"
      },
      "execution_count": null,
      "outputs": []
    },
    {
      "cell_type": "markdown",
      "source": [
        "8. Escreva um programa que peça um número inteiro à pessoa usuária e determine se ele é par ou ímpar. Dica: Você pode utilizar o operador módulo %.\n",
        "\n"
      ],
      "metadata": {
        "id": "_Vppz0I8tdOm"
      }
    },
    {
      "cell_type": "code",
      "source": [
        "numero = int(input('Insira um número inteiro: '))\n",
        "\n",
        "if numero % 2 == 0:\n",
        "  print('É par!')\n",
        "else:\n",
        "  print('É ímpar!')"
      ],
      "metadata": {
        "id": "WJ8PAhv5Lf24"
      },
      "execution_count": null,
      "outputs": []
    },
    {
      "cell_type": "markdown",
      "source": [
        "9. Escreva um programa que peça um número à pessoa usuária e informe se ele é inteiro ou decimal.\n",
        "\n"
      ],
      "metadata": {
        "id": "uwTWUiCBtgxX"
      }
    },
    {
      "cell_type": "code",
      "source": [
        "numero = float(input('Insira um número: '))\n",
        "\n",
        "if numero % 1 == 0:\n",
        "  print('É inteiro')\n",
        "else:\n",
        "  print('É decimal')"
      ],
      "metadata": {
        "id": "HHCQbRg5L24Q"
      },
      "execution_count": null,
      "outputs": []
    },
    {
      "cell_type": "markdown",
      "source": [
        "10. Um programa deve ser escrito para ler dois números e, em seguida,  perguntar à pessoa usuária qual operação ele deseja realizar.\n",
        " O resultado da operação deve incluir informações sobre o número  - se é par ou ímpar, positivo ou negativo e inteiro ou decimal.\n"
      ],
      "metadata": {
        "id": "wTvaBu1WtkgR"
      }
    },
    {
      "cell_type": "code",
      "source": [
        "n1 = int(input('Insira o primeiro número: '))\n",
        "n2 = int(input('Insira o segundo número: '))\n",
        "opcao = input('Qual operação deseja executar? +, -, * ou /: ')\n",
        "\n",
        "if opcao == '+':\n",
        "  resultado = n1 + n2\n",
        "elif opcao == '-':\n",
        "  resultado = n1 - n2\n",
        "elif opcao == '*':\n",
        "  resultado = n1 * n2\n",
        "elif opcao == '/':\n",
        "  resultado = n1 / n2\n",
        "else:\n",
        "  print('Opção inválida!')\n",
        "  resultado = 0\n",
        "\n",
        "if resultado % 2 == 0:\n",
        "  par_impar = 'par'\n",
        "else:\n",
        "  par_impar = 'ímpar'\n",
        "\n",
        "if resultado > 0:\n",
        "  positivo_negativo = 'positivo'\n",
        "elif resultado < 0:\n",
        "  positivo_negativo = 'negativo'\n",
        "else:\n",
        "  positivo_negativo = 'zero'\n",
        "\n",
        "if resultado % 1 == 0:\n",
        "  inteiro_decimal = 'inteiro'\n",
        "else:\n",
        "  inteiro_decimal = 'decimal'\n",
        "\n",
        "print(f'O resultado é igual a {resultado}. Este número é {par_impar}, {positivo_negativo} e {inteiro_decimal}')"
      ],
      "metadata": {
        "id": "4Smao5_9M1vT"
      },
      "execution_count": null,
      "outputs": []
    },
    {
      "cell_type": "markdown",
      "source": [
        "11. Escreva um programa que peça à pessoa usuária três números que representam os lados de um triângulo.\n",
        "O programa deve informar se os valores podem ser utilizados para formar um triângulo e, caso afirmativo, se ele é equilátero, isósceles ou escaleno.\n",
        "\n",
        "Tenha em mente algumas dicas:\n",
        "- Três lados formam um triângulo quando a soma de quaisquer dois lados for maior que o terceiro;\n",
        "- Triângulo Equilátero: três lados iguais;\n",
        "- Triângulo Isósceles: quaisquer dois lados iguais;\n",
        "- Triângulo Escaleno: três lados diferentes.\n"
      ],
      "metadata": {
        "id": "WyVXZn4XtrYN"
      }
    },
    {
      "cell_type": "code",
      "source": [
        "l1 = int(input('Insira o valor do primeiro lado: '))\n",
        "l2 = int(input('Insira o valor do segundo lado: '))\n",
        "l3 = int(input('Insira o valor do terceiro lado: '))\n",
        "\n",
        "if (l1 + l2 > l3) and (l2 + l3 > l1) and (l1 + l3 > l2):\n",
        "  print('Esses lados podem formar um triângulo!')\n",
        "  if l1 == l2 == l3:\n",
        "    print('Triângulo equilátero')\n",
        "  elif (l1 != l2) and (l2 != l3) and (l1 != l3):\n",
        "    print('Triângulo escaleno')\n",
        "  else:\n",
        "    print('Triângulo isóceles')\n",
        "else:\n",
        "  print('Esses lados não podem formar um triângulo.')"
      ],
      "metadata": {
        "id": "Qgm_JTzHP1tf"
      },
      "execution_count": null,
      "outputs": []
    },
    {
      "cell_type": "markdown",
      "source": [
        "12. Um estabelecimento está vendendo combustíveis com descontos variados.\n",
        "\n",
        "Para o etanol, se a quantidade comprada for até 15 litros, o desconto será de 2% por litro.\n",
        "Caso contrário, será de 4% por litro.\n",
        "\n",
        "Para o diesel, se a quantidade comprada for até 15 litros, o desconto será de 3% por litro.\n",
        "Caso contrário, será de 5% por litro.\n",
        "\n",
        "O preço do litro de diesel é R$ 2,00 e o preço do litro de etanol é R$ 1,70.\n",
        "\n",
        "Escreva um programa que leia a quantidade de litros vendidos e o tipo de combustível (E para etanol e D para diesel) e calcule o valor a ser pago pelo cliente.\n",
        "\n",
        "Tenha em mente algumas dicas:\n",
        "- O do valor do desconto será a multiplicação entre preço do litro, quantidade de litros e o valor do desconto.\n",
        "- O valor a ser pago por um cliente será o resultado da multiplicação do preço do litro pela quantidade de litros menos o valor de desconto resultante do cálculo.\n",
        "\n"
      ],
      "metadata": {
        "id": "BHGcH3H0ubZm"
      }
    },
    {
      "cell_type": "code",
      "source": [
        "combustivel = input('Informe o combustível que você vai comprar (E para Etanol e D para diesel): ').upper()\n",
        "quantidade = float(input('Informe a quantidade comprada desse combustível: '))\n",
        "\n",
        "if combustivel == 'E':\n",
        "  preco = 1.7\n",
        "  if quantidade <= 15:\n",
        "    desconto = 0.02\n",
        "  else:\n",
        "    desconto = 0.04\n",
        "elif combustivel == 'D':\n",
        "  preco = 2\n",
        "  if quantidade <= 15:\n",
        "    desconto = 0.03\n",
        "  else:\n",
        "    desconto = 0.05\n",
        "else:\n",
        "  preco = 0\n",
        "  desconto = 0\n",
        "  print('Opção inválida!')\n",
        "\n",
        "valor_desconto = preco * quantidade * desconto\n",
        "valor_final = preco * quantidade - valor_desconto\n",
        "print(f'O valor final é igual a {round(valor_final, 2)}')"
      ],
      "metadata": {
        "id": "g9iYzpMnViuz"
      },
      "execution_count": null,
      "outputs": []
    },
    {
      "cell_type": "markdown",
      "source": [
        "13. Em uma empresa de venda de imóveis você precisa criar um código que analise os dados de vendas anuais para ajudar a diretoria na tomada de decisão.\n",
        "O código precisa coletar os dados de quantidade de venda durante os anos de 2022 e 2023 e fazer um cálculo de variação percentual.\n",
        "A partir do valor da variação, deve ser enviada às seguintes sugestões:\n",
        "\n",
        "- Para variação acima de 20%: bonificação para o time de vendas.\n",
        "- Para variação entre 2% e 20%: pequena bonificação para time de vendas.\n",
        "- Para variação entre 2% e -10%: planejamento de políticas de incentivo às vendas.\n",
        "- Para bonificações abaixo de -10%: corte de gastos.\n"
      ],
      "metadata": {
        "id": "RbVZW4xCus1G"
      }
    },
    {
      "cell_type": "code",
      "source": [
        "ano2022 = float(input('Insira a quantidade de venda de 2022: '))\n",
        "ano2023 = float(input('Insira a quantidade de venda de 2023: '))\n",
        "variacao = round((ano2023 - ano2022) / ano2022 * 100, 2)\n",
        "\n",
        "if variacao > 20:\n",
        "  print(f'Variação de {variacao}%. Bonificação para o time de vendas.')\n",
        "elif 2 <= variacao <= 20:\n",
        "  print(f'Variação de {variacao}%. Pequena bonificação para o time de vendas.')\n",
        "elif -10 <= variacao < 2:\n",
        "  print(f'Variação de {variacao}%. Planejamento de políticas de incentivo às vendas.')\n",
        "else:\n",
        "  print(f'Variação de {variacao}. Corte de gastos.')"
      ],
      "metadata": {
        "id": "cVH7IPjGZw4Z"
      },
      "execution_count": null,
      "outputs": []
    },
    {
      "cell_type": "markdown",
      "source": [
        "## Estruturas de Repetição"
      ],
      "metadata": {
        "id": "z_XN3aP7I54k"
      }
    },
    {
      "cell_type": "markdown",
      "source": [
        "1. Escreva um programa que peça dois números inteiros e imprima todos os números inteiros entre eles.\n"
      ],
      "metadata": {
        "id": "_eaLGjb-u6X0"
      }
    },
    {
      "cell_type": "code",
      "source": [
        "inicio = int(input('Insira o primeiro número: '))\n",
        "fim = int(input('Insira o segundo número: '))\n",
        "\n",
        "if inicio < fim:\n",
        "  for i in range(inicio+1, fim):\n",
        "    print(i)\n",
        "elif inicio > fim:\n",
        "  for i in range(fim+1, inicio):\n",
        "    print(i)\n",
        "else:\n",
        "  print('Os números são iguais')\n"
      ],
      "metadata": {
        "id": "RCRAVN69ck3k"
      },
      "execution_count": null,
      "outputs": []
    },
    {
      "cell_type": "markdown",
      "source": [
        "2. Escreva um programa para calcular quantos dias levará para a colônia de uma bactéria A ultrapassar ou igualar a colônia de uma bactéria B,\n",
        "com base nas taxas de crescimento de 3% e 1,5% respectivamente. Considere que a colônia A inicia com 4 elementos e a B com 10.\n"
      ],
      "metadata": {
        "id": "lHQkBYaCvKRJ"
      }
    },
    {
      "cell_type": "code",
      "source": [
        "colonia_a = 4\n",
        "colonia_b = 10\n",
        "dias = 0\n",
        "\n",
        "while (colonia_a <= colonia_b):\n",
        "  colonia_a *= 1.03\n",
        "  colonia_b *= 1.015\n",
        "  dias += 1\n",
        "\n",
        "print(f'Foram necessários {dias} dias para que a colônia A ultrapassasse a colônia B')"
      ],
      "metadata": {
        "id": "aiZJBrp5LCL9"
      },
      "execution_count": null,
      "outputs": []
    },
    {
      "cell_type": "markdown",
      "source": [
        "3. Para tratar uma quantidade de 15 dados de avaliações de pessoas usuárias de um serviço da empresa, precisamos verificar se as notas são válidas.\n",
        "Então, escreva um programa que vai receber a nota de 0 a 5 de todos os dados e verificar se é um valor válido.\n",
        "Caso seja inserido uma nota acima de 5 ou abaixo de 0, repita até que a pessoa usuária insira um valor válido.\n"
      ],
      "metadata": {
        "id": "V85CtF3pvrmy"
      }
    },
    {
      "cell_type": "code",
      "source": [
        "for i in range(1,16):\n",
        "  avaliacao = int(input(f\"{i}ª nota. Insira uma nota de avaliação entre 1 e 5: \"))\n",
        "  while(avaliacao < 0 or avaliacao > 5):\n",
        "    avaliacao = int(input(f\"Nota inválida! {i}ª nota. 4Insira uma nota de avaliação entre 1 e 5: \"))\n",
        "\n",
        "print('Verificação feita. Todas as notas são válidas')"
      ],
      "metadata": {
        "id": "h-_LpALYPnik"
      },
      "execution_count": null,
      "outputs": []
    },
    {
      "cell_type": "markdown",
      "source": [
        "4. Desenvolva um programa que leia um conjunto indeterminado de temperaturas em Celsius e informe a média delas. A leitura deve ser encerrada ao ser enviado o valor -273°C.\n",
        "\n"
      ],
      "metadata": {
        "id": "YIqzrWW8v8Oy"
      }
    },
    {
      "cell_type": "code",
      "source": [
        "temperatura = float(input('Insira a temperatura em Celsius: '))\n",
        "somatoria = 0\n",
        "qtd_temperaturas = 0\n",
        "while(temperatura != -273):\n",
        "  somatoria += temperatura\n",
        "  qtd_temperaturas += 1\n",
        "  temperatura = float(input('Insira a temperatura em Celsius: '))\n",
        "\n",
        "print(f'A média das temperaturas é igual a {somatoria/qtd_temperaturas}')"
      ],
      "metadata": {
        "id": "UlGYKjyCS7zI"
      },
      "execution_count": null,
      "outputs": []
    },
    {
      "cell_type": "markdown",
      "source": [
        "5. Escreva um programa que calcule o fatorial de um número inteiro fornecido pela pessoa usuária.\n",
        "Lembrando que o fatorial de um número inteiro é a multiplicação desse número por todos os seus antecessores até o número 1.\n",
        "Por exemplo, o fatorial de 5 é 5 x 4 x 3 x 2 x 1 = 120.\n",
        "\n"
      ],
      "metadata": {
        "id": "BoxQPgJBwEuJ"
      }
    },
    {
      "cell_type": "code",
      "source": [
        "resultado = 1\n",
        "numero = int(input('Insira o número para calcular o fatorial: '))\n",
        "for i in range(1, numero+1):\n",
        "  resultado *= i\n",
        "\n",
        "print(f'O fatorial de {numero} é {resultado}')"
      ],
      "metadata": {
        "id": "LGf38Yj2WumH"
      },
      "execution_count": null,
      "outputs": []
    },
    {
      "cell_type": "markdown",
      "source": [
        "6. Escreva um programa que gere a tabuada de um número inteiro de 1 a 10, de acordo com a escolha da pessoa usuária.\n",
        "Como exemplo, para o número 2, a tabuada deve ser mostrada no seguinte formato:\n",
        "Tabuada do 2:\n",
        "2 x 1 = 2\n",
        "2 x 2 = 4\n",
        "[...]\n",
        "2 x 10 = 20\n",
        "'''\n",
        "\n"
      ],
      "metadata": {
        "id": "b44bSDuAwbU5"
      }
    },
    {
      "cell_type": "code",
      "source": [
        "num = int(input('Insira o número para calcular a tabuada: '))\n",
        "print(f'Tabuada do {num}')\n",
        "for i in range(1, 11):\n",
        "  print(f'{num} x {i} = {num*i}')"
      ],
      "metadata": {
        "id": "m9qLaDaAXxpR"
      },
      "execution_count": null,
      "outputs": []
    },
    {
      "cell_type": "markdown",
      "source": [
        "7. Os números primos possuem várias aplicações dentro da Ciência de Dados em criptografia e segurança, por exemplo.\n",
        "Um número primo é aquele que é divisível apenas por um e por ele mesmo.\n",
        "Assim, faça um programa que peça um número inteiro e determine se ele é ou não um número primo.\n"
      ],
      "metadata": {
        "id": "5ARCsSxfwgDN"
      }
    },
    {
      "cell_type": "code",
      "source": [
        "num = int(input('Informe o número para verificar se é ou não primo: '))\n",
        "primo = True\n",
        "\n",
        "if num <= 1:\n",
        "  primo = False\n",
        "else:\n",
        "  for i in range(2, num):\n",
        "    if num % i == 0:\n",
        "      primo = False\n",
        "      break\n",
        "\n",
        "if primo:\n",
        "  print(f'O número {num} é primo.')\n",
        "else:\n",
        "  print(f'O número {num} não é primo.')"
      ],
      "metadata": {
        "id": "FTseDTCHYZQB"
      },
      "execution_count": null,
      "outputs": []
    },
    {
      "cell_type": "markdown",
      "source": [
        "8. Vamos entender a distribuição de idades de pensionistas de uma empresa de previdência.\n",
        "Escreva um programa que leia as idades de uma quantidade não informada de clientes e mostre a distribuição em intervalos de [0-25], [26-50], [51-75] e [76-100].\n",
        "Encerre a entrada de dados com um número negativo."
      ],
      "metadata": {
        "id": "xJRdPHsYwluq"
      }
    },
    {
      "cell_type": "code",
      "source": [
        "idade = 0\n",
        "faixa_0_25 = 0\n",
        "faixa_26_50 = 0\n",
        "faixa_51_75 = 0\n",
        "faixa_76_100 = 0\n",
        "\n",
        "while(idade >= 0):\n",
        "  idade = int(input('Digite a idade do pensionista (digite um valor negativo para parar): '))\n",
        "  if 0 <= idade <= 25:\n",
        "    faixa_0_25 += 1\n",
        "  elif 26 <= idade <= 50:\n",
        "    faixa_26_50 += 1\n",
        "  elif 51 <= idade <= 75:\n",
        "    faixa_51_75 += 1\n",
        "  elif 76 <= idade <= 100:\n",
        "    faixa_76_100 += 1\n",
        "\n",
        "print(f'[0-25]: {faixa_0_25} pessoas')\n",
        "print(f'[26-50]: {faixa_26_50} pessoas')\n",
        "print(f'[51-75]: {faixa_51_75} pessoas')\n",
        "print(f'[76-100]: {faixa_76_100} pessoas')"
      ],
      "metadata": {
        "id": "-XpwbSbhjgB6"
      },
      "execution_count": null,
      "outputs": []
    },
    {
      "cell_type": "code",
      "source": [
        "import random\n",
        "\n",
        "candidato_1 = 0\n",
        "candidato_2 = 0\n",
        "candidato_3 = 0\n",
        "candidato_4 = 0\n",
        "branco = 0\n",
        "nulo = 0\n",
        "total_votos = 200\n",
        "\n",
        "for i in range(1, total_votos+1):\n",
        "  voto = random.randrange(1,7)\n",
        "  if voto == 1:\n",
        "    candidato_1 += 1\n",
        "  if voto == 2:\n",
        "    candidato_2 += 1\n",
        "  if voto == 3:\n",
        "    candidato_3 += 1\n",
        "  if voto == 4:\n",
        "    candidato_4 += 1\n",
        "  if voto == 5:\n",
        "    branco += 1\n",
        "  if voto == 6:\n",
        "    nulo += 1\n",
        "\n",
        "print(f'Votos candidato 1: {candidato_1} ({round(candidato_1/total_votos*100, 2)}%)')\n",
        "print(f'Votos candidato 2: {candidato_2} ({round(candidato_2/total_votos*100, 2)}%)')\n",
        "print(f'Votos candidato 3: {candidato_3} ({round(candidato_3/total_votos*100, 2)}%)')\n",
        "print(f'Votos candidato 4: {candidato_4} ({round(candidato_4/total_votos*100, 2)}%)')\n",
        "print(f'Votos em branco: {branco} ({round(branco/total_votos*100, 2)}%)')\n",
        "print(f'Votos nulos: {nulo} ({round(nulo/total_votos*100, 2)}%)')"
      ],
      "metadata": {
        "id": "oSGnNO3zlyqc"
      },
      "execution_count": null,
      "outputs": []
    },
    {
      "cell_type": "markdown",
      "source": [
        "## Estruturas de dados"
      ],
      "metadata": {
        "id": "deVW1Y5EqOyU"
      }
    },
    {
      "cell_type": "markdown",
      "source": [
        "1. Faça um programa que tenha a seguinte lista contendo os valores de gastos de uma empresa de papel `[2172.54, 3701.35, 3518.09, 3456.61, 3249.38, 2840.82, 3891.45, 3075.26, 2317.64, 3219.08]`. Com esses valores, faça um programa que calcule a média de gastos. Dica: use as funções built-in [`sum()`](https://docs.python.org/3/library/functions.html#sum) e [`len()`](https://docs.python.org/3/library/functions.html#len)."
      ],
      "metadata": {
        "id": "4xwuxjXuyW3a"
      }
    },
    {
      "cell_type": "code",
      "source": [
        "gastos = [2172.54, 3701.35, 3518.09, 3456.61, 3249.38, 2840.82, 3891.45, 3075.26, 2317.64, 3219.08]\n",
        "media = sum(gastos) / len(gastos)\n",
        "print(f'A média de gastos foi de {media}')"
      ],
      "metadata": {
        "id": "F1aihXoUqRxh"
      },
      "execution_count": null,
      "outputs": []
    },
    {
      "cell_type": "markdown",
      "source": [
        "2. Com os mesmos dados da questão anterior, defina quantas compras foram realizadas acima de 3000 reais e calcule a porcentagem quanto ao total de compras."
      ],
      "metadata": {
        "id": "2sz4ylrsyd_A"
      }
    },
    {
      "cell_type": "code",
      "source": [
        "gagstos_acima_3000 = 0\n",
        "\n",
        "for gasto in gastos:\n",
        "  if gasto > 3000:\n",
        "    gastos_acima_3000 += 1\n",
        "\n",
        "print(f'Houve um total de {gastos_acima_3000} gastos acima de 3000 reais. Isso representa um total de {gastos_acima_3000/len(gastos)*100}% da quantidade de gastos')"
      ],
      "metadata": {
        "id": "MVyPYVeQpJwO"
      },
      "execution_count": null,
      "outputs": []
    },
    {
      "cell_type": "markdown",
      "source": [
        "3. Faça um código que colete em uma lista 5 números inteiros quaisquer e imprima a lista. Exemplo: [1,4,7,2,4]."
      ],
      "metadata": {
        "id": "WlGKzBX_ykfr"
      }
    },
    {
      "cell_type": "code",
      "source": [
        "lista = []\n",
        "for i in range(1,6):\n",
        "  valor = int(input('Insira um número: '))\n",
        "  lista.append(valor)\n",
        "\n",
        "print(lista)"
      ],
      "metadata": {
        "id": "cDAMUFlHq5N5"
      },
      "execution_count": null,
      "outputs": []
    },
    {
      "cell_type": "markdown",
      "source": [
        "4. Colete novamente 5 inteiros e imprima a lista em ordem inversa à enviada.\n",
        "\n"
      ],
      "metadata": {
        "id": "NpFGr3lYy_4i"
      }
    },
    {
      "cell_type": "code",
      "source": [
        "lista = []\n",
        "for i in range(1,6):\n",
        "  valor = int(input('Insira um número: '))\n",
        "  lista.append(valor)\n",
        "\n",
        "print(lista[::-1])"
      ],
      "metadata": {
        "id": "bQZG774Dxv6V"
      },
      "execution_count": null,
      "outputs": []
    },
    {
      "cell_type": "markdown",
      "source": [
        "5. Faça um programa que, ao inserir um número qualquer, cria uma lista contendo todos os números primos entre 1 e o número digitado.\n",
        "\n"
      ],
      "metadata": {
        "id": "96dZaW7hzFLk"
      }
    },
    {
      "cell_type": "code",
      "source": [
        "num = int(input('Informe o número: '))\n",
        "lista_primos = []\n",
        "if num <= 1:\n",
        "  print('Número menor ou igual a 1.')\n",
        "else:\n",
        "  for i in range(2, num):\n",
        "    primo = True\n",
        "    for j in range(2, i):\n",
        "      if i % j == 0:\n",
        "        primo = False\n",
        "        break\n",
        "    if primo:\n",
        "      lista_primos.append(i)\n",
        "\n",
        "print(lista_primos)"
      ],
      "metadata": {
        "id": "f0hdIdJgx7JI"
      },
      "execution_count": null,
      "outputs": []
    },
    {
      "cell_type": "markdown",
      "source": [
        "6. Escreva um programa que peça uma data informando o dia, mês e ano e determine se ela é válida para uma análise.\n",
        "\n"
      ],
      "metadata": {
        "id": "Lnignnu3zhF5"
      }
    },
    {
      "cell_type": "code",
      "source": [
        "dia = int(input('Informe o dia: '))\n",
        "mes = int(input('Informe o mês: '))\n",
        "ano = int(input('Informe o ano: '))\n",
        "\n",
        "dia_valido = True\n",
        "mes_valido = True\n",
        "\n",
        "# Valida dia\n",
        "if dia > 31:\n",
        "  dia_valido = False\n",
        "elif dia > 29 and mes == 2:\n",
        "  dia_valido = False\n",
        "elif dia == 29 and mes == 2 and ano % 4 != 0 and (ano % 400 != 0 or ano % 100 == 0): #se o dia for 29 e o mês for fevereiro e o ano não for bissexto\n",
        "  dia_valido = False\n",
        "elif mes in [4, 6, 9, 11] and dia == 31:\n",
        "  dia_valido = False\n",
        "\n",
        "# Valida mês\n",
        "if mes > 12:\n",
        "  mes_valido = False\n",
        "\n",
        "# Exibe resultado se a data for válida\n",
        "if dia_valido and mes_valido:\n",
        "  print('Data válida!')\n",
        "else:\n",
        "  print('Data inválida!')"
      ],
      "metadata": {
        "id": "nbDFNjpf5wTF"
      },
      "execution_count": null,
      "outputs": []
    },
    {
      "cell_type": "markdown",
      "source": [
        "7. Para um estudo envolvendo o nível de multiplicação de bactérias em uma colônia, foi coletado o número de bactérias por dia (em milhares) e pode ser observado a seguir:\n",
        "[1.2, 2.1, 3.3, 5.0, 7.8, 11.3, 16.6, 25.1, 37.8, 56.9].\n",
        "Tendo esses valores, faça um código que gere uma lista contendo o percentual de crescimento de bactérias por dia,\n",
        "comparando o número de bactérias em cada dia com o número de bactérias do dia anterior.\n",
        "\n",
        "Dica: para calcular o percentual de crescimento usamos a seguinte equação: 100 * (amostra_atual - amostra_passada) / (amostra_passada).\n",
        "\n"
      ],
      "metadata": {
        "id": "uMZmdvgizlS9"
      }
    },
    {
      "cell_type": "code",
      "source": [
        "colonia = [1.2, 2.1, 3.3, 5.0, 7.8, 11.3, 16.6, 25.1, 37.8, 56.9]\n",
        "crescimento = [0]\n",
        "for i in range(1, len(colonia)):\n",
        "  taxa_crescimento = (colonia[i] - colonia[i-1]) / colonia[i-1] * 100\n",
        "  crescimento.append(round(taxa_crescimento, 2))\n",
        "\n",
        "print(crescimento)"
      ],
      "metadata": {
        "id": "8HcsdvVd8DcL"
      },
      "execution_count": null,
      "outputs": []
    },
    {
      "cell_type": "markdown",
      "source": [
        "8. Para uma seleção de produtos alimentícios, precisamos separar o conjunto de IDs dados por números inteiros sabendo que os produtos com ID par são doces e os com ID ímpar são amargos.\n",
        "Monte um código que colete 10 IDs. Depois, calcule e mostre a quantidade de produtos doces e amargos.\n"
      ],
      "metadata": {
        "id": "yDSKwAPyztXz"
      }
    },
    {
      "cell_type": "code",
      "source": [
        "qtd_doces = 0\n",
        "qtd_amargos = 0\n",
        "produtos = []\n",
        "\n",
        "for i in range(0,10):\n",
        "  codigo = int(input('Insira o ID: '))\n",
        "  produtos.append(codigo)\n",
        "\n",
        "for produto in produtos:\n",
        "  if produto % 2 == 0:\n",
        "    qtd_doces += 1\n",
        "  else:\n",
        "    qtd_amargos += 1\n",
        "\n",
        "print(f'Quantidade doces: {qtd_doces}. Quantidade amargos: {qtd_amargos}')"
      ],
      "metadata": {
        "id": "5VQVG1UABrDZ"
      },
      "execution_count": null,
      "outputs": []
    },
    {
      "cell_type": "markdown",
      "source": [
        "9. Desenvolva um programa que informa a nota de um(a) aluno(a) de acordo com suas respostas.\n",
        "Ele deve pedir a resposta desse(a) aluno(a) para cada questão e é preciso verificar se a resposta foi igual ao gabarito.\n",
        "Cada questão vale um ponto e existem as alternativas A, B, C ou D."
      ],
      "metadata": {
        "id": "TEbGfnXVz8bj"
      }
    },
    {
      "cell_type": "code",
      "source": [
        "respostas = []\n",
        "gabarito = ['D', 'A', 'C', 'B', 'A', 'D', 'C', 'C', 'A', 'B']\n",
        "nota = 0\n",
        "\n",
        "for i in range(0,10):\n",
        "  resposta = input(f'Insira a resposta para a questão {i+1}: ').upper()\n",
        "  respostas.append(resposta)\n",
        "\n",
        "for i in range(0,10):\n",
        "  if respostas[i] == gabarito[i]:\n",
        "    nota += 1\n",
        "\n",
        "print(nota)"
      ],
      "metadata": {
        "id": "nc-IWaVACYfI"
      },
      "execution_count": null,
      "outputs": []
    },
    {
      "cell_type": "markdown",
      "source": [
        "10. Um instituto de meteorologia deseja fazer um estudo de temperatura média de cada mês do ano.\n",
        "Para isso, você precisa fazer um código que colete e armazene essas temperaturas médias em uma lista.\n",
        "Depois, calcule a média anual das temperaturas e mostre todas as temperaturas acima da média anual e em que mês elas ocorreram,\n",
        "mostrando os meses por extenso (Janeiro, Fevereiro, etc.)."
      ],
      "metadata": {
        "id": "LRZphqYMz_mM"
      }
    },
    {
      "cell_type": "code",
      "source": [
        "temperaturas = []\n",
        "meses = ['Janeiro', 'Fevereiro', 'Março', 'Abril', 'Maio', 'Junho', 'Julho', 'Agosto', 'Setembro', 'Outubro', 'Novembro', 'Dezembro']\n",
        "\n",
        "for i in range(0, 12):\n",
        "  temperatura = float(input(f'Insira a temperatura de {meses[i]}: '))\n",
        "  temperaturas.append(temperatura)\n",
        "\n",
        "media = sum(temperaturas) / len(temperaturas)\n",
        "\n",
        "print(f'Meses com temperatura acima da média ({media}°C)')\n",
        "for i in range(0, 12):\n",
        "  if temperaturas[i] > media:\n",
        "    print(f'{meses[i]}: {temperaturas[i]}°C')"
      ],
      "metadata": {
        "id": "c72FuszgD5bb"
      },
      "execution_count": null,
      "outputs": []
    },
    {
      "cell_type": "markdown",
      "source": [
        "11. Uma empresa de e-commerce está interessada em analisar as vendas dos seus produtos. Os dados das vendas foram armazenados em um dicionário:\n",
        "{'Produto A': 300, 'Produto B': 80, 'Produto C': 60,\n",
        " 'Produto D': 200, 'Produto E': 250, 'Produto F': 30}\n",
        " Escreva um código que calcule o total de vendas e o produto mais vendido.\n",
        "\n"
      ],
      "metadata": {
        "id": "DigXS9K-0Ceo"
      }
    },
    {
      "cell_type": "code",
      "source": [
        "produtos = {'Produto A': 300, 'Produto B': 80, 'Produto C': 60, 'Produto D': 200, 'Produto E': 250, 'Produto F': 30}\n",
        "total_vendas = 0\n",
        "produto_mais_vendido = ''\n",
        "valor_produto_mais_vendido = 0\n",
        "\n",
        "for produto in produtos.keys():\n",
        "  total_vendas += produtos[produto]\n",
        "  if produtos[produto] > valor_produto_mais_vendido:\n",
        "    produto_mais_vendido = produto\n",
        "    valor_produto_mais_vendido = produtos[produto]\n",
        "\n",
        "print(f'O total de vendas foi de R$ {total_vendas}, e o produto mais vendido foi o {produto_mais_vendido}')"
      ],
      "metadata": {
        "id": "lygL2l-gH15M"
      },
      "execution_count": null,
      "outputs": []
    },
    {
      "cell_type": "markdown",
      "source": [
        "12. Uma pesquisa de mercado foi feita para decidir qual design de marca infantil mais agrada as crianças.\n",
        "A pesquisa foi feita e o votos computados podem ser observados abaixo:\n",
        "\n",
        "Tabela de votos da marca\n",
        "Design 1 - 1334 votos\n",
        "Design 2 - 982 votos\n",
        "Design 3 - 1751 votos\n",
        "Design 4 - 210 votos\n",
        "Design 5 - 1811 votos\n",
        "\n",
        "Adapte os dados fornecidos para uma estrutura de dicionário. A partir dele, informe o design vencedor e a porcentagem de votos recebidos."
      ],
      "metadata": {
        "id": "H26BU6hk0GJP"
      }
    },
    {
      "cell_type": "code",
      "source": [
        "designs = {'Design 1': 1334, 'Design 2': 982, 'Design 3': 1751, 'Design 4': 210, 'Design 5': 1811}\n",
        "total_votos = 0\n",
        "design_vencedor = ''\n",
        "votos_design_vencedor = 0\n",
        "percentual_vencedor = 0\n",
        "\n",
        "for design in designs.keys():\n",
        "  total_votos += designs[design]\n",
        "  if designs[design] > votos_design_vencedor:\n",
        "    design_vencedor = design\n",
        "    votos_design_vencedor = designs[design]\n",
        "\n",
        "percentual_vencedor = votos_design_vencedor / total_votos * 100\n",
        "\n",
        "print(f'O design vencedor foi o {design_vencedor}, com {votos_design_vencedor} votos ({percentual_vencedor}%)')"
      ],
      "metadata": {
        "id": "8hf2zf67Kp2E"
      },
      "execution_count": null,
      "outputs": []
    },
    {
      "cell_type": "markdown",
      "source": [
        "13. As pessoas colaboradoras de um setor da empresa que você trabalha vão receber um abono correspondente a 10% do salário devido ao ótimo desempenho do time.\n",
        "O setor financeiro solicitou sua ajuda para a verificação das consequências financeiras que esse abono irá gerar nos recursos.\n",
        "Assim, foi encaminhada para você uma lista com os salários que receberão o abono:\n",
        "[1172, 1644, 2617, 5130, 5532, 6341, 6650, 7238, 7685, 7782, 7903].\n",
        "O abono de cada colaborador(a) não pode ser inferior a 200.\n",
        "Em código, transforme cada um dos salários em chaves de um dicionário e o abono de cada salário no elemento.\n",
        "Depois, informe o total de gastos com o abono, quantos(as) colaboradores(as) receberam o abono mínimo e qual o maior valor de abono fornecido.\n",
        "\n"
      ],
      "metadata": {
        "id": "hPtm9zsG0Ksz"
      }
    },
    {
      "cell_type": "code",
      "source": [
        "salarios = [1172, 1644, 2617, 5130, 5532, 6341, 6650, 7238, 7685, 7782, 7903]\n",
        "novos_salarios = {}\n",
        "abono = 0\n",
        "total_abonos = 0\n",
        "maior_abono = 0\n",
        "qtd_abono_minimo = 0\n",
        "\n",
        "for salario in salarios:\n",
        "  abono = salario * 0.1\n",
        "\n",
        "  if abono < 200:\n",
        "    abono = 200\n",
        "    qtd_abono_minimo += 1\n",
        "\n",
        "  if abono > maior_abono:\n",
        "    maior_abono = abono\n",
        "\n",
        "  novos_salarios[salario] = salario + abono\n",
        "  total_abonos += abono\n",
        "\n",
        "print(novos_salarios)\n",
        "print(f'O total de gastos com o abono foi de {total_abonos}, {qtd_abono_minimo} colaboradores receberam o abono mínimo, e o maior abono foi de {maior_abono}')"
      ],
      "metadata": {
        "id": "g5lGkPeNNEB-"
      },
      "execution_count": null,
      "outputs": []
    },
    {
      "cell_type": "markdown",
      "source": [
        "14. Uma equipe de cientistas de dados está estudando a diversidade biológica em uma floresta.\n",
        "A equipe fez a coleta de informações sobre o número de espécies de plantas e animais em cada área dessa floresta e armazenou essas informações em um dicionário.\n",
        "Nele, a chave descreve a área dos dados e os valores nas listas correspondem às espécies de plantas e animais nas áreas, respectivamente.\n",
        "\n",
        "\n",
        "{'Área Norte': [2819, 7236],\n",
        " 'Área Leste': [1440, 9492],\n",
        " 'Área Sul': [5969, 7496],\n",
        " 'Área Oeste': [14446, 49688],\n",
        " 'Área Centro': [22558, 45148]}\n",
        "\n",
        "Escreva um código para calcular a média de espécies por área e identificar a área com a maior diversidade biológica.\n",
        "Dica: use as funções built-in [sum()](https://docs.python.org/3/library/functions.html#sum) e [len()](https://docs.python.org/3/library/functions.html#len)."
      ],
      "metadata": {
        "id": "yxGn0iq00OYi"
      }
    },
    {
      "cell_type": "code",
      "source": [
        "areas = {'Área Norte': [2819, 7236],\n",
        " 'Área Leste': [1440, 9492],\n",
        " 'Área Sul': [5969, 7496],\n",
        " 'Área Oeste': [14446, 49688],\n",
        " 'Área Centro': [22558, 45148]}\n",
        "\n",
        "maior_media = 0\n",
        "medias = {}\n",
        "area_maior_media = ''\n",
        "\n",
        "for area in areas.keys():\n",
        "  media = sum(areas[area])/len(areas[area])\n",
        "  medias[area] = media\n",
        "  if media > maior_media:\n",
        "    maior_media = media\n",
        "    area_maior_media = area\n",
        "\n",
        "print(f'A área com maior média de diversidade é a {area_maior_media}, com uma média de {maior_media}')\n",
        "print(medias)"
      ],
      "metadata": {
        "id": "sc9T7PhHWRH6"
      },
      "execution_count": null,
      "outputs": []
    },
    {
      "cell_type": "markdown",
      "source": [
        "15. O setor de RH da sua empresa te pediu uma ajuda para analisar as idades de colaboradores(as) de 4 setores da empresa.\n",
        "Para isso, foram fornecidos os seguintes dados:\n",
        "\n",
        "{'Setor A': [22, 26, 30, 30, 35, 38, 40, 56, 57, 65],\n",
        " 'Setor B': [22, 24, 26, 33, 41, 49, 50, 54, 60, 64],\n",
        " 'Setor C': [23, 26, 26, 29, 34, 35, 36, 41, 52, 56],\n",
        " 'Setor D': [19, 20, 25, 27, 34, 39, 42, 44, 50, 65]}\n",
        "\n",
        "Sabendo que cada setor tem 10 colaboradores(as), construa um código que calcule a média de idade de cada setor, a idade média geral entre todos os setores e quantas pessoas estão acima da idade média geral."
      ],
      "metadata": {
        "id": "sQbrA8cn0RKu"
      }
    },
    {
      "cell_type": "code",
      "source": [
        "setores = {'Setor A': [22, 26, 30, 30, 35, 38, 40, 56, 57, 65],\n",
        " 'Setor B': [22, 24, 26, 33, 41, 49, 50, 54, 60, 64],\n",
        " 'Setor C': [23, 26, 26, 29, 34, 35, 36, 41, 52, 56],\n",
        " 'Setor D': [19, 20, 25, 27, 34, 39, 42, 44, 50, 65]}\n",
        "\n",
        "soma_total = 0\n",
        "qtd_total = 0\n",
        "pessoas_acima_media_geral = 0\n",
        "\n",
        "for setor in setores.keys():\n",
        "  media = sum(setores[setor]) / len(setores[setor])\n",
        "  soma_total += sum(setores[setor])\n",
        "  qtd_total += len(setores[setor])\n",
        "  print(f'A média do {setor} foi de {media}')\n",
        "\n",
        "media_geral = soma_total/qtd_total\n",
        "\n",
        "print(f'A idade média geral é de {soma_total/qtd_total}')\n",
        "\n",
        "for setor in setores.keys():\n",
        "  for idade in setores[setor]:\n",
        "    if idade > media_geral:\n",
        "      pessoas_acima_media_geral += 1\n",
        "\n",
        "print(f'Há {pessoas_acima_media_geral} pessoas com idade acima da média geral.')"
      ],
      "metadata": {
        "id": "QbvG1AsmerlC"
      },
      "execution_count": null,
      "outputs": []
    }
  ]
}
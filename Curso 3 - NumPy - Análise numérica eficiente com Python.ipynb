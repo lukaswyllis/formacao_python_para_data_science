{
  "nbformat": 4,
  "nbformat_minor": 0,
  "metadata": {
    "colab": {
      "provenance": []
    },
    "kernelspec": {
      "name": "python3",
      "display_name": "Python 3"
    },
    "language_info": {
      "name": "python"
    }
  },
  "cells": [
    {
      "cell_type": "markdown",
      "source": [
        "# NumPy: análise numérica eficiente com Python"
      ],
      "metadata": {
        "id": "DS9cv1vbzYHk"
      }
    },
    {
      "cell_type": "markdown",
      "source": [
        "## Conhecendo a biblioteca e os nossos dados"
      ],
      "metadata": {
        "id": "bI8Dt0apRP68"
      }
    },
    {
      "cell_type": "code",
      "source": [],
      "metadata": {
        "id": "pasN_3jKRS7W"
      },
      "execution_count": null,
      "outputs": []
    }
  ]
}
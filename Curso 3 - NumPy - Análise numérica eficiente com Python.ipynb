{
  "nbformat": 4,
  "nbformat_minor": 0,
  "metadata": {
    "colab": {
      "provenance": []
    },
    "kernelspec": {
      "name": "python3",
      "display_name": "Python 3"
    },
    "language_info": {
      "name": "python"
    }
  },
  "cells": [
    {
      "cell_type": "markdown",
      "source": [
        "# NUMPY - ALURA"
      ],
      "metadata": {
        "id": "5c9ayjZJ7DNs"
      }
    },
    {
      "cell_type": "markdown",
      "source": [
        "A NumPy é uma biblioteca em Python que oferece diversas ferramentas e funcionalidades essenciais para computação científica, incluindo objetos de matriz multidimensional chamados de arrays, rotinas para operações rápidas em matrizes, além de operações matemáticas, manipulação de forma, estatísticas e muito mais. É amplamente utilizado em áreas como análise de dados, processamento de sinais e aprendizado de máquina.\n",
        "\n",
        "Mais conteúdo sobre as suas funcionalidades pode ser acessado no link: https://numpy.org/devdocs/index.html"
      ],
      "metadata": {
        "id": "CoV6x9Bv-Z7N"
      }
    },
    {
      "cell_type": "markdown",
      "source": [
        "# Aula 1"
      ],
      "metadata": {
        "id": "DlIXhhP4kpXs"
      }
    },
    {
      "cell_type": "markdown",
      "source": [
        "## Vídeo 1.3 - Carregando dados"
      ],
      "metadata": {
        "id": "jf_9eE4NwKA4"
      }
    },
    {
      "cell_type": "markdown",
      "source": [
        "A versão original da base de dados utilizada neste curso pode encontrada neste [link](https://www.kaggle.com/datasets/kapatsa/apple-prices-in-russian-regions) onde você pode ler um pouco mais sobre o problema e questões em potencial relacionadas a estes dados.\n",
        "\n",
        "\n",
        "Porém, neste curso será utilizada uma versão modificada disponível neste [link](https://github.com/alura-cursos/numpy/blob/dados/apples_ts.csv). O link para a versão Raw do arquivo repositório do Github é este: https://raw.githubusercontent.com/alura-cursos/numpy/dados/apples_ts.csv ."
      ],
      "metadata": {
        "id": "OrzRD1HjklCD"
      }
    },
    {
      "cell_type": "code",
      "execution_count": null,
      "metadata": {
        "id": "LvhSkBLokSwp"
      },
      "outputs": [],
      "source": [
        "import numpy as np"
      ]
    },
    {
      "cell_type": "code",
      "source": [
        "url = 'https://raw.githubusercontent.com/lukaswyllis/formacao_python_para_data_science/refs/heads/master/dados-curso3/apples_ts.csv'"
      ],
      "metadata": {
        "id": "tkOiG4uvMoHQ"
      },
      "execution_count": null,
      "outputs": []
    },
    {
      "cell_type": "code",
      "source": [
        "np.arange(1,88,1)"
      ],
      "metadata": {
        "id": "woiZe2_Ql8eM"
      },
      "execution_count": null,
      "outputs": []
    },
    {
      "cell_type": "code",
      "source": [
        "7*12+3"
      ],
      "metadata": {
        "id": "HFAQ7N1ltVZH"
      },
      "execution_count": null,
      "outputs": []
    },
    {
      "cell_type": "code",
      "source": [
        "dado = np.loadtxt(url,delimiter=',',usecols=np.arange(1,88,1))"
      ],
      "metadata": {
        "id": "31bbVYEZkcf8"
      },
      "execution_count": null,
      "outputs": []
    },
    {
      "cell_type": "markdown",
      "source": [
        "## Vídeo 1.4 - Dimensões do array"
      ],
      "metadata": {
        "id": "m1ugXa_NwXIZ"
      }
    },
    {
      "cell_type": "code",
      "source": [
        "dado.ndim"
      ],
      "metadata": {
        "id": "OacarG2Uy8Iq"
      },
      "execution_count": null,
      "outputs": []
    },
    {
      "cell_type": "code",
      "source": [
        "dado.size"
      ],
      "metadata": {
        "id": "rwPNvctqzA7Z"
      },
      "execution_count": null,
      "outputs": []
    },
    {
      "cell_type": "code",
      "source": [
        "dado.shape"
      ],
      "metadata": {
        "id": "Eugn3BoPt9s2"
      },
      "execution_count": null,
      "outputs": []
    },
    {
      "cell_type": "markdown",
      "source": [
        "### Transposição do array"
      ],
      "metadata": {
        "id": "bBCStF7k_wjy"
      }
    },
    {
      "cell_type": "code",
      "source": [
        "dado.T"
      ],
      "metadata": {
        "id": "cZgJMqEswc8_"
      },
      "execution_count": null,
      "outputs": []
    },
    {
      "cell_type": "code",
      "source": [
        "dado.T.shape"
      ],
      "metadata": {
        "id": "rYf7idhVwfXo"
      },
      "execution_count": null,
      "outputs": []
    },
    {
      "cell_type": "code",
      "source": [
        "dado_transposto = dado.T"
      ],
      "metadata": {
        "id": "VCfUT2fHxTwv"
      },
      "execution_count": null,
      "outputs": []
    },
    {
      "cell_type": "markdown",
      "source": [
        "# Aula 2"
      ],
      "metadata": {
        "id": "xLPnu4EZ0_Mj"
      }
    },
    {
      "cell_type": "markdown",
      "source": [
        "## Vídeo 2.1 - Visualização e seleção"
      ],
      "metadata": {
        "id": "4s5QCa1s1CcS"
      }
    },
    {
      "cell_type": "markdown",
      "source": [
        "### *A[ i : j ]*\n",
        "\n",
        "Recorta a lista *A* do índice i até o j. Neste fatiamento o elemento com índice i é **incluído** e o elemento com índice j **não é incluído** no resultado."
      ],
      "metadata": {
        "id": "PuzE7IHSDhAy"
      }
    },
    {
      "cell_type": "code",
      "source": [
        "datas = dado_transposto[:,0]"
      ],
      "metadata": {
        "id": "AnFj2Bcu1BaI"
      },
      "execution_count": null,
      "outputs": []
    },
    {
      "cell_type": "code",
      "source": [
        "precos = dado_transposto[:,1:6]"
      ],
      "metadata": {
        "id": "cALi6D5V3rNi"
      },
      "execution_count": null,
      "outputs": []
    },
    {
      "cell_type": "markdown",
      "source": [
        "Matplotlib é uma biblioteca em Python que oferece diversas ferramentas e funcionalidades para a criação de visualizações em gráficos. Ela permite criar gráficos estáticos, animados e interativos de forma simples e oferece recursos avançados para a criação de gráficos mais complexos. É amplamente utilizada em áreas como análise de dados, processamento de sinais e aprendizado de máquina. Neste curso iremos utilizar apenas a plt.plot, mas se você quiser se aprofundar no assunto pode consultar a documentação na biblioteca neste link: https://matplotlib.org/"
      ],
      "metadata": {
        "id": "MoT44x0P_3x7"
      }
    },
    {
      "cell_type": "code",
      "source": [
        "import matplotlib.pyplot as plt"
      ],
      "metadata": {
        "id": "aUiOwcVa46Ey"
      },
      "execution_count": null,
      "outputs": []
    },
    {
      "cell_type": "code",
      "source": [
        "plt.plot(datas, precos[:,0])"
      ],
      "metadata": {
        "id": "KY_BbT_V5VIR"
      },
      "execution_count": null,
      "outputs": []
    },
    {
      "cell_type": "code",
      "source": [
        "datas = np.arange(1,88,1)"
      ],
      "metadata": {
        "id": "cl6Jc6FO5ZzK"
      },
      "execution_count": null,
      "outputs": []
    },
    {
      "cell_type": "code",
      "source": [
        "plt.plot(datas, precos[:,0])"
      ],
      "metadata": {
        "id": "lMJCzD-v56DS"
      },
      "execution_count": null,
      "outputs": []
    },
    {
      "cell_type": "code",
      "source": [
        "Moscow = precos[:,0]\n",
        "Kaliningrad = precos[:,1]\n",
        "Petersburg = precos[:,2]\n",
        "Krasnodar = precos[:,3]\n",
        "Ekaterinburg = precos[:,4]"
      ],
      "metadata": {
        "id": "DpxvyAuy56tx"
      },
      "execution_count": null,
      "outputs": []
    },
    {
      "cell_type": "markdown",
      "source": [
        "## Vídeo 2.2 - Comparação entre arrays"
      ],
      "metadata": {
        "id": "DN6NWVzA7MPF"
      }
    },
    {
      "cell_type": "code",
      "source": [
        "Moscow.shape"
      ],
      "metadata": {
        "id": "1CUF-sWA9a4V"
      },
      "execution_count": null,
      "outputs": []
    },
    {
      "cell_type": "code",
      "source": [
        "Moscow_ano1 = Moscow[0:12]\n",
        "Moscow_ano2 = Moscow[12:24]\n",
        "Moscow_ano3 = Moscow[24:36]\n",
        "Moscow_ano4 = Moscow[36:48]"
      ],
      "metadata": {
        "id": "9SPo1sSt7JQ7"
      },
      "execution_count": null,
      "outputs": []
    },
    {
      "cell_type": "code",
      "source": [
        "plt.plot(np.arange(1,13,1), Moscow_ano1)\n",
        "plt.plot(np.arange(1,13,1), Moscow_ano2)\n",
        "plt.plot(np.arange(1,13,1), Moscow_ano3)\n",
        "plt.plot(np.arange(1,13,1), Moscow_ano4)\n",
        "plt.legend(['ano1','ano2','ano3','ano4'])"
      ],
      "metadata": {
        "id": "4MzsuSCO9K27"
      },
      "execution_count": null,
      "outputs": []
    },
    {
      "cell_type": "code",
      "source": [
        "np.array_equal(Moscow_ano3, Moscow_ano4)"
      ],
      "metadata": {
        "id": "rgCn9Z2ZJ5EK"
      },
      "execution_count": null,
      "outputs": []
    },
    {
      "cell_type": "code",
      "source": [
        "np.allclose(Moscow_ano3, Moscow_ano4,10)\n"
      ],
      "metadata": {
        "id": "9tlC6wQNKPQb"
      },
      "execution_count": null,
      "outputs": []
    },
    {
      "cell_type": "markdown",
      "source": [
        "## Vídeo 2.3 - Lidando com NaNs"
      ],
      "metadata": {
        "id": "UT8CWkPiJv-q"
      }
    },
    {
      "cell_type": "code",
      "source": [
        "plt.plot(datas, Kaliningrad)"
      ],
      "metadata": {
        "id": "Zoaxx_LtNJNq"
      },
      "execution_count": null,
      "outputs": []
    },
    {
      "cell_type": "code",
      "source": [
        "np.isnan(Kaliningrad)"
      ],
      "metadata": {
        "id": "GMkXuuR1G8zD"
      },
      "execution_count": null,
      "outputs": []
    },
    {
      "cell_type": "code",
      "source": [
        "Kaliningrad"
      ],
      "metadata": {
        "id": "oWSOuDg3lOIF"
      },
      "execution_count": null,
      "outputs": []
    },
    {
      "cell_type": "code",
      "source": [
        "sum(np.isnan(Kaliningrad))"
      ],
      "metadata": {
        "id": "RnX79GWolOfF"
      },
      "execution_count": null,
      "outputs": []
    },
    {
      "cell_type": "code",
      "source": [
        "(Kaliningrad[3] + Kaliningrad[5])/2"
      ],
      "metadata": {
        "id": "jRIR4zp4lvBs"
      },
      "execution_count": null,
      "outputs": []
    },
    {
      "cell_type": "code",
      "source": [
        "np.mean([Kaliningrad[3], Kaliningrad[5]])"
      ],
      "metadata": {
        "id": "04y4gfXXl-Sz"
      },
      "execution_count": null,
      "outputs": []
    },
    {
      "cell_type": "code",
      "source": [
        "Kaliningrad[4] = np.mean([Kaliningrad[3], Kaliningrad[5]])"
      ],
      "metadata": {
        "id": "T24yIH3EnHpl"
      },
      "execution_count": null,
      "outputs": []
    },
    {
      "cell_type": "code",
      "source": [
        "np.mean(Moscow)"
      ],
      "metadata": {
        "id": "U7GYFmQKnBNT"
      },
      "execution_count": null,
      "outputs": []
    },
    {
      "cell_type": "code",
      "source": [
        "np.mean(Kaliningrad)"
      ],
      "metadata": {
        "id": "1lrB_4X-oKd6"
      },
      "execution_count": null,
      "outputs": []
    },
    {
      "cell_type": "markdown",
      "source": [
        "# Aula 3 - Operações entre arrays"
      ],
      "metadata": {
        "id": "CgIQlbbupJ_b"
      }
    },
    {
      "cell_type": "markdown",
      "source": [
        "## Vídeo 3.1 - Diferença entre arrays"
      ],
      "metadata": {
        "id": "fhwnOCMIpLyb"
      }
    },
    {
      "cell_type": "code",
      "source": [
        "plt.plot(datas, Moscow)"
      ],
      "metadata": {
        "id": "QlCwSaJ0oMTK"
      },
      "execution_count": null,
      "outputs": []
    },
    {
      "cell_type": "markdown",
      "source": [
        "y = ax+b"
      ],
      "metadata": {
        "id": "EsXev426rZ5z"
      }
    },
    {
      "cell_type": "code",
      "source": [
        "x= datas"
      ],
      "metadata": {
        "id": "yfVqjK-_rdrC"
      },
      "execution_count": null,
      "outputs": []
    },
    {
      "cell_type": "code",
      "source": [
        "y = 2*x+80"
      ],
      "metadata": {
        "id": "iEjHuSEWp9iy"
      },
      "execution_count": null,
      "outputs": []
    },
    {
      "cell_type": "code",
      "source": [
        "plt.plot(datas, Moscow)\n",
        "plt.plot(datas, y)"
      ],
      "metadata": {
        "id": "NqLlOYPdrnvg"
      },
      "execution_count": null,
      "outputs": []
    },
    {
      "cell_type": "code",
      "source": [
        "np.sqrt(np.sum(np.power(Moscow - y,2)))"
      ],
      "metadata": {
        "id": "XUi-LE2nwupR"
      },
      "execution_count": null,
      "outputs": []
    },
    {
      "cell_type": "code",
      "source": [
        "y = 0.52*x+80\n",
        "plt.plot(datas, Moscow)\n",
        "plt.plot(datas, y)"
      ],
      "metadata": {
        "id": "aPipkZrHrrap"
      },
      "execution_count": null,
      "outputs": []
    },
    {
      "cell_type": "code",
      "source": [
        "Moscow - y"
      ],
      "metadata": {
        "id": "60pH4emYssxJ"
      },
      "execution_count": null,
      "outputs": []
    },
    {
      "cell_type": "code",
      "source": [
        "np.sqrt(np.sum(np.power(Moscow - y,2)))"
      ],
      "metadata": {
        "id": "5y3Tp2GdvE2-"
      },
      "execution_count": null,
      "outputs": []
    },
    {
      "cell_type": "code",
      "source": [
        "np.linalg.norm(Moscow - y)"
      ],
      "metadata": {
        "id": "09bXuFUvwjCm"
      },
      "execution_count": null,
      "outputs": []
    },
    {
      "cell_type": "markdown",
      "source": [
        "## Vídeo 3.2 - Multiplicação elemento a elemento"
      ],
      "metadata": {
        "id": "HJrDwycxyfDx"
      }
    },
    {
      "cell_type": "markdown",
      "source": [
        "A equação de uma reta na forma y = ax + b é uma expressão matemática que descreve a relação entre os valores de x e y em uma linha reta. O valor de \"a\" representa a inclinação (ou declive) da reta, que é a taxa de variação entre os valores de x e y. O valor de \"b\" é o ponto de intercepção no eixo y, ou seja, o valor de y quando x é igual a zero. Com essa equação, é possível plotar a reta em um sistema de coordenadas cartesianas, onde o eixo x representa os valores de x e o eixo y representa os valores de y. A equação da reta é amplamente utilizada em várias áreas da matemática e também em outras áreas, como física e engenharia, para modelar dados e prever comportamentos futuros."
      ],
      "metadata": {
        "id": "_23zaZD6zsD3"
      }
    },
    {
      "cell_type": "markdown",
      "source": [
        "a = Coeficiente angular\n",
        "\n",
        "n -> número de elementos\n",
        "\n",
        "Y = Moscow\n",
        "\n",
        "X = datas\n",
        "\n",
        "\n",
        "\n",
        "O coefiente angular pode ser obtido usando a equação:\n",
        "\n",
        "$$ \\hat{a} = \\frac{n*Soma( X_i*Y_i ) - Soma( X_i )*Soma(Y_i)}{n Soma(X_i^2) - (Soma(X_i))^2}$$"
      ],
      "metadata": {
        "id": "Taa4wbGGznZG"
      }
    },
    {
      "cell_type": "code",
      "source": [
        "Y = Moscow\n",
        "X = datas\n",
        "n = np.size(Moscow)"
      ],
      "metadata": {
        "id": "0T7qC3lOw41G"
      },
      "execution_count": null,
      "outputs": []
    },
    {
      "cell_type": "code",
      "source": [
        "X.shape"
      ],
      "metadata": {
        "id": "xOpu-zx81fEn"
      },
      "execution_count": null,
      "outputs": []
    },
    {
      "cell_type": "code",
      "source": [
        "(X**2).shape"
      ],
      "metadata": {
        "id": "faSSvsVm1gj_"
      },
      "execution_count": null,
      "outputs": []
    },
    {
      "cell_type": "code",
      "source": [
        "a = (n*np.sum(X*Y) - np.sum(X)*np.sum(Y))/(n*np.sum(X**2)-np.sum(X)**2)"
      ],
      "metadata": {
        "id": "2WOQotCL0_Rs"
      },
      "execution_count": null,
      "outputs": []
    },
    {
      "cell_type": "markdown",
      "source": [
        "Coeficiente linear\n",
        "\n",
        "$$ \\hat{b} = Media(Y_i) - \\hat{a} * Media(X_i) $$"
      ],
      "metadata": {
        "id": "w8MOUjBjQ8ay"
      }
    },
    {
      "cell_type": "code",
      "source": [
        "b = np.mean(Y) - a*np.mean(X)"
      ],
      "metadata": {
        "id": "rMkslPo41EP8"
      },
      "execution_count": null,
      "outputs": []
    },
    {
      "cell_type": "code",
      "source": [
        "y = a*X+b"
      ],
      "metadata": {
        "id": "QlawBOkCTehG"
      },
      "execution_count": null,
      "outputs": []
    },
    {
      "cell_type": "code",
      "source": [
        "np.linalg.norm(Moscow - y)"
      ],
      "metadata": {
        "id": "mnqrm-TDSKgc"
      },
      "execution_count": null,
      "outputs": []
    },
    {
      "cell_type": "code",
      "source": [
        "plt.plot(datas, Moscow)\n",
        "plt.plot(datas, y)"
      ],
      "metadata": {
        "id": "G8oYEocfTjUV"
      },
      "execution_count": null,
      "outputs": []
    },
    {
      "cell_type": "markdown",
      "source": [
        "## Vídeo 3.3 - Para que serve a regressão linear"
      ],
      "metadata": {
        "id": "xpd3AqM5UfGh"
      }
    },
    {
      "cell_type": "code",
      "source": [
        "plt.plot(datas, Moscow)\n",
        "plt.plot(datas, y)\n",
        "plt.plot(41.5, a*41.5+b,'*r')\n",
        "plt.plot(100, a*100+b,'*r')"
      ],
      "metadata": {
        "id": "GK31M30fT8aQ"
      },
      "execution_count": null,
      "outputs": []
    },
    {
      "cell_type": "markdown",
      "source": [
        "# Aula 4 - Números aleatórios"
      ],
      "metadata": {
        "id": "2VmTH3KDWH10"
      }
    },
    {
      "cell_type": "markdown",
      "source": [
        "## Vídeo 4.1 - Valores em um intervalo"
      ],
      "metadata": {
        "id": "BrFG600GcdPM"
      }
    },
    {
      "cell_type": "code",
      "source": [
        "np.random.randint(low=40,high=100,size=100)"
      ],
      "metadata": {
        "id": "CJ6v1CXIVdLc"
      },
      "execution_count": null,
      "outputs": []
    },
    {
      "cell_type": "code",
      "source": [
        "coef_angulares = np.random.uniform(low=0.10,high=0.90,size=100)"
      ],
      "metadata": {
        "id": "gKqeNh_7ZBLd"
      },
      "execution_count": null,
      "outputs": []
    },
    {
      "cell_type": "code",
      "source": [
        "b"
      ],
      "metadata": {
        "id": "fMJuziIkY7oj"
      },
      "execution_count": null,
      "outputs": []
    },
    {
      "cell_type": "code",
      "source": [
        "norma = np.array([])\n",
        "\n",
        "for i in range(100):\n",
        "  norma = np.append(norma,np.linalg.norm(Moscow- (coef_angulares[i]*X+b)))"
      ],
      "metadata": {
        "id": "1s6VqLxeZj_I"
      },
      "execution_count": null,
      "outputs": []
    },
    {
      "cell_type": "code",
      "source": [
        "norma"
      ],
      "metadata": {
        "id": "c9TdvSp5aE4B"
      },
      "execution_count": null,
      "outputs": []
    },
    {
      "cell_type": "code",
      "source": [
        "coef_angulares[3]"
      ],
      "metadata": {
        "id": "okEXrVpra5A9"
      },
      "execution_count": null,
      "outputs": []
    },
    {
      "cell_type": "markdown",
      "source": [
        "## Vídeo 4.2 - Reprodutibilidade"
      ],
      "metadata": {
        "id": "DltD3wG6dD5M"
      }
    },
    {
      "cell_type": "markdown",
      "source": [
        "Números pseudoaleatórios são sequências de números gerados por algoritmos que tentam imitar o comportamento de sequências aleatórias. Eles não são verdadeiramente aleatórios, mas parecem ser aleatórios o suficiente para muitas aplicações práticas.\n",
        "\n",
        "Os algoritmos geradores de números pseudoaleatórios geralmente iniciam com uma semente (seed), que é um número inicial que é fornecido como entrada para o algoritmo. A partir da semente, o algoritmo usa operações matemáticas para gerar uma sequência de números aparentemente aleatórios. No entanto, como o algoritmo é determinístico, a sequência de números gerada sempre será a mesma para a mesma semente."
      ],
      "metadata": {
        "id": "mvnO0uvVEbQF"
      }
    },
    {
      "cell_type": "code",
      "source": [
        "np.random.uniform(low=0.10,high=0.90,size=100)"
      ],
      "metadata": {
        "id": "H1YkA6NCbC7H"
      },
      "execution_count": null,
      "outputs": []
    },
    {
      "cell_type": "code",
      "source": [
        "np.random.seed(16)\n",
        "np.random.uniform(low=0.10,high=0.90,size=100)"
      ],
      "metadata": {
        "id": "mN6BfKOCedw4"
      },
      "execution_count": null,
      "outputs": []
    },
    {
      "cell_type": "code",
      "source": [
        "norma = np.array([])\n",
        "np.random.seed(84)\n",
        "coef_angulares = np.random.uniform(low=0.10,high=0.90,size=100)\n",
        "\n",
        "for i in range(100):\n",
        "  norma = np.append(norma,np.linalg.norm(Moscow- (coef_angulares[i]*X+b)))"
      ],
      "metadata": {
        "id": "ZPLD3onMg4yW"
      },
      "execution_count": null,
      "outputs": []
    },
    {
      "cell_type": "markdown",
      "source": [
        "## Vídeo 4.3 - Salvando os resultados"
      ],
      "metadata": {
        "id": "7ceN0CCFgm9P"
      }
    },
    {
      "cell_type": "code",
      "source": [
        "dados = np.column_stack([norma,coef_angulares])"
      ],
      "metadata": {
        "id": "j-30H0wXf9fp"
      },
      "execution_count": null,
      "outputs": []
    },
    {
      "cell_type": "code",
      "source": [
        "dados.shape"
      ],
      "metadata": {
        "id": "aQJ93coWha0z"
      },
      "execution_count": null,
      "outputs": []
    },
    {
      "cell_type": "code",
      "source": [
        "np.savetxt('dados.csv', dados,delimiter=',')"
      ],
      "metadata": {
        "id": "eXxFQFOChcEt"
      },
      "execution_count": null,
      "outputs": []
    }
  ]
}
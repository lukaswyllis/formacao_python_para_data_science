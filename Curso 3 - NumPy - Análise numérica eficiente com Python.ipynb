{
  "nbformat": 4,
  "nbformat_minor": 0,
  "metadata": {
    "colab": {
      "provenance": []
    },
    "kernelspec": {
      "name": "python3",
      "display_name": "Python 3"
    },
    "language_info": {
      "name": "python"
    }
  },
  "cells": [
    {
      "cell_type": "markdown",
      "source": [
        "## Bibliotecas"
      ],
      "metadata": {
        "id": "DS9cv1vbzYHk"
      }
    },
    {
      "cell_type": "markdown",
      "source": [
        "1. Escreva um código para instalar a versão 3.7.1 da biblioteca matplotlib."
      ],
      "metadata": {
        "id": "T02ji96pV2W1"
      }
    },
    {
      "cell_type": "code",
      "source": [
        "!pip install matplotlib==3.7.1"
      ],
      "metadata": {
        "id": "0uzir_RbfEEN"
      },
      "execution_count": null,
      "outputs": []
    },
    {
      "cell_type": "markdown",
      "source": [
        "2. Escreva um código para importar a biblioteca numpy com o alias np."
      ],
      "metadata": {
        "id": "BaogtS78V6jE"
      }
    },
    {
      "cell_type": "code",
      "source": [
        "import numpy as np\n",
        "np.__version__"
      ],
      "metadata": {
        "id": "8vews16xftaY"
      },
      "execution_count": null,
      "outputs": []
    },
    {
      "cell_type": "markdown",
      "source": [
        "3. Crie um programa que leia a seguinte lista de números e escolha um número desta aleatoriamente."
      ],
      "metadata": {
        "id": "fVWp71rSV_fU"
      }
    },
    {
      "cell_type": "code",
      "source": [
        "from random import choice\n",
        "lista = [8, 12, 54, 23, 43, 1, 90, 87, 105, 77]\n",
        "print(choice(lista))"
      ],
      "metadata": {
        "id": "i3DR-Ve8f6jU"
      },
      "execution_count": null,
      "outputs": []
    },
    {
      "cell_type": "markdown",
      "source": [
        "4. Crie um programa que sorteia, aleatoriamente, um número inteiro positivo menor que 100.\n",
        "\n",
        "> Dica: use a função randrange() da biblioteca random. Essa função recebe como parâmetro o valor limite para a escolha aleatória ou um intervalo se passado o limite mínimo e máximo.\n",
        "Por exemplo, randrange(5) gera valores inteiros menores que 5.\n"
      ],
      "metadata": {
        "id": "lBVXGMBvWCSJ"
      }
    },
    {
      "cell_type": "code",
      "source": [
        "from random import randrange\n",
        "print(randrange(101))"
      ],
      "metadata": {
        "id": "_C7B14t-gBQz"
      },
      "execution_count": null,
      "outputs": []
    },
    {
      "cell_type": "markdown",
      "source": [
        "5. Crie um programa que solicite à pessoa usuária digitar dois números inteiros e calcular a potência do 1º número elevado ao 2º.\n",
        "\n",
        ">Dica: use a função pow() da biblioteca math\n"
      ],
      "metadata": {
        "id": "Yx1KzZn0WPp-"
      }
    },
    {
      "cell_type": "code",
      "source": [
        "from math import pow\n",
        "base = int(input('Insira a base: '))\n",
        "potencia = int(input('Insira a potência: '))\n",
        "print(pow(base, potencia))"
      ],
      "metadata": {
        "id": "rnxRhz7IgaMj"
      },
      "execution_count": null,
      "outputs": []
    },
    {
      "cell_type": "markdown",
      "source": [
        "6. Um programa deve ser escrito para sortear uma pessoa seguidora de uma rede social para ganhar um prêmio.\n",
        "A lista de participantes é numerada e devemos escolher aleatoriamente um número de acordo com a quantidade de participantes.\n",
        "Peça à pessoa usuária para for'necer o número de participantes do sorteio e devolva para ela o número sorteado."
      ],
      "metadata": {
        "id": "Y0JXQ1S9Wslj"
      }
    },
    {
      "cell_type": "code",
      "source": [
        "qtd = int(input('Insira o número de pessoas no sorteio: '))\n",
        "print(f'O ganhador é o número {randrange(qtd+1)}')"
      ],
      "metadata": {
        "id": "LfdAOpSjg4Gc"
      },
      "execution_count": null,
      "outputs": []
    },
    {
      "cell_type": "markdown",
      "source": [
        "7. Você recebeu uma demanda para gerar números de token para acessar o aplicativo de uma empresa. O token precisa ser par e variar de 1000 até 9998. Escreva um código que solicita à pessoa usuária o seu nome e exibe uma mensagem junto a esse token gerado aleatoriamente."
      ],
      "metadata": {
        "id": "Sf0rDwa8Ww_N"
      }
    },
    {
      "cell_type": "code",
      "source": [
        "nome = input('Insira seu nome: ')\n",
        "token = randrange(1000, 9999)\n",
        "print(f'{nome}, seu token é o {token}')"
      ],
      "metadata": {
        "id": "XN0OZwYRiB1M"
      },
      "execution_count": null,
      "outputs": []
    },
    {
      "cell_type": "markdown",
      "source": [
        "8. Para diversificar e atrair novos(as) clientes, uma lanchonete criou um item misterioso em seu cardápio chamado \"salada de frutas surpresa\".\n",
        "Neste item, são escolhidas aleatoriamente 3 frutas de uma lista de 12 para compor a salada de frutas da pessoa cliente.\n",
        "Crie o código que faça essa seleção aleatória de acordo com a lista abaixo:"
      ],
      "metadata": {
        "id": "FR7cN98uXA8H"
      }
    },
    {
      "cell_type": "code",
      "source": [
        "from random import sample\n",
        "\n",
        "frutas = [\"maçã\", \"banana\", \"uva\", \"pêra\",\n",
        "          \"manga\", \"coco\", \"melancia\", \"mamão\",\n",
        "          \"laranja\", \"abacaxi\", \"kiwi\", \"ameixa\"]\n",
        "\n",
        "salada_surpresa = sample(frutas, 3)\n",
        "print(f'A salada vai conter as frutas {salada_surpresa}')"
      ],
      "metadata": {
        "id": "vXBh4VY7ibH0"
      },
      "execution_count": null,
      "outputs": []
    },
    {
      "cell_type": "markdown",
      "source": [
        "9. Você recebeu um desafio de calcular a raiz quadrada de uma lista de números, identificando quais resultaram em um número inteiro. A lista é a seguinte:\n",
        "numeros = [2, 8, 15, 23, 91, 112, 256]\n",
        "No final, informe quais números possuem raízes inteiras e seus respectivos valores."
      ],
      "metadata": {
        "id": "qawTem4pXn-E"
      }
    },
    {
      "cell_type": "code",
      "source": [
        "from math import sqrt\n",
        "numeros = [2, 8, 15, 23, 49, 91, 112, 256]\n",
        "for numero in numeros:\n",
        "  raiz = sqrt(numero)\n",
        "  if raiz % 1 == 0:\n",
        "    print(f'A raíz quadrada de {numero} é um número inteiro ({raiz})')"
      ],
      "metadata": {
        "id": "nA-D1veGjAFf"
      },
      "execution_count": null,
      "outputs": []
    },
    {
      "cell_type": "markdown",
      "source": [
        "10. Faça um programa para uma loja que vende grama para jardins.\n",
        "Essa loja trabalha com jardins circulares e o preço do metro quadrado da grama é de R$ 25,00.\n",
        "Peça à pessoa usuária o raio da área circular e devolva o valor em reais do quanto precisará pagar.\n",
        "\n",
        "> Dica: use a variável pi e o método pow() da biblioteca math. O cálculo da área de um círculo é de: A = π*r^2 (lê-se pi vezes raio ao quadrado)."
      ],
      "metadata": {
        "id": "dmYKtaNIYNVg"
      }
    },
    {
      "cell_type": "code",
      "source": [
        "import math\n",
        "raio = float(input('Insira o raio da área circular: '))\n",
        "preco = 25\n",
        "area = math.pi * pow(raio,2)\n",
        "preco_final = area * preco\n",
        "print(f'A área total é de {round(area,1)}m², logo o preço será igual a R$ {round(preco_final,2)}')"
      ],
      "metadata": {
        "id": "qtmojHYGlLYr"
      },
      "execution_count": null,
      "outputs": []
    },
    {
      "cell_type": "markdown",
      "source": [
        "## Funções"
      ],
      "metadata": {
        "id": "yblzQl8nsI1z"
      }
    },
    {
      "cell_type": "markdown",
      "source": [
        "1. Escreva um código que lê a lista abaixo e faça:\n",
        "\n",
        "lista = [16, 14, 63, 65, 17, 99, 70, 11, 20, 48, 79, 32, 17, 89, 12, 25, 66]\n",
        "\n",
        "- A leitura do tamanho da lista\n",
        "- A leitura do maior e menor valor\n",
        "- A soma dos valores da lista\n",
        "\n",
        "Ao final exiba uma mensagem dizendo: \"A lista possui [tam] números em que o maior número é [maior]\n",
        "e o menor número é [menor].A soma dos valores presentes nela é igual a [soma]"
      ],
      "metadata": {
        "id": "v_O6iaWSZwuP"
      }
    },
    {
      "cell_type": "code",
      "source": [
        "lista = [16, 14, 63, 65, 17, 99, 70, 11, 20, 48, 79, 32, 17, 89, 12, 25, 66]\n",
        "\n",
        "tamanho = len(lista)\n",
        "maior = max(lista)\n",
        "menor = min(lista)\n",
        "soma = sum(lista)\n",
        "\n",
        "print(f'A lista possui {tamanho} números em que o maior número é {maior} e o menor número é {menor}. A soma dos valores presentes nela é igual a {soma}')"
      ],
      "metadata": {
        "id": "9RS0Gv5wbcE5"
      },
      "execution_count": null,
      "outputs": []
    },
    {
      "cell_type": "markdown",
      "source": [
        "2. Escreva uma função que gere a tabuada de um número inteiro de 1 a 10, de acordo com a escolha da pessoa usuária.\n",
        "Como exemplo, para o número 7, a tabuada deve ser mostrada no seguinte formato:\n",
        "\n",
        "Tabuada do 7:\n",
        "7 x 0 = 0\n",
        "7 x 1 = 7\n",
        "[...]\n",
        "7 x 10 = 70"
      ],
      "metadata": {
        "id": "rBGJHA26Z6jq"
      }
    },
    {
      "cell_type": "code",
      "source": [
        "def tabuada(num):\n",
        "  print(f'Tabuada do {num}')\n",
        "  for i in range(1, 11):\n",
        "    print(f'{num} x {i} = {num*i}')\n",
        "\n",
        "numero = int(input('Insira o número para calcular a tabuada: '))\n",
        "tabuada(numero)"
      ],
      "metadata": {
        "id": "TL4kpb6sczxB"
      },
      "execution_count": null,
      "outputs": []
    },
    {
      "cell_type": "markdown",
      "source": [
        "3. Crie a função que leia a lista abaixo e retorne uma nova lista com os múltiplos de 3:\n",
        "\n",
        "[97, 80, 94, 88, 80, 1, 16, 53, 62, 32, 24, 99]\n",
        "\n",
        "Utilize o return na função e salve a nova lista na variável mult_3."
      ],
      "metadata": {
        "id": "PPqHZefbaCfr"
      }
    },
    {
      "cell_type": "code",
      "source": [
        "lista = [97, 80, 94, 88, 80, 1, 16, 53, 62, 32, 24, 99]\n",
        "\n",
        "def multiplos_3(lista):\n",
        "  mult_3 = []\n",
        "  for num in lista:\n",
        "    if num % 3 == 0:\n",
        "      mult_3.append(num)\n",
        "  return mult_3\n",
        "\n",
        "print(multiplos_3(lista))"
      ],
      "metadata": {
        "id": "ipLhlWP1fmxp"
      },
      "execution_count": null,
      "outputs": []
    },
    {
      "cell_type": "markdown",
      "source": [
        "4. Crie uma lista dos quadrados dos números da seguinte lista [1, 2, 3, 4, 5, 6, 7, 8, 9, 10].\n",
        "Lembre-se de utilizar as funções lambda e map() para calcular o quadrado de cada elemento da lista."
      ],
      "metadata": {
        "id": "9aSVuGgHaZne"
      }
    },
    {
      "cell_type": "code",
      "source": [
        "lista = [1, 2, 3, 4, 5, 6, 7, 8, 9, 10]\n",
        "quadrados = lambda x: x**2\n",
        "print(list(map(quadrados, lista)))"
      ],
      "metadata": {
        "id": "biZ9Sv16gO-A"
      },
      "execution_count": null,
      "outputs": []
    },
    {
      "cell_type": "markdown",
      "source": [
        "5. Você foi contratado(a) como cientista de dados de uma associação de skate.\n",
        "Para analisar as notas recebidas de skatistas em algumas competições ao longo do ano,\n",
        "você precisa criar um código que calcula a pontuação dos(as) atletas.\n",
        "Para isso, o seu código deve receber 5 notas digitadas pelas pessoas juradas.\n",
        "Para calcular a pontuação de um(a) skatista, você precisa eliminar a maior e a menor pontuação\n",
        "dentre as 5 notas e tirar a média das 3 notas que sobraram. Retorne a média para apresentar o texto:\n",
        "\n",
        "\"Nota da manobra: [media]\""
      ],
      "metadata": {
        "id": "dsCFrc8rbTl7"
      }
    },
    {
      "cell_type": "code",
      "source": [
        "lista = []\n",
        "for i in range(1,6):\n",
        "  nota = float(input(f'Insira a {i}ª nota do skatista: '))\n",
        "  lista.append(nota)\n",
        "\n",
        "maior = max(lista)\n",
        "menor = min(lista)\n",
        "lista.remove(maior)\n",
        "lista.remove(menor)\n",
        "\n",
        "media = sum(lista) / len(lista)\n",
        "\n",
        "print(f'Nota da manobra: {media}')"
      ],
      "metadata": {
        "id": "bJVQPAcjhsNs"
      },
      "execution_count": null,
      "outputs": []
    },
    {
      "cell_type": "markdown",
      "source": [
        "6. Para atender a uma demanda de uma instituição de ensino para a análise do desempenho de seus(suas) estudantes,\n",
        "você precisa criar uma função que receba uma lista de 4 notas e retorne:\n",
        "\n",
        "- maior nota\n",
        "- menor nota\n",
        "- média\n",
        "- situação (Aprovado(a) ou Reprovado(a))\n",
        "\n",
        "Para testar o comportamento da função, os dados podem ser exibidos em um texto:\n",
        "\"O(a) estudante obteve uma média de [media], com a sua maior nota de [maior] pontos ea menor nota de [menor] pontos e foi [situacao]\""
      ],
      "metadata": {
        "id": "YiLW0wI0beFc"
      }
    },
    {
      "cell_type": "code",
      "source": [
        "lista_notas = []\n",
        "\n",
        "for i in range(1,5):\n",
        "  nota = float(input(f'Insira a {i}ª nota do estudante: '))\n",
        "  lista_notas.append(nota)\n",
        "\n",
        "def desempenho(lista):\n",
        "\n",
        "  media = sum(lista) / len(lista)\n",
        "  maior = max(lista)\n",
        "  menor = min(lista)\n",
        "  situacao = ''\n",
        "  if media >= 5:\n",
        "    situacao = 'Aprovado(a)'\n",
        "  else:\n",
        "    situacao = 'Reprovado(a)'\n",
        "  return [media, maior, menor, situacao]\n",
        "\n",
        "resultado = desempenho(lista)\n",
        "\n",
        "print(f'O(a) estudante obteve uma média de {resultado[0]}, com a sua maior nota de {resultado[1]} pontos e a menor nota de {resultado[2]} pontos e foi {resultado[3]}')"
      ],
      "metadata": {
        "id": "Qq5_cKXBlvTU"
      },
      "execution_count": null,
      "outputs": []
    },
    {
      "cell_type": "markdown",
      "source": [
        "7. Você recebeu uma demanda para tratar 2 listas com os nomes e sobrenomes de cada estudante\n",
        "concatenando-as para apresentar seus nomes completos na forma Nome Sobrenome. As listas são:\n",
        "nomes = [\"joão\", \"MaRia\", \"JOSÉ\"]\n",
        "sobrenomes = [\"SILVA\", \"souza\", \"Tavares\"]"
      ],
      "metadata": {
        "id": "_pS8zKaAbzRL"
      }
    },
    {
      "cell_type": "code",
      "source": [
        "nomes = [\"joão\", \"MaRia\", \"JOSÉ\"]\n",
        "sobrenomes = [\"SILVA\", \"souza\", \"Tavares\"]\n",
        "\n",
        "nome_completo = map(lambda nome, sobrenome: f'{nome.title()} {sobrenome.title()}', nomes, sobrenomes)\n",
        "\n",
        "print(list(nome_completo))"
      ],
      "metadata": {
        "id": "gGTqbywxnl3c"
      },
      "execution_count": null,
      "outputs": []
    },
    {
      "cell_type": "markdown",
      "source": [
        "8. Como cientista de dados em um time de futebol, você precisa implementar\n",
        "novas formas de coleta de dados sobre o desempenho de jogadores e do time como um todo.\n",
        "Sua primeira ação é criar uma forma de calcular a pontuação do time no campeonato nacional\n",
        "a partir dos dados de gols marcados e sofridos em cada jogo.\n",
        "\n",
        "Escreva uma função chamada `calcula_pontos` que recebe como parâmetros duas listas de números inteiros,\n",
        "representando os gols marcados e sofridos pelo time em cada partida do campeonato.\n",
        "A função deve retornar a pontuação do time e o aproveitamento em percentual,\n",
        "levando em consideração que a vitória vale 3 pontos, o empate vale 1 ponto e a derrota 0 pontos.\n",
        "\n",
        "> Observação: se a quantidade de gols marcados numa partida for maior que a de sofridos, o time venceu. Caso seja igual, o time empatou e se for menor, o time perdeu. Para calcular o aproveitamento devemos fazer a razão entre a pontuação do time pela pontuação máxima que ele poderia receber.\n",
        "\n",
        "Para teste, utilize as seguintes listas de gols marcados e sofridos:\n",
        "gols_marcados = [2, 1, 3, 1, 0]\n",
        "gols_sofridos = [1, 2, 2, 1, 3]\n",
        "\n",
        "Provável texto exibido:\n",
        "\"A pontuação do time foi de [pontos] e seu aproveitamento foi de [aprov]%\"\n"
      ],
      "metadata": {
        "id": "PkqV18elcC8M"
      }
    },
    {
      "cell_type": "code",
      "source": [
        "gols_marcados = [2, 1, 3, 1, 0]\n",
        "gols_sofridos = [1, 2, 2, 1, 3]\n",
        "\n",
        "def calcula_pontos(marcados, sofridos):\n",
        "  pontos = 0\n",
        "  for i in range(len(marcados)):\n",
        "    if marcados[i] > sofridos[i]:\n",
        "      pontos += 3\n",
        "    elif marcados[i] == sofridos[i]:\n",
        "      pontos += 1\n",
        "  aproveitamento = pontos / (len(marcados) * 3) * 100\n",
        "  return (pontos, aproveitamento)\n",
        "\n",
        "pontos, aproveitamento = calcula_pontos(gols_marcados, gols_sofridos)\n",
        "\n",
        "print(f'A pontuação do time foi de {pontos} e seu aproveitamento foi de {round(aproveitamento)}%')"
      ],
      "metadata": {
        "id": "SHKuKrfjsCjF"
      },
      "execution_count": null,
      "outputs": []
    },
    {
      "cell_type": "markdown",
      "source": [
        "9. Você recebeu o desafio de criar um código que calcula os gastos de uma viagem para um das quatro cidades\n",
        "partindo de Recife, sendo elas: Salvador, Fortaleza, Natal e Aracaju.\n",
        "\n",
        "O custo da diária do hotel é de 150 reais em todas elas e o consumo de gasolina na viagem de carro é de 14 km/l,\n",
        "sendo que o valor da gasolina é de 5 reais o litro.\n",
        "O gastos com passeios e alimentação a se fazer em cada uma delas por dia seria de `[200, 400, 250, 300]`, respectivamente.\n",
        "\n",
        "Sabendo que as distâncias entre Recife e cada uma das cidades é de aproximadamente `[850, 800, 300, 550]` km,\n",
        "crie três funções nas quais: a 1ª função calcule os gastos com hotel (`gasto_hotel`),\n",
        "a 2ª calcule os gastos com a gasolina (`gasto_gasolina`) e\n",
        "a 3ª os gastos com passeio e alimentação (`gasto_passeio`).\n",
        "\n",
        "Para testar, simule uma viagem de 3 dias para Salvador partindo de Recife. Considere a viagem de ida e volta de carro.\n",
        "\"Com base nos gastos definidos, uma viagem de [dias] dias para [cidade] saindo de Recife custaria [gastos] reais\""
      ],
      "metadata": {
        "id": "SCsV7sh7ca_i"
      }
    },
    {
      "cell_type": "code",
      "source": [
        "alimentacao = {\n",
        "    'Salvador': 200,\n",
        "    'Fortaleza': 400,\n",
        "    'Natal': 250,\n",
        "    'Aracaju': 300\n",
        "}\n",
        "\n",
        "distancias = {\n",
        "    'Salvador': 850,\n",
        "    'Fortaleza': 800,\n",
        "    'Natal': 300,\n",
        "    'Aracaju': 550\n",
        "}\n",
        "\n",
        "dias = int(input('Insira a quantidade de dias da viagem: '))\n",
        "cidade = input('Selecione a cidade para onde deseja viajar (Salvador, Fortaleza, Natal ou Aracaju): ')\n",
        "\n",
        "def gasto_hotel(dias):\n",
        "  return dias * 150\n",
        "\n",
        "def gasto_gasolina(cidade):\n",
        "  return distancias[cidade] / 14 * 5 * 2 # distância de Recife à cidade escolhida / 14 km por litro * 5 reais o livro * 2 pq é ida e volta\n",
        "\n",
        "def gasto_passeio(dias, cidade):\n",
        "  return alimentacao[cidade] * dias\n",
        "\n",
        "gasto_total = gasto_hotel(dias) + gasto_gasolina(cidade) + gasto_passeio(dias, cidade)\n",
        "\n",
        "print(f'Com base nos gastos definidos, uma viagem de {dias} dias para {cidade} saindo de Recife custaria {round(gasto_total,2)} reais')"
      ],
      "metadata": {
        "id": "vhICVOvZ1AjW"
      },
      "execution_count": null,
      "outputs": []
    },
    {
      "cell_type": "markdown",
      "source": [
        "10. Você iniciou um estágio em uma empresa que trabalha com processamento de linguagem natural\n",
        "([NLP](https://www.alura.com.br/artigos/guia-nlp-conceitos-tecnicas)).\n",
        "Sua líder requisitou que você criasse um trecho de código que recebe uma frase digitada pela pessoa usuária\n",
        "e filtre apenas as palavras com tamanho maior ou igual a 5, exibindo-as em uma lista.\n",
        "Essa demanda é voltada para a análise do padrão de comportamento de pessoas na escrita de palavras acima dessa quantidade de caracteres.\n",
        "\n",
        "> Dica: utilize as funções lambda e filter() para filtrar essas palavras.\n",
        "Lembrando que a função embutida filter() recebe uma função (no nosso exemplo uma função lambda)\n",
        "e filtra um iterável de acordo com a função. Para tratar a frase use replace() para trocar a ',', '.', '!' e '?' por espaço.\n",
        "\n",
        "Use a frase `\"Aprender Python aqui na Alura é muito bom\"` para testar o código."
      ],
      "metadata": {
        "id": "2tcMj86AcksK"
      }
    },
    {
      "cell_type": "code",
      "source": [
        "frase = input(\"Digite uma frase: \")\n",
        "frase = frase.replace(',',' ').replace('.',' ').replace('!',' ').replace('?',' ').split()\n",
        "\n",
        "tamanho = list(filter(lambda x: len(x) >= 5, frase))\n",
        "print(tamanho)"
      ],
      "metadata": {
        "id": "4E520jq92Fw4"
      },
      "execution_count": null,
      "outputs": []
    },
    {
      "cell_type": "markdown",
      "source": [
        "## Estruturas de dados"
      ],
      "metadata": {
        "id": "JfOwcFuK6bli"
      }
    },
    {
      "cell_type": "markdown",
      "source": [
        "1. Crie um código para imprimir a soma dos elementos de cada uma das listas contidas na seguinte lista:"
      ],
      "metadata": {
        "id": "r1SPgkyFdVQu"
      }
    },
    {
      "cell_type": "code",
      "source": [
        "lista_de_listas = [[4,6,5,9], [1,0,7,2], [3,4,1,8]]\n",
        "somas = [sum(lista) for lista in lista_de_listas]\n",
        "\n",
        "somas"
      ],
      "metadata": {
        "id": "Z0HQTrCL0RNg"
      },
      "execution_count": null,
      "outputs": []
    },
    {
      "cell_type": "markdown",
      "source": [
        "2. Crie um código para gerar uma lista que armazena o terceiro elemento de cada tupla contida na seguinte lista de tuplas:"
      ],
      "metadata": {
        "id": "jAZJYV7MdaEd"
      }
    },
    {
      "cell_type": "code",
      "source": [
        "lista_de_tuplas = [('Pedro', 1.74, 81), ('Júlia', 1.65, 67), ('Otávio', 1.81, 83)]\n",
        "pesos = [tupla[2] for tupla in lista_de_tuplas]\n",
        "pesos"
      ],
      "metadata": {
        "id": "wFTFb7Rz0fW2"
      },
      "execution_count": null,
      "outputs": []
    },
    {
      "cell_type": "markdown",
      "source": [
        "3. A partir da lista: lista = ['Pedro', 'Júlia', 'Otávio', 'Eduardo'],\n",
        "crie um código para gerar uma lista de tuplas em que cada tupla tenha\n",
        "o primeiro elemento como a posição do nome na lista original e o segundo elemento sendo o próprio nome."
      ],
      "metadata": {
        "id": "4jvy9mSQdcSz"
      }
    },
    {
      "cell_type": "code",
      "source": [
        "lista = ['Pedro', 'Júlia', 'Otávio', 'Eduardo']\n",
        "nova_lista = [(i, lista[i]) for i in range(len(lista))]\n",
        "nova_lista"
      ],
      "metadata": {
        "id": "ygCjzR1cKFcl"
      },
      "execution_count": null,
      "outputs": []
    },
    {
      "cell_type": "markdown",
      "source": [
        "4. Crie uma lista usando o list comprehension que armazena somente o valor numérico\n",
        "de cada tupla caso o primeiro elemento seja 'Apartamento', a partir da seguinte lista de tuplas:"
      ],
      "metadata": {
        "id": "eUYo4Kgedk0R"
      }
    },
    {
      "cell_type": "code",
      "source": [
        "aluguel = [('Apartamento', 1700), ('Apartamento', 1400), ('Casa', 2150), ('Apartamento', 1900), ('Casa', 1100)]\n",
        "\n",
        "apartamentos = [imovel[1] for imovel in aluguel if imovel[0] == 'Apartamento']\n",
        "apartamentos"
      ],
      "metadata": {
        "id": "8d5VHoWwK86u"
      },
      "execution_count": null,
      "outputs": []
    },
    {
      "cell_type": "markdown",
      "source": [
        "5. Crie um dicionário usando o dict comprehension em que as chaves estão na lista\n",
        "meses = ['Jan', 'Fev', 'Mar', 'Abr', 'Mai', 'Jun', 'Jul', 'Ago', 'Set', 'Out', 'Nov', 'Dez']\n",
        "e os valores estão em despesas = [860, 490, 1010, 780, 900, 630, 590, 770, 620, 560, 840, 360]."
      ],
      "metadata": {
        "id": "qhHcx7bLdy1P"
      }
    },
    {
      "cell_type": "code",
      "source": [
        "meses = ['Jan', 'Fev', 'Mar', 'Abr', 'Mai', 'Jun', 'Jul', 'Ago', 'Set', 'Out', 'Nov', 'Dez']\n",
        "despesas = [860, 490, 1010, 780, 900, 630, 590, 770, 620, 560, 840, 360]\n",
        "\n",
        "dicio = {mes: despesa for mes, despesa in zip(meses, despesas)} # forma 1 de fazer\n",
        "dicio2 = {meses[i]: despesas[i] for i in range(len(meses))} # forma 2 de fazer\n",
        "\n",
        "print(dicio)\n",
        "print(dicio2)"
      ],
      "metadata": {
        "id": "eyp4VM1UMvPp"
      },
      "execution_count": null,
      "outputs": []
    },
    {
      "cell_type": "markdown",
      "source": [
        "6. Uma loja possui um banco de dados com a informação de venda de cada representante\n",
        "e de cada ano e precisa filtrar somente os dados do ano 2022 com venda maior do que 6000.\n",
        "A loja forneceu uma amostra contendo apenas as colunas com os anos e os valores de venda\n",
        "para que você ajude a realizar a filtragem dos dados a partir de um código:\n",
        "\n",
        "vendas = [('2023', 4093), ('2021', 4320), ('2021', 5959), ('2022', 8883),\n",
        "('2023', 9859), ('2022', 5141), ('2022', 7688), ('2022', 9544), ('2023', 4794),\n",
        "('2021', 7178), ('2022', 3030), ('2021', 7471), ('2022', 4226), ('2022', 8190),\n",
        "('2021', 9680), ('2022', 5616)]\n",
        "\n",
        "Crie uma lista usando list comprehension para filtrar os valores de 2022 e que sejam maiores que 6000."
      ],
      "metadata": {
        "id": "wk5_0s_pd3ur"
      }
    },
    {
      "cell_type": "code",
      "source": [
        "vendas = [('2023', 4093), ('2021', 4320), ('2021', 5959), ('2022', 8883),\n",
        "('2023', 9859), ('2022', 5141), ('2022', 7688), ('2022', 9544), ('2023', 4794),\n",
        "('2021', 7178), ('2022', 3030), ('2021', 7471), ('2022', 4226), ('2022', 8190),\n",
        "('2021', 9680), ('2022', 5616)]\n",
        "\n",
        "filtro = [venda[1] for venda in vendas if venda[0] == '2022' and venda[1] > 6000]\n",
        "filtro"
      ],
      "metadata": {
        "id": "hFZ_6QDFOIBy"
      },
      "execution_count": null,
      "outputs": []
    },
    {
      "cell_type": "markdown",
      "source": [
        "7. Uma clínica analisa dados de pacientes e armazena o valor numérico da glicose em um banco de dados\n",
        "e gostaria de rotular os dados da seguinte maneira:\n",
        "\n",
        "- Glicose igual ou inferior a 70: 'Hipoglicemia'\n",
        "- Glicose entre 70 a 99: 'Normal'\n",
        "- Glicose entre 100 e 125: 'Alterada'\n",
        "- Glicose superior a 125: 'Diabetes'\n",
        "\n",
        "A clínica disponibilizou parte dos valores e sua tarefa é criar uma lista de tuplas\n",
        "usando list comprehension contendo o rótulo e o valor da glicemia em cada tupla."
      ],
      "metadata": {
        "id": "2EOfU_IfeD95"
      }
    },
    {
      "cell_type": "code",
      "source": [
        "glicemias = [129, 82, 60, 97, 101, 65, 62, 167, 87, 53, 58, 92, 66, 120, 109, 62, 86, 96, 103, 88, 155, 52, 89, 73]\n",
        "\n",
        "lista = [(valor, 'Hipoglicemia') if valor <= 70\n",
        "         else (valor, 'Normal') if valor <= 99\n",
        "         else (valor, 'Alterada') if valor <= 125\n",
        "         else (valor, 'Diabetes')\n",
        "         for valor in glicemias]\n",
        "\n",
        "lista"
      ],
      "metadata": {
        "id": "2XiwjwlGTVrk"
      },
      "execution_count": null,
      "outputs": []
    },
    {
      "cell_type": "markdown",
      "source": [
        "8. Um e-commerce possui as informações de id de venda, quantidade vendida e preço do produto divididos nas seguintes listas:\n",
        "O e-commerce precisa estruturar esses dados em uma tabela contendo o valor total da venda,\n",
        "que é obtida multiplicando a quantidade pelo preço unitário.\n",
        "Além disso, a tabela precisa conter um cabeçalho indicando as colunas: 'id', 'quantidade', 'preco' e 'total'.\n",
        "Crie uma lista de tuplas em que cada tupla tenha id, quantidade, preço e valor total, na qual a primeira tupla é o cabeçalho da tabela."
      ],
      "metadata": {
        "id": "0nx43nmgeIfi"
      }
    },
    {
      "cell_type": "code",
      "source": [
        "id = [0, 1, 2, 3, 4, 5, 6, 7, 8, 9]\n",
        "quantidade = [15, 12, 1, 15, 2, 11, 2, 12, 2, 4]\n",
        "preco = [93.0, 102.0, 18.0, 41.0, 122.0, 14.0, 71.0, 48.0, 14.0, 144.0]\n",
        "\n",
        "tabela = [('id', 'quantidade', 'preco', 'total')]\n",
        "tabela += [(id[i], quantidade[i], preco[i], quantidade[i]*preco[i]) for i in range(len(id))]\n",
        "tabela"
      ],
      "metadata": {
        "id": "NG83921KuE1Q"
      },
      "execution_count": null,
      "outputs": []
    },
    {
      "cell_type": "markdown",
      "source": [
        "9. Uma empresa possui filiais espalhadas nos Estados da região Sudeste do Brasil.\n",
        "Em uma das tabelas de cadastro das filiais há uma coluna contendo a informação\n",
        "de qual é o Estado a que pertence:\n",
        "estados = ['SP', 'ES', 'MG', 'MG', 'SP', 'MG', 'ES', 'ES', 'ES', 'SP', 'SP', 'MG', 'ES', 'SP', 'RJ', 'MG', 'RJ', 'SP', 'MG', 'SP', 'ES', 'SP', 'MG'].\n",
        "\n",
        "A empresa sempre está abrindo novas filiais, de modo que a tabela está constantemente recebendo novos registros\n",
        "e o gestor gostaria de possuir a informação atualizada da quantidade de filiais em cada Estado.\n",
        "\n",
        "A partir da coluna com a informação dos Estados, crie um dicionário usando dict comprehension\n",
        "com a chave sendo o nome de um Estado e o valor sendo a contagem de vezes em que o Estado aparece na lista.\n",
        "\n",
        "Dica: Você pode fazer um passo intermediário para gerar uma lista de listas\n",
        "em que cada uma das listas possui o nome de apenas um Estado com valores repetidos."
      ],
      "metadata": {
        "id": "NghtZbiEeMdF"
      }
    },
    {
      "cell_type": "code",
      "source": [
        "estados = ['SP', 'ES', 'MG', 'MG', 'SP', 'MG', 'ES', 'ES', 'ES', 'SP', 'SP', 'MG', 'ES', 'SP', 'RJ', 'MG', 'RJ', 'SP', 'MG', 'SP', 'ES', 'SP', 'MG']\n",
        "estados_unicos = list(set(estados))\n",
        "filiais = []\n",
        "\n",
        "for estado in estados_unicos:\n",
        "  filial = [uf for uf in estados if uf == estado]\n",
        "  filiais.append(filial)\n",
        "\n",
        "contagem_valores = {estados_unicos[i]: len(filiais[i]) for i in range(len(estados_unicos))}\n",
        "contagem_valores"
      ],
      "metadata": {
        "id": "oftmh83Xv5cT"
      },
      "execution_count": null,
      "outputs": []
    },
    {
      "cell_type": "markdown",
      "source": [
        "10. Nessa mesma tabela de cadastro de filiais, há uma coluna com as informações da quantidade de pessoas colaboradoras\n",
        "e o(a) gestor(a) gostaria de ter um agrupamento da soma dessas pessoas para cada estado.\n",
        "\n",
        "A partir da lista de tuplas, crie um dicionário em que as chaves são os nomes dos Estados únicos\n",
        "e os valores são as listas com o número de colaboradores(as) referentes ao Estado.\n",
        "Crie também um dicionário em que as chaves são os nomes dos Estados e os valores são a soma de colaboradores(as) por Estado.\n",
        "\n",
        "Dica: Você pode fazer um passo intermediário para gerar uma lista de listas\n",
        "em que cada uma das listas possui apenas os valores numéricos de funcionários(as) de cada Estado."
      ],
      "metadata": {
        "id": "jgYTyIKbeeu9"
      }
    },
    {
      "cell_type": "code",
      "source": [
        "filiais = [('SP', 16), ('ES', 8), ('MG', 9), ('MG', 6), ('SP', 10), ('MG', 4),\n",
        "                ('ES',9), ('ES', 7), ('ES', 12), ('SP', 7), ('SP', 11), ('MG',8),\n",
        "                ('ES',8), ('SP',9), ('RJ', 13), ('MG', 5), ('RJ', 9), ('SP', 12),\n",
        "                ('MG', 10), ('SP', 7), ('ES', 14), ('SP', 10), ('MG', 12)]\n",
        "\n",
        "estados_unicos = list(set([filial[0] for filial in filiais]))\n",
        "funcionarios = []\n",
        "for estado in estados_unicos:\n",
        "  lista = [filial[1] for filial in filiais if filial[0] == estado]\n",
        "  funcionarios.append(lista)\n",
        "\n",
        "funcionarios_por_estado = {estados_unicos[i]: funcionarios[i] for i in range(len(estados_unicos))}\n",
        "\n",
        "total_funcionarios = {estados_unicos[i]: sum(funcionarios[i]) for i in range(len(estados_unicos))}\n",
        "\n",
        "print(funcionarios_por_estado)\n",
        "print(total_funcionarios)"
      ],
      "metadata": {
        "id": "haICB7ZT3SLS"
      },
      "execution_count": null,
      "outputs": []
    },
    {
      "cell_type": "markdown",
      "source": [
        "## Exceções"
      ],
      "metadata": {
        "id": "CZQoOzsKXVOE"
      }
    },
    {
      "cell_type": "markdown",
      "source": [
        "1. Faça um programa que solicite à pessoa usuária digitar dois números float\n",
        "e calcular a divisão entre esses números. O código deve conter um tratamento de erro,\n",
        "indicando o tipo de erro que foi gerado caso a divisão não seja possível de realizar."
      ],
      "metadata": {
        "id": "I8C7aZyxeiRb"
      }
    },
    {
      "cell_type": "code",
      "source": [
        "try:\n",
        "  num1 = float(input('Digite o primeiro número: '))\n",
        "  num2 = float(input('Digite o segundo número: '))\n",
        "  resultado = num1 / num2\n",
        "  print(f'O resultado é igual a {resultado}')\n",
        "except Exception as e:\n",
        "  print(type(e), f'Erro: {e}')"
      ],
      "metadata": {
        "id": "1jLhekmCXraD"
      },
      "execution_count": null,
      "outputs": []
    },
    {
      "cell_type": "markdown",
      "source": [
        "2. Faça um programa que solicite à pessoa usuária digitar um texto que será\n",
        "uma chave a ser pesquisada no seguinte dicionário:\n",
        "idades = {'Júlia': 16, 'Carol': 23, 'Alberto': 19, 'Roberta': 17},\n",
        "armazenando o resultado do valor em uma variável. O código deve conter um\n",
        "tratamento de erro KeyError, imprimindo a informação 'Nome não encontrado',\n",
        "caso ocorra o erro; e imprimir o valor caso não ocorra nenhum."
      ],
      "metadata": {
        "id": "IPAyxEiMel6a"
      }
    },
    {
      "cell_type": "code",
      "source": [
        "idades = {'Júlia': 16, 'Carol': 23, 'Alberto': 19, 'Roberta': 17}\n",
        "\n",
        "try:\n",
        "  chave = input('Digite o nome: ')\n",
        "  valor = idades[chave]\n",
        "except KeyError as e:\n",
        "  print('Nome não encontrado')\n",
        "else:\n",
        "  print(valor)"
      ],
      "metadata": {
        "id": "VWQB5ZqFOCVJ"
      },
      "execution_count": null,
      "outputs": []
    },
    {
      "cell_type": "markdown",
      "source": [
        "3. Crie uma função que recebe uma lista como parâmetro e converta todos os\n",
        "valores da lista para float. A função deve conter um tratamento de erro\n",
        "indicando o tipo de erro gerado e retornar a lista caso não tenha ocorrido\n",
        "nenhum erro. Por fim, deve ter a cláusula finally para imprimir o texto:\n",
        "'Fim da execução da função'."
      ],
      "metadata": {
        "id": "3a8W3lh9eo-V"
      }
    },
    {
      "cell_type": "code",
      "source": [
        "def converte_lista(lista):\n",
        "  try:\n",
        "    lista_convertida = [float(numero) for numero in lista]\n",
        "  except Exception as e:\n",
        "    print(type(e), f'Erro do tipo {e}')\n",
        "  else:\n",
        "    return lista_convertida\n",
        "  finally:\n",
        "    print('Fim da execução da função')\n",
        "\n",
        "numeros = [1, 2, 3, 4, 5, 'seis']\n",
        "converte_lista(numeros)"
      ],
      "metadata": {
        "id": "h3EjlvhNO2LV"
      },
      "execution_count": null,
      "outputs": []
    },
    {
      "cell_type": "markdown",
      "source": [
        "4. Crie uma função que recebe duas listas como parâmetros e agrupe os\n",
        "elementos um a um das listas, formando uma lista de tuplas de 3 elementos,\n",
        "no qual o primeiro e segundo elemento da tupla são os valores na posição i\n",
        "das listas e o terceiro elemento é a soma dos valores na posição i das listas.\n",
        "\n",
        "A função deve conter um tratamento de erro indicando o tipo de erro gerado e\n",
        "retornar como resultado a lista de tuplas. Caso as listas enviadas como\n",
        "parâmetro tenham tamanhos diferentes, a função deve retornar um IndexError com\n",
        "a frase: 'A quantidade de elementos em cada lista é diferente.'"
      ],
      "metadata": {
        "id": "cMX9hzZOesTl"
      }
    },
    {
      "cell_type": "code",
      "source": [
        "# Valores sem erro:\n",
        "lista1 = [4,6,7,9,10]\n",
        "lista2 = [-4,6,8,7,9]\n",
        "\n",
        "# Listas com tamanhos diferentes:\n",
        "lista3 = [4,6,7,9,10,4]\n",
        "lista4 = [-4,6,8,7,9]\n",
        "\n",
        "# Listas com valores incoerentes:\n",
        "lista5 = [4,6,7,9,'A']\n",
        "lista6 = [-4,'E',8,7,9]\n",
        "\n",
        "def soma_listas(lista1, lista2):\n",
        "  try:\n",
        "    if len(lista1) == len(lista2):\n",
        "      dados = [(lista1[i], lista2[i], lista1[i]+lista2[i]) for i in range(len(lista1))]\n",
        "    else:\n",
        "      raise IndexError('A quantidade de elementos em cada lista é diferente.')\n",
        "  except Exception as e:\n",
        "    print(type(e), f'Erro do tipo: {e}')\n",
        "  else:\n",
        "    return dados\n",
        "\n",
        "print(soma_listas(lista1, lista2))\n",
        "print(soma_listas(lista3, lista4))\n",
        "print(soma_listas(lista5, lista6))"
      ],
      "metadata": {
        "id": "ecPZnIhwRXeX"
      },
      "execution_count": null,
      "outputs": []
    },
    {
      "cell_type": "markdown",
      "source": [
        "5. Como desafio, você recebeu a tarefa de desenvolver um código que contabiliza as pontuações de estudantes de uma instituição de ensino de acordo com suas respostas num teste. Este código deve ser testado para um exemplo de 3 estudantes com uma lista de listas em que cada lista possui as respostas de 5 questões objetivas de cada estudante. Cada questão vale um ponto e as alternativas possíveis são A, B, C ou D.\n",
        "\n",
        "Caso alguma alternativa em um dos testes não esteja entre as alternativas possíveis, você deve lançar um **ValueError** com a mensagem `\"A alternativa [alternativa] não é uma opção de alternativa válida\"`. O cálculo das 3 notas só será realizado mediante as entradas com as alternativas A, B, C ou D em todos os testes. Se não for lançada a exceção, será exibida uma lista com as notas em cada teste.\n",
        "\n",
        "Dica: Para verificar se uma entrada da lista não está entre as alternativas possíveis, use a estrutura lista[i] not in ['A','B','C','D']. Por exemplo, 1 not in [2,3,4]... Saída: True\n",
        "\n",
        "Os dados para o teste do código são:"
      ],
      "metadata": {
        "id": "9u7D2F85Uh96"
      }
    },
    {
      "cell_type": "code",
      "source": [
        "# Notas sem exceção:\n",
        "testes_sem_ex = [['D', 'A', 'B', 'C', 'A'], ['C', 'A', 'A', 'C', 'A'], ['D', 'B', 'A', 'C', 'A']]\n",
        "\n",
        "# Notas com exceção:\n",
        "testes_com_ex = [['D', 'A', 'B', 'C', 'A'], ['C', 'A', 'A', 'E', 'A'], ['D', 'B', 'A', 'C', 'A']]\n",
        "\n",
        "# Gabarito da prova:\n",
        "gabarito = ['D', 'A', 'B', 'C', 'A']\n",
        "\n",
        "def corretor(testes: list):\n",
        "  pontuacoes = []\n",
        "  try:\n",
        "    for teste in testes:\n",
        "      nota = 0\n",
        "      for i in range(len(teste)):\n",
        "        if teste[i] not in ['A', 'B', 'C', 'D']:\n",
        "          raise ValueError(f'A alternativa {teste[i]} não é uma opção de alternativa válida')\n",
        "        elif teste[i] == gabarito[i]:\n",
        "            nota += 1\n",
        "      pontuacoes.append(nota)\n",
        "  except Exception as e:\n",
        "    print(e)\n",
        "  else:\n",
        "    return pontuacoes"
      ],
      "metadata": {
        "id": "OTtsK11VSXdO"
      },
      "execution_count": null,
      "outputs": []
    },
    {
      "cell_type": "markdown",
      "source": [
        "6. Você está trabalhando com processamento de linguagem natural ([NLP](https://www.alura.com.br/artigos/guia-nlp-conceitos-tecnicas)) e, dessa vez, sua líder requisitou que você criasse um trecho de código que recebe uma lista com as palavras separadas de uma frase gerada pelo ChatGPT.\n",
        "\n",
        "Você precisa criar uma função que avalia cada palavra desse texto e verificar se o tratamento para retirar os símbolos de pontuação (',' '.', '!' e '?') foi realizado. Caso contrário, será lançada uma exceção do tipo ValueError apontando o 1º caso em que foi detectado o uso de uma pontuação por meio da frase `\"O texto apresenta pontuações na palavra \"[palavra]\".\"`. Essa demanda é voltada para a análise do padrão de frases geradas pela inteligência artificial.\n",
        "\n",
        "> Dica: Para verificar se uma ou mais das pontuações estão presentes em cada palavra, utilize a palavra chave or na condição if. Por exemplo, 'a' in 'alura' or 'b' in 'alura'… Saída: True\n",
        ">\n",
        "\n",
        "Os dados para o teste do código são:"
      ],
      "metadata": {
        "id": "CwBGW2xPUy2S"
      }
    },
    {
      "cell_type": "code",
      "source": [
        "lista_tratada = ['Python', 'é', 'uma', 'linguagem', 'de', 'programação', 'poderosa', 'versátil',\n",
        "                  'e', 'fácil', 'de', 'aprender', 'utilizada', 'em', 'diversos', 'campos', 'desde',\n",
        "                  'análise', 'de', 'dados', 'até', 'inteligência', 'artificial']\n",
        "\n",
        "lista_nao_tratada = ['Python', 'é', 'uma', 'linguagem', 'de', 'programação', 'poderosa,', 'versátil',\n",
        "                  'e', 'fácil,', 'de', 'aprender', 'utilizada', 'em', 'diversos', 'campos,', 'desde',\n",
        "                  'análise', 'de', 'dados', 'até', 'inteligência', 'artificial!']\n",
        "\n",
        "def avalia_frase(frase: list):\n",
        "  try:\n",
        "    for palavra in frase:\n",
        "      if ',' in palavra or '.' in palavra or '?' in palavra or '!' in palavra:\n",
        "        raise ValueError(f'O texto apresenta pontuações na palavra \"{palavra}\"')\n",
        "  except Exception as e:\n",
        "    print('Frase não tratsada,', e)\n",
        "  else:\n",
        "    print('Frase tratada!')\n",
        "\n",
        "avalia_frase(lista_tratada)\n",
        ""
      ],
      "metadata": {
        "id": "hszR_C0PVMSr"
      },
      "execution_count": null,
      "outputs": []
    },
    {
      "cell_type": "markdown",
      "source": [
        "7. Você foi contratado(a) como uma pessoa cientista de dados para auxiliar um laboratório que faz experimentos sobre o comportamento de uma cultura de fungos. O laboratório precisa avaliar constantemente a razão (divisão) entre os dados de pressão e temperatura do ambiente controlado recolhidos durante a experimentação para definir a melhor condição para os testes.\n",
        "\n",
        "Para cumprir com a demanda, você precisa criar uma função `divide_colunas` que recebe os dados das colunas de pressão e temperatura (que vem no formato de listas) e gerar uma nova coluna com o resultado da divisão. Os parâmetros da função são as duas listas e você deve tratar dentro dela ao menos 2 tipos de exceções:\n",
        "\n",
        "- Verificar se as listas têm o mesmo tamanho (ValueError)\n",
        "- Verificar se existe alguma divisão por zero (ZeroDivisionError)\n",
        "\n",
        "Para testar a função, vamos realizar a divisão entre duas listas de dados coletados no experimento, com os valores de pressão e temperatura do ambiente controlado.\n",
        "\n",
        "Como teste, use os seguintes dados:"
      ],
      "metadata": {
        "id": "do_0xQUvbkyh"
      }
    },
    {
      "cell_type": "code",
      "source": [
        "# Dados sem exceção:\n",
        "pressoes1 = [100, 120, 140, 160, 180]\n",
        "temperaturas1 = [20, 25, 30, 35, 40]\n",
        "\n",
        "# Dados com exceção ZeroDivisionError:\n",
        "pressoes2 = [60, 120, 140, 160, 180]\n",
        "temperaturas2 = [0, 25, 30, 35, 40]\n",
        "\n",
        "# Dados com exceção ValueError:\n",
        "pressoes3 = [100, 120, 140, 160]\n",
        "temperaturas3 = [20, 25, 30, 35, 40]\n",
        "\n",
        "def divide_colunas(lista1: list, lista2: list) -> list:\n",
        "  try:\n",
        "    if len(lista1) != len(lista2):\n",
        "      raise ValueError('As listas precisam ter o mesmo tamanho')\n",
        "    resultado = [round(a / b, 2) for a, b in zip(lista1, lista2)]\n",
        "  except ValueError as e:\n",
        "    print(e)\n",
        "  except ZeroDivisionError as e:\n",
        "    print(f'{e}: A 2ª lista não pode possuir valor igual a 0')\n",
        "  else:\n",
        "    return resultado"
      ],
      "metadata": {
        "id": "-u8skMABdTgU"
      },
      "execution_count": null,
      "outputs": []
    },
    {
      "cell_type": "code",
      "source": [
        "divide_colunas(pressoes1, temperaturas1)"
      ],
      "metadata": {
        "id": "EoofbSZLfOuF"
      },
      "execution_count": null,
      "outputs": []
    },
    {
      "cell_type": "code",
      "source": [
        "divide_colunas(pressoes2, temperaturas2)"
      ],
      "metadata": {
        "id": "D1BN7vV5fSrf"
      },
      "execution_count": null,
      "outputs": []
    },
    {
      "cell_type": "code",
      "source": [
        "divide_colunas(pressoes3, temperaturas3)"
      ],
      "metadata": {
        "id": "9DMM0TsXfT4a"
      },
      "execution_count": null,
      "outputs": []
    }
  ]
}
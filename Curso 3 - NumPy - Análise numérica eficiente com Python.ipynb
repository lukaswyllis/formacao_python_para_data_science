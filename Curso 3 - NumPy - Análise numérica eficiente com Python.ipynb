{
  "nbformat": 4,
  "nbformat_minor": 0,
  "metadata": {
    "colab": {
      "provenance": []
    },
    "kernelspec": {
      "name": "python3",
      "display_name": "Python 3"
    },
    "language_info": {
      "name": "python"
    }
  },
  "cells": [
    {
      "cell_type": "markdown",
      "source": [
        "# NumPy: análise numérica eficiente com Python"
      ],
      "metadata": {
        "id": "DS9cv1vbzYHk"
      }
    },
    {
      "cell_type": "markdown",
      "source": [
        "## Conhecendo a biblioteca e os nossos dados"
      ],
      "metadata": {
        "id": "bI8Dt0apRP68"
      }
    },
    {
      "cell_type": "code",
      "source": [
        "import numpy as np\n",
        "import time\n",
        "import matplotlib.pyplot as plt"
      ],
      "metadata": {
        "id": "pasN_3jKRS7W"
      },
      "execution_count": null,
      "outputs": []
    },
    {
      "cell_type": "code",
      "source": [
        "url = 'https://raw.githubusercontent.com/lukaswyllis/formacao_python_para_data_science/refs/heads/master/curso3/apples_ts.csv'\n",
        "dados = np.loadtxt(url, delimiter = ',', usecols=np.arange(1, 88, 1))\n",
        "dados"
      ],
      "metadata": {
        "collapsed": true,
        "id": "9LmjKNW2jf4R"
      },
      "execution_count": null,
      "outputs": []
    },
    {
      "cell_type": "code",
      "source": [
        "# Testando o desempenho dos arrays numpy\n",
        "\n",
        "# cria uma lista com 1000000 elementos\n",
        "lista = list(range(100000))\n",
        "\n",
        "# transforma a lista em um array Numpy\n",
        "array = np.array(lista)\n",
        "\n",
        "# começa a cronometrar o tempo para a operação com a lista\n",
        "start_time = time.time()\n",
        "\n",
        "# realiza a operação de elevar ao quadrado cada elemento da lista\n",
        "lista_quadrado = [i**2 for i in lista]\n",
        "\n",
        "# para o cronômetro\n",
        "list_time = time.time() - start_time\n",
        "\n",
        "# começa a cronometrar o tempo para a operação com o array\n",
        "start_time = time.time()\n",
        "\n",
        "# realiza a operação de elevar ao quadrado cada elemento do array\n",
        "array_quadrado = array**2\n",
        "\n",
        "# para o cronômetro\n",
        "array_time = time.time() - start_time\n",
        "\n",
        "print(\"Tempo da operação com a lista: \", list_time)\n",
        "print(\"Tempo da operação com o array: \", array_time)\n",
        "print(f\"O array foi {round(list_time/array_time, 0)} vezes mais rápido\")"
      ],
      "metadata": {
        "id": "k6f3t_tQnGw5"
      },
      "execution_count": null,
      "outputs": []
    },
    {
      "cell_type": "code",
      "source": [
        "dados.ndim # número de dimensões no array"
      ],
      "metadata": {
        "id": "rgWZMY_6vV1W"
      },
      "execution_count": null,
      "outputs": []
    },
    {
      "cell_type": "code",
      "source": [
        "dados.size # número de valores no array"
      ],
      "metadata": {
        "id": "Fb6LO6m7vXXK"
      },
      "execution_count": null,
      "outputs": []
    },
    {
      "cell_type": "code",
      "source": [
        "dados.shape # número de linhas e de colunas, respectivamente. Nesse caso, 6 linhas e 87 colunas"
      ],
      "metadata": {
        "id": "LVNhmVzUvahp"
      },
      "execution_count": null,
      "outputs": []
    },
    {
      "cell_type": "code",
      "source": [
        "dados_transpostos = dados.T\n",
        "dados_transpostos"
      ],
      "metadata": {
        "id": "M0nkSo_Fvq3m"
      },
      "execution_count": null,
      "outputs": []
    },
    {
      "cell_type": "markdown",
      "source": [
        "url_meses = 'https://raw.githubusercontent.com/allanspadini/numpy/dados/bytebank.csv'\n",
        "meses = np.loadtxt(url_meses, delimiter=',', skiprows=1, dtype=float)\n",
        "meses.shape"
      ],
      "metadata": {
        "id": "tcjBxohyvwm4"
      }
    },
    {
      "cell_type": "markdown",
      "source": [
        "### Desafio 1\n",
        "Chegou a hora de você testar os conhecimentos desenvolvidos durante a aula. Para isso, vamos utilizar outro dataset em um desafio que será desenvolvido no decorrer do curso. Esse dataset é uma versão modificada do [arquivo Oranges vs. Grapefruit](https://www.kaggle.com/datasets/joshmcadams/oranges-vs-grapefruit) presente no site do Kaggle. Portanto, utilizaremos o [arquivo raw](https://raw.githubusercontent.com/allanspadini/numpy/dados/citrus.csv) disponível no GitHub.\n",
        "\n",
        "Nessa etapa, você deve efetuar a leitura dos dados. Para isso, importe a NumPy e use a função `loadtxt`. Use o link da url e o parâmetro `usecols` para pular a primeira coluna. É possível usar `np.arange` para criar a sequência de números que representam as colunas. Por fim, também é necessário incluir o parâmetro `skiprows=1` para que a primeira linha de texto seja desconsiderada na leitura do arquivo."
      ],
      "metadata": {
        "id": "N1zUUdhdyjMn"
      }
    },
    {
      "cell_type": "code",
      "source": [
        "# Importando o array do dataset\n",
        "url = 'https://raw.githubusercontent.com/allanspadini/numpy/dados/citrus.csv'\n",
        "citrus = np.loadtxt(url, delimiter=',', usecols=np.arange(1, 6, 1), skiprows=1)\n",
        "citrus.shape"
      ],
      "metadata": {
        "id": "hS7WqV_vyyOO"
      },
      "execution_count": null,
      "outputs": []
    },
    {
      "cell_type": "code",
      "source": [
        "citrus"
      ],
      "metadata": {
        "id": "63vDwiZ80xZX"
      },
      "execution_count": null,
      "outputs": []
    },
    {
      "cell_type": "markdown",
      "source": [
        "## Exploração dos dados"
      ],
      "metadata": {
        "id": "jI7xKWLupkR_"
      }
    },
    {
      "cell_type": "code",
      "source": [
        "datas = dados_transpostos[:,0]\n",
        "precos = dados_transpostos[:,1:6]"
      ],
      "metadata": {
        "id": "1zWqbSwNqZw5"
      },
      "execution_count": null,
      "outputs": []
    },
    {
      "cell_type": "code",
      "source": [
        "Moscow = precos[:,0]\n",
        "Kaliningrad = precos[:,1]\n",
        "Petersburg = precos[:,2]\n",
        "Krasnodar = precos[:,3]\n",
        "Ekaterinburg = precos[:,4]"
      ],
      "metadata": {
        "id": "xOC3U4K1s6Hm"
      },
      "execution_count": null,
      "outputs": []
    },
    {
      "cell_type": "code",
      "source": [
        "datas_alt = np.arange(1, 88, 1)\n",
        "plt.plot(datas_alt, Moscow)"
      ],
      "metadata": {
        "id": "okiXqhKStbZC"
      },
      "execution_count": null,
      "outputs": []
    },
    {
      "cell_type": "code",
      "source": [
        "Moscow.shape"
      ],
      "metadata": {
        "id": "SGhMScJhuVrX"
      },
      "execution_count": null,
      "outputs": []
    },
    {
      "cell_type": "code",
      "source": [
        "Moscow_ano1 = Moscow[0:12]\n",
        "Moscow_ano2 = Moscow[12:24]\n",
        "Moscow_ano3 = Moscow[24:36]\n",
        "Moscow_ano4 = Moscow[36:48]"
      ],
      "metadata": {
        "id": "6lQeBs-Zultm"
      },
      "execution_count": null,
      "outputs": []
    },
    {
      "cell_type": "code",
      "source": [
        "plt.plot(np.arange(1, 13, 1), Moscow_ano1)\n",
        "plt.plot(np.arange(1, 13, 1), Moscow_ano2)\n",
        "plt.plot(np.arange(1, 13, 1), Moscow_ano3)\n",
        "plt.plot(np.arange(1, 13, 1), Moscow_ano4)\n",
        "plt.legend(['Ano 1', 'Ano 2', 'Ano 3', 'Ano 4'])"
      ],
      "metadata": {
        "id": "sthuJVJUuzhs"
      },
      "execution_count": null,
      "outputs": []
    },
    {
      "cell_type": "code",
      "source": [
        "np.array_equal(Moscow_ano3, Moscow_ano4)"
      ],
      "metadata": {
        "id": "dwyhagmQvw8E"
      },
      "execution_count": null,
      "outputs": []
    },
    {
      "cell_type": "code",
      "source": [
        "np.allclose(Moscow_ano3, Moscow_ano4, 10)"
      ],
      "metadata": {
        "id": "AVe8fszXwmYo"
      },
      "execution_count": null,
      "outputs": []
    },
    {
      "cell_type": "code",
      "source": [
        "plt.plot(np.arange(1,88,1), Kaliningrad)"
      ],
      "metadata": {
        "id": "RepW73Dow2IG"
      },
      "execution_count": null,
      "outputs": []
    },
    {
      "cell_type": "code",
      "source": [
        "Kaliningrad"
      ],
      "metadata": {
        "id": "IXB68cjs1brf"
      },
      "execution_count": null,
      "outputs": []
    },
    {
      "cell_type": "code",
      "source": [
        "plt.plot(datas_alt, Kaliningrad)"
      ],
      "metadata": {
        "id": "ea32FH-j1ukN"
      },
      "execution_count": null,
      "outputs": []
    },
    {
      "cell_type": "code",
      "source": [
        "sum(np.isnan(Kaliningrad)) # retorna o numero de valores nan em um array"
      ],
      "metadata": {
        "id": "eAR3Q3FxKUkx"
      },
      "execution_count": null,
      "outputs": []
    },
    {
      "cell_type": "code",
      "source": [
        "(Kaliningrad[3] + Kaliningrad[5]) / 2 # média dos valores entre o nan"
      ],
      "metadata": {
        "id": "nKSf6wZTKxwP"
      },
      "execution_count": null,
      "outputs": []
    },
    {
      "cell_type": "code",
      "source": [
        "np.mean([Kaliningrad[3], Kaliningrad[5]])"
      ],
      "metadata": {
        "id": "8lTQZnJzLM0D"
      },
      "execution_count": null,
      "outputs": []
    },
    {
      "cell_type": "code",
      "source": [
        "Kaliningrad[4] = np.mean([Kaliningrad[3], Kaliningrad[5]])"
      ],
      "metadata": {
        "id": "lySvuspVLck0"
      },
      "execution_count": null,
      "outputs": []
    },
    {
      "cell_type": "code",
      "source": [
        "plt.plot(datas_alt, Kaliningrad)"
      ],
      "metadata": {
        "id": "QgBclVRyMeVv"
      },
      "execution_count": null,
      "outputs": []
    },
    {
      "cell_type": "code",
      "source": [
        "np.mean(Moscow)"
      ],
      "metadata": {
        "id": "oZ2oqnOfMfok"
      },
      "execution_count": null,
      "outputs": []
    },
    {
      "cell_type": "code",
      "source": [
        "np.mean(Kaliningrad)"
      ],
      "metadata": {
        "id": "SHXI2ts-Mo1N"
      },
      "execution_count": null,
      "outputs": []
    },
    {
      "cell_type": "markdown",
      "source": [
        "### Desafio 2\n",
        "\n",
        "\n",
        "Chegou a hora de você testar os conhecimentos desenvolvidos durante a aula. Continuando com o projeto das laranjas/toranjas agora você deve selecionar parte dos dados. As colunas que iremos avaliar são as de diâmetro e peso. Crie arrays específicos para guardar o diâmetro e peso da laranja e toranja. O diâmetro está na coluna zero e o peso na coluna 1. Os dados referentes a laranja vão até a linha 4999 e os referentes à toranja iniciam na linha 5000 do arquivo.\n",
        "\n",
        "Após fazer a seleção de dados, importe a biblioteca matplotlib e crie um gráfico para a laranja e para a toranja do peso pelo diâmetro.\n",
        "\n",
        "\n"
      ],
      "metadata": {
        "id": "-aXiXGqchMmu"
      }
    },
    {
      "cell_type": "code",
      "source": [
        "citrus"
      ],
      "metadata": {
        "id": "lbBWi94whZ_R"
      },
      "execution_count": null,
      "outputs": []
    },
    {
      "cell_type": "code",
      "source": [
        "diametro_laranja = citrus[:5000,0]\n",
        "peso_laranja = citrus[:5000,1]\n",
        "\n",
        "diametro_toranja = citrus[5000:,0]\n",
        "peso_toranja = citrus[5000:,1]"
      ],
      "metadata": {
        "id": "BRAlkIlohe9u"
      },
      "execution_count": null,
      "outputs": []
    },
    {
      "cell_type": "code",
      "source": [
        "# plotando os gráficos\n",
        "plt.plot(diametro_laranja, peso_laranja)\n",
        "plt.plot(diametro_toranja, peso_toranja)"
      ],
      "metadata": {
        "id": "hbAiNMrmi_sR"
      },
      "execution_count": null,
      "outputs": []
    },
    {
      "cell_type": "markdown",
      "source": [
        "## Operações com arrays"
      ],
      "metadata": {
        "id": "1Kso4SDKkdem"
      }
    },
    {
      "cell_type": "code",
      "source": [
        "plt.plot(datas_alt, Moscow)"
      ],
      "metadata": {
        "id": "TAfb3xVwkewd"
      },
      "execution_count": null,
      "outputs": []
    },
    {
      "cell_type": "markdown",
      "source": [
        "$$ y = ax + b $$"
      ],
      "metadata": {
        "id": "yExghDeXPBdq"
      }
    },
    {
      "cell_type": "code",
      "source": [
        "x = datas_alt\n",
        "y = 2*x+80\n",
        "plt.plot(datas_alt, Moscow)\n",
        "plt.plot(x, y)"
      ],
      "metadata": {
        "id": "a_AF7vgO1BdT"
      },
      "execution_count": null,
      "outputs": []
    },
    {
      "cell_type": "code",
      "source": [
        "np.sqrt(np.sum(np.power(Moscow - y, 2)))"
      ],
      "metadata": {
        "id": "VYAovSEA1Iux"
      },
      "execution_count": null,
      "outputs": []
    },
    {
      "cell_type": "code",
      "source": [
        "x = datas_alt\n",
        "y = 0.52*x+80\n",
        "plt.plot(datas_alt, Moscow)\n",
        "plt.plot(x, y)"
      ],
      "metadata": {
        "id": "XQnDkGPd1XO-"
      },
      "execution_count": null,
      "outputs": []
    },
    {
      "cell_type": "code",
      "source": [
        "np.sqrt(np.sum(np.power(Moscow - y, 2)))"
      ],
      "metadata": {
        "id": "M_ejrGvV2HwC"
      },
      "execution_count": null,
      "outputs": []
    },
    {
      "cell_type": "code",
      "source": [
        "np.linalg.norm(Moscow - y)"
      ],
      "metadata": {
        "id": "Mc_QV8CM2QsT"
      },
      "execution_count": null,
      "outputs": []
    },
    {
      "cell_type": "markdown",
      "source": [
        "### Calculando o coeficiente angular ($\\hat{a}$)\n",
        "\n",
        "a = Coeficiente angular\n",
        "\n",
        "n -> número de elementos\n",
        "\n",
        "Y = Moscow\n",
        "\n",
        "X = datas\n",
        "\n",
        "$$\n",
        "\\hat{a} = \\frac{n * Soma(X_i * Y_i) - Soma(X_i) * Soma(Y_i)} {nSoma(X^2_i) - (Soma(X_i))^2}\n",
        "$$"
      ],
      "metadata": {
        "id": "9NqQ5l394WGE"
      }
    },
    {
      "cell_type": "code",
      "source": [
        "Y = Moscow\n",
        "X = datas_alt\n",
        "n = np.size(Moscow)"
      ],
      "metadata": {
        "id": "E7bSYcT88MdE"
      },
      "execution_count": null,
      "outputs": []
    },
    {
      "cell_type": "code",
      "source": [
        "(X**2).shape"
      ],
      "metadata": {
        "id": "GMroC6UJD-nn"
      },
      "execution_count": null,
      "outputs": []
    },
    {
      "cell_type": "code",
      "source": [
        "a = (n*np.sum(X*Y) - np.sum(X) * np.sum(Y)) / (n*np.sum(X**2) - np.sum(X)**2)\n",
        "a"
      ],
      "metadata": {
        "id": "CiU629chEGDp"
      },
      "execution_count": null,
      "outputs": []
    },
    {
      "cell_type": "markdown",
      "source": [
        "### Calculando o coeficiente linear ($\\hat{b}$)\n",
        "$$\n",
        "\\hat{b} = Media(Y_i) - \\hat{a} * Media(X_i)\n",
        "$$"
      ],
      "metadata": {
        "id": "EQvzmN6kEpIY"
      }
    },
    {
      "cell_type": "code",
      "source": [
        "b = np.mean(Y) - a * np.mean(X)\n",
        "b"
      ],
      "metadata": {
        "id": "V-XLdb4WE503"
      },
      "execution_count": null,
      "outputs": []
    },
    {
      "cell_type": "code",
      "source": [
        "y = a*X+b"
      ],
      "metadata": {
        "id": "-DsNZiReG7U3"
      },
      "execution_count": null,
      "outputs": []
    },
    {
      "cell_type": "code",
      "source": [
        "np.linalg.norm(Moscow - y)"
      ],
      "metadata": {
        "id": "ghB-e2G2HDFO"
      },
      "execution_count": null,
      "outputs": []
    },
    {
      "cell_type": "markdown",
      "source": [
        "### Implementando uma equação\n",
        "\n",
        "Thaís queria desenhar um círculo com a ajuda do computador. Para desenhar a parte superior do círculo ela sabia que deveria usar a equação:\n",
        "\n",
        "$$ y = \\sqrt{1 - x ^ 2} $$\n",
        "\n",
        "E para a parte inferior bastava utilizar a mesma equação multiplicada por -1.\n",
        "\n",
        "Qual sequência de código ela deve usar para construir o gráfico corretamente usando a Numpy e sabendo que ambas as partes do círculo devem ter a mesma cor?"
      ],
      "metadata": {
        "id": "Mt0Cg1egK7le"
      }
    },
    {
      "cell_type": "code",
      "source": [
        "x = np.arange(-1, 1.01, 0.0001)\n",
        "\n",
        "# Implementação da fórmula\n",
        "y1 = np.sqrt(1 - x**2)\n",
        "y2 = -np.sqrt(1 - x**2)\n",
        "\n",
        "# Plotar o gráfico com as duas partes do círculo\n",
        "plt.plot(x, y1, 'r')\n",
        "plt.plot(x, y2, 'r' )\n",
        "\n",
        "# Adicionar o título do gráfico e os rótulos dos eixos x e y\n",
        "plt.title(\"Círculo\")\n",
        "plt.xlabel(\"Eixo x\")\n",
        "plt.ylabel(\"Eixo y\")\n",
        "\n",
        "# Exibir o gráfico\n",
        "plt.show()"
      ],
      "metadata": {
        "id": "xHug9cD4HDix"
      },
      "execution_count": null,
      "outputs": []
    },
    {
      "cell_type": "code",
      "source": [
        "y = a*X+b\n",
        "plt.plot(datas_alt, Moscow)\n",
        "plt.plot(datas_alt, y)\n",
        "plt.plot(41.5, 41.5*a+b, '*r')\n",
        "plt.plot(100, 100*a+b, '*r')"
      ],
      "metadata": {
        "id": "SCOZsrrALQIw"
      },
      "execution_count": null,
      "outputs": []
    },
    {
      "cell_type": "markdown",
      "source": [
        "### Desafio 3\n",
        "Chegou a hora de você testar os conhecimentos desenvolvidos durante a aula. Continuando com o projeto das laranjas/toranjas agora você deve calcular o coeficiente ângular e o linear para a reta da laranja e para a reta da toranja. Use a fórmula de mínimos quadrados para encontrar cada um."
      ],
      "metadata": {
        "id": "bCD45seNORA4"
      }
    },
    {
      "cell_type": "code",
      "source": [
        "plt.plot(diametro_laranja, peso_laranja)"
      ],
      "metadata": {
        "id": "RzfYl1DWOTgY"
      },
      "execution_count": null,
      "outputs": []
    },
    {
      "cell_type": "code",
      "source": [
        "Y = peso_laranja\n",
        "X = diametro_laranja\n",
        "n = np.size(X)\n",
        "\n",
        "a = (n*np.sum(X*Y) - np.sum(X)*np.sum(Y)) / (n*np.sum(X**2) + np.sum(X)**2)\n",
        "b = np.mean(Y) - a*np.mean(X)"
      ],
      "metadata": {
        "id": "rosvLHIPOwL-"
      },
      "execution_count": null,
      "outputs": []
    },
    {
      "cell_type": "code",
      "source": [
        "y = a*X+b\n",
        "plt.plot(diametro_laranja, peso_laranja)\n",
        "plt.plot(diametro_laranja, y)"
      ],
      "metadata": {
        "id": "BIJlFBm7Ssob"
      },
      "execution_count": null,
      "outputs": []
    },
    {
      "cell_type": "code",
      "source": [
        "Y = peso_toranja\n",
        "X = diametro_toranja\n",
        "n = np.size(X)\n",
        "\n",
        "a = (n*np.sum(X*Y) - np.sum(X)*np.sum(Y)) / (n*np.sum(X**2) + np.sum(X)**2)\n",
        "b = np.mean(Y) - a*np.mean(X)"
      ],
      "metadata": {
        "id": "p_c2baDWS3r5"
      },
      "execution_count": null,
      "outputs": []
    },
    {
      "cell_type": "code",
      "source": [
        "a"
      ],
      "metadata": {
        "id": "mY_0ElfLTFcC"
      },
      "execution_count": null,
      "outputs": []
    },
    {
      "cell_type": "code",
      "source": [
        "b"
      ],
      "metadata": {
        "id": "kexuuhdTTFu6"
      },
      "execution_count": null,
      "outputs": []
    },
    {
      "cell_type": "code",
      "source": [
        "y = a*X+b\n",
        "plt.plot(diametro_toranja, peso_toranja)\n",
        "plt.plot(diametro_toranja, y)"
      ],
      "metadata": {
        "id": "V-wwZitWTGR_"
      },
      "execution_count": null,
      "outputs": []
    },
    {
      "cell_type": "code",
      "source": [
        "np.random.randint(low=40, high=100, size=100)"
      ],
      "metadata": {
        "id": "dA-6RRwUYAZJ"
      },
      "execution_count": null,
      "outputs": []
    },
    {
      "cell_type": "code",
      "source": [
        "np.random.uniform(low=0.10, high=0.90, size=100)"
      ],
      "metadata": {
        "id": "YFuw9vt4Yx3P"
      },
      "execution_count": null,
      "outputs": []
    }
  ]
}
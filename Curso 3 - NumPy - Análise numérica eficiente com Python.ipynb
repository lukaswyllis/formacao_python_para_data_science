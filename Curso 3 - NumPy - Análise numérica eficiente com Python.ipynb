{
  "nbformat": 4,
  "nbformat_minor": 0,
  "metadata": {
    "colab": {
      "provenance": []
    },
    "kernelspec": {
      "name": "python3",
      "display_name": "Python 3"
    },
    "language_info": {
      "name": "python"
    }
  },
  "cells": [
    {
      "cell_type": "markdown",
      "source": [
        "# NumPy: análise numérica eficiente com Python"
      ],
      "metadata": {
        "id": "DS9cv1vbzYHk"
      }
    },
    {
      "cell_type": "markdown",
      "source": [
        "## Conhecendo a biblioteca e os nossos dados"
      ],
      "metadata": {
        "id": "bI8Dt0apRP68"
      }
    },
    {
      "cell_type": "code",
      "source": [
        "import numpy as np\n",
        "import time\n",
        "import matplotlib.pyplot as plt"
      ],
      "metadata": {
        "id": "pasN_3jKRS7W"
      },
      "execution_count": null,
      "outputs": []
    },
    {
      "cell_type": "code",
      "source": [
        "url = 'https://raw.githubusercontent.com/lukaswyllis/formacao_python_para_data_science/refs/heads/master/numpy-dados/apples_ts.csv'\n",
        "dados = np.loadtxt(url, delimiter = ',', usecols=np.arange(1, 88, 1))\n",
        "dados"
      ],
      "metadata": {
        "collapsed": true,
        "id": "9LmjKNW2jf4R"
      },
      "execution_count": null,
      "outputs": []
    },
    {
      "cell_type": "code",
      "source": [
        "# Testando o desempenho dos arrays numpy\n",
        "\n",
        "# cria uma lista com 1000000 elementos\n",
        "lista = list(range(10000000))\n",
        "\n",
        "# transforma a lista em um array Numpy\n",
        "array = np.array(lista)\n",
        "\n",
        "# começa a cronometrar o tempo para a operação com a lista\n",
        "start_time = time.time()\n",
        "\n",
        "# realiza a operação de elevar ao quadrado cada elemento da lista\n",
        "lista_quadrado = [i**2 for i in lista]\n",
        "\n",
        "# para o cronômetro\n",
        "list_time = time.time() - start_time\n",
        "\n",
        "# começa a cronometrar o tempo para a operação com o array\n",
        "start_time = time.time()\n",
        "\n",
        "# realiza a operação de elevar ao quadrado cada elemento do array\n",
        "array_quadrado = array**2\n",
        "\n",
        "# para o cronômetro\n",
        "array_time = time.time() - start_time\n",
        "\n",
        "print(\"Tempo da operação com a lista: \", list_time)\n",
        "print(\"Tempo da operação com o array: \", array_time)\n",
        "print(f\"O array foi {round(list_time/array_time, 0)} vezes mais rápido\")"
      ],
      "metadata": {
        "id": "k6f3t_tQnGw5"
      },
      "execution_count": null,
      "outputs": []
    },
    {
      "cell_type": "code",
      "source": [
        "dados.ndim # número de dimensões no array"
      ],
      "metadata": {
        "id": "rgWZMY_6vV1W"
      },
      "execution_count": null,
      "outputs": []
    },
    {
      "cell_type": "code",
      "source": [
        "dados.size # número de valores no array"
      ],
      "metadata": {
        "id": "Fb6LO6m7vXXK"
      },
      "execution_count": null,
      "outputs": []
    },
    {
      "cell_type": "code",
      "source": [
        "dados.shape # número de linhas e de colunas, respectivamente. Nesse caso, 6 linhas e 87 colunas"
      ],
      "metadata": {
        "id": "LVNhmVzUvahp"
      },
      "execution_count": null,
      "outputs": []
    },
    {
      "cell_type": "code",
      "source": [
        "dados_transpostos = dados.T\n",
        "dados_transpostos"
      ],
      "metadata": {
        "id": "M0nkSo_Fvq3m"
      },
      "execution_count": null,
      "outputs": []
    },
    {
      "cell_type": "markdown",
      "source": [
        "url_meses = 'https://raw.githubusercontent.com/allanspadini/numpy/dados/bytebank.csv'\n",
        "meses = np.loadtxt(url_meses, delimiter=',', skiprows=1, dtype=float)\n",
        "meses.shape"
      ],
      "metadata": {
        "id": "tcjBxohyvwm4"
      }
    },
    {
      "cell_type": "markdown",
      "source": [
        "### Desafio 1\n",
        "Chegou a hora de você testar os conhecimentos desenvolvidos durante a aula. Para isso, vamos utilizar outro dataset em um desafio que será desenvolvido no decorrer do curso. Esse dataset é uma versão modificada do [arquivo Oranges vs. Grapefruit](https://www.kaggle.com/datasets/joshmcadams/oranges-vs-grapefruit) presente no site do Kaggle. Portanto, utilizaremos o [arquivo raw](https://raw.githubusercontent.com/allanspadini/numpy/dados/citrus.csv) disponível no GitHub.\n",
        "\n",
        "Nessa etapa, você deve efetuar a leitura dos dados. Para isso, importe a NumPy e use a função `loadtxt`. Use o link da url e o parâmetro `usecols` para pular a primeira coluna. É possível usar `np.arange` para criar a sequência de números que representam as colunas. Por fim, também é necessário incluir o parâmetro `skiprows=1` para que a primeira linha de texto seja desconsiderada na leitura do arquivo."
      ],
      "metadata": {
        "id": "N1zUUdhdyjMn"
      }
    },
    {
      "cell_type": "code",
      "source": [
        "# Importando o array do dataset\n",
        "url = 'https://raw.githubusercontent.com/allanspadini/numpy/dados/citrus.csv'\n",
        "citrus = np.loadtxt(url, delimiter=',', usecols=np.arange(1, 6, 1), skiprows=1)\n",
        "citrus.shape"
      ],
      "metadata": {
        "id": "hS7WqV_vyyOO"
      },
      "execution_count": null,
      "outputs": []
    },
    {
      "cell_type": "code",
      "source": [
        "citrus"
      ],
      "metadata": {
        "id": "63vDwiZ80xZX"
      },
      "execution_count": null,
      "outputs": []
    },
    {
      "cell_type": "markdown",
      "source": [
        "## Exploração dos dados"
      ],
      "metadata": {
        "id": "jI7xKWLupkR_"
      }
    },
    {
      "cell_type": "code",
      "source": [
        "datas = dados_transpostos[:,0]\n",
        "precos = dados_transpostos[:,1:6]"
      ],
      "metadata": {
        "id": "1zWqbSwNqZw5"
      },
      "execution_count": null,
      "outputs": []
    },
    {
      "cell_type": "code",
      "source": [
        "Moscow = precos[:,0]\n",
        "Kaliningrad = precos[:,1]\n",
        "Petersburg = precos[:,2]\n",
        "Krasnodar = precos[:,3]\n",
        "Ekaterinburg = precos[:,4]"
      ],
      "metadata": {
        "id": "xOC3U4K1s6Hm"
      },
      "execution_count": null,
      "outputs": []
    },
    {
      "cell_type": "code",
      "source": [
        "datas_alt = np.arange(1, 88, 1)\n",
        "plt.plot(datas_alt, Moscow)"
      ],
      "metadata": {
        "id": "okiXqhKStbZC"
      },
      "execution_count": null,
      "outputs": []
    },
    {
      "cell_type": "code",
      "source": [
        "Moscow.shape"
      ],
      "metadata": {
        "id": "SGhMScJhuVrX"
      },
      "execution_count": null,
      "outputs": []
    },
    {
      "cell_type": "code",
      "source": [
        "Moscow_ano1 = Moscow[0:12]\n",
        "Moscow_ano2 = Moscow[12:24]\n",
        "Moscow_ano3 = Moscow[24:36]\n",
        "Moscow_ano4 = Moscow[36:48]"
      ],
      "metadata": {
        "id": "6lQeBs-Zultm"
      },
      "execution_count": null,
      "outputs": []
    },
    {
      "cell_type": "code",
      "source": [
        "plt.plot(np.arange(1, 13, 1), Moscow_ano1)\n",
        "plt.plot(np.arange(1, 13, 1), Moscow_ano2)\n",
        "plt.plot(np.arange(1, 13, 1), Moscow_ano3)\n",
        "plt.plot(np.arange(1, 13, 1), Moscow_ano4)\n",
        "plt.legend(['Ano 1', 'Ano 2', 'Ano 3', 'Ano 4'])"
      ],
      "metadata": {
        "id": "sthuJVJUuzhs"
      },
      "execution_count": null,
      "outputs": []
    },
    {
      "cell_type": "code",
      "source": [
        "np.array_equal(Moscow_ano3, Moscow_ano4)"
      ],
      "metadata": {
        "id": "dwyhagmQvw8E"
      },
      "execution_count": null,
      "outputs": []
    },
    {
      "cell_type": "code",
      "source": [
        "np.allclose(Moscow_ano3, Moscow_ano4, 10)"
      ],
      "metadata": {
        "id": "AVe8fszXwmYo"
      },
      "execution_count": null,
      "outputs": []
    },
    {
      "cell_type": "code",
      "source": [
        "plt.plot(np.arange(1,88,1), Kaliningrad)"
      ],
      "metadata": {
        "id": "RepW73Dow2IG"
      },
      "execution_count": null,
      "outputs": []
    },
    {
      "cell_type": "code",
      "source": [
        "Kaliningrad"
      ],
      "metadata": {
        "id": "IXB68cjs1brf",
        "outputId": "1e6090c3-e4b8-436e-bb0d-e4267aa5a55a",
        "colab": {
          "base_uri": "https://localhost:8080/"
        }
      },
      "execution_count": 77,
      "outputs": [
        {
          "output_type": "execute_result",
          "data": {
            "text/plain": [
              "array([ 42.67,  44.37,  44.73,  46.75,    nan,  51.59,  57.8 ,  62.14,\n",
              "        56.76,  50.85,  46.43,  46.73,  45.85,  49.25,  48.14,  49.18,\n",
              "        49.49,  49.83,  49.14,  63.21,  61.2 ,  60.34,  62.2 ,  74.2 ,\n",
              "        75.32,  75.92,  72.89,  74.85,  92.19,  99.7 , 102.78,  92.67,\n",
              "        90.63,  83.31,  75.5 ,  74.6 ,  76.94,  83.04,  80.74,  80.29,\n",
              "        82.82,  86.29,  87.41,  85.1 ,  78.08,  76.06,  69.23,  69.04,\n",
              "        64.48,  65.73,  67.2 ,  70.25,  82.59,  92.12, 100.82,  95.23,\n",
              "        89.51,  82.84,  82.3 ,  83.76,  84.72,  83.91,  99.14, 101.6 ,\n",
              "       113.03, 119.54, 118.09, 107.32,  82.6 ,  77.4 ,  71.77,  71.25,\n",
              "        71.35,  73.62,  76.2 ,  74.15,  75.67,  79.2 ,  80.85,  85.33,\n",
              "        75.02,  77.95,  78.98,  76.55,  74.89,  70.  ,  81.53])"
            ]
          },
          "metadata": {},
          "execution_count": 77
        }
      ]
    },
    {
      "cell_type": "code",
      "source": [
        "plt.plot(datas_alt, Kaliningrad)"
      ],
      "metadata": {
        "id": "ea32FH-j1ukN",
        "outputId": "33e44558-2d49-49c7-e433-44f42ee8f819",
        "colab": {
          "base_uri": "https://localhost:8080/",
          "height": 447
        }
      },
      "execution_count": 79,
      "outputs": [
        {
          "output_type": "execute_result",
          "data": {
            "text/plain": [
              "[<matplotlib.lines.Line2D at 0x790bb7f96860>]"
            ]
          },
          "metadata": {},
          "execution_count": 79
        },
        {
          "output_type": "display_data",
          "data": {
            "text/plain": [
              "<Figure size 640x480 with 1 Axes>"
            ],
            "image/png": "[encoded data removed]"
          },
          "metadata": {}
        }
      ]
    },
    {
      "cell_type": "code",
      "source": [
        "sum(np.isnan(Kaliningrad)) # retorna o numero de valores nan em um array"
      ],
      "metadata": {
        "id": "eAR3Q3FxKUkx",
        "outputId": "e89aeae3-9e23-4085-96b2-ade2b13ba352",
        "colab": {
          "base_uri": "https://localhost:8080/"
        }
      },
      "execution_count": 82,
      "outputs": [
        {
          "output_type": "execute_result",
          "data": {
            "text/plain": [
              "1"
            ]
          },
          "metadata": {},
          "execution_count": 82
        }
      ]
    },
    {
      "cell_type": "code",
      "source": [
        "(Kaliningrad[3] + Kaliningrad[5]) / 2 # média dos valores entre o nan"
      ],
      "metadata": {
        "id": "nKSf6wZTKxwP",
        "outputId": "579a6d51-92e3-4082-df3e-0f56908bf4a6",
        "colab": {
          "base_uri": "https://localhost:8080/"
        }
      },
      "execution_count": 86,
      "outputs": [
        {
          "output_type": "execute_result",
          "data": {
            "text/plain": [
              "49.17"
            ]
          },
          "metadata": {},
          "execution_count": 86
        }
      ]
    },
    {
      "cell_type": "code",
      "source": [
        "np.mean([Kaliningrad[3], Kaliningrad[5]])"
      ],
      "metadata": {
        "id": "8lTQZnJzLM0D",
        "outputId": "e832a6b8-b4d0-4fa0-8e7b-ba04df9870cb",
        "colab": {
          "base_uri": "https://localhost:8080/"
        }
      },
      "execution_count": 87,
      "outputs": [
        {
          "output_type": "execute_result",
          "data": {
            "text/plain": [
              "49.17"
            ]
          },
          "metadata": {},
          "execution_count": 87
        }
      ]
    },
    {
      "cell_type": "code",
      "source": [
        "Kaliningrad[4] = np.mean([Kaliningrad[3], Kaliningrad[5]])"
      ],
      "metadata": {
        "id": "lySvuspVLck0"
      },
      "execution_count": 88,
      "outputs": []
    },
    {
      "cell_type": "code",
      "source": [
        "plt.plot(datas_alt, Kaliningrad)"
      ],
      "metadata": {
        "id": "QgBclVRyMeVv",
        "outputId": "a43a9338-fdcd-447c-fa95-55892c909eb4",
        "colab": {
          "base_uri": "https://localhost:8080/",
          "height": 447
        }
      },
      "execution_count": 89,
      "outputs": [
        {
          "output_type": "execute_result",
          "data": {
            "text/plain": [
              "[<matplotlib.lines.Line2D at 0x790bb3a42140>]"
            ]
          },
          "metadata": {},
          "execution_count": 89
        },
        {
          "output_type": "display_data",
          "data": {
            "text/plain": [
              "<Figure size 640x480 with 1 Axes>"
            ],
            "image/png": "[encoded data removed]"
          },
          "metadata": {}
        }
      ]
    },
    {
      "cell_type": "code",
      "source": [
        "np.mean(Moscow)"
      ],
      "metadata": {
        "id": "oZ2oqnOfMfok",
        "outputId": "682b79b3-96dd-48c6-8d88-3d27b690a62f",
        "colab": {
          "base_uri": "https://localhost:8080/"
        }
      },
      "execution_count": 92,
      "outputs": [
        {
          "output_type": "execute_result",
          "data": {
            "text/plain": [
              "98.79781609195402"
            ]
          },
          "metadata": {},
          "execution_count": 92
        }
      ]
    },
    {
      "cell_type": "code",
      "source": [
        "np.mean(Kaliningrad)"
      ],
      "metadata": {
        "id": "SHXI2ts-Mo1N",
        "outputId": "e6ccc3cd-59aa-470d-96fa-8a4bb9ebb750",
        "colab": {
          "base_uri": "https://localhost:8080/"
        }
      },
      "execution_count": 93,
      "outputs": [
        {
          "output_type": "execute_result",
          "data": {
            "text/plain": [
              "74.5506896551724"
            ]
          },
          "metadata": {},
          "execution_count": 93
        }
      ]
    },
    {
      "cell_type": "code",
      "source": [],
      "metadata": {
        "id": "qsK1YIjhMxyL"
      },
      "execution_count": null,
      "outputs": []
    }
  ]
}
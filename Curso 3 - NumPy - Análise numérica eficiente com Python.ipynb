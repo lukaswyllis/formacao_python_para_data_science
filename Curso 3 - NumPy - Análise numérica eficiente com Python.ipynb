{
  "nbformat": 4,
  "nbformat_minor": 0,
  "metadata": {
    "colab": {
      "provenance": []
    },
    "kernelspec": {
      "name": "python3",
      "display_name": "Python 3"
    },
    "language_info": {
      "name": "python"
    }
  },
  "cells": [
    {
      "cell_type": "markdown",
      "source": [
        "# NumPy: análise numérica eficiente com Python"
      ],
      "metadata": {
        "id": "DS9cv1vbzYHk"
      }
    },
    {
      "cell_type": "markdown",
      "source": [
        "## Conhecendo a biblioteca e os nossos dados"
      ],
      "metadata": {
        "id": "bI8Dt0apRP68"
      }
    },
    {
      "cell_type": "code",
      "source": [
        "import numpy as np\n",
        "import time\n",
        "import kagglehub"
      ],
      "metadata": {
        "id": "pasN_3jKRS7W"
      },
      "execution_count": null,
      "outputs": []
    },
    {
      "cell_type": "code",
      "source": [
        "url = 'https://raw.githubusercontent.com/lukaswyllis/formacao_python_para_data_science/refs/heads/master/numpy-dados/apples_ts.csv'\n",
        "dados = np.loadtxt(url, delimiter = ',', usecols=np.arange(1, 88, 1))\n",
        "dados"
      ],
      "metadata": {
        "collapsed": true,
        "id": "9LmjKNW2jf4R"
      },
      "execution_count": null,
      "outputs": []
    },
    {
      "cell_type": "code",
      "source": [
        "# Testando o desempenho dos arrays numpy\n",
        "\n",
        "# cria uma lista com 1000000 elementos\n",
        "lista = list(range(10000000))\n",
        "\n",
        "# transforma a lista em um array Numpy\n",
        "array = np.array(lista)\n",
        "\n",
        "# começa a cronometrar o tempo para a operação com a lista\n",
        "start_time = time.time()\n",
        "\n",
        "# realiza a operação de elevar ao quadrado cada elemento da lista\n",
        "lista_quadrado = [i**2 for i in lista]\n",
        "\n",
        "# para o cronômetro\n",
        "list_time = time.time() - start_time\n",
        "\n",
        "# começa a cronometrar o tempo para a operação com o array\n",
        "start_time = time.time()\n",
        "\n",
        "# realiza a operação de elevar ao quadrado cada elemento do array\n",
        "array_quadrado = array**2\n",
        "\n",
        "# para o cronômetro\n",
        "array_time = time.time() - start_time\n",
        "\n",
        "print(\"Tempo da operação com a lista: \", list_time)\n",
        "print(\"Tempo da operação com o array: \", array_time)\n",
        "print(f\"O array foi {round(list_time/array_time, 0)} vezes mais rápido\")"
      ],
      "metadata": {
        "id": "k6f3t_tQnGw5"
      },
      "execution_count": null,
      "outputs": []
    },
    {
      "cell_type": "code",
      "source": [
        "dados.ndim # número de dimensões no array"
      ],
      "metadata": {
        "id": "rgWZMY_6vV1W"
      },
      "execution_count": null,
      "outputs": []
    },
    {
      "cell_type": "code",
      "source": [
        "dados.size # número de valores no array"
      ],
      "metadata": {
        "id": "Fb6LO6m7vXXK"
      },
      "execution_count": null,
      "outputs": []
    },
    {
      "cell_type": "code",
      "source": [
        "dados.shape # número de linhas e de colunas, respectivamente. Nesse caso, 6 linhas e 87 colunas"
      ],
      "metadata": {
        "id": "LVNhmVzUvahp"
      },
      "execution_count": null,
      "outputs": []
    },
    {
      "cell_type": "code",
      "source": [
        "dados.T # Transposição de dados, trocar linhas e colunas de lugar"
      ],
      "metadata": {
        "id": "IKFpqldDvfOx"
      },
      "execution_count": null,
      "outputs": []
    },
    {
      "cell_type": "code",
      "source": [
        "dados_transpostos = dados.T\n",
        "dados_transpostos"
      ],
      "metadata": {
        "id": "M0nkSo_Fvq3m"
      },
      "execution_count": null,
      "outputs": []
    },
    {
      "cell_type": "markdown",
      "source": [
        "url_meses = 'https://raw.githubusercontent.com/allanspadini/numpy/dados/bytebank.csv'\n",
        "meses = np.loadtxt(url_meses, delimiter=',', skiprows=1, dtype=float)\n",
        "meses.shape"
      ],
      "metadata": {
        "id": "tcjBxohyvwm4"
      }
    },
    {
      "cell_type": "markdown",
      "source": [
        "## Desafio 1\n",
        "Chegou a hora de você testar os conhecimentos desenvolvidos durante a aula. Para isso, vamos utilizar outro dataset em um desafio que será desenvolvido no decorrer do curso. Esse dataset é uma versão modificada do [arquivo Oranges vs. Grapefruit](https://www.kaggle.com/datasets/joshmcadams/oranges-vs-grapefruit) presente no site do Kaggle. Portanto, utilizaremos o [arquivo raw](https://raw.githubusercontent.com/allanspadini/numpy/dados/citrus.csv) disponível no GitHub.\n",
        "\n",
        "Nessa etapa, você deve efetuar a leitura dos dados. Para isso, importe a NumPy e use a função `loadtxt`. Use o link da url e o parâmetro `usecols` para pular a primeira coluna. É possível usar `np.arange` para criar a sequência de números que representam as colunas. Por fim, também é necessário incluir o parâmetro `skiprows=1` para que a primeira linha de texto seja desconsiderada na leitura do arquivo."
      ],
      "metadata": {
        "id": "N1zUUdhdyjMn"
      }
    },
    {
      "cell_type": "code",
      "source": [
        "# Importando o array do dataset\n",
        "url = 'https://raw.githubusercontent.com/allanspadini/numpy/dados/citrus.csv'\n",
        "citrus = np.loadtxt(url, delimiter=',', usecols=np.arange(1, 6, 1), skiprows=1)\n",
        "citrus.shape"
      ],
      "metadata": {
        "id": "hS7WqV_vyyOO"
      },
      "execution_count": null,
      "outputs": []
    },
    {
      "cell_type": "code",
      "source": [],
      "metadata": {
        "id": "63vDwiZ80xZX"
      },
      "execution_count": null,
      "outputs": []
    }
  ]
}
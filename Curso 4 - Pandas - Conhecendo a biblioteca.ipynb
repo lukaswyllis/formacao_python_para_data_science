{
  "nbformat": 4,
  "nbformat_minor": 0,
  "metadata": {
    "colab": {
      "provenance": []
    },
    "kernelspec": {
      "name": "python3",
      "display_name": "Python 3"
    },
    "language_info": {
      "name": "python"
    }
  },
  "cells": [
    {
      "cell_type": "markdown",
      "source": [
        "# Pandas: conhecendo a biblioteca"
      ],
      "metadata": {
        "id": "mS7mLEMsYeQ1"
      }
    },
    {
      "cell_type": "markdown",
      "source": [
        "## Conhecendo a base de dados"
      ],
      "metadata": {
        "id": "TAi9UP-dkkvo"
      }
    },
    {
      "cell_type": "code",
      "source": [
        "import pandas as pd"
      ],
      "metadata": {
        "id": "d2YpFdiYYgf7"
      },
      "execution_count": null,
      "outputs": []
    },
    {
      "cell_type": "code",
      "source": [
        "url = 'https://raw.githubusercontent.com/lukaswyllis/formacao_python_para_data_science/refs/heads/master/pandas1/aluguel.csv'\n",
        "pd.read_csv(url)"
      ],
      "metadata": {
        "id": "X8mjv40glWcK"
      },
      "execution_count": null,
      "outputs": []
    },
    {
      "cell_type": "code",
      "source": [
        "dados = pd.read_csv(url, sep=';')\n",
        "dados"
      ],
      "metadata": {
        "id": "l__V-IiXlc18"
      },
      "execution_count": null,
      "outputs": []
    },
    {
      "cell_type": "code",
      "source": [
        "dados.head(10)"
      ],
      "metadata": {
        "id": "vKTd0QiilimN"
      },
      "execution_count": null,
      "outputs": []
    },
    {
      "cell_type": "code",
      "source": [
        "type(dados)"
      ],
      "metadata": {
        "id": "CT3E8f7hl7p0"
      },
      "execution_count": null,
      "outputs": []
    },
    {
      "cell_type": "code",
      "source": [
        "dados.shape"
      ],
      "metadata": {
        "id": "7wXNGyHxmL9w"
      },
      "execution_count": null,
      "outputs": []
    },
    {
      "cell_type": "code",
      "source": [
        "dados.columns"
      ],
      "metadata": {
        "id": "3K4vPYV8psla"
      },
      "execution_count": null,
      "outputs": []
    },
    {
      "cell_type": "code",
      "source": [
        "dados.info()"
      ],
      "metadata": {
        "id": "8ebxeZVfqYwH"
      },
      "execution_count": null,
      "outputs": []
    },
    {
      "cell_type": "code",
      "source": [
        "dados[['Quartos', 'Valor']]"
      ],
      "metadata": {
        "id": "ygBmFDiMqzla"
      },
      "execution_count": null,
      "outputs": []
    },
    {
      "cell_type": "code",
      "source": [],
      "metadata": {
        "id": "upeLKQdxrB5a"
      },
      "execution_count": null,
      "outputs": []
    },
    {
      "cell_type": "markdown",
      "source": [
        "### Desafio\n",
        "Para praticar os métodos aprendidos no decorrer dessa aula e também aprender novos, vamos realizar algumas análises utilizando um arquivo csv diferente: [alunos.csv](https://raw.githubusercontent.com/alura-cursos/pandas-conhecendo-a-biblioteca/main/desafios/alunos.csv).\n",
        "\n",
        "**1)** Importe o arquivo alunos.csv e armazene seu conteúdo em um DataFrame Pandas.\n",
        "\n",
        "**2)** Visualize as primeiras 7 linhas do DataFrame e as 5 últimas.\n",
        "\n",
        "**3)** Confira a quantidade de linhas e colunas desse DataFrame.\n",
        "\n",
        "**4)** Explore as colunas do DataFrame e analise os tipos dos dados presentes em cada coluna.\n",
        "\n",
        "**Extra:** Calcule algumas estatísticas descritivas básicas dos dados do DataFrame (média, desvio padrão, etc). **Dica**: pesquise pelo método **describe**."
      ],
      "metadata": {
        "id": "IipaMtXq_-1v"
      }
    },
    {
      "cell_type": "code",
      "source": [
        "url = 'https://raw.githubusercontent.com/lukaswyllis/formacao_python_para_data_science/refs/heads/master/pandas1/alunos.csv'\n",
        "alunos = pd.read_csv(url)"
      ],
      "metadata": {
        "id": "Hh57YBL8AEyo"
      },
      "execution_count": null,
      "outputs": []
    },
    {
      "cell_type": "code",
      "source": [
        "alunos.head(7)"
      ],
      "metadata": {
        "id": "0jYYnAKlASRm"
      },
      "execution_count": null,
      "outputs": []
    },
    {
      "cell_type": "code",
      "source": [
        "alunos.tail(5)"
      ],
      "metadata": {
        "id": "sJ1XSrgPATCm"
      },
      "execution_count": null,
      "outputs": []
    },
    {
      "cell_type": "code",
      "source": [
        "alunos.shape"
      ],
      "metadata": {
        "id": "UYjiDp24AZ9a"
      },
      "execution_count": null,
      "outputs": []
    },
    {
      "cell_type": "code",
      "source": [
        "alunos.info()"
      ],
      "metadata": {
        "id": "p27QOuSVA3y-"
      },
      "execution_count": null,
      "outputs": []
    },
    {
      "cell_type": "code",
      "source": [
        "alunos.describe()"
      ],
      "metadata": {
        "id": "v9Q2RxH8A46r"
      },
      "execution_count": null,
      "outputs": []
    },
    {
      "cell_type": "markdown",
      "source": [
        "## Análise exploratória dos dados"
      ],
      "metadata": {
        "id": "9u7IYbGuBXTH"
      }
    },
    {
      "cell_type": "code",
      "source": [
        "dados.head()"
      ],
      "metadata": {
        "id": "_QIR9j4BBG-6"
      },
      "execution_count": null,
      "outputs": []
    },
    {
      "cell_type": "code",
      "source": [
        "dados['Valor'].mean()"
      ],
      "metadata": {
        "id": "zxpx6Yh2EJ7p"
      },
      "execution_count": null,
      "outputs": []
    },
    {
      "cell_type": "code",
      "source": [
        "dados.groupby('Tipo').mean(numeric_only=True)"
      ],
      "metadata": {
        "id": "1plNdZrQEQSh"
      },
      "execution_count": null,
      "outputs": []
    },
    {
      "cell_type": "code",
      "source": [
        "dados.groupby('Tipo')['Valor'].mean()"
      ],
      "metadata": {
        "id": "3HtVAluBEnG1"
      },
      "execution_count": null,
      "outputs": []
    },
    {
      "cell_type": "code",
      "source": [
        "dados.groupby('Tipo')[['Valor']].mean().sort_values('Valor')"
      ],
      "metadata": {
        "id": "KkJxcD4AFjvs"
      },
      "execution_count": null,
      "outputs": []
    },
    {
      "cell_type": "code",
      "source": [
        "df_preco_tipo = dados.groupby('Tipo')[['Valor']].mean().sort_values('Valor')"
      ],
      "metadata": {
        "id": "sLNUDAGCFvw0"
      },
      "execution_count": null,
      "outputs": []
    },
    {
      "cell_type": "code",
      "source": [
        "df_preco_tipo.plot(kind='barh', figsize=(14, 10), color='purple')"
      ],
      "metadata": {
        "id": "9D7FpA74F8MM"
      },
      "execution_count": null,
      "outputs": []
    },
    {
      "cell_type": "code",
      "source": [
        "dados.Tipo.unique()"
      ],
      "metadata": {
        "id": "Kpe6bOC3GMIU"
      },
      "execution_count": null,
      "outputs": []
    },
    {
      "cell_type": "code",
      "source": [
        "imoveis_comerciais = ['Conjunto Comercial/Sala',\n",
        "                      'Prédio Inteiro', 'Loja/Salão',\n",
        "                      'Galpão/Depósito/Armazém',\n",
        "                      'Casa Comercial', 'Terreno Padrão',\n",
        "                      'Loja Shopping/ Ct Comercial',\n",
        "                      'Box/Garagem', 'Chácara',\n",
        "                      'Loteamento/Condomínio', 'Sítio',\n",
        "                      'Pousada/Chalé', 'Hotel', 'Indústria']"
      ],
      "metadata": {
        "id": "xUEoNEClK5J7"
      },
      "execution_count": null,
      "outputs": []
    },
    {
      "cell_type": "code",
      "source": [
        "dados.query('@imoveis_comerciais in Tipo')"
      ],
      "metadata": {
        "id": "P5FmAFY6LBk6"
      },
      "execution_count": null,
      "outputs": []
    },
    {
      "cell_type": "code",
      "source": [
        "dados.query('@imoveis_comerciais not in Tipo')"
      ],
      "metadata": {
        "id": "fuKgzk3IMpz9"
      },
      "execution_count": null,
      "outputs": []
    },
    {
      "cell_type": "code",
      "source": [
        "df = dados.query('@imoveis_comerciais not in Tipo')\n",
        "df.head()"
      ],
      "metadata": {
        "id": "zQqBaP80NB2e"
      },
      "execution_count": null,
      "outputs": []
    },
    {
      "cell_type": "code",
      "source": [
        "df.Tipo.unique()"
      ],
      "metadata": {
        "id": "yqvkrXWANFhn"
      },
      "execution_count": null,
      "outputs": []
    },
    {
      "cell_type": "code",
      "source": [
        "df_preco_tipo = df.groupby('Tipo')[['Valor']].mean().sort_values('Valor')\n",
        "df_preco_tipo.plot(kind='barh', figsize=(14, 10), color='purple')"
      ],
      "metadata": {
        "id": "MbI3E5MbNJ76"
      },
      "execution_count": null,
      "outputs": []
    },
    {
      "cell_type": "code",
      "source": [
        "df.Tipo.value_counts(normalize=True)"
      ],
      "metadata": {
        "id": "Wo4b6HbcQEWV"
      },
      "execution_count": null,
      "outputs": []
    },
    {
      "cell_type": "code",
      "source": [
        "df.Tipo.value_counts(normalize=True).to_frame().sort_values('Tipo', ascending=False)"
      ],
      "metadata": {
        "id": "5mdCOl-5SZ9w"
      },
      "execution_count": null,
      "outputs": []
    },
    {
      "cell_type": "code",
      "source": [
        "df_percentual_tipo = df.Tipo.value_counts(normalize=True).to_frame().sort_values('Tipo', ascending=False)\n",
        "df_percentual_tipo.plot(kind='bar', figsize=(14, 10), color='green', xlabel = 'Tipos', ylabel = 'Percentual')"
      ],
      "metadata": {
        "id": "IIqKTEUhSriw"
      },
      "execution_count": null,
      "outputs": []
    },
    {
      "cell_type": "code",
      "source": [
        "df_apartamentos = df.query('Tipo == \"Apartamento\"')\n",
        "df_apartamentos"
      ],
      "metadata": {
        "id": "EksYGu7ITYy5"
      },
      "execution_count": null,
      "outputs": []
    },
    {
      "cell_type": "code",
      "source": [
        "df_apartamentos['Bairro'].value_counts()"
      ],
      "metadata": {
        "id": "x0C8OBvbT4pM"
      },
      "execution_count": null,
      "outputs": []
    },
    {
      "cell_type": "markdown",
      "source": [
        "### Desafio 2\n",
        "O time de ML chegou com algumas demandas de última hora para resolvermos nesse momento da análise exploratória. Essas demandas são:\n",
        "\n",
        "**1)** Calcular a média de quartos por apartamento;\n",
        "\n",
        "**2)** Conferir quantos bairros únicos existem na nossa base de dados;\n",
        "\n",
        "**3)** Analisar quais bairros possuem a média de valor de aluguel mais elevadas;\n",
        "\n",
        "**4)** Criar um gráfico de barras horizontais que apresente os 5 bairros com as médias de valores de aluguel mais elevadas."
      ],
      "metadata": {
        "id": "I-dMO9tbU-ZE"
      }
    },
    {
      "cell_type": "code",
      "source": [
        "apartamentos = dados.query('Tipo == \"Apartamento\"')\n",
        "apartamentos['Quartos'].mean()"
      ],
      "metadata": {
        "id": "xB7iNP74VBXI"
      },
      "execution_count": null,
      "outputs": []
    },
    {
      "cell_type": "code",
      "source": [
        "len(dados['Bairro'].unique()) # contagem de bairros únicos"
      ],
      "metadata": {
        "id": "vLLdKSsNVafo"
      },
      "execution_count": null,
      "outputs": []
    },
    {
      "cell_type": "code",
      "source": [
        "dados['Bairro'].nunique() # contagem de bairros únicos, variação"
      ],
      "metadata": {
        "id": "RODbl3RbX-vO"
      },
      "execution_count": null,
      "outputs": []
    },
    {
      "cell_type": "code",
      "source": [
        "apts_caros = apartamentos.groupby('Bairro')['Valor'].mean().sort_values(ascending=False).head()"
      ],
      "metadata": {
        "id": "h4z6Ra9oVwmb"
      },
      "execution_count": null,
      "outputs": []
    },
    {
      "cell_type": "code",
      "source": [
        "apts_caros.plot(kind='barh', color='blue', xlabel = 'Bairros', ylabel='Média de Aluguel', figsize=(7,4))"
      ],
      "metadata": {
        "id": "8CfCPG81WGbP"
      },
      "execution_count": null,
      "outputs": []
    },
    {
      "cell_type": "code",
      "source": [],
      "metadata": {
        "id": "09TQ4921Xw-h"
      },
      "execution_count": null,
      "outputs": []
    }
  ]
}
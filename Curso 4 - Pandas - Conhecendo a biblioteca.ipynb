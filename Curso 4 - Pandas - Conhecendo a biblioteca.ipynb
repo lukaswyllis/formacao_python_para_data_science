{
  "nbformat": 4,
  "nbformat_minor": 0,
  "metadata": {
    "colab": {
      "provenance": []
    },
    "kernelspec": {
      "name": "python3",
      "display_name": "Python 3"
    },
    "language_info": {
      "name": "python"
    }
  },
  "cells": [
    {
      "cell_type": "markdown",
      "source": [
        "# Pandas: conhecendo a biblioteca"
      ],
      "metadata": {
        "id": "mS7mLEMsYeQ1"
      }
    },
    {
      "cell_type": "markdown",
      "source": [
        "## Conhecendo a base de dados"
      ],
      "metadata": {
        "id": "TAi9UP-dkkvo"
      }
    },
    {
      "cell_type": "code",
      "source": [
        "import pandas as pd"
      ],
      "metadata": {
        "id": "d2YpFdiYYgf7"
      },
      "execution_count": null,
      "outputs": []
    },
    {
      "cell_type": "code",
      "source": [
        "url = 'https://raw.githubusercontent.com/lukaswyllis/formacao_python_para_data_science/refs/heads/master/pandas1/aluguel.csv'\n",
        "pd.read_csv(url)"
      ],
      "metadata": {
        "id": "X8mjv40glWcK"
      },
      "execution_count": null,
      "outputs": []
    },
    {
      "cell_type": "code",
      "source": [
        "dados = pd.read_csv(url, sep=';')\n",
        "dados"
      ],
      "metadata": {
        "id": "l__V-IiXlc18"
      },
      "execution_count": null,
      "outputs": []
    },
    {
      "cell_type": "code",
      "source": [
        "dados.head(10)"
      ],
      "metadata": {
        "id": "vKTd0QiilimN"
      },
      "execution_count": null,
      "outputs": []
    },
    {
      "cell_type": "code",
      "source": [
        "type(dados)"
      ],
      "metadata": {
        "id": "CT3E8f7hl7p0"
      },
      "execution_count": null,
      "outputs": []
    },
    {
      "cell_type": "code",
      "source": [
        "dados.shape"
      ],
      "metadata": {
        "id": "7wXNGyHxmL9w"
      },
      "execution_count": null,
      "outputs": []
    },
    {
      "cell_type": "code",
      "source": [
        "dados.columns"
      ],
      "metadata": {
        "id": "3K4vPYV8psla"
      },
      "execution_count": null,
      "outputs": []
    },
    {
      "cell_type": "code",
      "source": [
        "dados.info()"
      ],
      "metadata": {
        "id": "8ebxeZVfqYwH"
      },
      "execution_count": null,
      "outputs": []
    },
    {
      "cell_type": "code",
      "source": [
        "dados[['Quartos', 'Valor']]"
      ],
      "metadata": {
        "id": "ygBmFDiMqzla"
      },
      "execution_count": null,
      "outputs": []
    },
    {
      "cell_type": "code",
      "source": [],
      "metadata": {
        "id": "upeLKQdxrB5a"
      },
      "execution_count": null,
      "outputs": []
    },
    {
      "cell_type": "markdown",
      "source": [
        "### Desafio\n",
        "Para praticar os métodos aprendidos no decorrer dessa aula e também aprender novos, vamos realizar algumas análises utilizando um arquivo csv diferente: [alunos.csv](https://raw.githubusercontent.com/alura-cursos/pandas-conhecendo-a-biblioteca/main/desafios/alunos.csv).\n",
        "\n",
        "**1)** Importe o arquivo alunos.csv e armazene seu conteúdo em um DataFrame Pandas.\n",
        "\n",
        "**2)** Visualize as primeiras 7 linhas do DataFrame e as 5 últimas.\n",
        "\n",
        "**3)** Confira a quantidade de linhas e colunas desse DataFrame.\n",
        "\n",
        "**4)** Explore as colunas do DataFrame e analise os tipos dos dados presentes em cada coluna.\n",
        "\n",
        "**Extra:** Calcule algumas estatísticas descritivas básicas dos dados do DataFrame (média, desvio padrão, etc). **Dica**: pesquise pelo método **describe**."
      ],
      "metadata": {
        "id": "IipaMtXq_-1v"
      }
    },
    {
      "cell_type": "code",
      "source": [
        "url = 'https://raw.githubusercontent.com/lukaswyllis/formacao_python_para_data_science/refs/heads/master/pandas1/alunos.csv'\n",
        "alunos = pd.read_csv(url)"
      ],
      "metadata": {
        "id": "Hh57YBL8AEyo"
      },
      "execution_count": null,
      "outputs": []
    },
    {
      "cell_type": "code",
      "source": [
        "alunos.head(7)"
      ],
      "metadata": {
        "id": "0jYYnAKlASRm"
      },
      "execution_count": null,
      "outputs": []
    },
    {
      "cell_type": "code",
      "source": [
        "alunos.tail(5)"
      ],
      "metadata": {
        "id": "sJ1XSrgPATCm"
      },
      "execution_count": null,
      "outputs": []
    },
    {
      "cell_type": "code",
      "source": [
        "alunos.shape"
      ],
      "metadata": {
        "id": "UYjiDp24AZ9a"
      },
      "execution_count": null,
      "outputs": []
    },
    {
      "cell_type": "code",
      "source": [
        "alunos.info()"
      ],
      "metadata": {
        "id": "p27QOuSVA3y-"
      },
      "execution_count": null,
      "outputs": []
    },
    {
      "cell_type": "code",
      "source": [
        "alunos.describe()"
      ],
      "metadata": {
        "id": "v9Q2RxH8A46r"
      },
      "execution_count": null,
      "outputs": []
    },
    {
      "cell_type": "markdown",
      "source": [
        "## Análise exploratória dos dados"
      ],
      "metadata": {
        "id": "9u7IYbGuBXTH"
      }
    },
    {
      "cell_type": "code",
      "source": [
        "dados.head()"
      ],
      "metadata": {
        "id": "_QIR9j4BBG-6"
      },
      "execution_count": null,
      "outputs": []
    },
    {
      "cell_type": "code",
      "source": [
        "dados['Valor'].mean()"
      ],
      "metadata": {
        "id": "zxpx6Yh2EJ7p"
      },
      "execution_count": null,
      "outputs": []
    },
    {
      "cell_type": "code",
      "source": [
        "dados.groupby('Tipo').mean(numeric_only=True)"
      ],
      "metadata": {
        "id": "1plNdZrQEQSh"
      },
      "execution_count": null,
      "outputs": []
    },
    {
      "cell_type": "code",
      "source": [
        "dados.groupby('Tipo')['Valor'].mean()"
      ],
      "metadata": {
        "id": "3HtVAluBEnG1"
      },
      "execution_count": null,
      "outputs": []
    },
    {
      "cell_type": "code",
      "source": [
        "dados.groupby('Tipo')[['Valor']].mean().sort_values('Valor')"
      ],
      "metadata": {
        "id": "KkJxcD4AFjvs"
      },
      "execution_count": null,
      "outputs": []
    },
    {
      "cell_type": "code",
      "source": [
        "df_preco_tipo = dados.groupby('Tipo')[['Valor']].mean().sort_values('Valor')"
      ],
      "metadata": {
        "id": "sLNUDAGCFvw0"
      },
      "execution_count": null,
      "outputs": []
    },
    {
      "cell_type": "code",
      "source": [
        "df_preco_tipo.plot(kind='barh', figsize=(14, 10), color='purple')"
      ],
      "metadata": {
        "id": "9D7FpA74F8MM"
      },
      "execution_count": null,
      "outputs": []
    },
    {
      "cell_type": "code",
      "source": [
        "dados.Tipo.unique()"
      ],
      "metadata": {
        "id": "Kpe6bOC3GMIU"
      },
      "execution_count": null,
      "outputs": []
    },
    {
      "cell_type": "code",
      "source": [
        "imoveis_comerciais = ['Conjunto Comercial/Sala',\n",
        "                      'Prédio Inteiro', 'Loja/Salão',\n",
        "                      'Galpão/Depósito/Armazém',\n",
        "                      'Casa Comercial', 'Terreno Padrão',\n",
        "                      'Loja Shopping/ Ct Comercial',\n",
        "                      'Box/Garagem', 'Chácara',\n",
        "                      'Loteamento/Condomínio', 'Sítio',\n",
        "                      'Pousada/Chalé', 'Hotel', 'Indústria']"
      ],
      "metadata": {
        "id": "xUEoNEClK5J7"
      },
      "execution_count": null,
      "outputs": []
    },
    {
      "cell_type": "code",
      "source": [
        "dados.query('@imoveis_comerciais in Tipo')"
      ],
      "metadata": {
        "id": "P5FmAFY6LBk6"
      },
      "execution_count": null,
      "outputs": []
    },
    {
      "cell_type": "code",
      "source": [
        "dados.query('@imoveis_comerciais not in Tipo')"
      ],
      "metadata": {
        "id": "fuKgzk3IMpz9"
      },
      "execution_count": null,
      "outputs": []
    },
    {
      "cell_type": "code",
      "source": [
        "df = dados.query('@imoveis_comerciais not in Tipo')\n",
        "df.head()"
      ],
      "metadata": {
        "id": "zQqBaP80NB2e"
      },
      "execution_count": null,
      "outputs": []
    },
    {
      "cell_type": "code",
      "source": [
        "df.Tipo.unique()"
      ],
      "metadata": {
        "id": "yqvkrXWANFhn"
      },
      "execution_count": null,
      "outputs": []
    },
    {
      "cell_type": "code",
      "source": [
        "df_preco_tipo = df.groupby('Tipo')[['Valor']].mean().sort_values('Valor')\n",
        "df_preco_tipo.plot(kind='barh', figsize=(14, 10), color='purple')"
      ],
      "metadata": {
        "id": "MbI3E5MbNJ76"
      },
      "execution_count": null,
      "outputs": []
    },
    {
      "cell_type": "code",
      "source": [
        "df.Tipo.value_counts(normalize=True)"
      ],
      "metadata": {
        "id": "Wo4b6HbcQEWV"
      },
      "execution_count": null,
      "outputs": []
    },
    {
      "cell_type": "code",
      "source": [
        "df.Tipo.value_counts(normalize=True).to_frame().sort_values('Tipo', ascending=False)"
      ],
      "metadata": {
        "id": "5mdCOl-5SZ9w"
      },
      "execution_count": null,
      "outputs": []
    },
    {
      "cell_type": "code",
      "source": [
        "df_percentual_tipo = df.Tipo.value_counts(normalize=True).to_frame().sort_values('Tipo', ascending=False)\n",
        "df_percentual_tipo.plot(kind='bar', figsize=(14, 10), color='green', xlabel = 'Tipos', ylabel = 'Percentual')"
      ],
      "metadata": {
        "id": "IIqKTEUhSriw"
      },
      "execution_count": null,
      "outputs": []
    },
    {
      "cell_type": "code",
      "source": [
        "df_apartamentos = df.query('Tipo == \"Apartamento\"')\n",
        "df_apartamentos"
      ],
      "metadata": {
        "id": "EksYGu7ITYy5"
      },
      "execution_count": null,
      "outputs": []
    },
    {
      "cell_type": "code",
      "source": [
        "df_apartamentos['Bairro'].value_counts()"
      ],
      "metadata": {
        "id": "x0C8OBvbT4pM"
      },
      "execution_count": null,
      "outputs": []
    },
    {
      "cell_type": "markdown",
      "source": [
        "### Desafio 2\n",
        "O time de ML chegou com algumas demandas de última hora para resolvermos nesse momento da análise exploratória. Essas demandas são:\n",
        "\n",
        "**1)** Calcular a média de quartos por apartamento;\n",
        "\n",
        "**2)** Conferir quantos bairros únicos existem na nossa base de dados;\n",
        "\n",
        "**3)** Analisar quais bairros possuem a média de valor de aluguel mais elevadas;\n",
        "\n",
        "**4)** Criar um gráfico de barras horizontais que apresente os 5 bairros com as médias de valores de aluguel mais elevadas."
      ],
      "metadata": {
        "id": "I-dMO9tbU-ZE"
      }
    },
    {
      "cell_type": "code",
      "source": [
        "apartamentos = dados.query('Tipo == \"Apartamento\"')\n",
        "apartamentos['Quartos'].mean()"
      ],
      "metadata": {
        "id": "xB7iNP74VBXI"
      },
      "execution_count": null,
      "outputs": []
    },
    {
      "cell_type": "code",
      "source": [
        "len(dados['Bairro'].unique()) # contagem de bairros únicos"
      ],
      "metadata": {
        "id": "vLLdKSsNVafo"
      },
      "execution_count": null,
      "outputs": []
    },
    {
      "cell_type": "code",
      "source": [
        "dados['Bairro'].nunique() # contagem de bairros únicos, variação"
      ],
      "metadata": {
        "id": "RODbl3RbX-vO"
      },
      "execution_count": null,
      "outputs": []
    },
    {
      "cell_type": "code",
      "source": [
        "apts_caros = apartamentos.groupby('Bairro')['Valor'].mean().sort_values(ascending=False).head()"
      ],
      "metadata": {
        "id": "h4z6Ra9oVwmb"
      },
      "execution_count": null,
      "outputs": []
    },
    {
      "cell_type": "code",
      "source": [
        "apts_caros.plot(kind='barh', color='blue', xlabel = 'Bairros', ylabel='Média de Aluguel', figsize=(7,4))"
      ],
      "metadata": {
        "id": "8CfCPG81WGbP"
      },
      "execution_count": null,
      "outputs": []
    },
    {
      "cell_type": "markdown",
      "source": [
        "## Tratando e filtrando dados"
      ],
      "metadata": {
        "id": "CxbTolQAvUGv"
      }
    },
    {
      "cell_type": "code",
      "source": [
        "df.isnull()"
      ],
      "metadata": {
        "id": "18Cv2saNvWzu"
      },
      "execution_count": null,
      "outputs": []
    },
    {
      "cell_type": "code",
      "source": [
        "df.isnull().sum()"
      ],
      "metadata": {
        "id": "2Ps-_UkqxBbM"
      },
      "execution_count": null,
      "outputs": []
    },
    {
      "cell_type": "code",
      "source": [
        "df.fillna(0)"
      ],
      "metadata": {
        "id": "QuDHX5_bxOdE"
      },
      "execution_count": null,
      "outputs": []
    },
    {
      "cell_type": "code",
      "source": [
        "df = df.fillna(0)"
      ],
      "metadata": {
        "id": "FsRofRq-yFi3"
      },
      "execution_count": null,
      "outputs": []
    },
    {
      "cell_type": "code",
      "source": [
        "df.isnull().sum()"
      ],
      "metadata": {
        "id": "Wz8eXOU9yKML"
      },
      "execution_count": null,
      "outputs": []
    },
    {
      "cell_type": "code",
      "source": [
        "apartamentos = df.query('Tipo == \"Apartamento\"')\n",
        "apartamentos"
      ],
      "metadata": {
        "id": "VvD0InpLyQKI"
      },
      "execution_count": null,
      "outputs": []
    },
    {
      "cell_type": "code",
      "source": [
        "registros_a_remover = apartamentos.query('Valor == 0 | Condominio == 0').index"
      ],
      "metadata": {
        "id": "A_7fGt860yIL"
      },
      "execution_count": null,
      "outputs": []
    },
    {
      "cell_type": "code",
      "source": [
        "apartamentos.drop(registros_a_remover, axis=0, inplace = True) # Axis 0 = remover linhas, Axis 1 = remover colunas"
      ],
      "metadata": {
        "id": "TozhQx7J05U7"
      },
      "execution_count": null,
      "outputs": []
    },
    {
      "cell_type": "code",
      "source": [
        "apartamentos"
      ],
      "metadata": {
        "id": "vvhZb5N31y0A"
      },
      "execution_count": null,
      "outputs": []
    },
    {
      "cell_type": "code",
      "source": [
        "apartamentos.query('Valor == 0 | Condominio == 0')"
      ],
      "metadata": {
        "id": "H3UrlcFe12kL"
      },
      "execution_count": null,
      "outputs": []
    },
    {
      "cell_type": "code",
      "source": [
        "apartamentos.Tipo.unique()"
      ],
      "metadata": {
        "id": "GU77K1O818SD"
      },
      "execution_count": null,
      "outputs": []
    },
    {
      "cell_type": "code",
      "source": [
        "apartamentos.drop('Tipo', axis=1, inplace=True)\n",
        "apartamentos"
      ],
      "metadata": {
        "id": "a_NDOTLS2K5E"
      },
      "execution_count": null,
      "outputs": []
    },
    {
      "cell_type": "code",
      "source": [
        "apartamentos.query('Quartos == 1 & Valor < 1200') # Filtro comum com o query"
      ],
      "metadata": {
        "id": "HpAHoORJ2UA_"
      },
      "execution_count": null,
      "outputs": []
    },
    {
      "cell_type": "code",
      "source": [
        "selecao1 = apartamentos['Quartos'] == 1"
      ],
      "metadata": {
        "id": "XttCPrKw30a7"
      },
      "execution_count": null,
      "outputs": []
    },
    {
      "cell_type": "code",
      "source": [
        "apartamentos[selecao1]"
      ],
      "metadata": {
        "id": "eD_-TTWz3-NI"
      },
      "execution_count": null,
      "outputs": []
    },
    {
      "cell_type": "code",
      "source": [
        "selecao2 = apartamentos['Valor'] < 1200"
      ],
      "metadata": {
        "id": "Wr_qypFK4Ify"
      },
      "execution_count": null,
      "outputs": []
    },
    {
      "cell_type": "code",
      "source": [
        "apartamentos[selecao2]"
      ],
      "metadata": {
        "id": "6skVzFJG4kKC"
      },
      "execution_count": null,
      "outputs": []
    },
    {
      "cell_type": "code",
      "source": [
        "selecao_final = (selecao1) & (selecao2)\n",
        "selecao_final"
      ],
      "metadata": {
        "id": "5l7cvqt94lui"
      },
      "execution_count": null,
      "outputs": []
    },
    {
      "cell_type": "code",
      "source": [
        "apartamentos[selecao_final]"
      ],
      "metadata": {
        "id": "4Y5ZhEHH44Gq"
      },
      "execution_count": null,
      "outputs": []
    },
    {
      "cell_type": "code",
      "source": [
        "df_1 = apartamentos[selecao_final]"
      ],
      "metadata": {
        "id": "G507J5i848IR"
      },
      "execution_count": null,
      "outputs": []
    },
    {
      "cell_type": "code",
      "source": [
        "df_1"
      ],
      "metadata": {
        "id": "Dte-oGY-CinC"
      },
      "execution_count": null,
      "outputs": []
    },
    {
      "cell_type": "code",
      "source": [
        "selecao = (apartamentos['Quartos'] >= 2) & (apartamentos['Valor'] < 3000) & (apartamentos['Area'] > 70)"
      ],
      "metadata": {
        "id": "HLk5Sl7j5EwT"
      },
      "execution_count": null,
      "outputs": []
    },
    {
      "cell_type": "code",
      "source": [
        "df_2 = apartamentos[selecao]"
      ],
      "metadata": {
        "id": "bqcgvpor5YG5"
      },
      "execution_count": null,
      "outputs": []
    },
    {
      "cell_type": "code",
      "source": [
        "df_2"
      ],
      "metadata": {
        "id": "rKvEB7yT5Znu"
      },
      "execution_count": null,
      "outputs": []
    },
    {
      "cell_type": "code",
      "source": [
        "selecao = (apartamentos['Area'] > 80) | (apartamentos['Area'] < 4000)\n",
        "apartamentos[selecao]"
      ],
      "metadata": {
        "id": "gcYCoNMa5l5W"
      },
      "execution_count": null,
      "outputs": []
    },
    {
      "cell_type": "code",
      "source": [
        "apartamentos.to_csv('dados_apartamentos.csv', index=False)"
      ],
      "metadata": {
        "id": "1_G9lfvr9q9B"
      },
      "execution_count": null,
      "outputs": []
    },
    {
      "cell_type": "code",
      "source": [
        "teste = pd.read_csv('dados_apartamentos.csv')\n",
        "teste"
      ],
      "metadata": {
        "id": "-2U824ZV-kaY"
      },
      "execution_count": null,
      "outputs": []
    },
    {
      "cell_type": "code",
      "source": [
        "apartamentos.to_csv('dados_apartamentos2.csv', index=False, sep=';')"
      ],
      "metadata": {
        "id": "cK-LCQTy_iOs"
      },
      "execution_count": null,
      "outputs": []
    },
    {
      "cell_type": "code",
      "source": [
        "teste = pd.read_csv('dados_apartamentos2.csv')\n",
        "teste"
      ],
      "metadata": {
        "id": "MGKSbK1YBkUp"
      },
      "execution_count": null,
      "outputs": []
    },
    {
      "cell_type": "code",
      "source": [
        "teste = pd.read_csv('dados_apartamentos2.csv', sep=';')\n",
        "teste"
      ],
      "metadata": {
        "id": "H-BgOER-BmGP"
      },
      "execution_count": null,
      "outputs": []
    },
    {
      "cell_type": "markdown",
      "source": [
        "### Desafio 3\n",
        "Durante o desenvolvimento do nosso projeto, nós aplicamos alguns filtros na nossa base de dados e salvamos os DataFrames resultantes em diferentes variáveis, sendo elas: df_1 e df_2.\n",
        "\n",
        "Com base nisso, salve esses DataFrames em 2 arquivos csv distintos para que o time de ML possa ter acesso a esses dados de forma mais prática.\n"
      ],
      "metadata": {
        "id": "hquNp4BnCGuq"
      }
    },
    {
      "cell_type": "code",
      "source": [
        "df_1.to_csv('lista_apartamentos1.csv', index=False, sep=';')\n",
        "df_2.to_csv('lista_apartamentos2.csv', index=False, sep=';')"
      ],
      "metadata": {
        "id": "CeMv0YJvCJSn"
      },
      "execution_count": null,
      "outputs": []
    },
    {
      "cell_type": "markdown",
      "source": [
        "### Desafio: bora praticar?\n",
        "Para praticar os métodos aprendidos no decorrer dessa aula e também aprender novos, vamos realizar alguns tratamentos e seleções utilizando um arquivo csv diferente: alunos.csv.\n",
        "\n",
        "Esse arquivo é o mesmo utilizado para resolução dos desafios da aula 1 e possui dados referentes a alunos de um curso superior.\n",
        "\n",
        "Com base nisso, solucione os problemas propostos abaixo utilizando os conhecimentos adquiridos até aqui.\n",
        "\n",
        "1) Verifique se a base de dados possui dados nulos e, caso tenha, realize o tratamento desses dados nulos da forma que achar mais coerente com a situação.\n",
        "\n",
        "2) Os alunos \"Alice\" e \"Carlos\", não fazem mais parte da turma. Sendo assim, remova-os da base de dados.\n",
        "\n",
        "3) Aplique um filtro que selecione apenas os alunos que foram aprovados.\n",
        "\n",
        "4) Salve o DataFrame que possui apenas os alunos aprovados em um arquivo csv chamado \"alunos_aprovados.csv\".\n",
        "\n",
        "Extra: Ao conferir as notas dos alunos aprovados, notamos que algumas notas estavam incorretas. As alunas que tiraram nota 7.0, na verdade, tinham um ponto extra que não foi contabilizado. Sendo assim, substitua as notas 7.0 da base de dados por 8.0. Dica: pesquise pelo método replace."
      ],
      "metadata": {
        "id": "h-T1vnyuH0yF"
      }
    },
    {
      "cell_type": "code",
      "source": [
        "alunos.isnull().sum()\n",
        "alunos['Notas'].fillna(0, inplace=True)"
      ],
      "metadata": {
        "id": "gU4AQFKcH19x"
      },
      "execution_count": null,
      "outputs": []
    },
    {
      "cell_type": "code",
      "source": [
        "alunos_removidos = alunos.query('Nome in (\"Alice\", \"Carlos\")').index\n",
        "alunos.drop(alunos_removidos, inplace=True)\n",
        "alunos"
      ],
      "metadata": {
        "id": "5seMJVZuKc85"
      },
      "execution_count": null,
      "outputs": []
    },
    {
      "cell_type": "code",
      "source": [
        "aprovados = alunos.query('Aprovado == True')"
      ],
      "metadata": {
        "id": "udZcWU8UKxGN"
      },
      "execution_count": null,
      "outputs": []
    },
    {
      "cell_type": "code",
      "source": [
        "aprovados"
      ],
      "metadata": {
        "id": "kQ4sKnULLWep"
      },
      "execution_count": null,
      "outputs": []
    },
    {
      "cell_type": "code",
      "source": [
        "aprovados.to_csv('alunos_aprovados.csv', sep=';', index=False)"
      ],
      "metadata": {
        "id": "142GH_E2LbJ5"
      },
      "execution_count": null,
      "outputs": []
    },
    {
      "cell_type": "code",
      "source": [
        "alunos['Notas'].replace(7, 8, inplace=True)\n",
        "alunos"
      ],
      "metadata": {
        "id": "VOEMmOgSLwCG"
      },
      "execution_count": null,
      "outputs": []
    },
    {
      "cell_type": "markdown",
      "source": [
        "## Manipulando dados"
      ],
      "metadata": {
        "id": "yjrZqIwSMFXw"
      }
    },
    {
      "cell_type": "code",
      "source": [
        "dados.fillna(0, inplace=True)"
      ],
      "metadata": {
        "id": "Bx3bHXMPMHPg"
      },
      "execution_count": null,
      "outputs": []
    },
    {
      "cell_type": "code",
      "source": [
        "dados"
      ],
      "metadata": {
        "id": "qYW9jMDZNHAc"
      },
      "execution_count": null,
      "outputs": []
    },
    {
      "cell_type": "code",
      "source": [
        "dados['Valor_por_mes'] = dados['Valor'] + dados['Condominio']\n",
        "dados"
      ],
      "metadata": {
        "id": "ufspscylNL90"
      },
      "execution_count": null,
      "outputs": []
    },
    {
      "cell_type": "code",
      "source": [
        "dados['Valor_por_ano'] = dados['Valor_por_mes']*12 + dados['IPTU']\n",
        "dados"
      ],
      "metadata": {
        "id": "exVkdRmdNvlQ"
      },
      "execution_count": null,
      "outputs": []
    },
    {
      "cell_type": "code",
      "source": [
        "dados['Descricao'] = dados['Tipo'] + ' em ' + dados['Bairro']\n",
        "dados"
      ],
      "metadata": {
        "id": "NSuWDkgEO3I7"
      },
      "execution_count": null,
      "outputs": []
    },
    {
      "cell_type": "code",
      "source": [
        "dados['Descricao'] = dados['Tipo'] + ' em ' + dados['Bairro'] + ' com ' + dados['Quartos'] + ' quartos ' + ' e ' + dados['Vagas'] + ' vagas de garagem.'\n",
        "dados"
      ],
      "metadata": {
        "id": "W8WRBc7ZQyoL"
      },
      "execution_count": null,
      "outputs": []
    },
    {
      "cell_type": "code",
      "source": [
        "dados['Descricao'] = dados['Tipo'] + ' em ' + dados['Bairro'] + ' com ' + dados['Quartos'].astype(str) + ' quartos ' + ' e ' + dados['Vagas'].astype(str) + ' vagas de garagem.'\n",
        "dados"
      ],
      "metadata": {
        "id": "95PGiXAIRGGj"
      },
      "execution_count": null,
      "outputs": []
    },
    {
      "cell_type": "code",
      "source": [
        "dados['Possui_suite'] = dados['Suites'].apply(lambda x: 'Sim' if x > 0 else 'Não')\n",
        "dados"
      ],
      "metadata": {
        "id": "lRjuhU7WRQFU"
      },
      "execution_count": null,
      "outputs": []
    },
    {
      "cell_type": "code",
      "source": [
        "dados.to_csv('dados_completos.csv', index=False, sep=';')"
      ],
      "metadata": {
        "id": "Plv17fKlS07L"
      },
      "execution_count": null,
      "outputs": []
    },
    {
      "cell_type": "code",
      "source": [
        "indicador = {'Cooperativas': [1001, 1002, 1003], 'IB': [12, 15, 20]}\n",
        "rating = pd.DataFrame(indicador)"
      ],
      "metadata": {
        "id": "46c7S5fOTYJw"
      },
      "execution_count": null,
      "outputs": []
    },
    {
      "cell_type": "code",
      "source": [
        "def calcula_faixa_ib(ib):\n",
        "  if ib <= 10:\n",
        "    return 1 # faixa 1\n",
        "  elif ib >= 11 and ib <= 14:\n",
        "    return 2 # faixa 2\n",
        "  elif ib >= 15 and ib <= 18:\n",
        "    return 3 # faixa 3\n",
        "  elif ib >= 19:\n",
        "    return 4 # faixa 4\n",
        "  else:\n",
        "    return -1 # erro\n"
      ],
      "metadata": {
        "id": "e0FDGIgoVj4i"
      },
      "execution_count": null,
      "outputs": []
    },
    {
      "cell_type": "code",
      "source": [
        "rating['Faixa'] = rating['IB'].apply(calcula_faixa_ib)\n",
        "rating"
      ],
      "metadata": {
        "id": "O74s9cp0XQh6"
      },
      "execution_count": null,
      "outputs": []
    },
    {
      "cell_type": "markdown",
      "source": [
        "### Desafio: bora praticar?\n",
        "Para praticar os métodos aprendidos no decorrer dessa aula e também aprender novos, vamos realizar alguns tratamentos e seleções utilizando um arquivo csv diferente: alunos.csv.\n",
        "\n",
        "Esse arquivo é o mesmo utilizado para resolução dos desafios da aula 1 e 3 e possui dados referentes a alunos de um curso superior. Com base nisso, solucione os problemas propostos abaixo utilizando os conhecimentos adquiridos até aqui.\n",
        "\n",
        "1) Os alunos participaram de uma atividade extracurricular e ganharam pontos extras. Esses pontos extras correspondem a 40% da nota atual de cada um deles. Com base nisso, crie uma coluna chamada \"Pontos_extras\" que contenha os pontos extras de cada aluno, ou seja, 40% da nota atual deles.\n",
        "\n",
        "2) Crie mais uma coluna, chamada \"Notas_finais\" que possua as notas de cada aluno somada com os pontos extras.\n",
        "\n",
        "3) Como houve uma pontuação extra, alguns alunos que não tinham sido aprovados antes podem ter sido aprovados agora. Com base nisso, crie uma coluna chamada \"Aprovado_final\" com os seguintes valores:\n",
        "\n",
        "True: caso o aluno esteja aprovado (nota final deve ser maior ou igual a 6);\n",
        "False: caso o aluno esteja reprovado (nota final deve ser menor que 6).\n",
        "\n",
        "4) Faça uma seleção e verifique quais alunos não tinham sido aprovados anteriormente, mas foram aprovados após a soma dos pontos extras.\n",
        "\n",
        "Caso queira, deixo disponibilizado um notebook para resolver os desafios. Você pode baixá-lo e fazer upload no Google Drive ou direto no Google Colab para realizar os desafios dessa e das próximas aulas.\n",
        "\n",
        "Se precisar de ajuda, na seção \"Opinião do Instrutor\", você pode encontrar algumas formas de resolver os desafios propostos acima.\n",
        "\n"
      ],
      "metadata": {
        "id": "HY33MY55YWiy"
      }
    },
    {
      "cell_type": "code",
      "source": [
        "alunos['Pontos_extras'] = alunos['Notas'] * 0.4\n",
        "alunos"
      ],
      "metadata": {
        "id": "n9IBg_4gYZzx"
      },
      "execution_count": null,
      "outputs": []
    },
    {
      "cell_type": "code",
      "source": [
        "alunos['Notas_finais'] = alunos['Notas'] + alunos['Pontos_extras']\n",
        "alunos"
      ],
      "metadata": {
        "id": "Y768SsMqYcVK"
      },
      "execution_count": null,
      "outputs": []
    },
    {
      "cell_type": "code",
      "source": [
        "alunos['Aprovado_final'] = alunos['Notas_finais'].apply(lambda x: True if x >= 6 else False)\n",
        "alunos"
      ],
      "metadata": {
        "id": "_Mpwvz5JYvUF"
      },
      "execution_count": null,
      "outputs": []
    },
    {
      "cell_type": "code",
      "source": [
        "novos_aprovados = alunos.query('Aprovado == False & Aprovado_final == True')\n",
        "novos_aprovados"
      ],
      "metadata": {
        "id": "iSg5AaFdZGgN"
      },
      "execution_count": null,
      "outputs": []
    }
  ]
}
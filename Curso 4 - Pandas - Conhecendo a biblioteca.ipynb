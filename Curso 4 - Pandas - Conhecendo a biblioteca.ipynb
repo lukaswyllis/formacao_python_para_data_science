{
  "nbformat": 4,
  "nbformat_minor": 0,
  "metadata": {
    "colab": {
      "provenance": []
    },
    "kernelspec": {
      "name": "python3",
      "display_name": "Python 3"
    },
    "language_info": {
      "name": "python"
    }
  },
  "cells": [
    {
      "cell_type": "markdown",
      "source": [
        "## Descrição\n",
        "\n",
        "Esse notebook foi construído para realizar os desafios propostos no final de cada aula do curso **Pandas: conhecendo a biblioteca**"
      ],
      "metadata": {
        "id": "goua7aDHJVFQ"
      }
    },
    {
      "cell_type": "markdown",
      "source": [
        "## Aula 1: Conhecendo a base de dados"
      ],
      "metadata": {
        "id": "2osVQB21Jkl0"
      }
    },
    {
      "cell_type": "markdown",
      "source": [
        "### Desafio 1\n",
        "Importe o arquivo [**alunos.csv**](https://raw.githubusercontent.com/alura-cursos/pandas-conhecendo-a-biblioteca/main/desafios/alunos.csv) e armazene seu conteúdo em um DataFrame Pandas"
      ],
      "metadata": {
        "id": "MvoEQ0djJ4zz"
      }
    },
    {
      "cell_type": "code",
      "execution_count": null,
      "metadata": {
        "id": "vGH2QKP6JL-f"
      },
      "outputs": [],
      "source": [
        "import pandas as pd"
      ]
    },
    {
      "cell_type": "code",
      "source": [
        "url = 'https://github.com/lukaswyllis/formacao_python_para_data_science/raw/refs/heads/master/dados-curso4/aluguel.csv'\n",
        "dados = pd.read_csv(url, sep=';')\n",
        "dados"
      ],
      "metadata": {
        "id": "woFmZUEwKDjH"
      },
      "execution_count": null,
      "outputs": []
    },
    {
      "cell_type": "markdown",
      "source": [
        "### Desafio 2\n",
        "Visualize as primeiras 7 linhas do DataFrame e as 5 últimas"
      ],
      "metadata": {
        "id": "_Clm9OC8KEzn"
      }
    },
    {
      "cell_type": "code",
      "source": [
        "dados.head(7)"
      ],
      "metadata": {
        "id": "dGnHtl0CKVBj"
      },
      "execution_count": null,
      "outputs": []
    },
    {
      "cell_type": "code",
      "source": [
        "dados.tail()"
      ],
      "metadata": {
        "id": "hksDPBjjKY27"
      },
      "execution_count": null,
      "outputs": []
    },
    {
      "cell_type": "markdown",
      "source": [
        "### Desafio 3\n",
        "Confira a quantidade de linhas e colunas do DataFrame"
      ],
      "metadata": {
        "id": "5h6GhVJJKZZn"
      }
    },
    {
      "cell_type": "code",
      "source": [
        "dados.shape"
      ],
      "metadata": {
        "id": "Na2Hb-rlKfBy"
      },
      "execution_count": null,
      "outputs": []
    },
    {
      "cell_type": "markdown",
      "source": [
        "### Desafio 4\n",
        "Explore as colunas do DataFrame e analise os tipos dos dados presentes em cada coluna"
      ],
      "metadata": {
        "id": "ci0j5pcMKgbr"
      }
    },
    {
      "cell_type": "code",
      "source": [
        "dados.columns"
      ],
      "metadata": {
        "id": "BcZUf6dwKjk7"
      },
      "execution_count": null,
      "outputs": []
    },
    {
      "cell_type": "code",
      "source": [
        "dados['Notas']"
      ],
      "metadata": {
        "id": "QHCBKee6Kkj7"
      },
      "execution_count": null,
      "outputs": []
    },
    {
      "cell_type": "code",
      "source": [
        "dados[['Nome', 'Aprovado']]"
      ],
      "metadata": {
        "id": "xPQMDDaVKlLB"
      },
      "execution_count": null,
      "outputs": []
    },
    {
      "cell_type": "code",
      "source": [
        "dados.dtypes"
      ],
      "metadata": {
        "id": "SFHoqZvlKldl"
      },
      "execution_count": null,
      "outputs": []
    },
    {
      "cell_type": "markdown",
      "source": [
        "### **Extra**\n",
        "Calcule algumas estatísticas descritivas básicas dos dados do DataFrame (média, desvio padrão, etc) - Dica: pesquise pelo método **describe**"
      ],
      "metadata": {
        "id": "jR8mayuIKl0m"
      }
    },
    {
      "cell_type": "code",
      "source": [
        "dados.describe()"
      ],
      "metadata": {
        "id": "tE07xd72KrE1"
      },
      "execution_count": null,
      "outputs": []
    },
    {
      "cell_type": "markdown",
      "source": [
        "## Aula 2: Análise exploratória dos dados"
      ],
      "metadata": {
        "id": "uMA6kKxSKtZ6"
      }
    },
    {
      "cell_type": "markdown",
      "source": [
        "Para os desafios dessa aula, vamos utilizar a mesma base de dados que estamos utilizando para o desenvolvimento do nosso projeto. Sendo assim, na célula abaixo vamos realizar a importação dessa base de dados e aplicar as transformações já realizadas até o momento da aula 2."
      ],
      "metadata": {
        "id": "eQ6g_wYOiHSM"
      }
    },
    {
      "cell_type": "code",
      "source": [
        "# importando a base de dados\n",
        "url = 'https://raw.githubusercontent.com/alura-cursos/pandas-conhecendo-a-biblioteca/main/base-de-dados/aluguel.csv'\n",
        "dados = pd.read_csv(url, sep=';')"
      ],
      "metadata": {
        "id": "dUODdE3QidZ_"
      },
      "execution_count": null,
      "outputs": []
    },
    {
      "cell_type": "code",
      "source": [
        "imoveis_comerciais = ['Conjunto Comercial/Sala',\n",
        "                      'Prédio Inteiro', 'Loja/Salão',\n",
        "                      'Galpão/Depósito/Armazém',\n",
        "                      'Casa Comercial', 'Terreno Padrão',\n",
        "                      'Loja Shopping/ Ct Comercial',\n",
        "                      'Box/Garagem', 'Chácara',\n",
        "                      'Loteamento/Condomínio', 'Sítio',\n",
        "                      'Pousada/Chalé', 'Hotel', 'Indústria']\n",
        "\n",
        "# removendo imóveis comerciais\n",
        "df = dados.query('@imoveis_comerciais not in Tipo')\n",
        "\n",
        "# selecionando apenas imóveis do tipo apartamento\n",
        "df = df.query('Tipo == \"Apartamento\"')\n",
        "\n",
        "# visualizando a base de dados\n",
        "df.head()"
      ],
      "metadata": {
        "id": "y-FDJ89Fi444"
      },
      "execution_count": null,
      "outputs": []
    },
    {
      "cell_type": "markdown",
      "source": [
        "### Desafio 1\n",
        "Calcular a média de quartos por apartamento"
      ],
      "metadata": {
        "id": "0UIfl11Th0em"
      }
    },
    {
      "cell_type": "code",
      "source": [
        "df['Quartos'].mean()"
      ],
      "metadata": {
        "id": "VqilmozQKxyM"
      },
      "execution_count": null,
      "outputs": []
    },
    {
      "cell_type": "markdown",
      "source": [
        "### Desafio 2\n",
        "Conferir quantos bairros únicos existem na nossa base de dados"
      ],
      "metadata": {
        "id": "QHOiAeNKh3eZ"
      }
    },
    {
      "cell_type": "code",
      "source": [
        "len(df['Bairro'].unique())"
      ],
      "metadata": {
        "id": "OC5iNZ1NjF15"
      },
      "execution_count": null,
      "outputs": []
    },
    {
      "cell_type": "code",
      "source": [
        "df['Bairro'].nunique()"
      ],
      "metadata": {
        "id": "op-9fs_4h7Zk"
      },
      "execution_count": null,
      "outputs": []
    },
    {
      "cell_type": "markdown",
      "source": [
        "### Desafio 3\n",
        "Analisar quais bairros possuem a média de valor de aluguel mais elevadas"
      ],
      "metadata": {
        "id": "TXHm9F56h73J"
      }
    },
    {
      "cell_type": "code",
      "source": [
        "df.groupby('Bairro')[['Valor']].mean().sort_values('Valor')"
      ],
      "metadata": {
        "id": "0FWQkKEPh_1M"
      },
      "execution_count": null,
      "outputs": []
    },
    {
      "cell_type": "markdown",
      "source": [
        "### Desafio 4\n",
        "Criar um gráfico de barras verticais que apresente os 5 bairros com a média de valor de aluguel mais elevadas"
      ],
      "metadata": {
        "id": "hosuaZ-aiBHB"
      }
    },
    {
      "cell_type": "code",
      "source": [
        "df.groupby('Bairro')[['Valor']].mean().sort_values('Valor').head()"
      ],
      "metadata": {
        "id": "M7UR4aTBl2nR"
      },
      "execution_count": null,
      "outputs": []
    },
    {
      "cell_type": "code",
      "source": [
        "df_bairros = df.groupby('Bairro')[['Valor']].mean().sort_values('Valor').head()\n",
        "\n",
        "df_bairros.plot(kind='barh', figsize=(14,10), color='blue');"
      ],
      "metadata": {
        "id": "u-HoqFKTiESM"
      },
      "execution_count": null,
      "outputs": []
    },
    {
      "cell_type": "code",
      "source": [],
      "metadata": {
        "id": "7j3wyG0ZklNE"
      },
      "execution_count": null,
      "outputs": []
    },
    {
      "cell_type": "markdown",
      "source": [
        "## Aula 3"
      ],
      "metadata": {
        "id": "uS2xqXtlZ6wK"
      }
    },
    {
      "cell_type": "code",
      "source": [
        "# Importando novamente os dados\n",
        "\n",
        "url = 'https://raw.githubusercontent.com/alura-cursos/pandas-conhecendo-a-biblioteca/main/desafios/alunos.csv'\n",
        "dados = pd.read_csv(url)\n",
        "dados"
      ],
      "metadata": {
        "id": "YqltopXyZ-Zf"
      },
      "execution_count": null,
      "outputs": []
    },
    {
      "cell_type": "markdown",
      "source": [
        "### Desafio 1\n",
        "Verifique se a base de dados possui dados nulos e caso tenha, realize o tratamento desses dados nulos"
      ],
      "metadata": {
        "id": "Yni8_fbgaGnE"
      }
    },
    {
      "cell_type": "code",
      "source": [
        "dados.isnull().sum()"
      ],
      "metadata": {
        "id": "RJVGbJt6aFfe"
      },
      "execution_count": null,
      "outputs": []
    },
    {
      "cell_type": "code",
      "source": [
        "dados = dados.fillna(0)\n",
        "dados"
      ],
      "metadata": {
        "id": "JMRvNgXWa277"
      },
      "execution_count": null,
      "outputs": []
    },
    {
      "cell_type": "code",
      "source": [
        "dados.isnull().sum()"
      ],
      "metadata": {
        "id": "zCXdr4-8a75S"
      },
      "execution_count": null,
      "outputs": []
    },
    {
      "cell_type": "markdown",
      "source": [
        "### Desafio 2\n",
        "Os alunos \"Alice\" e \"Carlos\", não fazem mais parte da turma. Sendo assim, remova-os da base de dados"
      ],
      "metadata": {
        "id": "EEyzMqp2aZDl"
      }
    },
    {
      "cell_type": "code",
      "source": [
        "dados.query('Nome == \"Alice\" | Nome == \"Carlos\"')"
      ],
      "metadata": {
        "id": "gcnTcLGeaflO"
      },
      "execution_count": null,
      "outputs": []
    },
    {
      "cell_type": "code",
      "source": [
        "dados.query('Nome == \"Alice\" | Nome == \"Carlos\"').index"
      ],
      "metadata": {
        "id": "7fQ5RIs8bLf2"
      },
      "execution_count": null,
      "outputs": []
    },
    {
      "cell_type": "code",
      "source": [
        "alunos_a_remover = dados.query('Nome == \"Alice\" | Nome == \"Carlos\"').index\n",
        "\n",
        "dados.drop(alunos_a_remover, axis=0, inplace=True)"
      ],
      "metadata": {
        "id": "h2rhaQaNbNG6"
      },
      "execution_count": null,
      "outputs": []
    },
    {
      "cell_type": "code",
      "source": [
        "dados.query('Nome == \"Alice\" | Nome == \"Carlos\"')"
      ],
      "metadata": {
        "id": "lOUcnaHybYSt"
      },
      "execution_count": null,
      "outputs": []
    },
    {
      "cell_type": "markdown",
      "source": [
        "### Desafio 3\n",
        "Aplique um filtro que selecione apenas os alunos que foram aprovados"
      ],
      "metadata": {
        "id": "OrRUJuutagFZ"
      }
    },
    {
      "cell_type": "code",
      "source": [
        "dados['Aprovado'] == True"
      ],
      "metadata": {
        "id": "mmF03BpwalK1"
      },
      "execution_count": null,
      "outputs": []
    },
    {
      "cell_type": "code",
      "source": [
        "selecao = dados['Aprovado'] == True\n",
        "dados[selecao]"
      ],
      "metadata": {
        "id": "RiSIxMl2bo3-"
      },
      "execution_count": null,
      "outputs": []
    },
    {
      "cell_type": "markdown",
      "source": [
        "### Desafio 4\n",
        "Salve o DataFrame que possui apenas os alunos aprovados em um arquivo csv chamado \"alunos_aprovados.csv\""
      ],
      "metadata": {
        "id": "tXgoKLW_dMQe"
      }
    },
    {
      "cell_type": "code",
      "source": [
        "alunos_aprovados = dados[selecao]"
      ],
      "metadata": {
        "id": "f_6HGPUwdQNm"
      },
      "execution_count": null,
      "outputs": []
    },
    {
      "cell_type": "code",
      "source": [
        "alunos_aprovados.to_csv('alunos_aprovados.csv', index=False)"
      ],
      "metadata": {
        "id": "KuIG4ZisdULa"
      },
      "execution_count": null,
      "outputs": []
    },
    {
      "cell_type": "code",
      "source": [
        "pd.read_csv('alunos_aprovados.csv')"
      ],
      "metadata": {
        "id": "Q0LAb9-KdZXF"
      },
      "execution_count": null,
      "outputs": []
    },
    {
      "cell_type": "markdown",
      "source": [
        "### **Extra**\n",
        "Ao conferir as notas dos alunos aprovados, notamos que algumas notas estavam incorretas. As alunas que tiraram nota 7.0, na verdade tinham um ponto extra que não foi contabilizado. Sendo assim, substitua as notas 7.0 da base de dados por 8.0. **Dica**: pesquise pelo método **replace**"
      ],
      "metadata": {
        "id": "duXAyzYscJFU"
      }
    },
    {
      "cell_type": "code",
      "source": [
        "alunos_aprovados"
      ],
      "metadata": {
        "id": "NBww4uiodjFd"
      },
      "execution_count": null,
      "outputs": []
    },
    {
      "cell_type": "code",
      "source": [
        "alunos_aprovados.replace(7.0, 8.0)"
      ],
      "metadata": {
        "id": "6rXH1Q89btNt"
      },
      "execution_count": null,
      "outputs": []
    },
    {
      "cell_type": "code",
      "source": [
        "alunos_aprovados = alunos_aprovados.replace(7.0, 8.0)\n",
        "alunos_aprovados"
      ],
      "metadata": {
        "id": "bOE85OSfd7KU"
      },
      "execution_count": null,
      "outputs": []
    },
    {
      "cell_type": "markdown",
      "source": [
        "## Aula 4"
      ],
      "metadata": {
        "id": "jUHA6Z_cy5vc"
      }
    },
    {
      "cell_type": "code",
      "source": [
        "import pandas as pd"
      ],
      "metadata": {
        "id": "fSf6ztJAxqZU"
      },
      "execution_count": null,
      "outputs": []
    },
    {
      "cell_type": "code",
      "source": [
        "# Importando novamente os dados\n",
        "\n",
        "url = 'https://raw.githubusercontent.com/alura-cursos/pandas-conhecendo-a-biblioteca/main/desafios/alunos.csv'\n",
        "dados = pd.read_csv(url)\n",
        "dados"
      ],
      "metadata": {
        "id": "TRLTBVThxo1g"
      },
      "execution_count": null,
      "outputs": []
    },
    {
      "cell_type": "markdown",
      "source": [
        "### Desafio 1\n",
        "Os alunos participaram de uma atividade extracurricular e ganharam pontos extras. Esses pontos extras correspondem a 40% da nota atual de cada um deles. Com base nisso, crie uma coluna chamada \"Pontos_extras\" que contenha os pontos extras de cada aluno, ou seja, 40% da nota atual deles"
      ],
      "metadata": {
        "id": "-nX3fxz7y8P9"
      }
    },
    {
      "cell_type": "code",
      "source": [
        "dados['Pontos_extras'] = dados['Notas'].apply(lambda x: x*0.4)\n",
        "dados"
      ],
      "metadata": {
        "id": "34CKCvGmy7J9"
      },
      "execution_count": null,
      "outputs": []
    },
    {
      "cell_type": "markdown",
      "source": [
        "### Desafio 2\n",
        "Crie mais uma coluna, chamada \"Notas_finais\" que possua as notas de cada aluno somada com os pontos extras"
      ],
      "metadata": {
        "id": "LPbOAgiRzvnf"
      }
    },
    {
      "cell_type": "code",
      "source": [
        "dados['Notas_finais'] = dados['Notas'] + dados['Pontos_extras']\n",
        "dados"
      ],
      "metadata": {
        "id": "T4wuC339zw_p"
      },
      "execution_count": null,
      "outputs": []
    },
    {
      "cell_type": "markdown",
      "source": [
        "### Desafio 3\n",
        "Como os alunos ganharam pontos extras, alguns que não tinham sido aprovados antes podem ter sido aprovados agora. Com base nisso, crie uma coluna chamada \"Aprovado_final\" com os seguintes valores:\n",
        "\n",
        "* True: caso o aluno esteja aprovado (nota final deve ser maior ou igual a 6);\n",
        "* False: caso o aluno esteja reprovado (nota final deve ser menor que 6).\n"
      ],
      "metadata": {
        "id": "8L-b9Hxfz8fo"
      }
    },
    {
      "cell_type": "code",
      "source": [
        "dados['Aprovado_final'] = dados['Notas_finais'].apply(lambda x: True if x >= 6 else False)\n",
        "dados"
      ],
      "metadata": {
        "id": "A6aXkdOsz3DR"
      },
      "execution_count": null,
      "outputs": []
    },
    {
      "cell_type": "markdown",
      "source": [
        "### Desafio 4\n",
        "Faça uma seleção e verifique quais alunos não tinham sido aprovados anteriormente, mas foram aprovados após a soma dos pontos extras"
      ],
      "metadata": {
        "id": "UNnNsZYW1Xj_"
      }
    },
    {
      "cell_type": "code",
      "source": [
        "dados.query('Aprovado == False & Aprovado_final == True')"
      ],
      "metadata": {
        "id": "8BxkbL2N02sp"
      },
      "execution_count": null,
      "outputs": []
    },
    {
      "cell_type": "code",
      "source": [
        "selecao = (dados['Aprovado'] == False) & (dados['Aprovado_final'] == True)\n",
        "dados[selecao]"
      ],
      "metadata": {
        "id": "6CzZUbGG8qSq"
      },
      "execution_count": null,
      "outputs": []
    },
    {
      "cell_type": "code",
      "source": [],
      "metadata": {
        "id": "CE5y2gne8yYj"
      },
      "execution_count": null,
      "outputs": []
    }
  ]
}
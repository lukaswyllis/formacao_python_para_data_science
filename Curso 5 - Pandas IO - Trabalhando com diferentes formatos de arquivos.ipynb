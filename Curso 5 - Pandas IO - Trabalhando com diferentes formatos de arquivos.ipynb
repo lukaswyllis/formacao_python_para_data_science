{
  "nbformat": 4,
  "nbformat_minor": 0,
  "metadata": {
    "colab": {
      "provenance": []
    },
    "kernelspec": {
      "name": "python3",
      "display_name": "Python 3"
    },
    "language_info": {
      "name": "python"
    }
  },
  "cells": [
    {
      "cell_type": "markdown",
      "source": [
        "# Pandas I/O: trabalhando com diferentes formatos de arquivos"
      ],
      "metadata": {
        "id": "Krch-7I7dJHI"
      }
    },
    {
      "cell_type": "markdown",
      "source": [
        "## Fazendo leitura de arquivos CSV"
      ],
      "metadata": {
        "id": "uTB07K2_dMgG"
      }
    },
    {
      "cell_type": "code",
      "source": [
        "import pandas as pd"
      ],
      "metadata": {
        "id": "vpLpJdTBdLAv"
      },
      "execution_count": null,
      "outputs": []
    },
    {
      "cell_type": "code",
      "source": [
        "url = 'https://raw.githubusercontent.com/lukaswyllis/formacao_python_para_data_science/refs/heads/master/pandas2/superstore_data.csv'"
      ],
      "metadata": {
        "id": "uG_5l_qPrLkV"
      },
      "execution_count": null,
      "outputs": []
    },
    {
      "cell_type": "code",
      "source": [
        "dados_mercado = pd.read_csv(url)"
      ],
      "metadata": {
        "id": "BOMZWjgDrN2F"
      },
      "execution_count": null,
      "outputs": []
    },
    {
      "cell_type": "code",
      "source": [
        "dados_mercado.head()"
      ],
      "metadata": {
        "id": "FDlxwoQbszvl"
      },
      "execution_count": null,
      "outputs": []
    },
    {
      "cell_type": "code",
      "source": [
        "url2 = 'https://raw.githubusercontent.com/lukaswyllis/formacao_python_para_data_science/refs/heads/master/pandas2/superstore_data_ponto_virgula.csv'"
      ],
      "metadata": {
        "id": "EsZaOl7ms2QS"
      },
      "execution_count": null,
      "outputs": []
    },
    {
      "cell_type": "code",
      "source": [
        "dados_mercado2 = pd.read_csv(url2)"
      ],
      "metadata": {
        "id": "lSjPZIEytiFm"
      },
      "execution_count": null,
      "outputs": []
    },
    {
      "cell_type": "code",
      "source": [
        "dados_mercado2.head()"
      ],
      "metadata": {
        "id": "pyspnoMetkYO"
      },
      "execution_count": null,
      "outputs": []
    },
    {
      "cell_type": "code",
      "source": [
        "dados_mercado2 = pd.read_csv(url2, sep=';', nrows=5)\n",
        "dados_mercado2"
      ],
      "metadata": {
        "id": "miccgE1Ctlsx"
      },
      "execution_count": null,
      "outputs": []
    },
    {
      "cell_type": "code",
      "source": [
        "dados_mercado_3 = pd.read_csv(url2, sep=';', nrows=5, usecols=['Id', 'Year_Birth', 'Income'])\n",
        "dados_mercado_3"
      ],
      "metadata": {
        "id": "fqf7_ErZxUtZ"
      },
      "execution_count": null,
      "outputs": []
    },
    {
      "cell_type": "code",
      "source": [
        "dados_mercado_4 = pd.read_csv(url2, sep=';', nrows=5, usecols=[0, 1, 4])\n",
        "dados_mercado_4"
      ],
      "metadata": {
        "id": "WuBglm8hxqet"
      },
      "execution_count": null,
      "outputs": []
    },
    {
      "cell_type": "code",
      "source": [
        "dados_mercado_4.to_csv('clientes_mercado_4.csv')"
      ],
      "metadata": {
        "id": "aWOFORwoxzZF"
      },
      "execution_count": null,
      "outputs": []
    },
    {
      "cell_type": "code",
      "source": [
        "clientes_mercado_4 = pd.read_csv('clientes_mercado_4.csv')\n",
        "clientes_mercado_4"
      ],
      "metadata": {
        "id": "I06FvFUmzPTb"
      },
      "execution_count": null,
      "outputs": []
    },
    {
      "cell_type": "code",
      "source": [
        "dados_mercado_4.to_csv('clientes_mercado_4.csv', index=False)"
      ],
      "metadata": {
        "id": "I2PhsfhMzswA"
      },
      "execution_count": null,
      "outputs": []
    },
    {
      "cell_type": "code",
      "source": [
        "clientes_mercado_4 = pd.read_csv('clientes_mercado_4.csv')\n",
        "clientes_mercado_4"
      ],
      "metadata": {
        "id": "n_ALnZAazwg8"
      },
      "execution_count": null,
      "outputs": []
    },
    {
      "cell_type": "markdown",
      "source": [
        "### Desafio: lendo dados com vários parâmetros\n",
        "\n",
        "Chegou a hora de você testar os conhecimentos desenvolvidos durante a aula. Temos um arquivo no formato CSV, que foi obtido na página Informações de Saúde (TABNET) - DATASUS. Este arquivo contém os gastos hospitalares públicos de cada uma das Unidades da Federação brasileira no período de janeiro de 2008 a março de 2021.\n",
        "\n",
        "Seu desafio aqui será fazer a leitura desse arquivo utilizando a função read_csv da biblioteca Pandas. Alguns parâmetros devem ser adicionados para que a leitura seja feita corretamente. Então, seguem algumas dicas:\n",
        "\n",
        "1. Verifique se o arquivo CSV está separado por vírgula ou ponto e vírgula.\n",
        "2. A codificação do arquivo é ISO-8859-1.\n",
        "3. As três primeiras linhas linhas do arquivo podem ser desconsideradas, pois o cabeçalho só começa na quarta linha.\n",
        "4. As 9 últimas linhas também podem ser desconsideradas, pois são apenas informações sobre onde os dados foram obtidos.\n",
        "5. Para deletar as últimas linhas é necessário adicionar o parâmetro engine='python'.\n",
        "\n",
        "Vamos lá?"
      ],
      "metadata": {
        "id": "cbWtovX21IKa"
      }
    },
    {
      "cell_type": "code",
      "source": [
        "dados_sus = pd.read_csv('dados_sus.csv', encoding='ISO-8859-1', skiprows=3, sep=';', skipfooter=9, engine='python')"
      ],
      "metadata": {
        "id": "1oNBGbfN1MlN"
      },
      "execution_count": null,
      "outputs": []
    },
    {
      "cell_type": "code",
      "source": [
        "dados_sus"
      ],
      "metadata": {
        "id": "kakUq3ai1bEg"
      },
      "execution_count": null,
      "outputs": []
    },
    {
      "cell_type": "markdown",
      "source": [
        "## Utilizando planilhas"
      ],
      "metadata": {
        "id": "dp01xd_V2aqv"
      }
    },
    {
      "cell_type": "code",
      "source": [],
      "metadata": {
        "id": "qQKKY7jo2dGw"
      },
      "execution_count": null,
      "outputs": []
    }
  ]
}
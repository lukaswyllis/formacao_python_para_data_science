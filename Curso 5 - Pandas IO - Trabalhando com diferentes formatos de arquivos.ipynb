{
  "nbformat": 4,
  "nbformat_minor": 0,
  "metadata": {
    "colab": {
      "provenance": []
    },
    "kernelspec": {
      "name": "python3",
      "display_name": "Python 3"
    },
    "language_info": {
      "name": "python"
    }
  },
  "cells": [
    {
      "cell_type": "markdown",
      "source": [
        "# Pandas I/O: trabalhando com diferentes formatos de arquivos"
      ],
      "metadata": {
        "id": "Krch-7I7dJHI"
      }
    },
    {
      "cell_type": "markdown",
      "source": [
        "## Fazendo leitura de arquivos CSV"
      ],
      "metadata": {
        "id": "uTB07K2_dMgG"
      }
    },
    {
      "cell_type": "code",
      "source": [],
      "metadata": {
        "id": "vpLpJdTBdLAv"
      },
      "execution_count": null,
      "outputs": []
    }
  ]
}
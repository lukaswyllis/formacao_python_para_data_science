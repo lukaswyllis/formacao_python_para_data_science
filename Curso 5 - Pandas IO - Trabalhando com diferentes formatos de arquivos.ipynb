{
  "nbformat": 4,
  "nbformat_minor": 0,
  "metadata": {
    "colab": {
      "provenance": []
    },
    "kernelspec": {
      "name": "python3",
      "display_name": "Python 3"
    },
    "language_info": {
      "name": "python"
    }
  },
  "cells": [
    {
      "cell_type": "markdown",
      "source": [
        "##**Aula 1 - Fazendo leitura de arquivos CSV**\n",
        "\n",
        "Dados:\n",
        "- https://github.com/alura-cursos/Pandas/blob/main/superstore_data.csv\n",
        "- https://github.com/alura-cursos/Pandas/blob/main/superstore_data_ponto_virgula.csv"
      ],
      "metadata": {
        "id": "kpSFmUqkR38M"
      }
    },
    {
      "cell_type": "markdown",
      "source": [
        "###**Lendo arquivos CSV**"
      ],
      "metadata": {
        "id": "3Y6rZlbkR7Em"
      }
    },
    {
      "cell_type": "code",
      "execution_count": null,
      "metadata": {
        "id": "9hop9Su4RptH"
      },
      "outputs": [],
      "source": [
        "import pandas as pd"
      ]
    },
    {
      "cell_type": "code",
      "source": [
        "url = 'https://github.com/lukaswyllis/formacao_python_para_data_science/raw/refs/heads/master/dados-curso5/superstore_data.csv'"
      ],
      "metadata": {
        "id": "8gafmhj-R87B"
      },
      "execution_count": null,
      "outputs": []
    },
    {
      "cell_type": "code",
      "source": [
        "dados = pd.read_csv(url)"
      ],
      "metadata": {
        "id": "gLG10aHjR9EU"
      },
      "execution_count": null,
      "outputs": []
    },
    {
      "cell_type": "code",
      "source": [
        "dados.head()"
      ],
      "metadata": {
        "id": "jMGT8-uNR9G4"
      },
      "execution_count": null,
      "outputs": []
    },
    {
      "cell_type": "code",
      "source": [
        "url_2 = 'https://github.com/lukaswyllis/formacao_python_para_data_science/raw/refs/heads/master/dados-curso5/superstore_data_ponto_virgula.csv'"
      ],
      "metadata": {
        "id": "30nIB_tSSEG2"
      },
      "execution_count": null,
      "outputs": []
    },
    {
      "cell_type": "code",
      "source": [
        "dados_ponto_virgula = pd.read_csv(url_2)"
      ],
      "metadata": {
        "id": "Zly4YSTLSHRV"
      },
      "execution_count": null,
      "outputs": []
    },
    {
      "cell_type": "code",
      "source": [
        "dados_ponto_virgula.head()"
      ],
      "metadata": {
        "id": "QHRB4dYjSHTh"
      },
      "execution_count": null,
      "outputs": []
    },
    {
      "cell_type": "markdown",
      "source": [
        "###**Parâmetros da função read_csv**\n",
        "Documentação: https://pandas.pydata.org/pandas-docs/stable/reference/api/pandas.read_csv.html"
      ],
      "metadata": {
        "id": "NYS6LsnUSNxf"
      }
    },
    {
      "cell_type": "code",
      "source": [
        "dados_ponto_virgula = pd.read_csv(url_2, sep = ';')"
      ],
      "metadata": {
        "id": "Fl3Scblt6T9z"
      },
      "execution_count": null,
      "outputs": []
    },
    {
      "cell_type": "code",
      "source": [
        "dados_ponto_virgula"
      ],
      "metadata": {
        "id": "vYEXFwA371ux"
      },
      "execution_count": null,
      "outputs": []
    },
    {
      "cell_type": "code",
      "source": [
        "dados_primeiras_linhas = pd.read_csv(url,nrows=5)\n",
        "dados_primeiras_linhas"
      ],
      "metadata": {
        "id": "WUBt-fs0K_oM"
      },
      "execution_count": null,
      "outputs": []
    },
    {
      "cell_type": "code",
      "source": [
        "dados_selecao = pd.read_csv(url, usecols=['Id', 'Year_Birth', 'Income'])\n",
        "dados_selecao"
      ],
      "metadata": {
        "id": "qaPSsZ_AK_ze"
      },
      "execution_count": null,
      "outputs": []
    },
    {
      "cell_type": "code",
      "source": [
        "dados_selecao = pd.read_csv(url, usecols=[0,1,4])\n",
        "dados_selecao"
      ],
      "metadata": {
        "id": "oiJZ-NR8K_62"
      },
      "execution_count": null,
      "outputs": []
    },
    {
      "cell_type": "markdown",
      "source": [
        "###**Escrevendo arquivos CSV**\n",
        "\n",
        "Documentação: https://pandas.pydata.org/docs/reference/api/pandas.DataFrame.to_csv.html"
      ],
      "metadata": {
        "id": "l0psP9t5AbvH"
      }
    },
    {
      "cell_type": "code",
      "source": [
        "dados_selecao.to_csv('clientes_mercado.csv')"
      ],
      "metadata": {
        "id": "-k3SgjCSk5lp"
      },
      "execution_count": null,
      "outputs": []
    },
    {
      "cell_type": "code",
      "source": [
        "clientes_mercado = pd.read_csv('/content/clientes_mercado.csv')\n",
        "clientes_mercado"
      ],
      "metadata": {
        "id": "HiHslm7FlGbD"
      },
      "execution_count": null,
      "outputs": []
    },
    {
      "cell_type": "code",
      "source": [
        "dados_selecao.to_csv('dados_mercado.csv', index=False)"
      ],
      "metadata": {
        "id": "SZEnpG7PjPKs"
      },
      "execution_count": null,
      "outputs": []
    },
    {
      "cell_type": "code",
      "source": [
        "dados_mercado = pd.read_csv('/content/dados_mercado.csv')\n",
        "dados_mercado"
      ],
      "metadata": {
        "id": "xkFNJ3FDko0W"
      },
      "execution_count": null,
      "outputs": []
    },
    {
      "cell_type": "markdown",
      "source": [
        "##**Aula 2 - Utilizando planilhas**\n",
        "\n",
        "Dados: https://github.com/alura-cursos/Pandas/blob/main/emissoes_CO2.xlsx"
      ],
      "metadata": {
        "id": "TtY5qySo_tO-"
      }
    },
    {
      "cell_type": "markdown",
      "source": [
        "###**Lendo arquivos Excel**"
      ],
      "metadata": {
        "id": "CAvQWlTsAg-_"
      }
    },
    {
      "cell_type": "code",
      "source": [
        "import pandas as pd"
      ],
      "metadata": {
        "id": "LRsK8UngGXF1"
      },
      "execution_count": null,
      "outputs": []
    },
    {
      "cell_type": "code",
      "source": [
        "url = 'https://github.com/lukaswyllis/formacao_python_para_data_science/raw/refs/heads/master/dados-curso5/emissoes_CO2.xlsx?raw=True'"
      ],
      "metadata": {
        "id": "btVS8UXaGd3w"
      },
      "execution_count": null,
      "outputs": []
    },
    {
      "cell_type": "code",
      "source": [
        "dados_co2 = pd.read_excel(url)"
      ],
      "metadata": {
        "id": "A9MFFnIPGXIV"
      },
      "execution_count": null,
      "outputs": []
    },
    {
      "cell_type": "code",
      "source": [
        "dados_co2.head()"
      ],
      "metadata": {
        "id": "aMZ2bFl0KTeO"
      },
      "execution_count": null,
      "outputs": []
    },
    {
      "cell_type": "code",
      "source": [
        "pd.ExcelFile(url).sheet_names"
      ],
      "metadata": {
        "id": "5U0gxqjdMEuZ"
      },
      "execution_count": null,
      "outputs": []
    },
    {
      "cell_type": "markdown",
      "source": [
        "###**Parâmetros da função read_excel**\n",
        "\n",
        "Documentação: https://pandas.pydata.org/docs/reference/api/pandas.read_excel.html"
      ],
      "metadata": {
        "id": "qbP9g4RKa0VH"
      }
    },
    {
      "cell_type": "code",
      "source": [
        "percapita = pd.read_excel(url, sheet_name='emissoes_percapita')"
      ],
      "metadata": {
        "id": "qKVHmfPYKc-U"
      },
      "execution_count": null,
      "outputs": []
    },
    {
      "cell_type": "code",
      "source": [
        "percapita.head()"
      ],
      "metadata": {
        "id": "AKT7zwGwKpOc"
      },
      "execution_count": null,
      "outputs": []
    },
    {
      "cell_type": "code",
      "source": [
        "fontes = pd.read_excel(url, sheet_name='fontes')"
      ],
      "metadata": {
        "id": "8yytRxClKx-L"
      },
      "execution_count": null,
      "outputs": []
    },
    {
      "cell_type": "code",
      "source": [
        "fontes.head()"
      ],
      "metadata": {
        "id": "sCunf8-XK11d"
      },
      "execution_count": null,
      "outputs": []
    },
    {
      "cell_type": "code",
      "source": [
        "intervalo = pd.read_excel(url, sheet_name='emissoes_C02', usecols= 'A:D')"
      ],
      "metadata": {
        "id": "gU-Dr5q5a6VV"
      },
      "execution_count": null,
      "outputs": []
    },
    {
      "cell_type": "code",
      "source": [
        "intervalo"
      ],
      "metadata": {
        "id": "mPEtECZWa6cm"
      },
      "execution_count": null,
      "outputs": []
    },
    {
      "cell_type": "code",
      "source": [
        "intervalo_2 = pd.read_excel(url, sheet_name='emissoes_C02', usecols= 'A:D', nrows=10)"
      ],
      "metadata": {
        "id": "cW3RhLAkT0Yj"
      },
      "execution_count": null,
      "outputs": []
    },
    {
      "cell_type": "code",
      "source": [
        "intervalo_2"
      ],
      "metadata": {
        "id": "grUbjNFKT6uA"
      },
      "execution_count": null,
      "outputs": []
    },
    {
      "cell_type": "markdown",
      "source": [
        "###**Escrevendo arquivos Excel**"
      ],
      "metadata": {
        "id": "IK3DRdzVAhG6"
      }
    },
    {
      "cell_type": "code",
      "source": [
        "percapita.to_excel('co2_percapita.xlsx', index=False)"
      ],
      "metadata": {
        "id": "SBuYqmLNRj_d"
      },
      "execution_count": null,
      "outputs": []
    },
    {
      "cell_type": "code",
      "source": [
        "pd.read_excel('/content/co2_percapita.xlsx')"
      ],
      "metadata": {
        "id": "zbvMy8R1R4lp"
      },
      "execution_count": null,
      "outputs": []
    },
    {
      "cell_type": "markdown",
      "source": [
        "###**Lendo dados do Google Planilhas**"
      ],
      "metadata": {
        "id": "GDpur7scfFlw"
      }
    },
    {
      "cell_type": "markdown",
      "source": [
        "link da planilha: https://docs.google.com/spreadsheets/d/1lzq0k-41-MbbS63C3Q9i1wPvLkSJt9zhr4Jolt1vEog/edit?usp=sharing"
      ],
      "metadata": {
        "id": "U-E1-ZMdBt0v"
      }
    },
    {
      "cell_type": "code",
      "source": [
        "sheet_id = '1lzq0k-41-MbbS63C3Q9i1wPvLkSJt9zhr4Jolt1vEog'\n",
        "url = f'https://docs.google.com/spreadsheets/d/{sheet_id}/gviz/tq?tqx=out:csv&sheet'"
      ],
      "metadata": {
        "id": "8lxenQpajyiE"
      },
      "execution_count": null,
      "outputs": []
    },
    {
      "cell_type": "code",
      "source": [
        "dados_co2_sheets = pd.read_csv(url)"
      ],
      "metadata": {
        "id": "dv9y1bTupyoW"
      },
      "execution_count": null,
      "outputs": []
    },
    {
      "cell_type": "code",
      "source": [
        "dados_co2_sheets"
      ],
      "metadata": {
        "id": "IZ7dW_gAp1vT"
      },
      "execution_count": null,
      "outputs": []
    },
    {
      "cell_type": "code",
      "source": [
        "sheet_id = '1lzq0k-41-MbbS63C3Q9i1wPvLkSJt9zhr4Jolt1vEog'\n",
        "sheet_name = 'emissoes_percapita'\n",
        "url_percapita = f'https://docs.google.com/spreadsheets/d/{sheet_id}/gviz/tq?tqx=out:csv&sheet={sheet_name}'"
      ],
      "metadata": {
        "id": "-4n9ayZLg35U"
      },
      "execution_count": null,
      "outputs": []
    },
    {
      "cell_type": "code",
      "source": [
        "percapita_sheets = pd.read_csv(url_percapita)"
      ],
      "metadata": {
        "id": "yeQ9Phj1ggeG"
      },
      "execution_count": null,
      "outputs": []
    },
    {
      "cell_type": "code",
      "source": [
        "percapita_sheets.head()"
      ],
      "metadata": {
        "id": "iC7OXnFxglbX"
      },
      "execution_count": null,
      "outputs": []
    },
    {
      "cell_type": "code",
      "source": [
        "sheet_id = '1lzq0k-41-MbbS63C3Q9i1wPvLkSJt9zhr4Jolt1vEog'\n",
        "sheet_name = 'fontes'\n",
        "url_fontes = f'https://docs.google.com/spreadsheets/d/{sheet_id}/gviz/tq?tqx=out:csv&sheet={sheet_name}'"
      ],
      "metadata": {
        "id": "cOmFu3MTjRwh"
      },
      "execution_count": null,
      "outputs": []
    },
    {
      "cell_type": "code",
      "source": [
        "fontes_sheets = pd.read_csv(url_fontes)"
      ],
      "metadata": {
        "id": "qn9PEJCLjRzX"
      },
      "execution_count": null,
      "outputs": []
    },
    {
      "cell_type": "code",
      "source": [
        "fontes_sheets.head()"
      ],
      "metadata": {
        "id": "eoVt7i1LjR2Q"
      },
      "execution_count": null,
      "outputs": []
    },
    {
      "cell_type": "markdown",
      "source": [
        "##**Aula 3 - Manipulando arquivos JSON**\n",
        "\n",
        "Dados:\n",
        "- https://github.com/alura-cursos/Pandas/blob/main/pacientes.json\n",
        "- https://github.com/alura-cursos/Pandas/blob/main/pacientes_2.json"
      ],
      "metadata": {
        "id": "ybfZ8pAn_vye"
      }
    },
    {
      "cell_type": "markdown",
      "source": [
        "###**Lendo arquivos JSON**"
      ],
      "metadata": {
        "id": "XPpnxD8XArRt"
      }
    },
    {
      "cell_type": "code",
      "source": [
        "import pandas as pd"
      ],
      "metadata": {
        "id": "wr7hB_PZ4xQo"
      },
      "execution_count": null,
      "outputs": []
    },
    {
      "cell_type": "code",
      "source": [
        "dados_pacientes = pd.read_json('https://github.com/lukaswyllis/formacao_python_para_data_science/raw/refs/heads/master/dados-curso5/pacientes.json')"
      ],
      "metadata": {
        "id": "LUrn_N9l0gSY"
      },
      "execution_count": null,
      "outputs": []
    },
    {
      "cell_type": "code",
      "source": [
        "dados_pacientes"
      ],
      "metadata": {
        "id": "W9MpvMCZ00aI"
      },
      "execution_count": null,
      "outputs": []
    },
    {
      "cell_type": "code",
      "source": [
        "dados_pacientes_2 = pd.read_json('https://github.com/lukaswyllis/formacao_python_para_data_science/raw/refs/heads/master/dados-curso5/pacientes_2.json')"
      ],
      "metadata": {
        "id": "2tyD_sO9vVYL"
      },
      "execution_count": null,
      "outputs": []
    },
    {
      "cell_type": "code",
      "source": [
        "dados_pacientes_2"
      ],
      "metadata": {
        "id": "ZLkYZSggvzpG"
      },
      "execution_count": null,
      "outputs": []
    },
    {
      "cell_type": "markdown",
      "source": [
        "###**Normalizando arquivos JSON**"
      ],
      "metadata": {
        "id": "WjpaVghE-SDo"
      }
    },
    {
      "cell_type": "code",
      "source": [
        "df_normalizado = pd.json_normalize(dados_pacientes_2['Pacientes'])"
      ],
      "metadata": {
        "id": "gPveOZ8LwGkc"
      },
      "execution_count": null,
      "outputs": []
    },
    {
      "cell_type": "code",
      "source": [
        "df_normalizado"
      ],
      "metadata": {
        "id": "zeM0xFdQwR4t"
      },
      "execution_count": null,
      "outputs": []
    },
    {
      "cell_type": "markdown",
      "source": [
        "###**Escrevendo arquivos JSON**"
      ],
      "metadata": {
        "id": "tBXifwRqAvpO"
      }
    },
    {
      "cell_type": "code",
      "source": [
        "df_normalizado.to_json('historico_pacientes_norm.json')"
      ],
      "metadata": {
        "id": "GntGW36LuspV"
      },
      "execution_count": null,
      "outputs": []
    },
    {
      "cell_type": "code",
      "source": [
        "pd.read_json('/content/historico_pacientes_norm.json')"
      ],
      "metadata": {
        "id": "Mfix79PRusr5"
      },
      "execution_count": null,
      "outputs": []
    },
    {
      "cell_type": "markdown",
      "source": [
        "##**Aula 4 - Lendo dados em HTML e XML**\n",
        "\n",
        "Dados: https://github.com/alura-cursos/Pandas/blob/main/filmes_wikipedia.html"
      ],
      "metadata": {
        "id": "jBnOJYukAySu"
      }
    },
    {
      "cell_type": "markdown",
      "source": [
        "###**Lendo páginas web**"
      ],
      "metadata": {
        "id": "JH9aNDdynrcW"
      }
    },
    {
      "cell_type": "code",
      "source": [
        "import pandas as pd"
      ],
      "metadata": {
        "id": "Xc39_nDjE0yS"
      },
      "execution_count": null,
      "outputs": []
    },
    {
      "cell_type": "code",
      "source": [
        "dados_html = pd.read_html('https://github.com/lukaswyllis/formacao_python_para_data_science/raw/refs/heads/master/dados-curso5/filmes_wikipedia.html')"
      ],
      "metadata": {
        "id": "VjlhKbpxE011"
      },
      "execution_count": null,
      "outputs": []
    },
    {
      "cell_type": "code",
      "source": [
        "dados_html"
      ],
      "metadata": {
        "id": "F6A48HhdE073"
      },
      "execution_count": null,
      "outputs": []
    },
    {
      "cell_type": "code",
      "source": [
        "type(dados_html)"
      ],
      "metadata": {
        "id": "6ZDTv-44amY6"
      },
      "execution_count": null,
      "outputs": []
    },
    {
      "cell_type": "code",
      "source": [
        "len(dados_html)"
      ],
      "metadata": {
        "id": "ILX7nsiQKAPK"
      },
      "execution_count": null,
      "outputs": []
    },
    {
      "cell_type": "code",
      "source": [
        "top_filmes = dados_html[1]"
      ],
      "metadata": {
        "id": "UusKJOTtgdMP"
      },
      "execution_count": null,
      "outputs": []
    },
    {
      "cell_type": "code",
      "source": [
        "top_filmes"
      ],
      "metadata": {
        "id": "G8CKMK1ZgpkK"
      },
      "execution_count": null,
      "outputs": []
    },
    {
      "cell_type": "markdown",
      "source": [
        "###**Escrevendo arquivos HTML**"
      ],
      "metadata": {
        "id": "vFXwQcZsEToA"
      }
    },
    {
      "cell_type": "code",
      "source": [
        "top_filmes.to_html('top_filmes.html')"
      ],
      "metadata": {
        "id": "3s_y8TgvXDid"
      },
      "execution_count": null,
      "outputs": []
    },
    {
      "cell_type": "code",
      "source": [
        "pd.read_html('/content/top_filmes.html')"
      ],
      "metadata": {
        "id": "meIW1BeoXDkv"
      },
      "execution_count": null,
      "outputs": []
    },
    {
      "cell_type": "code",
      "source": [
        "top_filmes.to_csv('top_filmes_1998', index=False)"
      ],
      "metadata": {
        "id": "5Km4c4daguhT"
      },
      "execution_count": null,
      "outputs": []
    },
    {
      "cell_type": "code",
      "source": [
        "dados = pd.read_csv('/content/top_filmes_1998')\n",
        "dados.head()"
      ],
      "metadata": {
        "id": "rRBolv1Mg45R"
      },
      "execution_count": null,
      "outputs": []
    },
    {
      "cell_type": "markdown",
      "source": [
        "###**Lendo/escrevendo arquivos XML**\n",
        "Dados: https://github.com/alura-cursos/Pandas/blob/main/imdb_top_1000.xml\n"
      ],
      "metadata": {
        "id": "iig7pyP1cwIy"
      }
    },
    {
      "cell_type": "code",
      "source": [
        "import pandas as pd"
      ],
      "metadata": {
        "id": "lbPol0dcATS7"
      },
      "execution_count": null,
      "outputs": []
    },
    {
      "cell_type": "code",
      "source": [
        "dados_imdb = pd.read_xml('https://github.com/lukaswyllis/formacao_python_para_data_science/raw/refs/heads/master/dados-curso5/imdb_top_1000.xml')"
      ],
      "metadata": {
        "id": "2XrTSisjATYO"
      },
      "execution_count": null,
      "outputs": []
    },
    {
      "cell_type": "code",
      "source": [
        "dados_imdb.head(3)"
      ],
      "metadata": {
        "id": "jUeyuT3LAxQ9"
      },
      "execution_count": null,
      "outputs": []
    },
    {
      "cell_type": "code",
      "source": [
        "dados_imdb.to_xml('filmes_imdb.xml')"
      ],
      "metadata": {
        "id": "zbQL1Vg2lOgr"
      },
      "execution_count": null,
      "outputs": []
    },
    {
      "cell_type": "markdown",
      "source": [
        "##**Aula 5 - Trabalhando com banco de dados**\n",
        "\n",
        "Dados: https://github.com/vqrca/Pandas/blob/main/clientes_banco.csv"
      ],
      "metadata": {
        "id": "VfDuxSL8vN1w"
      }
    },
    {
      "cell_type": "markdown",
      "source": [
        "###**Criando um banco de dados local**"
      ],
      "metadata": {
        "id": "bBBgT7YZEICf"
      }
    },
    {
      "cell_type": "code",
      "source": [
        "import sqlalchemy"
      ],
      "metadata": {
        "id": "cHdsOx1LMMqR"
      },
      "execution_count": null,
      "outputs": []
    },
    {
      "cell_type": "code",
      "source": [
        "from sqlalchemy import create_engine, MetaData, Table, inspect"
      ],
      "metadata": {
        "id": "XutYYZzfA36M"
      },
      "execution_count": null,
      "outputs": []
    },
    {
      "cell_type": "code",
      "source": [
        "engine = create_engine('sqlite:///:memory:')"
      ],
      "metadata": {
        "id": "KNFaW2DOA4NF"
      },
      "execution_count": null,
      "outputs": []
    },
    {
      "cell_type": "markdown",
      "source": [
        "###**Escrevendo em um banco de dados**"
      ],
      "metadata": {
        "id": "RAeI2dtG6Dpy"
      }
    },
    {
      "cell_type": "code",
      "source": [
        "import pandas as pd"
      ],
      "metadata": {
        "id": "wzAiDflqbBfi"
      },
      "execution_count": null,
      "outputs": []
    },
    {
      "cell_type": "code",
      "source": [
        "url = 'https://github.com/lukaswyllis/formacao_python_para_data_science/raw/refs/heads/master/dados-curso5/clientes_banco.csv'"
      ],
      "metadata": {
        "id": "vx_KTviWbBfj"
      },
      "execution_count": null,
      "outputs": []
    },
    {
      "cell_type": "code",
      "source": [
        "dados = pd.read_csv(url)"
      ],
      "metadata": {
        "id": "nvtBpM6bbBfj"
      },
      "execution_count": null,
      "outputs": []
    },
    {
      "cell_type": "code",
      "source": [
        "dados.head()"
      ],
      "metadata": {
        "id": "qm4sgPTybBfj"
      },
      "execution_count": null,
      "outputs": []
    },
    {
      "cell_type": "code",
      "source": [
        "dados.to_sql('clientes', engine, index=False)"
      ],
      "metadata": {
        "id": "DlslLd-ZNHzb"
      },
      "execution_count": null,
      "outputs": []
    },
    {
      "cell_type": "code",
      "source": [
        "inspector = inspect(engine)"
      ],
      "metadata": {
        "id": "zjW1Yk6CBpvz"
      },
      "execution_count": null,
      "outputs": []
    },
    {
      "cell_type": "code",
      "source": [
        "print(inspector.get_table_names())"
      ],
      "metadata": {
        "id": "LY70XAU4B0Ha"
      },
      "execution_count": null,
      "outputs": []
    },
    {
      "cell_type": "markdown",
      "source": [
        "###**Lendo uma consulta SQL**"
      ],
      "metadata": {
        "id": "RQcn3pljaY0U"
      }
    },
    {
      "cell_type": "code",
      "source": [
        "query = 'SELECT * FROM clientes WHERE Categoria_de_renda = \"Empregado\"'"
      ],
      "metadata": {
        "id": "SZQQKXmZB685"
      },
      "execution_count": null,
      "outputs": []
    },
    {
      "cell_type": "code",
      "source": [
        "empregados = pd.read_sql(query, engine)"
      ],
      "metadata": {
        "id": "2YIytoYXCSei"
      },
      "execution_count": null,
      "outputs": []
    },
    {
      "cell_type": "code",
      "source": [
        "empregados"
      ],
      "metadata": {
        "id": "Y4Py8cULCVqO"
      },
      "execution_count": null,
      "outputs": []
    },
    {
      "cell_type": "code",
      "source": [
        "empregados.to_sql('empregados', con=engine, index=False)"
      ],
      "metadata": {
        "id": "X5VvRg3GDCfl"
      },
      "execution_count": null,
      "outputs": []
    },
    {
      "cell_type": "code",
      "source": [
        "pd.read_sql_table('empregados', engine)"
      ],
      "metadata": {
        "id": "2bnIC1KxvkKN"
      },
      "execution_count": null,
      "outputs": []
    },
    {
      "cell_type": "code",
      "source": [
        "pd.read_sql_table('empregados', engine, columns=['ID_Cliente', 'Grau_escolaridade',\n",
        "                                                 'Rendimento_anual'])"
      ],
      "metadata": {
        "id": "lmUQ5-0lDX3-"
      },
      "execution_count": null,
      "outputs": []
    },
    {
      "cell_type": "markdown",
      "source": [
        "###**Atualizando um banco de dados**"
      ],
      "metadata": {
        "id": "qDDwJ6jj8dF5"
      }
    },
    {
      "cell_type": "code",
      "source": [
        "query = 'SELECT * FROM clientes'"
      ],
      "metadata": {
        "id": "XLU1mbNGmPz3"
      },
      "execution_count": null,
      "outputs": []
    },
    {
      "cell_type": "code",
      "source": [
        "pd.read_sql(query, engine)"
      ],
      "metadata": {
        "id": "byN7xG7AmUXe"
      },
      "execution_count": null,
      "outputs": []
    },
    {
      "cell_type": "markdown",
      "source": [
        "Para atualizar os dados da tabela, precisamos fazer a seguinte importação:"
      ],
      "metadata": {
        "id": "SZ0P0dpnQPKT"
      }
    },
    {
      "cell_type": "code",
      "source": [
        "from sqlalchemy import text"
      ],
      "metadata": {
        "id": "Lc1goUvsO2gn"
      },
      "execution_count": null,
      "outputs": []
    },
    {
      "cell_type": "markdown",
      "source": [
        "Depois disso, para fazer as atualizações, vamos implementar o seguinte código:\n",
        "\n",
        "\n"
      ],
      "metadata": {
        "id": "XV42s5uuQajS"
      }
    },
    {
      "cell_type": "code",
      "source": [
        "query = 'DELETE FROM clientes WHERE ID_Cliente=5008804'\n",
        "with engine.connect() as conn:\n",
        "    result = conn.execute(text(query))\n",
        "    conn.commit()"
      ],
      "metadata": {
        "id": "Xjc0N_cDPs1r"
      },
      "execution_count": null,
      "outputs": []
    },
    {
      "cell_type": "markdown",
      "source": [
        "> O código estabelece uma conexão com um banco de dados usando SQLAlchemy e executa uma consulta SQL definida na variável query. Dentro do bloco `with`, que garante o fechamento automático da conexão após a execução do bloco, a consulta é enviada ao banco de dados através do método `conn.execute(text(query))`, onde `text` é usado para assegurar que a string da consulta seja tratada como uma instrução SQL. Após a execução da consulta, `conn.commit()` é chamado para confirmar a transação, assegurando que as alterações realizadas pela consulta (como inserções, atualizações ou exclusões) sejam permanentemente aplicadas no banco de dados."
      ],
      "metadata": {
        "id": "FCNM7tpzgkG1"
      }
    },
    {
      "cell_type": "code",
      "source": [
        "pd.read_sql_table('clientes', engine)"
      ],
      "metadata": {
        "id": "ytc0laTJP0aJ"
      },
      "execution_count": null,
      "outputs": []
    },
    {
      "cell_type": "code",
      "source": [
        "query = 'UPDATE clientes SET Grau_escolaridade=\"Ensino superior\" WHERE ID_Cliente=5008808'\n",
        "with engine.connect() as conn:\n",
        "    result = conn.execute(text(query))\n",
        "    conn.commit()"
      ],
      "metadata": {
        "id": "489fm2kr8v-z"
      },
      "execution_count": null,
      "outputs": []
    },
    {
      "cell_type": "code",
      "source": [
        "pd.read_sql_table('clientes', engine)"
      ],
      "metadata": {
        "id": "GPn3nuPS8xnf"
      },
      "execution_count": null,
      "outputs": []
    }
  ]
}
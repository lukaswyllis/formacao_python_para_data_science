{
  "nbformat": 4,
  "nbformat_minor": 0,
  "metadata": {
    "colab": {
      "provenance": []
    },
    "kernelspec": {
      "name": "python3",
      "display_name": "Python 3"
    },
    "language_info": {
      "name": "python"
    }
  },
  "cells": [
    {
      "cell_type": "markdown",
      "source": [
        "# Pandas I/O: trabalhando com diferentes formatos de arquivos"
      ],
      "metadata": {
        "id": "Krch-7I7dJHI"
      }
    },
    {
      "cell_type": "markdown",
      "source": [
        "## Fazendo leitura de arquivos CSV"
      ],
      "metadata": {
        "id": "uTB07K2_dMgG"
      }
    },
    {
      "cell_type": "code",
      "source": [
        "import pandas as pd"
      ],
      "metadata": {
        "id": "vpLpJdTBdLAv"
      },
      "execution_count": null,
      "outputs": []
    },
    {
      "cell_type": "code",
      "source": [
        "url = 'https://raw.githubusercontent.com/lukaswyllis/formacao_python_para_data_science/refs/heads/master/pandas2/superstore_data.csv'"
      ],
      "metadata": {
        "id": "uG_5l_qPrLkV"
      },
      "execution_count": null,
      "outputs": []
    },
    {
      "cell_type": "code",
      "source": [
        "dados_mercado = pd.read_csv(url)"
      ],
      "metadata": {
        "id": "BOMZWjgDrN2F"
      },
      "execution_count": null,
      "outputs": []
    },
    {
      "cell_type": "code",
      "source": [
        "dados_mercado.head()"
      ],
      "metadata": {
        "id": "FDlxwoQbszvl"
      },
      "execution_count": null,
      "outputs": []
    },
    {
      "cell_type": "code",
      "source": [
        "url2 = 'https://raw.githubusercontent.com/lukaswyllis/formacao_python_para_data_science/refs/heads/master/pandas2/superstore_data_ponto_virgula.csv'"
      ],
      "metadata": {
        "id": "EsZaOl7ms2QS"
      },
      "execution_count": null,
      "outputs": []
    },
    {
      "cell_type": "code",
      "source": [
        "dados_mercado2 = pd.read_csv(url2)"
      ],
      "metadata": {
        "id": "lSjPZIEytiFm"
      },
      "execution_count": null,
      "outputs": []
    },
    {
      "cell_type": "code",
      "source": [
        "dados_mercado2.head()"
      ],
      "metadata": {
        "id": "pyspnoMetkYO"
      },
      "execution_count": null,
      "outputs": []
    },
    {
      "cell_type": "code",
      "source": [
        "dados_mercado2 = pd.read_csv(url2, sep=';', nrows=5)\n",
        "dados_mercado2"
      ],
      "metadata": {
        "id": "miccgE1Ctlsx"
      },
      "execution_count": null,
      "outputs": []
    },
    {
      "cell_type": "code",
      "source": [
        "dados_mercado_3 = pd.read_csv(url2, sep=';', nrows=5, usecols=['Id', 'Year_Birth', 'Income'])\n",
        "dados_mercado_3"
      ],
      "metadata": {
        "id": "fqf7_ErZxUtZ"
      },
      "execution_count": null,
      "outputs": []
    },
    {
      "cell_type": "code",
      "source": [
        "dados_mercado_4 = pd.read_csv(url2, sep=';', nrows=5, usecols=[0, 1, 4])\n",
        "dados_mercado_4"
      ],
      "metadata": {
        "id": "WuBglm8hxqet"
      },
      "execution_count": null,
      "outputs": []
    },
    {
      "cell_type": "code",
      "source": [
        "dados_mercado_4.to_csv('clientes_mercado_4.csv')"
      ],
      "metadata": {
        "id": "aWOFORwoxzZF"
      },
      "execution_count": null,
      "outputs": []
    },
    {
      "cell_type": "code",
      "source": [
        "clientes_mercado_4 = pd.read_csv('clientes_mercado_4.csv')\n",
        "clientes_mercado_4"
      ],
      "metadata": {
        "id": "I06FvFUmzPTb"
      },
      "execution_count": null,
      "outputs": []
    },
    {
      "cell_type": "code",
      "source": [
        "dados_mercado_4.to_csv('clientes_mercado_4.csv', index=False)"
      ],
      "metadata": {
        "id": "I2PhsfhMzswA"
      },
      "execution_count": null,
      "outputs": []
    },
    {
      "cell_type": "code",
      "source": [
        "clientes_mercado_4 = pd.read_csv('clientes_mercado_4.csv')\n",
        "clientes_mercado_4"
      ],
      "metadata": {
        "id": "n_ALnZAazwg8"
      },
      "execution_count": null,
      "outputs": []
    },
    {
      "cell_type": "markdown",
      "source": [
        "### Desafio: lendo dados com vários parâmetros\n",
        "\n",
        "Chegou a hora de você testar os conhecimentos desenvolvidos durante a aula. Temos um arquivo no formato CSV, que foi obtido na página Informações de Saúde (TABNET) - DATASUS. Este arquivo contém os gastos hospitalares públicos de cada uma das Unidades da Federação brasileira no período de janeiro de 2008 a março de 2021.\n",
        "\n",
        "Seu desafio aqui será fazer a leitura desse arquivo utilizando a função read_csv da biblioteca Pandas. Alguns parâmetros devem ser adicionados para que a leitura seja feita corretamente. Então, seguem algumas dicas:\n",
        "\n",
        "1. Verifique se o arquivo CSV está separado por vírgula ou ponto e vírgula.\n",
        "2. A codificação do arquivo é ISO-8859-1.\n",
        "3. As três primeiras linhas linhas do arquivo podem ser desconsideradas, pois o cabeçalho só começa na quarta linha.\n",
        "4. As 9 últimas linhas também podem ser desconsideradas, pois são apenas informações sobre onde os dados foram obtidos.\n",
        "5. Para deletar as últimas linhas é necessário adicionar o parâmetro engine='python'.\n",
        "\n",
        "Vamos lá?"
      ],
      "metadata": {
        "id": "cbWtovX21IKa"
      }
    },
    {
      "cell_type": "code",
      "source": [
        "dados_sus = pd.read_csv('dados_sus.csv', encoding='ISO-8859-1', skiprows=3, sep=';', skipfooter=9, engine='python')"
      ],
      "metadata": {
        "id": "1oNBGbfN1MlN"
      },
      "execution_count": null,
      "outputs": []
    },
    {
      "cell_type": "code",
      "source": [
        "dados_sus"
      ],
      "metadata": {
        "id": "kakUq3ai1bEg"
      },
      "execution_count": null,
      "outputs": []
    },
    {
      "cell_type": "markdown",
      "source": [
        "## Utilizando planilhas"
      ],
      "metadata": {
        "id": "dp01xd_V2aqv"
      }
    },
    {
      "cell_type": "code",
      "source": [
        "url_excel = 'https://github.com/lukaswyllis/formacao_python_para_data_science/raw/refs/heads/master/pandas2/emissoes_CO2.xlsx?raw=True'\n",
        "emissoes = pd.read_excel(url_excel)"
      ],
      "metadata": {
        "id": "qQKKY7jo2dGw"
      },
      "execution_count": null,
      "outputs": []
    },
    {
      "cell_type": "code",
      "source": [
        "emissoes"
      ],
      "metadata": {
        "id": "NdLISUQWWPjL"
      },
      "execution_count": null,
      "outputs": []
    },
    {
      "cell_type": "code",
      "source": [
        "pd.ExcelFile(url_excel).sheet_names"
      ],
      "metadata": {
        "id": "GCgd76zYWaNt"
      },
      "execution_count": null,
      "outputs": []
    },
    {
      "cell_type": "code",
      "source": [
        "emissoes_percapita = pd.read_excel(url_excel, sheet_name='emissoes_percapita')\n",
        "emissoes_percapita"
      ],
      "metadata": {
        "id": "QvdYZRgMXcV9"
      },
      "execution_count": null,
      "outputs": []
    },
    {
      "cell_type": "code",
      "source": [
        "fontes = pd.read_excel(url_excel, sheet_name='fontes')\n",
        "fontes"
      ],
      "metadata": {
        "id": "E_4gEs_tY6ml"
      },
      "execution_count": null,
      "outputs": []
    },
    {
      "cell_type": "code",
      "source": [
        "intervalo = pd.read_excel(url_excel, sheet_name='emissoes_C02', usecols='A:D')\n",
        "intervalo"
      ],
      "metadata": {
        "id": "cjfRyBf3ZGgZ"
      },
      "execution_count": null,
      "outputs": []
    },
    {
      "cell_type": "code",
      "source": [
        "intervalo2 = pd.read_excel(url_excel, sheet_name='emissoes_C02', usecols='A:D', nrows=10)\n",
        "intervalo2"
      ],
      "metadata": {
        "id": "qzNJAab8ZoqB"
      },
      "execution_count": null,
      "outputs": []
    },
    {
      "cell_type": "code",
      "source": [
        "emissoes_percapita.to_excel('emissoes_percapita.xlsx', index=False)"
      ],
      "metadata": {
        "id": "kZ0ZG7YmaEDh"
      },
      "execution_count": null,
      "outputs": []
    },
    {
      "cell_type": "code",
      "source": [
        "teste = pd.read_excel('emissoes_percapita.xlsx')\n",
        "teste"
      ],
      "metadata": {
        "id": "b-3RvDhud42m"
      },
      "execution_count": null,
      "outputs": []
    },
    {
      "cell_type": "code",
      "source": [
        "sheet_id = '1V6HIPO9VYlGUxi8CZXQqR0O2VVpp1ZqRxUKZHlpH3Ss'\n",
        "sheet_name = 'emissoes_percapita'\n",
        "url_google_planilhas = f'https://docs.google.com/spreadsheets/d/{sheet_id}/gviz/tq?tqx=out:csv&sheet={sheet_name}'\n"
      ],
      "metadata": {
        "id": "ZjfyUaFud9_R"
      },
      "execution_count": null,
      "outputs": []
    },
    {
      "cell_type": "code",
      "source": [
        "google_planilhas = pd.read_csv(url_google_planilhas)"
      ],
      "metadata": {
        "id": "c7X8ZH2Jk45h"
      },
      "execution_count": null,
      "outputs": []
    },
    {
      "cell_type": "code",
      "source": [
        "google_planilhas"
      ],
      "metadata": {
        "id": "SSfhjnvSlz68"
      },
      "execution_count": null,
      "outputs": []
    },
    {
      "cell_type": "code",
      "source": [
        "percapita = pd.read_csv(url_google_planilhas)\n",
        "percapita"
      ],
      "metadata": {
        "id": "WeaLNj74l1Q8"
      },
      "execution_count": null,
      "outputs": []
    },
    {
      "cell_type": "markdown",
      "source": [
        "### Desafio: lendo dados de outro link\n",
        "\n",
        "Chegou a hora de você testar os conhecimentos desenvolvidos durante a aula. Nós temos um [link do Google Planilhas](https://docs.google.com/spreadsheets/d/1pvBoLyX8kP0TjtUbadVMGdTl4yzm6bHMThhPiqCVtpw/edit?usp=sharing) que contém dados importantes sobre as emissões de gás carbônico pelo mundo. O conjunto de dados foi obtido no [Kaggle](https://www.kaggle.com/datasets/koustavghosh149/co2-emission-around-the-world) e consiste em emissões de CO2 *per capita* de todos os países do mundo de 1990 a 2019.\n",
        "\n",
        "Neste desafio, a sua função é efetuar a leitura desse link do Google Planilhas e depois salvar o DataFrame obtido no formato CSV. Pronto(a) para começar?"
      ],
      "metadata": {
        "id": "SjPfxxjmpigr"
      }
    },
    {
      "cell_type": "code",
      "source": [
        "sheet_id = '1pvBoLyX8kP0TjtUbadVMGdTl4yzm6bHMThhPiqCVtpw'\n",
        "sheet_name = 'CO2_emission'\n",
        "url = f'https://docs.google.com/spreadsheets/d/{sheet_id}/gviz/tq?tqx=out:csv&sheet={sheet_name}'\n",
        "df = pd.read_csv(url)\n",
        "df.to_csv('dados_emissoes.csv', index=False)"
      ],
      "metadata": {
        "id": "GBm41CzPpkm0"
      },
      "execution_count": null,
      "outputs": []
    },
    {
      "cell_type": "code",
      "source": [
        "dados = {'Pesquisa': 'Principais Indicadores de Doenca Cardiaca', 'Ano': 2020, 'Numero_Pacientes':3}"
      ],
      "metadata": {
        "id": "Tuei2RdmqQKo"
      },
      "execution_count": null,
      "outputs": []
    },
    {
      "cell_type": "code",
      "source": [
        "df = pd.json_normalize(dados)\n",
        "df"
      ],
      "metadata": {
        "id": "ln6-cJAFHRJe"
      },
      "execution_count": null,
      "outputs": []
    },
    {
      "cell_type": "code",
      "source": [
        "json_lista = [\n",
        "    { 'ID': '01', 'Faixa_etaria': '55-59', 'Sexo_biologico': 'feminino'},\n",
        "    { 'ID': '02', 'Faixa_etaria': '80 ou +', 'Sexo_biologico': 'feminino'}\n",
        "]"
      ],
      "metadata": {
        "id": "pWJPkvpVHTBZ"
      },
      "execution_count": null,
      "outputs": []
    },
    {
      "cell_type": "code",
      "source": [
        "pd.json_normalize(json_lista)"
      ],
      "metadata": {
        "id": "JelRzIMpHVWJ"
      },
      "execution_count": null,
      "outputs": []
    },
    {
      "cell_type": "code",
      "source": [
        "json_obj = {\n",
        "    'ID': '01',\n",
        "    'Faixa_etaria': '55-59',\n",
        "    'Sexo_biologico': 'Feminino',\n",
        "    'Saude': {'Dificuldade_caminhar': 'Nao',\n",
        "              'Atividade_fisica': 'Sim',\n",
        "              'IMC': 16.6,\n",
        "              'Doenca_cardiaca': 'Nao',\n",
        "          }\n",
        "      }"
      ],
      "metadata": {
        "id": "Yy59RZWhHXDc"
      },
      "execution_count": null,
      "outputs": []
    },
    {
      "cell_type": "code",
      "source": [
        "pd.json_normalize(json_obj)"
      ],
      "metadata": {
        "id": "IoHwIvqYHaEa"
      },
      "execution_count": null,
      "outputs": []
    },
    {
      "cell_type": "code",
      "source": [
        "json_list = [\n",
        "    {\n",
        "    'ID': '01',\n",
        "    'Faixa_etaria': '55-59',\n",
        "    'Sexo_biologico': 'Feminino',\n",
        "    'Saude': {'Dificuldade_caminhar': 'Nao',\n",
        "              'Atividade_fisica': 'Sim',\n",
        "              'IMC': 16.6,\n",
        "              'Doenca_cardiaca': 'Nao',\n",
        "          }\n",
        "      },\n",
        "      {\n",
        "          'ID': '02',\n",
        "          'Faixa_etaria': '80 ou +',\n",
        "          'Sexo_biologico': 'Feminino',\n",
        "          'Saude': {'Dificuldade_caminhar': 'Nao',\n",
        "                    'Atividade_fisica': 'Sim',\n",
        "                    'IMC': 20.34,\n",
        "                    'Doenca_cardiaca': 'Sim'}\n",
        "       }\n",
        "       ]"
      ],
      "metadata": {
        "id": "uMGn_4coHbHJ"
      },
      "execution_count": null,
      "outputs": []
    },
    {
      "cell_type": "code",
      "source": [
        "pd.json_normalize(json_list)"
      ],
      "metadata": {
        "id": "ios_CWiFHh05"
      },
      "execution_count": null,
      "outputs": []
    },
    {
      "cell_type": "markdown",
      "source": [
        "### Desafio: normalizando o JSON obtido na API\n",
        "Chegou a hora de testar os conhecimentos desenvolvidos durante a aula.\n",
        "\n",
        "O DataFrame mostrado abaixo foi gerado após a obtenção de dados da API JSONPlaceholder:\n",
        "\n",
        "Este DataFrame possui 8 colunas: id, name (nome), username (nome de usuário), email , address (endereço), phone(telefone), website e company (empresa). Note que as colunas address e company contém informações aninhadas, ou seja, os dados dessas colunas estão organizados em subcampos. Por exemplo, na coluna address, você encontrará subcampos como street (rua), suite (complemento), city (cidade) e zipcode (CEP). Já na coluna company, os subcampos incluem name (nome da empresa), catchPhrase (slogan) e bs (área de atuação). Isso significa que, para acessar essas informações, é necessário realizar o processo de normalização.\n",
        "\n",
        "O desafio agora é normalizar esse DataFrame, expandindo as colunas address e company em suas respectivas subcolunas para facilitar a visualização e a análise dos dados.\n",
        "\n",
        "Se você tiver dúvidas sobre como resolver, consulte a opinião da pessoa instrutora!"
      ],
      "metadata": {
        "id": "iIapU6XYJrcO"
      }
    },
    {
      "cell_type": "code",
      "source": [
        "import requests\n",
        "import json"
      ],
      "metadata": {
        "id": "mScdRCXdJwCV"
      },
      "execution_count": null,
      "outputs": []
    },
    {
      "cell_type": "code",
      "source": [
        "url = 'https://jsonplaceholder.typicode.com/users'\n",
        "dados_usuarios = requests.get(url)\n",
        "resultado = json.loads(dados_usuarios.text)\n",
        "pd.DataFrame(resultado)"
      ],
      "metadata": {
        "id": "1UCn_59BJ8ch"
      },
      "execution_count": null,
      "outputs": []
    },
    {
      "cell_type": "code",
      "source": [
        "df_usuarios_normalizado = pd.json_normalize(resultado, sep='_')"
      ],
      "metadata": {
        "id": "aw3kuIIgKBt5"
      },
      "execution_count": null,
      "outputs": []
    },
    {
      "cell_type": "code",
      "source": [
        "df_usuarios_normalizado"
      ],
      "metadata": {
        "id": "G89KL0eyKkUv"
      },
      "execution_count": null,
      "outputs": []
    },
    {
      "cell_type": "markdown",
      "source": [
        "## Lendo dados em HTML e XML"
      ],
      "metadata": {
        "id": "92PLpyLtK4FG"
      }
    },
    {
      "cell_type": "code",
      "source": [],
      "metadata": {
        "id": "vmDT9imeK5YF"
      },
      "execution_count": null,
      "outputs": []
    }
  ]
}
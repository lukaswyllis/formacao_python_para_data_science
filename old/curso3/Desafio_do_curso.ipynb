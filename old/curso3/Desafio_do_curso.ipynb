{
  "nbformat": 4,
  "nbformat_minor": 0,
  "metadata": {
    "colab": {
      "provenance": []
    },
    "kernelspec": {
      "name": "python3",
      "display_name": "Python 3"
    },
    "language_info": {
      "name": "python"
    }
  },
  "cells": [
    {
      "cell_type": "markdown",
      "source": [
        "O dataset utilizado para esse desafio é uma versão modificada do arquivo presente no Kaggle:\n",
        "https://www.kaggle.com/datasets/joshmcadams/oranges-vs-grapefruit\n",
        "\n",
        "O link do arquivo raw que vamos usar (aquele usamos para ler direto do Github) é esse aqui: \n",
        "https://raw.githubusercontent.com/allanspadini/numpy/dados/citrus.csv"
      ],
      "metadata": {
        "id": "MDEopNpWHa21"
      }
    },
    {
      "cell_type": "markdown",
      "source": [
        "# Leitura dos dados "
      ],
      "metadata": {
        "id": "tD0UDJwx11Pm"
      }
    },
    {
      "cell_type": "markdown",
      "source": [
        "Se você clicar no link verá que temos um arquivo com 6 colunas, sendo a primeira coluna do arquivo uma coluna de texto e a primeira linha do arquivo também é uma coluna de texto. \n",
        "\n",
        "Aqui o desafio é ler esse arquivo. Para isso importe a numpy e use a função loadtxt. Use o link da url, o parâmetro usecols para pular a primeira coluna. Você pode usar np.arange para criar a sequência de números que representam as colunas. Por fim, você também deve incluir o parâmetro skiprows=1 para que a primeira linha de texto seja desconsiderada na leitura do arquivo. "
      ],
      "metadata": {
        "id": "JtAll0D51rnJ"
      }
    },
    {
      "cell_type": "code",
      "source": [],
      "metadata": {
        "id": "ATVhjGg0HZs1"
      },
      "execution_count": null,
      "outputs": []
    },
    {
      "cell_type": "markdown",
      "source": [
        "# Seleção de dados"
      ],
      "metadata": {
        "id": "iBFZDsV75fjE"
      }
    },
    {
      "cell_type": "markdown",
      "source": [
        "Desses a colunas que iremos avaliar são as de diâmetro e peso. Crie um arrays específicos para guardar o diâmetro e peso da laranja e toranja. O diâmtro está na coluna zero e o peso na coluna 1. Os dados referentes a laranja vão até a linha 4999 e os referentes à toranja iniciam na linha 5000 do arquivo. "
      ],
      "metadata": {
        "id": "IDkwBFww5nEq"
      }
    },
    {
      "cell_type": "code",
      "source": [],
      "metadata": {
        "id": "cyzpCTh75Ih0"
      },
      "execution_count": null,
      "outputs": []
    },
    {
      "cell_type": "markdown",
      "source": [
        "# Visualização de dados"
      ],
      "metadata": {
        "id": "mcXYXlLC81em"
      }
    },
    {
      "cell_type": "markdown",
      "source": [
        "Importe a biblioteca matplotlib e crie um gráfico separado para a laranja e outro para a toranja do peso pelo diâmetro. "
      ],
      "metadata": {
        "id": "BVOuTNe485QX"
      }
    },
    {
      "cell_type": "code",
      "source": [],
      "metadata": {
        "id": "4K68mbLk8DvJ"
      },
      "execution_count": null,
      "outputs": []
    },
    {
      "cell_type": "markdown",
      "source": [
        "# O coeficiente das retas"
      ],
      "metadata": {
        "id": "-aGgWuRB-Uqv"
      }
    },
    {
      "cell_type": "markdown",
      "source": [
        "As duas parecem ter uma inclinação muito parecida em uma primeira inspeção visual vamos determinar os coeficientes da reta para cada um dos casos. \n",
        "\n",
        "Lembre que para o coeficiente angular precisamos implementar a função:\n",
        "$$ \\hat{a} = \\frac{n*Soma( X_i*Y_i ) - Soma( X_i )*Soma(Y_i)}{n Soma(X_i^2) - (Soma(X_i))^2}$$ \n",
        "\n",
        "e para o coeficiente linear:\n",
        "$$ \\hat{b} = Media(Y_i) - \\hat{a} * Media(X_i) $$\n"
      ],
      "metadata": {
        "id": "vc814-m7B1Xh"
      }
    },
    {
      "cell_type": "markdown",
      "source": [
        "Perceba que nesse caso o X é o diâmtro e o Y é o peso. Além disso o n é o número de elementos dentro do X, por exemplo.Ele vai ser diferente para a laranja e toranja. Determine o coefiecente para cada caso:"
      ],
      "metadata": {
        "id": "d4Hk5fyPCf3v"
      }
    },
    {
      "cell_type": "code",
      "source": [],
      "metadata": {
        "id": "n3J8iOeDBkgn"
      },
      "execution_count": null,
      "outputs": []
    },
    {
      "cell_type": "code",
      "source": [],
      "metadata": {
        "id": "OdUBKX3WDClF"
      },
      "execution_count": null,
      "outputs": []
    },
    {
      "cell_type": "code",
      "source": [],
      "metadata": {
        "id": "31oiIbk5DEcu"
      },
      "execution_count": null,
      "outputs": []
    },
    {
      "cell_type": "code",
      "source": [],
      "metadata": {
        "id": "LgVZSkLaDG_W"
      },
      "execution_count": null,
      "outputs": []
    },
    {
      "cell_type": "code",
      "source": [],
      "metadata": {
        "id": "C7CT4dwqDPlJ"
      },
      "execution_count": null,
      "outputs": []
    },
    {
      "cell_type": "code",
      "source": [],
      "metadata": {
        "id": "4VMDvta8DRad"
      },
      "execution_count": null,
      "outputs": []
    },
    {
      "cell_type": "markdown",
      "source": [
        "Se deu tudo você deve ter chegado em valores diferentes para cada um dos casos. Então, embora a inclinação da reta seja parecida nós descobrimos que os coeficientes da reta servem como uma forma de diferenciar se as frutas são laranjas ou toranjas. "
      ],
      "metadata": {
        "id": "MSBkD4piDWFx"
      }
    },
    {
      "cell_type": "markdown",
      "source": [
        "# Estimando através de números aleatórios"
      ],
      "metadata": {
        "id": "gnovlUPFD0dL"
      }
    },
    {
      "cell_type": "markdown",
      "source": [
        "Agora ao invés de usar a fórmula fechada utilize a np.random.uniform para gerar valores aleatórios para determinar o coeficiente angular da toranja. Nesse caso vamos assumir que b é igual a 17. Utilize o random.seed(84). "
      ],
      "metadata": {
        "id": "wyjSiESPD75_"
      }
    },
    {
      "cell_type": "code",
      "source": [],
      "metadata": {
        "id": "BBVu9EVqDT-R"
      },
      "execution_count": null,
      "outputs": []
    },
    {
      "cell_type": "code",
      "source": [],
      "metadata": {
        "id": "_M7pZGIpEXxZ"
      },
      "execution_count": null,
      "outputs": []
    },
    {
      "cell_type": "code",
      "source": [],
      "metadata": {
        "id": "PIyp8gDlEqa2"
      },
      "execution_count": null,
      "outputs": []
    },
    {
      "cell_type": "markdown",
      "source": [
        "\n",
        "Se deu tudo certo a menor norma que você alcançou foi 104.40529157196431."
      ],
      "metadata": {
        "id": "HH8OQeRFEyXN"
      }
    },
    {
      "cell_type": "code",
      "source": [
        "np.min(norma)"
      ],
      "metadata": {
        "id": "QIOTN9cOEs-V"
      },
      "execution_count": null,
      "outputs": []
    },
    {
      "cell_type": "markdown",
      "source": [
        "Algo que não foi passado no curso é que também podemos utilizar condições dentro dos colchetes dos arrays para encontrar um determinado valor. O código abaixo mostra o coeficiente angular que corresponde ao menor valor da norma. Repare que a condição é a: norma == np.min(norma)."
      ],
      "metadata": {
        "id": "y9wucQ9_FDe9"
      }
    },
    {
      "cell_type": "code",
      "source": [
        "coef_angulares[norma == np.min(norma)]"
      ],
      "metadata": {
        "id": "b2PIjDBfExLd"
      },
      "execution_count": null,
      "outputs": []
    },
    {
      "cell_type": "markdown",
      "source": [
        "# Parabéns por ter chegado até aqui.\n",
        "\n",
        "https://media.giphy.com/media/l2JJHEW1lToNnJzxe/giphy.gif"
      ],
      "metadata": {
        "id": "MJLSkwqMGzE5"
      }
    }
  ]
}
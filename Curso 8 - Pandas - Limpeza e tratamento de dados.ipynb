{
  "nbformat": 4,
  "nbformat_minor": 0,
  "metadata": {
    "colab": {
      "provenance": []
    },
    "kernelspec": {
      "name": "python3",
      "display_name": "Python 3"
    },
    "language_info": {
      "name": "python"
    }
  },
  "cells": [
    {
      "cell_type": "markdown",
      "source": [
        "# Pandas: limpeza e tratamento de dados"
      ],
      "metadata": {
        "id": "1gpAZqQBh63_"
      }
    },
    {
      "cell_type": "markdown",
      "source": [
        "## Conhecendo os dados"
      ],
      "metadata": {
        "id": "kWOf1i5Fh-jq"
      }
    },
    {
      "cell_type": "code",
      "source": [],
      "metadata": {
        "id": "zUHvwqBIiAxY"
      },
      "execution_count": null,
      "outputs": []
    }
  ]
}
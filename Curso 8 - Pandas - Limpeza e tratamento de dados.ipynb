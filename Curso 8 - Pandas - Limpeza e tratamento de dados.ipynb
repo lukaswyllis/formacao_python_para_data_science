{
  "nbformat": 4,
  "nbformat_minor": 0,
  "metadata": {
    "colab": {
      "provenance": []
    },
    "kernelspec": {
      "name": "python3",
      "display_name": "Python 3"
    },
    "language_info": {
      "name": "python"
    }
  },
  "cells": [
    {
      "cell_type": "markdown",
      "source": [
        "# Pandas: limpeza e tratamento de dados"
      ],
      "metadata": {
        "id": "1gpAZqQBh63_"
      }
    },
    {
      "cell_type": "code",
      "source": [
        "from google.colab import drive\n",
        "drive.mount('/content/drive')"
      ],
      "metadata": {
        "id": "OJdWzsa8g2HQ"
      },
      "execution_count": null,
      "outputs": []
    },
    {
      "cell_type": "markdown",
      "source": [
        "## Conhecendo os dados"
      ],
      "metadata": {
        "id": "kWOf1i5Fh-jq"
      }
    },
    {
      "cell_type": "code",
      "source": [
        "import pandas as pd\n",
        "import json\n",
        "import numpy as np\n",
        "import seaborn as sns\n",
        "import matplotlib.pyplot as plt"
      ],
      "metadata": {
        "id": "zUHvwqBIiAxY"
      },
      "execution_count": null,
      "outputs": []
    },
    {
      "cell_type": "code",
      "source": [
        "url = 'https://github.com/lukaswyllis/formacao_python_para_data_science/raw/refs/heads/master/dados-curso8/dataset-telecon.json'"
      ],
      "metadata": {
        "id": "x4RcZSQOlDjT"
      },
      "execution_count": null,
      "outputs": []
    },
    {
      "cell_type": "code",
      "source": [
        " dados_churn = pd.read_json(url)"
      ],
      "metadata": {
        "id": "SdPLo730lWhn"
      },
      "execution_count": null,
      "outputs": []
    },
    {
      "cell_type": "code",
      "source": [
        "dados_churn"
      ],
      "metadata": {
        "id": "Jedii2tbm3AE"
      },
      "execution_count": null,
      "outputs": []
    },
    {
      "cell_type": "code",
      "source": [
        "dados_churn['conta'][0]"
      ],
      "metadata": {
        "id": "5OXR7jgtlYYz"
      },
      "execution_count": null,
      "outputs": []
    },
    {
      "cell_type": "code",
      "source": [
        "pd.json_normalize(dados_churn['conta'])"
      ],
      "metadata": {
        "id": "DKpFkSjHlYyP"
      },
      "execution_count": null,
      "outputs": []
    },
    {
      "cell_type": "code",
      "source": [
        "pd.json_normalize(dados_churn['telefone'])"
      ],
      "metadata": {
        "id": "ez20jlJ0mxez"
      },
      "execution_count": null,
      "outputs": []
    },
    {
      "cell_type": "code",
      "source": [
        "with open('/content/drive/MyDrive/Dados cursos/Formação Python para Data Science/dados-curso8/dataset-telecon.json') as f:\n",
        "  json_bruto = json.load(f)\n",
        "\n",
        "json_bruto"
      ],
      "metadata": {
        "id": "Mvz_ew8xm0Y7"
      },
      "execution_count": null,
      "outputs": []
    },
    {
      "cell_type": "code",
      "source": [
        "dados_normalizados = pd.json_normalize(json_bruto)"
      ],
      "metadata": {
        "id": "uunhztlmpR_2"
      },
      "execution_count": null,
      "outputs": []
    },
    {
      "cell_type": "code",
      "source": [
        "dados_normalizados"
      ],
      "metadata": {
        "id": "Nab3xmDWpj5F"
      },
      "execution_count": null,
      "outputs": []
    },
    {
      "cell_type": "code",
      "source": [
        "data = {\n",
        "    \"empresa\": \"alura\",\n",
        "    \"funcionarios\": [\n",
        "        {\"nome\": \"Alice\", \"endereço\": {\"cidade\": \"São Paulo\", \"estado\": \"SP\"}},\n",
        "        {\"nome\": \"Bob\", \"endereço\": {\"cidade\": \"Rio de Janeiro\", \"estado\": \"RJ\"}}\n",
        "    ]\n",
        "}\n",
        "\n",
        "df = pd.json_normalize(data, record_path='funcionarios', meta = \"empresa\", errors='ignore')\n",
        "df"
      ],
      "metadata": {
        "id": "2KKpeGZnpn4S"
      },
      "execution_count": null,
      "outputs": []
    },
    {
      "cell_type": "code",
      "source": [
        "json_desafio = {\n",
        "  \"nome\": \"João\",\n",
        "  \"idade\": 28,\n",
        "  \"enderecos\": [\n",
        "    {\n",
        "      \"tipo\": \"casa\",\n",
        "      \"rua\": \"Rua A\",\n",
        "      \"numero\": 123,\n",
        "      \"cidade\": \"São Paulo\"\n",
        "    },\n",
        "    {\n",
        "      \"tipo\": \"trabalho\",\n",
        "      \"rua\": \"Rua B\",\n",
        "      \"numero\": 456,\n",
        "      \"cidade\": \"Rio de Janeiro\"\n",
        "    }\n",
        "  ]\n",
        "}\n",
        "\n",
        "df_desafio = pd.json_normalize(json_desafio, record_path='enderecos', meta=['nome', 'idade'])\n",
        "df_desafio\n"
      ],
      "metadata": {
        "id": "Z8dr6BOgqcaF"
      },
      "execution_count": null,
      "outputs": []
    },
    {
      "cell_type": "markdown",
      "source": [
        "## Transformação inicial dos dados"
      ],
      "metadata": {
        "id": "4SzVAO75zYVr"
      }
    },
    {
      "cell_type": "code",
      "source": [
        "dados_normalizados.info()"
      ],
      "metadata": {
        "id": "n8Og4c7HrBw-"
      },
      "execution_count": null,
      "outputs": []
    },
    {
      "cell_type": "code",
      "source": [
        "# retorna erro = dados_normalizados['conta.cobranca.Total'] = dados_normalizados['conta.cobranca.Total'].astype(float)"
      ],
      "metadata": {
        "id": "J49zG-CCwPul"
      },
      "execution_count": null,
      "outputs": []
    },
    {
      "cell_type": "code",
      "source": [
        "dados_normalizados[dados_normalizados['conta.cobranca.Total'] == ' '][\n",
        "    ['cliente.tempo_servico', 'conta.contrato', 'conta.cobranca.mensal', 'conta.cobranca.Total']\n",
        "    ]"
      ],
      "metadata": {
        "id": "aNygul9wwakf"
      },
      "execution_count": null,
      "outputs": []
    },
    {
      "cell_type": "code",
      "source": [
        "idx = dados_normalizados[dados_normalizados['conta.cobranca.Total'] == ' '][\n",
        "    ['cliente.tempo_servico', 'conta.contrato', 'conta.cobranca.mensal', 'conta.cobranca.Total']\n",
        "    ].index"
      ],
      "metadata": {
        "id": "8SoTu_sJwkCN"
      },
      "execution_count": null,
      "outputs": []
    },
    {
      "cell_type": "code",
      "source": [
        "dados_normalizados.loc[idx, 'conta.cobranca.Total'] = dados_normalizados.loc[idx, 'conta.cobranca.mensal'] * 24"
      ],
      "metadata": {
        "id": "UTGoLzS6y-Ny"
      },
      "execution_count": null,
      "outputs": []
    },
    {
      "cell_type": "code",
      "source": [
        "dados_normalizados.loc[idx, 'cliente.tempo_servico'] = 24"
      ],
      "metadata": {
        "id": "i2eI7p8rzjfD"
      },
      "execution_count": null,
      "outputs": []
    },
    {
      "cell_type": "code",
      "source": [
        "dados_normalizados.loc[idx, ['cliente.tempo_servico', 'conta.contrato', 'conta.cobranca.mensal', 'conta.cobranca.Total']]"
      ],
      "metadata": {
        "id": "SLQ0GeTizt1z"
      },
      "execution_count": null,
      "outputs": []
    },
    {
      "cell_type": "code",
      "source": [
        "dados_normalizados['conta.cobranca.Total'] = dados_normalizados['conta.cobranca.Total'].astype(float)"
      ],
      "metadata": {
        "id": "y49og2bLzwsf"
      },
      "execution_count": null,
      "outputs": []
    },
    {
      "cell_type": "code",
      "source": [
        "dados_normalizados.info()"
      ],
      "metadata": {
        "id": "y7xWTxup039K"
      },
      "execution_count": null,
      "outputs": []
    },
    {
      "cell_type": "code",
      "source": [
        "for col in dados_normalizados.columns:\n",
        "  print(f'Coluna: {col}')\n",
        "  print(dados_normalizados[col].unique())\n",
        "  print('-' * 100)"
      ],
      "metadata": {
        "id": "Py23cTti04q-"
      },
      "execution_count": null,
      "outputs": []
    },
    {
      "cell_type": "code",
      "source": [
        "dados_normalizados.query('Churn == \"\"')"
      ],
      "metadata": {
        "id": "-L2fjVVP2toS"
      },
      "execution_count": null,
      "outputs": []
    },
    {
      "cell_type": "code",
      "source": [
        "dados_sem_vazio = dados_normalizados[dados_normalizados['Churn'] != ''].copy()"
      ],
      "metadata": {
        "id": "2Y7hQRlH3HM6"
      },
      "execution_count": null,
      "outputs": []
    },
    {
      "cell_type": "code",
      "source": [
        "dados_sem_vazio.info()"
      ],
      "metadata": {
        "id": "V2fwTg594Thh"
      },
      "execution_count": null,
      "outputs": []
    },
    {
      "cell_type": "code",
      "source": [
        "dados_sem_vazio.reset_index(drop=True, inplace=True)"
      ],
      "metadata": {
        "id": "GQBCDe884Uzu"
      },
      "execution_count": null,
      "outputs": []
    },
    {
      "cell_type": "code",
      "source": [
        "dados_sem_vazio.info()"
      ],
      "metadata": {
        "id": "zc-mF9_W4jgl"
      },
      "execution_count": null,
      "outputs": []
    },
    {
      "cell_type": "code",
      "source": [
        "json_desafio2 = {\n",
        "  \"pessoas\": [\n",
        "    {\n",
        "      \"nome\": \"João\",\n",
        "      \"idade\": \"25\",\n",
        "      \"endereco\": {\n",
        "        \"rua\": \"Rua A\",\n",
        "        \"numero\": 123,\n",
        "        \"cidade\": \"São Paulo\"\n",
        "      },\n",
        "      \"telefones\": [\n",
        "        \"11 1111-1111\",\n",
        "        \"11 2222-2222\"\n",
        "      ]\n",
        "    },\n",
        "    {\n",
        "      \"nome\": \"Maria\",\n",
        "      \"idade\": 30,\n",
        "      \"endereco\": {\n",
        "        \"rua\": \"\",\n",
        "        \"numero\": 456,\n",
        "        \"cidade\": \"Rio de Janeiro\"\n",
        "      },\n",
        "      \"telefones\": [\n",
        "        \"21 3333-3333\"\n",
        "      ]\n",
        "    }\n",
        "  ]\n",
        "}\n",
        "\n",
        "df_desafio2 = pd.json_normalize(json_desafio2, record_path='pessoas')\n",
        "df_desafio2['idade'] = df_desafio2['idade'].astype(int)\n",
        "df_desafio2 = df_desafio2[df_desafio2['endereco.rua'] != '']\n",
        "df_desafio2"
      ],
      "metadata": {
        "id": "Q29bb2Wb4vCx"
      },
      "execution_count": null,
      "outputs": []
    },
    {
      "cell_type": "markdown",
      "source": [
        "## Utilizando dados duplicados e nulos"
      ],
      "metadata": {
        "id": "0PA8Lv3tkbEt"
      }
    },
    {
      "cell_type": "code",
      "source": [
        "dados_sem_vazio.duplicated()"
      ],
      "metadata": {
        "id": "PZ_jVaP1kd0f"
      },
      "execution_count": null,
      "outputs": []
    },
    {
      "cell_type": "code",
      "source": [
        "dados_sem_vazio.duplicated().sum()"
      ],
      "metadata": {
        "id": "s6tzRkiHsJ9J"
      },
      "execution_count": null,
      "outputs": []
    },
    {
      "cell_type": "code",
      "source": [
        "filtro_duplicadas = dados_sem_vazio.duplicated()\n",
        "filtro_duplicadas.sum()"
      ],
      "metadata": {
        "id": "bRQBYNHDscWN"
      },
      "execution_count": null,
      "outputs": []
    },
    {
      "cell_type": "code",
      "source": [
        "dados_sem_vazio[filtro_duplicadas]"
      ],
      "metadata": {
        "id": "tMvRap85skWq"
      },
      "execution_count": null,
      "outputs": []
    },
    {
      "cell_type": "code",
      "source": [
        "dados_sem_vazio.drop_duplicates(inplace=True)"
      ],
      "metadata": {
        "id": "N8AUvWYcs15U"
      },
      "execution_count": null,
      "outputs": []
    },
    {
      "cell_type": "code",
      "source": [
        "dados_sem_vazio.duplicated().sum()"
      ],
      "metadata": {
        "id": "5j10HuqatdLm"
      },
      "execution_count": null,
      "outputs": []
    },
    {
      "cell_type": "code",
      "source": [
        "dados_sem_vazio.isna()"
      ],
      "metadata": {
        "id": "QwigHqPStfmx"
      },
      "execution_count": null,
      "outputs": []
    },
    {
      "cell_type": "code",
      "source": [
        "dados_sem_vazio.isna().sum()"
      ],
      "metadata": {
        "id": "zt8bAGIcunSF"
      },
      "execution_count": null,
      "outputs": []
    },
    {
      "cell_type": "code",
      "source": [
        "dados_sem_vazio.isna().sum().sum()"
      ],
      "metadata": {
        "id": "VKt2o8SQvA7l"
      },
      "execution_count": null,
      "outputs": []
    },
    {
      "cell_type": "code",
      "source": [
        "dados_sem_vazio[dados_sem_vazio.isna().any(axis=1)]"
      ],
      "metadata": {
        "id": "vgoVTDvzvC7t"
      },
      "execution_count": null,
      "outputs": []
    },
    {
      "cell_type": "code",
      "source": [
        "filtro = dados_sem_vazio['cliente.tempo_servico'].isna()"
      ],
      "metadata": {
        "id": "05QBvB35wvii"
      },
      "execution_count": null,
      "outputs": []
    },
    {
      "cell_type": "code",
      "source": [
        "dados_sem_vazio[filtro][['cliente.tempo_servico', 'conta.cobranca.mensal', 'conta.cobranca.Total']]"
      ],
      "metadata": {
        "id": "8aiYdFmKwfoO"
      },
      "execution_count": null,
      "outputs": []
    },
    {
      "cell_type": "code",
      "source": [
        "np.ceil(5957.90/90.45)"
      ],
      "metadata": {
        "id": "0EVJC5Cuw4_W"
      },
      "execution_count": null,
      "outputs": []
    },
    {
      "cell_type": "code",
      "source": [
        "dados_sem_vazio['cliente.tempo_servico'].fillna(\n",
        "    np.ceil(\n",
        "        dados_sem_vazio['conta.cobranca.Total'] / dados_sem_vazio['conta.cobranca.mensal']\n",
        "    ), inplace=True\n",
        ")"
      ],
      "metadata": {
        "id": "yBpcFCQOxqzm"
      },
      "execution_count": null,
      "outputs": []
    },
    {
      "cell_type": "code",
      "source": [
        "dados_sem_vazio[filtro][['cliente.tempo_servico', 'conta.cobranca.mensal', 'conta.cobranca.Total']]"
      ],
      "metadata": {
        "id": "AuQnPetYx_Ta"
      },
      "execution_count": null,
      "outputs": []
    },
    {
      "cell_type": "code",
      "source": [
        "dados_sem_vazio.isna().sum()"
      ],
      "metadata": {
        "id": "I8W-_g6JyHci"
      },
      "execution_count": null,
      "outputs": []
    },
    {
      "cell_type": "code",
      "source": [
        "dados_sem_vazio['conta.contrato'].value_counts()"
      ],
      "metadata": {
        "id": "c1nLWmio3dUu"
      },
      "execution_count": null,
      "outputs": []
    },
    {
      "cell_type": "code",
      "source": [
        "colunas_dropar = ['conta.contrato', 'conta.faturamente_eletronico', 'conta.metodo_pagamento']"
      ],
      "metadata": {
        "id": "AIdaSZ3WFqeR"
      },
      "execution_count": null,
      "outputs": []
    },
    {
      "cell_type": "code",
      "source": [
        "dados_sem_vazio[colunas_dropar].isna()"
      ],
      "metadata": {
        "id": "aWf2exX8G8qS"
      },
      "execution_count": null,
      "outputs": []
    },
    {
      "cell_type": "code",
      "source": [
        "dados_sem_vazio[colunas_dropar].isna().any(axis=1).sum()"
      ],
      "metadata": {
        "id": "9pCMwWGzG_nh"
      },
      "execution_count": null,
      "outputs": []
    },
    {
      "cell_type": "code",
      "source": [
        "df_sem_nulos = dados_sem_vazio.dropna(subset=colunas_dropar).copy().reset_index()"
      ],
      "metadata": {
        "id": "4v5kmwHyHF7m"
      },
      "execution_count": null,
      "outputs": []
    },
    {
      "cell_type": "code",
      "source": [
        "df_sem_nulos"
      ],
      "metadata": {
        "id": "Fh2JVS51IHg-"
      },
      "execution_count": null,
      "outputs": []
    },
    {
      "cell_type": "code",
      "source": [
        "df_sem_nulos.isna().sum()"
      ],
      "metadata": {
        "id": "R1NfHa0nIexl"
      },
      "execution_count": null,
      "outputs": []
    },
    {
      "cell_type": "markdown",
      "source": [
        "## Desafio: tratando uma base de dados"
      ],
      "metadata": {
        "id": "PVakZ6dtJqLd"
      }
    },
    {
      "cell_type": "code",
      "source": [
        "with open('/content/drive/MyDrive/Dados cursos/Formação Python para Data Science/dados-curso8/cursos_cadastrados.json') as f:\n",
        "  json_desafio_aula3 = json.load(f)"
      ],
      "metadata": {
        "id": "rg3vmFmYJqnR"
      },
      "execution_count": null,
      "outputs": []
    },
    {
      "cell_type": "code",
      "source": [
        "df_desafio3 = pd.json_normalize(json_desafio_aula3)\n",
        "df_desafio3"
      ],
      "metadata": {
        "id": "Unn6MCQaKZ-3"
      },
      "execution_count": null,
      "outputs": []
    },
    {
      "cell_type": "code",
      "source": [
        "df_desafio3[df_desafio3.isna().any(axis=1)]"
      ],
      "metadata": {
        "id": "o7KeP6nuRJN_"
      },
      "execution_count": null,
      "outputs": []
    },
    {
      "cell_type": "code",
      "source": [
        "df_desafio3.dropna(inplace=True)"
      ],
      "metadata": {
        "id": "yrPweRluRPYr"
      },
      "execution_count": null,
      "outputs": []
    },
    {
      "cell_type": "code",
      "source": [
        "df_desafio3"
      ],
      "metadata": {
        "id": "KHiOgHH9RcbG"
      },
      "execution_count": null,
      "outputs": []
    },
    {
      "cell_type": "code",
      "source": [
        "df_desafio3.duplicated()"
      ],
      "metadata": {
        "id": "hkp5_r24RdiE"
      },
      "execution_count": null,
      "outputs": []
    },
    {
      "cell_type": "code",
      "source": [
        "df_desafio3.drop_duplicates(inplace=True)"
      ],
      "metadata": {
        "id": "daIlXlkpRhC3"
      },
      "execution_count": null,
      "outputs": []
    },
    {
      "cell_type": "code",
      "source": [
        "df_desafio3"
      ],
      "metadata": {
        "id": "I0viXGV3RktT"
      },
      "execution_count": null,
      "outputs": []
    },
    {
      "cell_type": "code",
      "source": [
        "# Substitui strings vazias por valores nulos em todo o dataframe\n",
        "df_desafio3.replace('', pd.NA, inplace=True)"
      ],
      "metadata": {
        "id": "OpFpgkmQRllz"
      },
      "execution_count": null,
      "outputs": []
    },
    {
      "cell_type": "code",
      "source": [
        "df_desafio3"
      ],
      "metadata": {
        "id": "9_Q-rUstRyYX"
      },
      "execution_count": null,
      "outputs": []
    },
    {
      "cell_type": "code",
      "source": [
        "df_desafio3.dropna(inplace=True)"
      ],
      "metadata": {
        "id": "MmT_hdpVRzA_"
      },
      "execution_count": null,
      "outputs": []
    },
    {
      "cell_type": "code",
      "source": [
        "df_desafio3"
      ],
      "metadata": {
        "id": "eOdI2u1jR5l8"
      },
      "execution_count": null,
      "outputs": []
    },
    {
      "cell_type": "code",
      "source": [
        "df_desafio3.info()"
      ],
      "metadata": {
        "id": "iA3pa4LqR6dj"
      },
      "execution_count": null,
      "outputs": []
    },
    {
      "cell_type": "code",
      "source": [
        "# Converte a concluintes para o tipo inteiro\n",
        "df_desafio3['concluintes'] = df_desafio3['concluintes'].astype(int)\n",
        "\n",
        "# Converte a coluna data_inicio e data_conclusao para o tipo datetime\n",
        "df_desafio3['data_inicio'] = pd.to_datetime(df_desafio3['data_inicio'])\n",
        "df_desafio3['data_conclusao'] = pd.to_datetime(df_desafio3['data_conclusao'])\n",
        "\n",
        "# Convertendo a coluna preço para o tipo float\n",
        "df_desafio3['preco'] = df_desafio3['preco'].astype(float)"
      ],
      "metadata": {
        "id": "VhWf46Q-R9P_"
      },
      "execution_count": null,
      "outputs": []
    },
    {
      "cell_type": "code",
      "source": [
        "df_desafio3.info()"
      ],
      "metadata": {
        "id": "oRDgwW1fSFAj"
      },
      "execution_count": null,
      "outputs": []
    },
    {
      "cell_type": "markdown",
      "source": [
        "## Lidando com outliers"
      ],
      "metadata": {
        "id": "VDgmpmwwlMNq"
      }
    },
    {
      "cell_type": "code",
      "source": [
        "df_sem_nulos.describe()"
      ],
      "metadata": {
        "id": "FIAi1RHhlO66"
      },
      "execution_count": null,
      "outputs": []
    },
    {
      "cell_type": "code",
      "source": [
        "sns.boxplot(x=df_sem_nulos['cliente.tempo_servico'])"
      ],
      "metadata": {
        "id": "g_MuYbr4odzj"
      },
      "execution_count": null,
      "outputs": []
    },
    {
      "cell_type": "code",
      "source": [
        "q1 = df_sem_nulos['cliente.tempo_servico'].quantile(.25)\n",
        "q3 = df_sem_nulos['cliente.tempo_servico'].quantile(.75)\n",
        "iqr = q3-q1\n",
        "lim_inferior = q1-1.5*iqr\n",
        "lim_superior = q3+1.5*iqr"
      ],
      "metadata": {
        "id": "H9PX1yMTpFYL"
      },
      "execution_count": null,
      "outputs": []
    },
    {
      "cell_type": "code",
      "source": [
        "outliers_index = (df_sem_nulos['cliente.tempo_servico'] < lim_inferior) | (df_sem_nulos['cliente.tempo_servico'] > lim_superior)"
      ],
      "metadata": {
        "id": "4094QUcmpcFz"
      },
      "execution_count": null,
      "outputs": []
    },
    {
      "cell_type": "code",
      "source": [
        "outliers_index"
      ],
      "metadata": {
        "id": "2wszWXTsqEyL"
      },
      "execution_count": null,
      "outputs": []
    },
    {
      "cell_type": "code",
      "source": [
        "df_sem_nulos[outliers_index]['cliente.tempo_servico']"
      ],
      "metadata": {
        "id": "nmvfGjH0qVEw"
      },
      "execution_count": null,
      "outputs": []
    },
    {
      "cell_type": "code",
      "source": [
        "df_sem_out = df_sem_nulos.copy().reset_index()"
      ],
      "metadata": {
        "id": "XYmnYuwpqZqr"
      },
      "execution_count": null,
      "outputs": []
    },
    {
      "cell_type": "code",
      "source": [
        "df_sem_out"
      ],
      "metadata": {
        "id": "0bCTa16er8Ns"
      },
      "execution_count": null,
      "outputs": []
    },
    {
      "cell_type": "code",
      "source": [
        "df_sem_out[outliers_index]['cliente.tempo_servico']"
      ],
      "metadata": {
        "id": "LEoIelwEr-a_"
      },
      "execution_count": null,
      "outputs": []
    },
    {
      "cell_type": "code",
      "source": [
        "df_sem_out.loc[outliers_index, 'cliente.tempo_servico'] = np.ceil(\n",
        "    df_sem_out.loc[outliers_index, 'conta.cobranca.Total'] /\n",
        "    df_sem_out.loc[outliers_index, 'conta.cobranca.mensal']\n",
        ")"
      ],
      "metadata": {
        "id": "TgLwO8o5sRAj"
      },
      "execution_count": null,
      "outputs": []
    },
    {
      "cell_type": "code",
      "source": [
        "sns.boxplot(x=df_sem_out['cliente.tempo_servico'])"
      ],
      "metadata": {
        "id": "0hFaAaA5s2iF"
      },
      "execution_count": null,
      "outputs": []
    },
    {
      "cell_type": "code",
      "source": [
        "df_sem_out[outliers_index][['cliente.tempo_servico', 'conta.cobranca.mensal', 'conta.cobranca.Total']]"
      ],
      "metadata": {
        "id": "8OBmWD4hs8ic"
      },
      "execution_count": null,
      "outputs": []
    },
    {
      "cell_type": "code",
      "source": [
        "# Z-score\n",
        "\n",
        "# Dados de exemplo\n",
        "data = np.array([10, 20, 30, 40, 150, 50, 60, 70, 80, 90, 100, 350])\n",
        "\n",
        "# Cálculo do z-score\n",
        "z_scores = (data - np.mean(data)) / np.std(data)\n",
        "\n",
        "# Limite para considerar um dado como outlier\n",
        "limite = 3\n",
        "\n",
        "# Identificação dos outliers\n",
        "outliers = data[np.abs(z_scores) > limite]\n",
        "\n",
        "print(\"Outliers encontrados:\", outliers)"
      ],
      "metadata": {
        "id": "4idqs8HltG8n"
      },
      "execution_count": null,
      "outputs": []
    },
    {
      "cell_type": "code",
      "source": [
        "# Regra dos três sigmas\n",
        "\n",
        "# Criar um array com os dados\n",
        "dados = np.array([0, 10, 12, 13, 15, 16, 18, 20, 22, 25, 30, 35, 40, 50, 350])\n",
        "\n",
        "# Calcular a média e o desvio padrão do conjunto de dados\n",
        "media = np.mean(dados)\n",
        "desvio_padrao = np.std(dados)\n",
        "\n",
        "# Definir o limite superior e inferior para identificar os outliers\n",
        "limite_superior = media + (3 * desvio_padrao)\n",
        "limite_inferior = media - (3 * desvio_padrao)\n",
        "\n",
        "# Identificar os outliers no conjunto de dados\n",
        "outliers = dados[(dados > limite_superior) | (dados < limite_inferior)]\n",
        "\n",
        "print(\"Outliers:\", outliers)"
      ],
      "metadata": {
        "id": "_YmkspLNvySc"
      },
      "execution_count": null,
      "outputs": []
    },
    {
      "cell_type": "code",
      "source": [
        "# Análise de dispersão\n",
        "\n",
        "# Dados de exemplo\n",
        "data = np.array([10, 20, 30, 40, 50, 60, 70, 80, 90, 100])\n",
        "\n",
        "# Criação do boxplot\n",
        "fig, ax = plt.subplots()\n",
        "ax.boxplot(data)\n",
        "\n",
        "# Identificação dos outliers\n",
        "outliers = data[(data < np.percentile(data, 25) - (1.5 * (np.percentile(data, 75) - np.percentile(data, 25)))) |\n",
        "                (data > np.percentile(data, 75) + (1.5 * (np.percentile(data, 75) - np.percentile(data, 25))))]\n",
        "\n",
        "print(\"Outliers encontrados:\", outliers)"
      ],
      "metadata": {
        "id": "y_6v_GcIwWS5"
      },
      "execution_count": null,
      "outputs": []
    },
    {
      "cell_type": "code",
      "source": [
        "df_sem_out[outliers_index]['cliente.tempo_servico']"
      ],
      "metadata": {
        "id": "iEYxFleawaVh"
      },
      "execution_count": null,
      "outputs": []
    },
    {
      "cell_type": "code",
      "source": [
        "q1 = df_sem_out['cliente.tempo_servico'].quantile(.25)\n",
        "q3 = df_sem_out['cliente.tempo_servico'].quantile(.75)\n",
        "iqr = q3-q1\n",
        "lim_inferior = q1-1.5*iqr\n",
        "lim_superior = q3+1.5*iqr\n",
        "outliers_index = (df_sem_out['cliente.tempo_servico'] < lim_inferior) | (df_sem_out['cliente.tempo_servico'] > lim_superior)"
      ],
      "metadata": {
        "id": "zENCquUlxBQJ"
      },
      "execution_count": null,
      "outputs": []
    },
    {
      "cell_type": "code",
      "source": [
        "outliers_index"
      ],
      "metadata": {
        "id": "ukrTyJ3DzCHF"
      },
      "execution_count": null,
      "outputs": []
    },
    {
      "cell_type": "code",
      "source": [
        "df_sem_out[outliers_index]['cliente.tempo_servico']"
      ],
      "metadata": {
        "id": "gsCENeNXzDHZ"
      },
      "execution_count": null,
      "outputs": []
    },
    {
      "cell_type": "code",
      "source": [
        "df_sem_out = df_sem_out[~outliers_index]\n",
        "df_sem_out"
      ],
      "metadata": {
        "id": "AIsFxZ7YzZ05"
      },
      "execution_count": null,
      "outputs": []
    },
    {
      "cell_type": "code",
      "source": [
        "sns.boxplot(x=df_sem_out['cliente.tempo_servico'])"
      ],
      "metadata": {
        "id": "LYBnf-JTzjaj"
      },
      "execution_count": null,
      "outputs": []
    },
    {
      "cell_type": "code",
      "source": [
        "df_sem_out.reset_index(drop=True, inplace=True)"
      ],
      "metadata": {
        "id": "1oMhQ9jNz2K9"
      },
      "execution_count": null,
      "outputs": []
    },
    {
      "cell_type": "code",
      "source": [
        "# df_sem_out.drop('level_0')\n",
        "df_sem_out.drop(columns=['level_0', 'index'], inplace=True)"
      ],
      "metadata": {
        "id": "FtPNhPjpz9PZ"
      },
      "execution_count": null,
      "outputs": []
    },
    {
      "cell_type": "code",
      "source": [
        "df_sem_out"
      ],
      "metadata": {
        "id": "PUQFUIeBz_t1"
      },
      "execution_count": null,
      "outputs": []
    },
    {
      "cell_type": "markdown",
      "source": [
        "## Desafio: identificando fraudes"
      ],
      "metadata": {
        "id": "OJ4TZ7o-1yxw"
      }
    },
    {
      "cell_type": "code",
      "source": [
        "df = pd.DataFrame({\n",
        "    'ID da transação': range(1, 31),\n",
        "    'Valor da transação': [100, 200, 150, 500, 300, 913, 250, 400, 200, 150,\n",
        "                           200, 200, 400, 300, 150, 301, 805, 300, 400, 250,\n",
        "                           150, 100, 500, 600, 200, 350, 100, 250, 800, 250],\n",
        "    'Data da transação': pd.date_range(start='2022-01-01', end='2022-01-30', freq='D'),\n",
        "    'Local da transação': ['São Paulo, Brasil', 'Rio de Janeiro, Brasil', 'Belo Horizonte, Brasil', 'São Paulo, Brasil',\n",
        "                           'São Paulo, Brasil', 'Nova Iorque, EUA', 'São Paulo, Brasil', 'São Paulo, Brasil', 'São Paulo, Brasil',\n",
        "                           'Rio de Janeiro, Brasil', 'São Paulo, Brasil', 'São Paulo, Brasil', 'São Paulo, Brasil', 'São Paulo, Brasil',\n",
        "                           'São Paulo, Brasil', 'São Paulo, Brasil', 'Los Angeles, EUA', 'São Paulo, Brasil', 'São Paulo, Brasil', 'São Paulo, Brasil',\n",
        "                           'São Paulo, Brasil', 'São Paulo, Brasil', 'São Paulo, Brasil', 'São Paulo, Brasil', 'São Paulo, Brasil', 'São Paulo, Brasil',\n",
        "                           'São Paulo, Brasil', 'São Paulo, Brasil', 'Miami, EUA', 'São Paulo, Brasil']\n",
        "})\n",
        "df"
      ],
      "metadata": {
        "id": "mjq4_7Y61znh"
      },
      "execution_count": null,
      "outputs": []
    },
    {
      "cell_type": "code",
      "source": [
        "def identifica_outliers(coluna: str, df: pd.DataFrame):\n",
        "  q1 = df[coluna].quantile(.25)\n",
        "  q3 = df[coluna].quantile(.75)\n",
        "  iqr = q3-q1\n",
        "  lim_inferior = q1-1.5*iqr\n",
        "  lim_superior = q3+1.5*iqr\n",
        "  outliers_index = (df[coluna] < lim_inferior) | (df[coluna] > lim_superior)\n",
        "  return outliers_index"
      ],
      "metadata": {
        "id": "FfquO6OP11L6"
      },
      "execution_count": null,
      "outputs": []
    },
    {
      "cell_type": "code",
      "source": [
        "identifica_outliers('Valor da transação', df)"
      ],
      "metadata": {
        "id": "0g4upcCu2vE-"
      },
      "execution_count": null,
      "outputs": []
    },
    {
      "cell_type": "markdown",
      "source": [
        "## Trabalhando com variáveis categóricas"
      ],
      "metadata": {
        "id": "tkgaWBUB8nyf"
      }
    },
    {
      "cell_type": "code",
      "source": [
        "df_sem_out.drop('id_cliente', axis=1)"
      ],
      "metadata": {
        "id": "D5v_xW8a8rbq"
      },
      "execution_count": null,
      "outputs": []
    },
    {
      "cell_type": "code",
      "source": [
        "df_sem_id = df_sem_out.drop('id_cliente', axis=1).copy()"
      ],
      "metadata": {
        "id": "6Z2hx9E-9D-D"
      },
      "execution_count": null,
      "outputs": []
    },
    {
      "cell_type": "code",
      "source": [
        "df_sem_id"
      ],
      "metadata": {
        "id": "1s5WQH189Ogb"
      },
      "execution_count": null,
      "outputs": []
    },
    {
      "cell_type": "code",
      "source": [
        "mapeamento = {\n",
        "    'nao': 0,\n",
        "    'sim': 1,\n",
        "    'masculino': 0,\n",
        "    'feminino': 1,\n",
        "}"
      ],
      "metadata": {
        "id": "1044-kyN-Rfz"
      },
      "execution_count": null,
      "outputs": []
    },
    {
      "cell_type": "code",
      "source": [
        "for col in df_sem_id.columns:\n",
        "  print(f'Coluna: {col}')\n",
        "  print(df_sem_id[col].unique())\n",
        "  print('-' * 100)"
      ],
      "metadata": {
        "id": "yz60-l3S-fAP"
      },
      "execution_count": null,
      "outputs": []
    },
    {
      "cell_type": "code",
      "source": [
        "colunas = ['telefone.servico_telefone', 'Churn', 'cliente.parceiro', 'cliente.dependentes', 'conta.faturamente_eletronico', 'cliente.genero']"
      ],
      "metadata": {
        "id": "xtOJox0S-sSA"
      },
      "execution_count": null,
      "outputs": []
    },
    {
      "cell_type": "code",
      "source": [
        "df_sem_id[colunas] = df_sem_id[colunas].replace(mapeamento)\n",
        "df_sem_id"
      ],
      "metadata": {
        "id": "2HQfWLWuBNu5"
      },
      "execution_count": null,
      "outputs": []
    },
    {
      "cell_type": "code",
      "source": [
        "for col in df_sem_id.columns:\n",
        "  print(f'Coluna: {col}')\n",
        "  print(df_sem_id[col].unique())\n",
        "  print('-' * 100)"
      ],
      "metadata": {
        "id": "1RqQeWTmBWg_"
      },
      "execution_count": null,
      "outputs": []
    },
    {
      "cell_type": "code",
      "source": [
        "s = pd.Series(list('abca'))\n",
        "s"
      ],
      "metadata": {
        "id": "X7kUDPQhB9ek"
      },
      "execution_count": null,
      "outputs": []
    },
    {
      "cell_type": "code",
      "source": [
        "pd.get_dummies(s)"
      ],
      "metadata": {
        "id": "h50C9BJVDsUX"
      },
      "execution_count": null,
      "outputs": []
    },
    {
      "cell_type": "code",
      "source": [
        "df_sem_id.info()"
      ],
      "metadata": {
        "id": "3BjnWTrMDz8x"
      },
      "execution_count": null,
      "outputs": []
    },
    {
      "cell_type": "code",
      "source": [
        "pd.get_dummies(df_sem_id)"
      ],
      "metadata": {
        "id": "qvXdyLeTFJn4"
      },
      "execution_count": null,
      "outputs": []
    },
    {
      "cell_type": "code",
      "source": [
        "df_dummies = pd.get_dummies(df_sem_id).copy()"
      ],
      "metadata": {
        "id": "1w7jRWcOFWId"
      },
      "execution_count": null,
      "outputs": []
    },
    {
      "cell_type": "code",
      "source": [
        "df_dummies"
      ],
      "metadata": {
        "id": "Unpjn0y8F23Y"
      },
      "execution_count": null,
      "outputs": []
    },
    {
      "cell_type": "code",
      "source": [
        "df_dummies.columns"
      ],
      "metadata": {
        "id": "AExXjGwhF7co"
      },
      "execution_count": null,
      "outputs": []
    },
    {
      "cell_type": "code",
      "source": [
        "df_dummies.info()"
      ],
      "metadata": {
        "id": "befl3flmGAnU"
      },
      "execution_count": null,
      "outputs": []
    }
  ]
}
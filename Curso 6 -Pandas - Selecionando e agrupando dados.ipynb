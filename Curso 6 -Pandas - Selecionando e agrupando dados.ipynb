{
  "nbformat": 4,
  "nbformat_minor": 0,
  "metadata": {
    "colab": {
      "provenance": []
    },
    "kernelspec": {
      "name": "python3",
      "display_name": "Python 3"
    },
    "language_info": {
      "name": "python"
    }
  },
  "cells": [
    {
      "cell_type": "markdown",
      "source": [
        "# Pandas: selecionando e agrupando dados"
      ],
      "metadata": {
        "id": "Ww5py69GoLJK"
      }
    },
    {
      "cell_type": "markdown",
      "source": [
        "## Conhecendo os dados"
      ],
      "metadata": {
        "id": "YDHBbL7poPzI"
      }
    },
    {
      "cell_type": "code",
      "source": [],
      "metadata": {
        "id": "OVjqk_uxoNpO"
      },
      "execution_count": null,
      "outputs": []
    }
  ]
}